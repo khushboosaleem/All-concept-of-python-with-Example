{
 "cells": [
  {
   "cell_type": "code",
   "execution_count": 1,
   "id": "bede6412",
   "metadata": {},
   "outputs": [
    {
     "name": "stdout",
     "output_type": "stream",
     "text": [
      "Requirement already satisfied: pyjokes in c:\\users\\khuboo\\anaconda3\\lib\\site-packages (0.6.0)\n"
     ]
    }
   ],
   "source": [
    "!pip install pyjokes\n",
    "import pyjokes"
   ]
  },
  {
   "cell_type": "code",
   "execution_count": 2,
   "id": "0cf6c6fe",
   "metadata": {},
   "outputs": [
    {
     "data": {
      "text/plain": [
       "'I would tell you a joke about UDP, but you would never get it.'"
      ]
     },
     "execution_count": 2,
     "metadata": {},
     "output_type": "execute_result"
    }
   ],
   "source": [
    "joke = pyjokes.get_joke()\n",
    "joke"
   ]
  },
  {
   "cell_type": "code",
   "execution_count": 3,
   "id": "f3f09bb8",
   "metadata": {},
   "outputs": [
    {
     "data": {
      "text/plain": [
       "'I would tell you a joke about UDP, but you would never get it.'"
      ]
     },
     "execution_count": 3,
     "metadata": {},
     "output_type": "execute_result"
    }
   ],
   "source": [
    "joke"
   ]
  },
  {
   "cell_type": "code",
   "execution_count": 6,
   "id": "3768c088",
   "metadata": {},
   "outputs": [
    {
     "data": {
      "text/plain": [
       "\"Why does Waldo only wear stripes? Because he doesn't want to be spotted.\""
      ]
     },
     "execution_count": 6,
     "metadata": {},
     "output_type": "execute_result"
    }
   ],
   "source": [
    "pyjokes.get_joke()"
   ]
  },
  {
   "cell_type": "code",
   "execution_count": 7,
   "id": "05e3174f",
   "metadata": {},
   "outputs": [
    {
     "data": {
      "text/plain": [
       "\"Child: Dad, why does the sun rise in the east and set in the west? Dad: Son, it's working, don't touch it.\""
      ]
     },
     "execution_count": 7,
     "metadata": {},
     "output_type": "execute_result"
    }
   ],
   "source": [
    "pyjokes.get_joke()"
   ]
  }
 ],
 "metadata": {
  "kernelspec": {
   "display_name": "Python 3 (ipykernel)",
   "language": "python",
   "name": "python3"
  },
  "language_info": {
   "codemirror_mode": {
    "name": "ipython",
    "version": 3
   },
   "file_extension": ".py",
   "mimetype": "text/x-python",
   "name": "python",
   "nbconvert_exporter": "python",
   "pygments_lexer": "ipython3",
   "version": "3.9.12"
  }
 },
 "nbformat": 4,
 "nbformat_minor": 5
}
