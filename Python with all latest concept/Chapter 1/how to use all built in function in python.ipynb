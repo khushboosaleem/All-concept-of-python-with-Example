{
 "cells": [
  {
   "cell_type": "code",
   "execution_count": 1,
   "id": "0ed865fb",
   "metadata": {},
   "outputs": [
    {
     "name": "stdout",
     "output_type": "stream",
     "text": [
      "Hello world\n"
     ]
    }
   ],
   "source": [
    "# Print \"Hello world\"\n",
    "print(\"Hello world\")"
   ]
  },
  {
   "cell_type": "code",
   "execution_count": 66,
   "id": "1723308b",
   "metadata": {},
   "outputs": [
    {
     "name": "stdout",
     "output_type": "stream",
     "text": [
      "10\n"
     ]
    }
   ],
   "source": [
    "# Calculate the absolute value of -5 and print it, which is 5\n",
    "print(abs(-10))"
   ]
  },
  {
   "cell_type": "code",
   "execution_count": 7,
   "id": "0c002bda",
   "metadata": {},
   "outputs": [
    {
     "name": "stdout",
     "output_type": "stream",
     "text": [
      "True\n",
      "False\n"
     ]
    }
   ],
   "source": [
    "# Return True if bool(x) is True for all values x in the iterable.\n",
    "print(all([True,True,True,]))\n",
    "print(all([True,False,True,True,True,True,]))"
   ]
  },
  {
   "cell_type": "code",
   "execution_count": 8,
   "id": "c2d2a08e",
   "metadata": {},
   "outputs": [
    {
     "name": "stdout",
     "output_type": "stream",
     "text": [
      "True\n"
     ]
    }
   ],
   "source": [
    "# Return True if bool(x) is True for any x in the iterable.\n",
    "print(any([True,False,False]))\n"
   ]
  },
  {
   "cell_type": "code",
   "execution_count": 9,
   "id": "e9007417",
   "metadata": {},
   "outputs": [
    {
     "name": "stdout",
     "output_type": "stream",
     "text": [
      "'Hello, World!'\n"
     ]
    }
   ],
   "source": [
    "# This line converts the string \"Hello, World!\" to its ASCII representation and prints it\n",
    "print(ascii(\"Hello, World!\"))"
   ]
  },
  {
   "cell_type": "code",
   "execution_count": 10,
   "id": "e8407add",
   "metadata": {},
   "outputs": [
    {
     "name": "stdout",
     "output_type": "stream",
     "text": [
      "'Hello, World!'\n"
     ]
    }
   ],
   "source": [
    "print(ascii(\"Hello, World!\"))"
   ]
  },
  {
   "cell_type": "code",
   "execution_count": 19,
   "id": "23273cda",
   "metadata": {},
   "outputs": [
    {
     "name": "stdout",
     "output_type": "stream",
     "text": [
      "108\n"
     ]
    }
   ],
   "source": [
    "# Return the Unicode code point for a one-character string.\n",
    "print(ord('l'))"
   ]
  },
  {
   "cell_type": "code",
   "execution_count": 23,
   "id": "d8d0787d",
   "metadata": {},
   "outputs": [
    {
     "name": "stdout",
     "output_type": "stream",
     "text": [
      "0b11001\n"
     ]
    }
   ],
   "source": [
    "# Return the binary representation of an integer.\n",
    "print(bin(25))"
   ]
  },
  {
   "cell_type": "code",
   "execution_count": 27,
   "id": "fa5be66e",
   "metadata": {},
   "outputs": [
    {
     "name": "stdout",
     "output_type": "stream",
     "text": [
      "True\n",
      "False\n",
      "False\n",
      "True\n",
      "True\n",
      "True\n"
     ]
    }
   ],
   "source": [
    "# Convert integer into the boolean value and print it\n",
    "print(bool(3))\n",
    "print(bool())\n",
    "print(bool(0))\n",
    "print(bool(56100))\n",
    "print(bool([56,83,0,'Hello','D']))\n",
    "print(bool(\"Dsds\"))"
   ]
  },
  {
   "cell_type": "code",
   "execution_count": 29,
   "id": "2a7d7166",
   "metadata": {},
   "outputs": [
    {
     "name": "stdout",
     "output_type": "stream",
     "text": [
      "\n"
     ]
    }
   ],
   "source": [
    "type()"
   ]
  },
  {
   "cell_type": "code",
   "execution_count": 28,
   "id": "9ca6ef80",
   "metadata": {},
   "outputs": [
    {
     "name": "stdout",
     "output_type": "stream",
     "text": [
      "Help on built-in function print in module builtins:\n",
      "\n",
      "print(...)\n",
      "    print(value, ..., sep=' ', end='\\n', file=sys.stdout, flush=False)\n",
      "    \n",
      "    Prints the values to a stream, or to sys.stdout by default.\n",
      "    Optional keyword arguments:\n",
      "    file:  a file-like object (stream); defaults to the current sys.stdout.\n",
      "    sep:   string inserted between values, default a space.\n",
      "    end:   string appended after the last value, default a newline.\n",
      "    flush: whether to forcibly flush the stream.\n",
      "\n"
     ]
    }
   ],
   "source": [
    "# It shows the usage and details of the print function\n",
    "help(print)"
   ]
  },
  {
   "cell_type": "code",
   "execution_count": 30,
   "id": "8218dc2a",
   "metadata": {},
   "outputs": [
    {
     "name": "stdout",
     "output_type": "stream",
     "text": [
      "Help on built-in function len in module builtins:\n",
      "\n",
      "len(obj, /)\n",
      "    Return the number of items in a container.\n",
      "\n"
     ]
    }
   ],
   "source": [
    "help(len)"
   ]
  },
  {
   "cell_type": "code",
   "execution_count": 31,
   "id": "e35bdb57",
   "metadata": {},
   "outputs": [
    {
     "name": "stdout",
     "output_type": "stream",
     "text": [
      "Help on class type in module builtins:\n",
      "\n",
      "class type(object)\n",
      " |  type(object) -> the object's type\n",
      " |  type(name, bases, dict, **kwds) -> a new type\n",
      " |  \n",
      " |  Methods defined here:\n",
      " |  \n",
      " |  __call__(self, /, *args, **kwargs)\n",
      " |      Call self as a function.\n",
      " |  \n",
      " |  __delattr__(self, name, /)\n",
      " |      Implement delattr(self, name).\n",
      " |  \n",
      " |  __dir__(self, /)\n",
      " |      Specialized __dir__ implementation for types.\n",
      " |  \n",
      " |  __getattribute__(self, name, /)\n",
      " |      Return getattr(self, name).\n",
      " |  \n",
      " |  __init__(self, /, *args, **kwargs)\n",
      " |      Initialize self.  See help(type(self)) for accurate signature.\n",
      " |  \n",
      " |  __instancecheck__(self, instance, /)\n",
      " |      Check if an object is an instance.\n",
      " |  \n",
      " |  __repr__(self, /)\n",
      " |      Return repr(self).\n",
      " |  \n",
      " |  __setattr__(self, name, value, /)\n",
      " |      Implement setattr(self, name, value).\n",
      " |  \n",
      " |  __sizeof__(self, /)\n",
      " |      Return memory consumption of the type object.\n",
      " |  \n",
      " |  __subclasscheck__(self, subclass, /)\n",
      " |      Check if a class is a subclass.\n",
      " |  \n",
      " |  __subclasses__(self, /)\n",
      " |      Return a list of immediate subclasses.\n",
      " |  \n",
      " |  mro(self, /)\n",
      " |      Return a type's method resolution order.\n",
      " |  \n",
      " |  ----------------------------------------------------------------------\n",
      " |  Class methods defined here:\n",
      " |  \n",
      " |  __prepare__(...)\n",
      " |      __prepare__() -> dict\n",
      " |      used to create the namespace for the class statement\n",
      " |  \n",
      " |  ----------------------------------------------------------------------\n",
      " |  Static methods defined here:\n",
      " |  \n",
      " |  __new__(*args, **kwargs)\n",
      " |      Create and return a new object.  See help(type) for accurate signature.\n",
      " |  \n",
      " |  ----------------------------------------------------------------------\n",
      " |  Data descriptors defined here:\n",
      " |  \n",
      " |  __abstractmethods__\n",
      " |  \n",
      " |  __dict__\n",
      " |  \n",
      " |  __text_signature__\n",
      " |  \n",
      " |  ----------------------------------------------------------------------\n",
      " |  Data and other attributes defined here:\n",
      " |  \n",
      " |  __base__ = <class 'object'>\n",
      " |      The base class of the class hierarchy.\n",
      " |      \n",
      " |      When called, it accepts no arguments and returns a new featureless\n",
      " |      instance that has no instance attributes and cannot be given any.\n",
      " |  \n",
      " |  \n",
      " |  __bases__ = (<class 'object'>,)\n",
      " |  \n",
      " |  __basicsize__ = 880\n",
      " |  \n",
      " |  __dictoffset__ = 264\n",
      " |  \n",
      " |  __flags__ = 2148293632\n",
      " |  \n",
      " |  __itemsize__ = 40\n",
      " |  \n",
      " |  __mro__ = (<class 'type'>, <class 'object'>)\n",
      " |  \n",
      " |  __weakrefoffset__ = 368\n",
      "\n"
     ]
    }
   ],
   "source": [
    "help(type)"
   ]
  },
  {
   "cell_type": "code",
   "execution_count": 32,
   "id": "059d756f",
   "metadata": {},
   "outputs": [
    {
     "name": "stdout",
     "output_type": "stream",
     "text": [
      "bytearray(b'hello')\n"
     ]
    }
   ],
   "source": [
    "# Convert the string 'hello' to a bytearray using UTF-8 encoding\n",
    "print(bytearray('hello', 'utf-8')) "
   ]
  },
  {
   "cell_type": "code",
   "execution_count": 33,
   "id": "91dbae2b",
   "metadata": {},
   "outputs": [
    {
     "name": "stdout",
     "output_type": "stream",
     "text": [
      "True\n"
     ]
    }
   ],
   "source": [
    "# It returns True if the object can be called and False otherwise.\n",
    "\n",
    "def my_func():\n",
    "    pass\n",
    "print(callable(my_func))"
   ]
  },
  {
   "cell_type": "code",
   "execution_count": 34,
   "id": "fed1feab",
   "metadata": {},
   "outputs": [
    {
     "name": "stdout",
     "output_type": "stream",
     "text": [
      "False\n"
     ]
    }
   ],
   "source": [
    "def mu_func():\n",
    "    pass\n",
    "print(callable(my_func()))"
   ]
  },
  {
   "cell_type": "code",
   "execution_count": 38,
   "id": "55a99fd4",
   "metadata": {},
   "outputs": [
    {
     "data": {
      "text/plain": [
       "'ç'"
      ]
     },
     "execution_count": 38,
     "metadata": {},
     "output_type": "execute_result"
    }
   ],
   "source": [
    "#  Return a Unicode string of one character with ordinal i; 0 <= i <= 0x10ffff.\n",
    "chr(231)"
   ]
  },
  {
   "cell_type": "code",
   "execution_count": 39,
   "id": "62e2bea7",
   "metadata": {},
   "outputs": [
    {
     "data": {
      "text/plain": [
       "'a'"
      ]
     },
     "execution_count": 39,
     "metadata": {},
     "output_type": "execute_result"
    }
   ],
   "source": [
    "chr(97)"
   ]
  },
  {
   "cell_type": "code",
   "execution_count": 40,
   "id": "aa9080f0",
   "metadata": {},
   "outputs": [
    {
     "data": {
      "text/plain": [
       "97"
      ]
     },
     "execution_count": 40,
     "metadata": {},
     "output_type": "execute_result"
    }
   ],
   "source": [
    "ord('a')"
   ]
  },
  {
   "cell_type": "code",
   "execution_count": 41,
   "id": "c3290aec",
   "metadata": {},
   "outputs": [
    {
     "name": "stdout",
     "output_type": "stream",
     "text": [
      "Hello, World!\n"
     ]
    }
   ],
   "source": [
    "code_str = 'print(\"Hello, World!\")'\n",
    "code = compile(code_str, '<string>', 'exec')\n",
    "exec(code) "
   ]
  },
  {
   "cell_type": "code",
   "execution_count": 42,
   "id": "779acee9",
   "metadata": {},
   "outputs": [
    {
     "name": "stdout",
     "output_type": "stream",
     "text": [
      "(2+0j)\n",
      "(2+45j)\n"
     ]
    }
   ],
   "source": [
    "# Create a complex number from a real part and an optional imaginary part.\n",
    "print(complex(2))\n",
    "print(complex(2,45))"
   ]
  },
  {
   "cell_type": "code",
   "execution_count": 43,
   "id": "b0fe3e12",
   "metadata": {},
   "outputs": [
    {
     "name": "stdout",
     "output_type": "stream",
     "text": [
      "{'a': 1, 'b': 2}\n"
     ]
    }
   ],
   "source": [
    "print(dict(a=1, b=2)) "
   ]
  },
  {
   "cell_type": "code",
   "execution_count": 45,
   "id": "66924057",
   "metadata": {},
   "outputs": [
    {
     "data": {
      "text/plain": [
       "['__add__',\n",
       " '__class__',\n",
       " '__class_getitem__',\n",
       " '__contains__',\n",
       " '__delattr__',\n",
       " '__delitem__',\n",
       " '__dir__',\n",
       " '__doc__',\n",
       " '__eq__',\n",
       " '__format__',\n",
       " '__ge__',\n",
       " '__getattribute__',\n",
       " '__getitem__',\n",
       " '__gt__',\n",
       " '__hash__',\n",
       " '__iadd__',\n",
       " '__imul__',\n",
       " '__init__',\n",
       " '__init_subclass__',\n",
       " '__iter__',\n",
       " '__le__',\n",
       " '__len__',\n",
       " '__lt__',\n",
       " '__mul__',\n",
       " '__ne__',\n",
       " '__new__',\n",
       " '__reduce__',\n",
       " '__reduce_ex__',\n",
       " '__repr__',\n",
       " '__reversed__',\n",
       " '__rmul__',\n",
       " '__setattr__',\n",
       " '__setitem__',\n",
       " '__sizeof__',\n",
       " '__str__',\n",
       " '__subclasshook__',\n",
       " 'append',\n",
       " 'clear',\n",
       " 'copy',\n",
       " 'count',\n",
       " 'extend',\n",
       " 'index',\n",
       " 'insert',\n",
       " 'pop',\n",
       " 'remove',\n",
       " 'reverse',\n",
       " 'sort']"
      ]
     },
     "execution_count": 45,
     "metadata": {},
     "output_type": "execute_result"
    }
   ],
   "source": [
    "dir([])\n",
    "# dir(())\n",
    "# dir(list)"
   ]
  },
  {
   "cell_type": "code",
   "execution_count": 46,
   "id": "6b1126e4",
   "metadata": {},
   "outputs": [
    {
     "data": {
      "text/plain": [
       "(4, 1)"
      ]
     },
     "execution_count": 46,
     "metadata": {},
     "output_type": "execute_result"
    }
   ],
   "source": [
    "# Return the tuple (x//y, x%y)\n",
    "divmod(9,2)"
   ]
  },
  {
   "cell_type": "code",
   "execution_count": 50,
   "id": "543ad32e",
   "metadata": {},
   "outputs": [
    {
     "data": {
      "text/plain": [
       "(4, 1)"
      ]
     },
     "execution_count": 50,
     "metadata": {},
     "output_type": "execute_result"
    }
   ],
   "source": [
    "9//2,9%2"
   ]
  },
  {
   "cell_type": "code",
   "execution_count": 51,
   "id": "a4fad40b",
   "metadata": {},
   "outputs": [
    {
     "name": "stdout",
     "output_type": "stream",
     "text": [
      "0 a\n",
      "1 b\n",
      "2 c\n"
     ]
    }
   ],
   "source": [
    "for i,case in enumerate(['a','b','c']):\n",
    "    print(i,case)"
   ]
  },
  {
   "cell_type": "code",
   "execution_count": 59,
   "id": "28b1f22d",
   "metadata": {},
   "outputs": [
    {
     "name": "stdout",
     "output_type": "stream",
     "text": [
      "236\n"
     ]
    }
   ],
   "source": [
    "print(eval(\"4+232\"))"
   ]
  },
  {
   "cell_type": "code",
   "execution_count": 64,
   "id": "69e71358",
   "metadata": {},
   "outputs": [
    {
     "data": {
      "text/plain": [
       "0"
      ]
     },
     "execution_count": 64,
     "metadata": {},
     "output_type": "execute_result"
    }
   ],
   "source": [
    "eval(\"2//3\")"
   ]
  },
  {
   "cell_type": "code",
   "execution_count": 67,
   "id": "93e9533b",
   "metadata": {},
   "outputs": [
    {
     "name": "stdout",
     "output_type": "stream",
     "text": [
      "224\n"
     ]
    }
   ],
   "source": [
    "print(eval(\"(4+232)-4*3\"))"
   ]
  },
  {
   "cell_type": "code",
   "execution_count": 58,
   "id": "0731f227",
   "metadata": {},
   "outputs": [
    {
     "data": {
      "text/plain": [
       "-228"
      ]
     },
     "execution_count": 58,
     "metadata": {},
     "output_type": "execute_result"
    }
   ],
   "source": [
    "4-232"
   ]
  },
  {
   "cell_type": "code",
   "execution_count": 56,
   "id": "344e5696",
   "metadata": {},
   "outputs": [
    {
     "data": {
      "text/plain": [
       "58"
      ]
     },
     "execution_count": 56,
     "metadata": {},
     "output_type": "execute_result"
    }
   ],
   "source": [
    "eval('56 + 2')"
   ]
  },
  {
   "cell_type": "code",
   "execution_count": 71,
   "id": "54159df0",
   "metadata": {},
   "outputs": [
    {
     "name": "stdout",
     "output_type": "stream",
     "text": [
      "Hello world\n"
     ]
    }
   ],
   "source": [
    "# Execute the given source in the context of globals and locals.\n",
    "exec('print(\"Hello world\")')"
   ]
  },
  {
   "cell_type": "code",
   "execution_count": 72,
   "id": "dc2505e8",
   "metadata": {},
   "outputs": [
    {
     "name": "stdout",
     "output_type": "stream",
     "text": [
      "[1, 2]\n"
     ]
    }
   ],
   "source": [
    "print(list(filter(lambda x: x > 0, [-1, 0, 1, 2]))) \n"
   ]
  },
  {
   "cell_type": "code",
   "execution_count": 74,
   "id": "5049bd90",
   "metadata": {},
   "outputs": [
    {
     "name": "stdout",
     "output_type": "stream",
     "text": [
      "3.14\n"
     ]
    }
   ],
   "source": [
    "print(float('3.14'))  "
   ]
  },
  {
   "cell_type": "code",
   "execution_count": 75,
   "id": "9d3cbb89",
   "metadata": {},
   "outputs": [
    {
     "name": "stdout",
     "output_type": "stream",
     "text": [
      "0123\n",
      "000123\n"
     ]
    }
   ],
   "source": [
    "# Print the number 123 formatted as a four-digit string with leading zeros\n",
    "print(format(123, '04d')) \n",
    "print(format(123, '06d')) "
   ]
  },
  {
   "cell_type": "code",
   "execution_count": 76,
   "id": "81a0d1d4",
   "metadata": {},
   "outputs": [
    {
     "data": {
      "text/plain": [
       "frozenset({1, 2, 3})"
      ]
     },
     "execution_count": 76,
     "metadata": {},
     "output_type": "execute_result"
    }
   ],
   "source": [
    "frozenset([1,2,3])"
   ]
  },
  {
   "cell_type": "markdown",
   "id": "1bf63380",
   "metadata": {},
   "source": [
    "In Python, globals() is a built-in function that returns a dictionary representing the current global symbol table. The global symbol table contains information about all global variables and their corresponding values within the current module or scope."
   ]
  },
  {
   "cell_type": "code",
   "execution_count": 77,
   "id": "e03ceb09",
   "metadata": {},
   "outputs": [
    {
     "name": "stdout",
     "output_type": "stream",
     "text": [
      "{'__name__': '__main__', '__doc__': 'Hello world', '__package__': None, '__loader__': None, '__spec__': None, '__builtin__': <module 'builtins' (built-in)>, '__builtins__': <module 'builtins' (built-in)>, '_ih': ['', '# Print \"Hello world\"\\nprint(\"Hello world\")', '# Calculate the absolute value of -5 and print it, which is 5\\nprint(abs(-5))', '# Calculate the absolute value of -5 and print it, which is 5\\nprint(abs(-10))', '# Return True if bool(x) is True for all values x in the iterable.\\nprint(all([True,True,True,]))\\nprint(all([True,False,True,True,False,True,]))', 'all()', '# Return True if bool(x) is True for all values x in the iterable.\\nprint(all([True,True,True,]))\\nprint(all([True,False,True,True,True,True,]))', '# Return True if bool(x) is True for all values x in the iterable.\\nprint(all([True,True,True,]))\\nprint(all([True,False,True,True,True,True,]))', '# Return True if bool(x) is True for any x in the iterable.\\nprint(any([True,False,False]))', '# This line converts the string \"Hello, World!\" to its ASCII representation and prints it\\nprint(ascii(\"Hello, World!\"))', 'print(ascii(\"Hello, World!\"))', \"# Return the Unicode code point for a one-character string.\\nprint(ord('p'))\", \"# Return the Unicode code point for a one-character string.\\nprint(ord('h'))\", \"# Return the Unicode code point for a one-character string.\\nprint(ord('d'))\", \"# Return the Unicode code point for a one-character string.\\nprint(ord('A'))\", \"# Return the Unicode code point for a one-character string.\\nprint(ord('H'))\", \"# Return the Unicode code point for a one-character string.\\nprint(ord('e'))\", \"# Return the Unicode code point for a one-character string.\\nprint(ord('l'))\", \"# Return the Unicode code point for a one-character string.\\nprint(ord('ll'))\", \"# Return the Unicode code point for a one-character string.\\nprint(ord('l'))\", '# Return the binary representation of an integer.\\nprint(bin(10))', '# Return the binary representation of an integer.\\nprint(bin(20))', '# Return the binary representation of an integer.\\nprint(bin(30))', '# Return the binary representation of an integer.\\nprint(bin(25))', \"# Convert integer into the boolean value and print it\\nprint(bool(3))\\nprint(bool())\\nprint(bool(0))\\nprint(bool(56100))\\nprint(bool([56,83,0,'Hello']))\", \"# Convert integer into the boolean value and print it\\nprint(bool(3))\\nprint(bool())\\nprint(bool(0))\\nprint(bool(56100))\\nprint(bool([56,83,0,'Hello','D']))\", '# Convert integer into the boolean value and print it\\nprint(bool(3))\\nprint(bool())\\nprint(bool(0))\\nprint(bool(56100))\\nprint(bool([56,83,0,\\'Hello\\',\\'D\\']))\\nprint(bool(\"D\"))', '# Convert integer into the boolean value and print it\\nprint(bool(3))\\nprint(bool())\\nprint(bool(0))\\nprint(bool(56100))\\nprint(bool([56,83,0,\\'Hello\\',\\'D\\']))\\nprint(bool(\"Dsds\"))', '# It shows the usage and details of the print function\\nhelp(print)', 'print()', 'help(len)', 'help(type)', \"# Convert the string 'hello' to a bytearray using UTF-8 encoding\\nprint(bytearray('hello', 'utf-8')) \", '# It returns True if the object can be called and False otherwise.\\n\\ndef my_func():\\n    pass\\nprint(callable(my_func))', 'def mu_func():\\n    pass\\nprint(callable(my_func()))', '#  Return a Unicode string of one character with ordinal i; 0 <= i <= 0x10ffff.\\nchr(100)', '#  Return a Unicode string of one character with ordinal i; 0 <= i <= 0x10ffff.\\nchr(101)', '#  Return a Unicode string of one character with ordinal i; 0 <= i <= 0x10ffff.\\nchr(11)', '#  Return a Unicode string of one character with ordinal i; 0 <= i <= 0x10ffff.\\nchr(231)', 'chr(97)', \"ord('a')\", 'code_str = \\'print(\"Hello, World!\")\\'\\ncode = compile(code_str, \\'<string>\\', \\'exec\\')\\nexec(code) ', '# Create a complex number from a real part and an optional imaginary part.\\nprint(complex(2))\\nprint(complex(2,45))', 'print(dict(a=1, b=2)) ', '# dir([])\\n# dir(())\\ndir(list)', 'dir([])\\n# dir(())\\n# dir(list)', '# Return the tuple (x//y, x%y)\\ndivmod(9,2)', '9//2,9%2', '9/2,9%2', '9/*/2,9%2', '9//2,9%2', \"for i,case in enumerate(['a','b','c']):\\n    print(i,case)\", \"print(eval('1+232'))\", 'print(eval(1+232))', 'print(eval(\"1+232\"))', 'print(eval(\"4+232\"))', \"eval('56 + 2')\", 'print(eval(\"4-232\"))', '4-232', 'print(eval(\"4+232\"))', 'eval(2*3)', 'eval(\"2*3\")', 'eval(\"2/3\")', 'eval(\"2%3\")', 'eval(\"2//3\")', '# Calculate the absolute value of -5 and print it, which is 5\\nprint(abs(10))', '# Calculate the absolute value of -5 and print it, which is 5\\nprint(abs(-10))', 'print(eval(\"(4+232)-4*3\"))', '# Execute the given source in the context of globals and locals.\\nexec(\\'print(\"Hello world\")\\')', '# Execute the given source in the context of globals and locals.\\nexec(\\'(\"Hello world\")\\')', '# Execute the given source in the context of globals and locals.\\nexec(\\'(\"Hello world\")\\')', '# Execute the given source in the context of globals and locals.\\nexec(\\'print(\"Hello world\")\\')', 'print(list(filter(lambda x: x > 0, [-1, 0, 1, 2]))) ', \"print(float('3.14'))  \", \"print(float('3.14'))  \", \"# Print the number 123 formatted as a four-digit string with leading zeros\\nprint(format(123, '04d')) \\nprint(format(123, '06d')) \", 'frozenset([1,2,3])', 'print(globals()) '], '_oh': {35: 'd', 36: 'e', 37: '\\x0b', 38: 'ç', 39: 'a', 40: 97, 44: ['__add__', '__class__', '__class_getitem__', '__contains__', '__delattr__', '__delitem__', '__dir__', '__doc__', '__eq__', '__format__', '__ge__', '__getattribute__', '__getitem__', '__gt__', '__hash__', '__iadd__', '__imul__', '__init__', '__init_subclass__', '__iter__', '__le__', '__len__', '__lt__', '__mul__', '__ne__', '__new__', '__reduce__', '__reduce_ex__', '__repr__', '__reversed__', '__rmul__', '__setattr__', '__setitem__', '__sizeof__', '__str__', '__subclasshook__', 'append', 'clear', 'copy', 'count', 'extend', 'index', 'insert', 'pop', 'remove', 'reverse', 'sort'], 45: ['__add__', '__class__', '__class_getitem__', '__contains__', '__delattr__', '__delitem__', '__dir__', '__doc__', '__eq__', '__format__', '__ge__', '__getattribute__', '__getitem__', '__gt__', '__hash__', '__iadd__', '__imul__', '__init__', '__init_subclass__', '__iter__', '__le__', '__len__', '__lt__', '__mul__', '__ne__', '__new__', '__reduce__', '__reduce_ex__', '__repr__', '__reversed__', '__rmul__', '__setattr__', '__setitem__', '__sizeof__', '__str__', '__subclasshook__', 'append', 'clear', 'copy', 'count', 'extend', 'index', 'insert', 'pop', 'remove', 'reverse', 'sort'], 46: (4, 1), 47: (4, 1), 48: (4.5, 1), 50: (4, 1), 56: 58, 58: -228, 61: 6, 62: 0.6666666666666666, 63: 2, 64: 0, 76: frozenset({1, 2, 3})}, '_dh': [WindowsPath('C:/Users/khuboo/OneDrive/Desktop/student learning/Python with all latest concept/Chapter 1')], 'In': ['', '# Print \"Hello world\"\\nprint(\"Hello world\")', '# Calculate the absolute value of -5 and print it, which is 5\\nprint(abs(-5))', '# Calculate the absolute value of -5 and print it, which is 5\\nprint(abs(-10))', '# Return True if bool(x) is True for all values x in the iterable.\\nprint(all([True,True,True,]))\\nprint(all([True,False,True,True,False,True,]))', 'all()', '# Return True if bool(x) is True for all values x in the iterable.\\nprint(all([True,True,True,]))\\nprint(all([True,False,True,True,True,True,]))', '# Return True if bool(x) is True for all values x in the iterable.\\nprint(all([True,True,True,]))\\nprint(all([True,False,True,True,True,True,]))', '# Return True if bool(x) is True for any x in the iterable.\\nprint(any([True,False,False]))', '# This line converts the string \"Hello, World!\" to its ASCII representation and prints it\\nprint(ascii(\"Hello, World!\"))', 'print(ascii(\"Hello, World!\"))', \"# Return the Unicode code point for a one-character string.\\nprint(ord('p'))\", \"# Return the Unicode code point for a one-character string.\\nprint(ord('h'))\", \"# Return the Unicode code point for a one-character string.\\nprint(ord('d'))\", \"# Return the Unicode code point for a one-character string.\\nprint(ord('A'))\", \"# Return the Unicode code point for a one-character string.\\nprint(ord('H'))\", \"# Return the Unicode code point for a one-character string.\\nprint(ord('e'))\", \"# Return the Unicode code point for a one-character string.\\nprint(ord('l'))\", \"# Return the Unicode code point for a one-character string.\\nprint(ord('ll'))\", \"# Return the Unicode code point for a one-character string.\\nprint(ord('l'))\", '# Return the binary representation of an integer.\\nprint(bin(10))', '# Return the binary representation of an integer.\\nprint(bin(20))', '# Return the binary representation of an integer.\\nprint(bin(30))', '# Return the binary representation of an integer.\\nprint(bin(25))', \"# Convert integer into the boolean value and print it\\nprint(bool(3))\\nprint(bool())\\nprint(bool(0))\\nprint(bool(56100))\\nprint(bool([56,83,0,'Hello']))\", \"# Convert integer into the boolean value and print it\\nprint(bool(3))\\nprint(bool())\\nprint(bool(0))\\nprint(bool(56100))\\nprint(bool([56,83,0,'Hello','D']))\", '# Convert integer into the boolean value and print it\\nprint(bool(3))\\nprint(bool())\\nprint(bool(0))\\nprint(bool(56100))\\nprint(bool([56,83,0,\\'Hello\\',\\'D\\']))\\nprint(bool(\"D\"))', '# Convert integer into the boolean value and print it\\nprint(bool(3))\\nprint(bool())\\nprint(bool(0))\\nprint(bool(56100))\\nprint(bool([56,83,0,\\'Hello\\',\\'D\\']))\\nprint(bool(\"Dsds\"))', '# It shows the usage and details of the print function\\nhelp(print)', 'print()', 'help(len)', 'help(type)', \"# Convert the string 'hello' to a bytearray using UTF-8 encoding\\nprint(bytearray('hello', 'utf-8')) \", '# It returns True if the object can be called and False otherwise.\\n\\ndef my_func():\\n    pass\\nprint(callable(my_func))', 'def mu_func():\\n    pass\\nprint(callable(my_func()))', '#  Return a Unicode string of one character with ordinal i; 0 <= i <= 0x10ffff.\\nchr(100)', '#  Return a Unicode string of one character with ordinal i; 0 <= i <= 0x10ffff.\\nchr(101)', '#  Return a Unicode string of one character with ordinal i; 0 <= i <= 0x10ffff.\\nchr(11)', '#  Return a Unicode string of one character with ordinal i; 0 <= i <= 0x10ffff.\\nchr(231)', 'chr(97)', \"ord('a')\", 'code_str = \\'print(\"Hello, World!\")\\'\\ncode = compile(code_str, \\'<string>\\', \\'exec\\')\\nexec(code) ', '# Create a complex number from a real part and an optional imaginary part.\\nprint(complex(2))\\nprint(complex(2,45))', 'print(dict(a=1, b=2)) ', '# dir([])\\n# dir(())\\ndir(list)', 'dir([])\\n# dir(())\\n# dir(list)', '# Return the tuple (x//y, x%y)\\ndivmod(9,2)', '9//2,9%2', '9/2,9%2', '9/*/2,9%2', '9//2,9%2', \"for i,case in enumerate(['a','b','c']):\\n    print(i,case)\", \"print(eval('1+232'))\", 'print(eval(1+232))', 'print(eval(\"1+232\"))', 'print(eval(\"4+232\"))', \"eval('56 + 2')\", 'print(eval(\"4-232\"))', '4-232', 'print(eval(\"4+232\"))', 'eval(2*3)', 'eval(\"2*3\")', 'eval(\"2/3\")', 'eval(\"2%3\")', 'eval(\"2//3\")', '# Calculate the absolute value of -5 and print it, which is 5\\nprint(abs(10))', '# Calculate the absolute value of -5 and print it, which is 5\\nprint(abs(-10))', 'print(eval(\"(4+232)-4*3\"))', '# Execute the given source in the context of globals and locals.\\nexec(\\'print(\"Hello world\")\\')', '# Execute the given source in the context of globals and locals.\\nexec(\\'(\"Hello world\")\\')', '# Execute the given source in the context of globals and locals.\\nexec(\\'(\"Hello world\")\\')', '# Execute the given source in the context of globals and locals.\\nexec(\\'print(\"Hello world\")\\')', 'print(list(filter(lambda x: x > 0, [-1, 0, 1, 2]))) ', \"print(float('3.14'))  \", \"print(float('3.14'))  \", \"# Print the number 123 formatted as a four-digit string with leading zeros\\nprint(format(123, '04d')) \\nprint(format(123, '06d')) \", 'frozenset([1,2,3])', 'print(globals()) '], 'Out': {35: 'd', 36: 'e', 37: '\\x0b', 38: 'ç', 39: 'a', 40: 97, 44: ['__add__', '__class__', '__class_getitem__', '__contains__', '__delattr__', '__delitem__', '__dir__', '__doc__', '__eq__', '__format__', '__ge__', '__getattribute__', '__getitem__', '__gt__', '__hash__', '__iadd__', '__imul__', '__init__', '__init_subclass__', '__iter__', '__le__', '__len__', '__lt__', '__mul__', '__ne__', '__new__', '__reduce__', '__reduce_ex__', '__repr__', '__reversed__', '__rmul__', '__setattr__', '__setitem__', '__sizeof__', '__str__', '__subclasshook__', 'append', 'clear', 'copy', 'count', 'extend', 'index', 'insert', 'pop', 'remove', 'reverse', 'sort'], 45: ['__add__', '__class__', '__class_getitem__', '__contains__', '__delattr__', '__delitem__', '__dir__', '__doc__', '__eq__', '__format__', '__ge__', '__getattribute__', '__getitem__', '__gt__', '__hash__', '__iadd__', '__imul__', '__init__', '__init_subclass__', '__iter__', '__le__', '__len__', '__lt__', '__mul__', '__ne__', '__new__', '__reduce__', '__reduce_ex__', '__repr__', '__reversed__', '__rmul__', '__setattr__', '__setitem__', '__sizeof__', '__str__', '__subclasshook__', 'append', 'clear', 'copy', 'count', 'extend', 'index', 'insert', 'pop', 'remove', 'reverse', 'sort'], 46: (4, 1), 47: (4, 1), 48: (4.5, 1), 50: (4, 1), 56: 58, 58: -228, 61: 6, 62: 0.6666666666666666, 63: 2, 64: 0, 76: frozenset({1, 2, 3})}, 'get_ipython': <bound method InteractiveShell.get_ipython of <ipykernel.zmqshell.ZMQInteractiveShell object at 0x000001D5D9A95F40>>, 'exit': <IPython.core.autocall.ZMQExitAutocall object at 0x000001D5D9A6E5E0>, 'quit': <IPython.core.autocall.ZMQExitAutocall object at 0x000001D5D9A6E5E0>, '_': frozenset({1, 2, 3}), '__': 0, '___': 2, '_i': 'frozenset([1,2,3])', '_ii': \"# Print the number 123 formatted as a four-digit string with leading zeros\\nprint(format(123, '04d')) \\nprint(format(123, '06d')) \", '_iii': \"print(float('3.14'))  \", '_i1': '# Print \"Hello world\"\\nprint(\"Hello world\")', '_i2': '# Calculate the absolute value of -5 and print it, which is 5\\nprint(abs(-5))', '_i3': '# Calculate the absolute value of -5 and print it, which is 5\\nprint(abs(-10))', '_i4': '# Return True if bool(x) is True for all values x in the iterable.\\nprint(all([True,True,True,]))\\nprint(all([True,False,True,True,False,True,]))', '_i5': 'all()', '_i6': '# Return True if bool(x) is True for all values x in the iterable.\\nprint(all([True,True,True,]))\\nprint(all([True,False,True,True,True,True,]))', '_i7': '# Return True if bool(x) is True for all values x in the iterable.\\nprint(all([True,True,True,]))\\nprint(all([True,False,True,True,True,True,]))', '_i8': '# Return True if bool(x) is True for any x in the iterable.\\nprint(any([True,False,False]))', '_i9': '# This line converts the string \"Hello, World!\" to its ASCII representation and prints it\\nprint(ascii(\"Hello, World!\"))', '_i10': 'print(ascii(\"Hello, World!\"))', '_i11': \"# Return the Unicode code point for a one-character string.\\nprint(ord('p'))\", '_i12': \"# Return the Unicode code point for a one-character string.\\nprint(ord('h'))\", '_i13': \"# Return the Unicode code point for a one-character string.\\nprint(ord('d'))\", '_i14': \"# Return the Unicode code point for a one-character string.\\nprint(ord('A'))\", '_i15': \"# Return the Unicode code point for a one-character string.\\nprint(ord('H'))\", '_i16': \"# Return the Unicode code point for a one-character string.\\nprint(ord('e'))\", '_i17': \"# Return the Unicode code point for a one-character string.\\nprint(ord('l'))\", '_i18': \"# Return the Unicode code point for a one-character string.\\nprint(ord('ll'))\", '_i19': \"# Return the Unicode code point for a one-character string.\\nprint(ord('l'))\", '_i20': '# Return the binary representation of an integer.\\nprint(bin(10))', '_i21': '# Return the binary representation of an integer.\\nprint(bin(20))', '_i22': '# Return the binary representation of an integer.\\nprint(bin(30))', '_i23': '# Return the binary representation of an integer.\\nprint(bin(25))', '_i24': \"# Convert integer into the boolean value and print it\\nprint(bool(3))\\nprint(bool())\\nprint(bool(0))\\nprint(bool(56100))\\nprint(bool([56,83,0,'Hello']))\", '_i25': \"# Convert integer into the boolean value and print it\\nprint(bool(3))\\nprint(bool())\\nprint(bool(0))\\nprint(bool(56100))\\nprint(bool([56,83,0,'Hello','D']))\", '_i26': '# Convert integer into the boolean value and print it\\nprint(bool(3))\\nprint(bool())\\nprint(bool(0))\\nprint(bool(56100))\\nprint(bool([56,83,0,\\'Hello\\',\\'D\\']))\\nprint(bool(\"D\"))', '_i27': '# Convert integer into the boolean value and print it\\nprint(bool(3))\\nprint(bool())\\nprint(bool(0))\\nprint(bool(56100))\\nprint(bool([56,83,0,\\'Hello\\',\\'D\\']))\\nprint(bool(\"Dsds\"))', '_i28': '# It shows the usage and details of the print function\\nhelp(print)', '_i29': 'print()', '_i30': 'help(len)', '_i31': 'help(type)', '_i32': \"# Convert the string 'hello' to a bytearray using UTF-8 encoding\\nprint(bytearray('hello', 'utf-8')) \", '_i33': '# It returns True if the object can be called and False otherwise.\\n\\ndef my_func():\\n    pass\\nprint(callable(my_func))', 'my_func': <function my_func at 0x000001D5D773BE50>, '_i34': 'def mu_func():\\n    pass\\nprint(callable(my_func()))', 'mu_func': <function mu_func at 0x000001D5D9B0AA60>, '_i35': '#  Return a Unicode string of one character with ordinal i; 0 <= i <= 0x10ffff.\\nchr(100)', '_35': 'd', '_i36': '#  Return a Unicode string of one character with ordinal i; 0 <= i <= 0x10ffff.\\nchr(101)', '_36': 'e', '_i37': '#  Return a Unicode string of one character with ordinal i; 0 <= i <= 0x10ffff.\\nchr(11)', '_37': '\\x0b', '_i38': '#  Return a Unicode string of one character with ordinal i; 0 <= i <= 0x10ffff.\\nchr(231)', '_38': 'ç', '_i39': 'chr(97)', '_39': 'a', '_i40': \"ord('a')\", '_40': 97, '_i41': 'code_str = \\'print(\"Hello, World!\")\\'\\ncode = compile(code_str, \\'<string>\\', \\'exec\\')\\nexec(code) ', 'code_str': 'print(\"Hello, World!\")', 'code': <code object <module> at 0x000001D5DB5FF190, file \"<string>\", line 1>, '_i42': '# Create a complex number from a real part and an optional imaginary part.\\nprint(complex(2))\\nprint(complex(2,45))', '_i43': 'print(dict(a=1, b=2)) ', '_i44': '# dir([])\\n# dir(())\\ndir(list)', '_44': ['__add__', '__class__', '__class_getitem__', '__contains__', '__delattr__', '__delitem__', '__dir__', '__doc__', '__eq__', '__format__', '__ge__', '__getattribute__', '__getitem__', '__gt__', '__hash__', '__iadd__', '__imul__', '__init__', '__init_subclass__', '__iter__', '__le__', '__len__', '__lt__', '__mul__', '__ne__', '__new__', '__reduce__', '__reduce_ex__', '__repr__', '__reversed__', '__rmul__', '__setattr__', '__setitem__', '__sizeof__', '__str__', '__subclasshook__', 'append', 'clear', 'copy', 'count', 'extend', 'index', 'insert', 'pop', 'remove', 'reverse', 'sort'], '_i45': 'dir([])\\n# dir(())\\n# dir(list)', '_45': ['__add__', '__class__', '__class_getitem__', '__contains__', '__delattr__', '__delitem__', '__dir__', '__doc__', '__eq__', '__format__', '__ge__', '__getattribute__', '__getitem__', '__gt__', '__hash__', '__iadd__', '__imul__', '__init__', '__init_subclass__', '__iter__', '__le__', '__len__', '__lt__', '__mul__', '__ne__', '__new__', '__reduce__', '__reduce_ex__', '__repr__', '__reversed__', '__rmul__', '__setattr__', '__setitem__', '__sizeof__', '__str__', '__subclasshook__', 'append', 'clear', 'copy', 'count', 'extend', 'index', 'insert', 'pop', 'remove', 'reverse', 'sort'], '_i46': '# Return the tuple (x//y, x%y)\\ndivmod(9,2)', '_46': (4, 1), '_i47': '9//2,9%2', '_47': (4, 1), '_i48': '9/2,9%2', '_48': (4.5, 1), '_i49': '9/*/2,9%2', '_i50': '9//2,9%2', '_50': (4, 1), '_i51': \"for i,case in enumerate(['a','b','c']):\\n    print(i,case)\", 'i': 2, 'case': 'c', '_i52': \"print(eval('1+232'))\", '_i53': 'print(eval(1+232))', '_i54': 'print(eval(\"1+232\"))', '_i55': 'print(eval(\"4+232\"))', '_i56': \"eval('56 + 2')\", '_56': 58, '_i57': 'print(eval(\"4-232\"))', '_i58': '4-232', '_58': -228, '_i59': 'print(eval(\"4+232\"))', '_i60': 'eval(2*3)', '_i61': 'eval(\"2*3\")', '_61': 6, '_i62': 'eval(\"2/3\")', '_62': 0.6666666666666666, '_i63': 'eval(\"2%3\")', '_63': 2, '_i64': 'eval(\"2//3\")', '_64': 0, '_i65': '# Calculate the absolute value of -5 and print it, which is 5\\nprint(abs(10))', '_i66': '# Calculate the absolute value of -5 and print it, which is 5\\nprint(abs(-10))', '_i67': 'print(eval(\"(4+232)-4*3\"))', '_i68': '# Execute the given source in the context of globals and locals.\\nexec(\\'print(\"Hello world\")\\')', '_i69': '# Execute the given source in the context of globals and locals.\\nexec(\\'(\"Hello world\")\\')', '_i70': '# Execute the given source in the context of globals and locals.\\nexec(\\'(\"Hello world\")\\')', '_i71': '# Execute the given source in the context of globals and locals.\\nexec(\\'print(\"Hello world\")\\')', '_i72': 'print(list(filter(lambda x: x > 0, [-1, 0, 1, 2]))) ', '_i73': \"print(float('3.14'))  \", '_i74': \"print(float('3.14'))  \", '_i75': \"# Print the number 123 formatted as a four-digit string with leading zeros\\nprint(format(123, '04d')) \\nprint(format(123, '06d')) \", '_i76': 'frozenset([1,2,3])', '_76': frozenset({1, 2, 3}), '_i77': 'print(globals()) '}\n"
     ]
    }
   ],
   "source": [
    "print(globals()) "
   ]
  },
  {
   "cell_type": "code",
   "execution_count": null,
   "id": "cb743fa9",
   "metadata": {},
   "outputs": [],
   "source": [
    "hash('hello')"
   ]
  },
  {
   "cell_type": "code",
   "execution_count": 78,
   "id": "8659aefc",
   "metadata": {},
   "outputs": [
    {
     "data": {
      "text/plain": [
       "7103862512117643803"
      ]
     },
     "execution_count": 78,
     "metadata": {},
     "output_type": "execute_result"
    }
   ],
   "source": [
    "hash('13')"
   ]
  },
  {
   "cell_type": "code",
   "execution_count": 79,
   "id": "5290e0d1",
   "metadata": {},
   "outputs": [
    {
     "data": {
      "text/plain": [
       "-6179283296284257662"
      ]
     },
     "execution_count": 79,
     "metadata": {},
     "output_type": "execute_result"
    }
   ],
   "source": [
    "hash('132')"
   ]
  },
  {
   "cell_type": "code",
   "execution_count": 80,
   "id": "c8b8942a",
   "metadata": {},
   "outputs": [
    {
     "data": {
      "text/plain": [
       "'0xff'"
      ]
     },
     "execution_count": 80,
     "metadata": {},
     "output_type": "execute_result"
    }
   ],
   "source": [
    "# Return the hexadecimal representation of an integer.\n",
    "hex(255)"
   ]
  },
  {
   "cell_type": "code",
   "execution_count": 81,
   "id": "7b273e5f",
   "metadata": {},
   "outputs": [
    {
     "data": {
      "text/plain": [
       "'0x5c68'"
      ]
     },
     "execution_count": 81,
     "metadata": {},
     "output_type": "execute_result"
    }
   ],
   "source": [
    "hex(23656)"
   ]
  },
  {
   "cell_type": "code",
   "execution_count": 82,
   "id": "8c6ce62b",
   "metadata": {},
   "outputs": [
    {
     "data": {
      "text/plain": [
       "2017905175120"
      ]
     },
     "execution_count": 82,
     "metadata": {},
     "output_type": "execute_result"
    }
   ],
   "source": [
    "# Check memory address \n",
    "id(10)"
   ]
  },
  {
   "cell_type": "code",
   "execution_count": 83,
   "id": "913c0990",
   "metadata": {},
   "outputs": [
    {
     "data": {
      "text/plain": [
       "2018020869360"
      ]
     },
     "execution_count": 83,
     "metadata": {},
     "output_type": "execute_result"
    }
   ],
   "source": [
    "a = 10.26\n",
    "id(a)"
   ]
  },
  {
   "cell_type": "code",
   "execution_count": 84,
   "id": "1849f779",
   "metadata": {},
   "outputs": [
    {
     "name": "stdout",
     "output_type": "stream",
     "text": [
      "2018008976496\n"
     ]
    }
   ],
   "source": [
    "a = 'sahar'\n",
    "print(id(a))  \n"
   ]
  },
  {
   "cell_type": "code",
   "execution_count": 85,
   "id": "d16e3772",
   "metadata": {},
   "outputs": [
    {
     "name": "stdout",
     "output_type": "stream",
     "text": [
      "Enter your name: kha\n"
     ]
    },
    {
     "data": {
      "text/plain": [
       "'kha'"
      ]
     },
     "execution_count": 85,
     "metadata": {},
     "output_type": "execute_result"
    }
   ],
   "source": [
    "input('Enter your name: ')"
   ]
  },
  {
   "cell_type": "code",
   "execution_count": 86,
   "id": "e9051123",
   "metadata": {},
   "outputs": [
    {
     "data": {
      "text/plain": [
       "10"
      ]
     },
     "execution_count": 86,
     "metadata": {},
     "output_type": "execute_result"
    }
   ],
   "source": [
    "int('10')"
   ]
  },
  {
   "cell_type": "code",
   "execution_count": 87,
   "id": "1e048006",
   "metadata": {},
   "outputs": [
    {
     "data": {
      "text/plain": [
       "True"
      ]
     },
     "execution_count": 87,
     "metadata": {},
     "output_type": "execute_result"
    }
   ],
   "source": [
    "isinstance(10,int)"
   ]
  },
  {
   "cell_type": "code",
   "execution_count": 89,
   "id": "b7110ae1",
   "metadata": {},
   "outputs": [
    {
     "data": {
      "text/plain": [
       "False"
      ]
     },
     "execution_count": 89,
     "metadata": {},
     "output_type": "execute_result"
    }
   ],
   "source": [
    "isinstance('10',int)"
   ]
  },
  {
   "cell_type": "code",
   "execution_count": 90,
   "id": "156bcb0d",
   "metadata": {},
   "outputs": [
    {
     "data": {
      "text/plain": [
       "True"
      ]
     },
     "execution_count": 90,
     "metadata": {},
     "output_type": "execute_result"
    }
   ],
   "source": [
    "isinstance([10,36,45], list)"
   ]
  },
  {
   "cell_type": "code",
   "execution_count": 91,
   "id": "3384d6b3",
   "metadata": {},
   "outputs": [
    {
     "name": "stdout",
     "output_type": "stream",
     "text": [
      "False\n",
      "True\n"
     ]
    }
   ],
   "source": [
    "class A:\n",
    "    pass\n",
    "class B(A):\n",
    "    pass\n",
    "print(issubclass(A,B))\n",
    "print(issubclass(B,A))"
   ]
  },
  {
   "cell_type": "markdown",
   "id": "f2c64345",
   "metadata": {},
   "source": [
    "## -----------------------------------------------------------------------"
   ]
  },
  {
   "cell_type": "code",
   "execution_count": 1,
   "id": "bf6cf4c9",
   "metadata": {},
   "outputs": [
    {
     "name": "stdout",
     "output_type": "stream",
     "text": [
      "1\n"
     ]
    }
   ],
   "source": [
    "print(next(iter((1,2,3))))"
   ]
  },
  {
   "cell_type": "code",
   "execution_count": 2,
   "id": "465b7d79",
   "metadata": {},
   "outputs": [
    {
     "name": "stdout",
     "output_type": "stream",
     "text": [
      "2\n"
     ]
    }
   ],
   "source": [
    "print(next(iter((2,1,3))))"
   ]
  },
  {
   "cell_type": "code",
   "execution_count": 3,
   "id": "399ed6c7",
   "metadata": {},
   "outputs": [
    {
     "name": "stdout",
     "output_type": "stream",
     "text": [
      "23\n"
     ]
    }
   ],
   "source": [
    "it = iter([23, 3])\n",
    "print(next(it))  \n",
    "                  "
   ]
  },
  {
   "cell_type": "code",
   "execution_count": 4,
   "id": "d49ef188",
   "metadata": {},
   "outputs": [
    {
     "name": "stdout",
     "output_type": "stream",
     "text": [
      "5\n",
      "6\n"
     ]
    }
   ],
   "source": [
    "print(len('Hello'))\n",
    "print(len([1,2,3,4,5,6]))\n"
   ]
  },
  {
   "cell_type": "code",
   "execution_count": null,
   "id": "aac73395",
   "metadata": {},
   "outputs": [],
   "source": [
    "list(\"Hello\")"
   ]
  },
  {
   "cell_type": "code",
   "execution_count": 5,
   "id": "c1028374",
   "metadata": {},
   "outputs": [
    {
     "name": "stdout",
     "output_type": "stream",
     "text": [
      "{'a': 10}\n"
     ]
    }
   ],
   "source": [
    "# Dictionary with local variables\n",
    "def my_func():\n",
    "    a = 10\n",
    "    print(locals())   \n",
    "my_func()\n"
   ]
  },
  {
   "cell_type": "code",
   "execution_count": 8,
   "id": "48560a90",
   "metadata": {},
   "outputs": [
    {
     "data": {
      "text/plain": [
       "[1, 0]"
      ]
     },
     "execution_count": 8,
     "metadata": {},
     "output_type": "execute_result"
    }
   ],
   "source": [
    "list(map(int,\"10\"))"
   ]
  },
  {
   "cell_type": "code",
   "execution_count": 9,
   "id": "5f408601",
   "metadata": {},
   "outputs": [
    {
     "data": {
      "text/plain": [
       "[2.0, 3.0, 4.0, 5.0]"
      ]
     },
     "execution_count": 9,
     "metadata": {},
     "output_type": "execute_result"
    }
   ],
   "source": [
    "list(map(float,'2345'))"
   ]
  },
  {
   "cell_type": "code",
   "execution_count": 10,
   "id": "80354729",
   "metadata": {},
   "outputs": [
    {
     "data": {
      "text/plain": [
       "[2, 3, 4, 5]"
      ]
     },
     "execution_count": 10,
     "metadata": {},
     "output_type": "execute_result"
    }
   ],
   "source": [
    "list(map(int,[2, 3, 4, 5]))"
   ]
  },
  {
   "cell_type": "code",
   "execution_count": 11,
   "id": "354f0aa6",
   "metadata": {},
   "outputs": [
    {
     "name": "stdout",
     "output_type": "stream",
     "text": [
      "[2, 4, 6]\n"
     ]
    }
   ],
   "source": [
    "print(list(map(lambda x: x * 2, [1, 2, 3])))"
   ]
  },
  {
   "cell_type": "code",
   "execution_count": 16,
   "id": "e5b97402",
   "metadata": {},
   "outputs": [
    {
     "data": {
      "text/plain": [
       "3"
      ]
     },
     "execution_count": 16,
     "metadata": {},
     "output_type": "execute_result"
    }
   ],
   "source": [
    "max([1,2,3])"
   ]
  },
  {
   "cell_type": "code",
   "execution_count": 17,
   "id": "0321cc17",
   "metadata": {},
   "outputs": [
    {
     "data": {
      "text/plain": [
       "1"
      ]
     },
     "execution_count": 17,
     "metadata": {},
     "output_type": "execute_result"
    }
   ],
   "source": [
    "min([1,2,3,4,5])"
   ]
  },
  {
   "cell_type": "code",
   "execution_count": 22,
   "id": "587d873e",
   "metadata": {},
   "outputs": [
    {
     "name": "stdout",
     "output_type": "stream",
     "text": [
      "97\n",
      "98\n",
      "99\n",
      "100\n",
      "101\n"
     ]
    }
   ],
   "source": [
    "mv = memoryview(bytearray('abcde', 'utf-8'))\n",
    "print(mv[0])\n",
    "print(mv[1])\n",
    "print(mv[2])\n",
    "print(mv[3])\n",
    "print(mv[4])"
   ]
  },
  {
   "cell_type": "code",
   "execution_count": 23,
   "id": "11709bd2",
   "metadata": {},
   "outputs": [
    {
     "data": {
      "text/plain": [
       "<object at 0x19678067ef0>"
      ]
     },
     "execution_count": 23,
     "metadata": {},
     "output_type": "execute_result"
    }
   ],
   "source": [
    "# Create an instance of the object class and assign it to the variable obj\n",
    "obj = object()\n",
    "\n",
    "# Print the value of obj\n",
    "obj"
   ]
  },
  {
   "cell_type": "code",
   "execution_count": 26,
   "id": "09f2332c",
   "metadata": {},
   "outputs": [
    {
     "data": {
      "text/plain": [
       "'0o12'"
      ]
     },
     "execution_count": 26,
     "metadata": {},
     "output_type": "execute_result"
    }
   ],
   "source": [
    "# Return the octal representation of an integer.\n",
    "oct(10)"
   ]
  },
  {
   "cell_type": "code",
   "execution_count": null,
   "id": "2def479c",
   "metadata": {},
   "outputs": [],
   "source": [
    "# f = open('your file name', 'r')\n",
    "# print(f.read())\n",
    "# f.close"
   ]
  },
  {
   "cell_type": "code",
   "execution_count": 28,
   "id": "598650b1",
   "metadata": {},
   "outputs": [
    {
     "name": "stdout",
     "output_type": "stream",
     "text": [
      "8\n",
      "27\n"
     ]
    }
   ],
   "source": [
    "# Equivalent to base**exp with 2 arguments or base**exp % mod with 3 arguments\n",
    "print(pow(2,3))   # 2**3\n",
    "print(pow(3,3))   # 3**3"
   ]
  },
  {
   "cell_type": "code",
   "execution_count": 29,
   "id": "9e785839",
   "metadata": {},
   "outputs": [
    {
     "data": {
      "text/plain": [
       "range(5, 10)"
      ]
     },
     "execution_count": 29,
     "metadata": {},
     "output_type": "execute_result"
    }
   ],
   "source": [
    "range(5,10)"
   ]
  },
  {
   "cell_type": "code",
   "execution_count": 30,
   "id": "28025c92",
   "metadata": {},
   "outputs": [
    {
     "name": "stdout",
     "output_type": "stream",
     "text": [
      "[5, 6, 7, 8, 9]\n"
     ]
    }
   ],
   "source": [
    "print(list(range(5,10)))  \n"
   ]
  },
  {
   "cell_type": "code",
   "execution_count": 31,
   "id": "c31be318",
   "metadata": {},
   "outputs": [
    {
     "name": "stdout",
     "output_type": "stream",
     "text": [
      "'Hello'\n"
     ]
    }
   ],
   "source": [
    "print(repr(\"Hello\"))"
   ]
  },
  {
   "cell_type": "code",
   "execution_count": 32,
   "id": "c96dc7f9",
   "metadata": {},
   "outputs": [
    {
     "data": {
      "text/plain": [
       "\"'hello'\""
      ]
     },
     "execution_count": 32,
     "metadata": {},
     "output_type": "execute_result"
    }
   ],
   "source": [
    "repr('hello')"
   ]
  },
  {
   "cell_type": "code",
   "execution_count": 33,
   "id": "ec49e1b3",
   "metadata": {},
   "outputs": [
    {
     "data": {
      "text/plain": [
       "[3, 2, 1]"
      ]
     },
     "execution_count": 33,
     "metadata": {},
     "output_type": "execute_result"
    }
   ],
   "source": [
    "list(reversed([1,2,3]))"
   ]
  },
  {
   "cell_type": "code",
   "execution_count": 34,
   "id": "253562e2",
   "metadata": {},
   "outputs": [
    {
     "data": {
      "text/plain": [
       "(3, 2, 1)"
      ]
     },
     "execution_count": 34,
     "metadata": {},
     "output_type": "execute_result"
    }
   ],
   "source": [
    "tuple(reversed([1,2,3]))"
   ]
  },
  {
   "cell_type": "code",
   "execution_count": 35,
   "id": "a07dbb7b",
   "metadata": {},
   "outputs": [
    {
     "data": {
      "text/plain": [
       "342.3"
      ]
     },
     "execution_count": 35,
     "metadata": {},
     "output_type": "execute_result"
    }
   ],
   "source": [
    "round(342.256, 1)"
   ]
  },
  {
   "cell_type": "code",
   "execution_count": 36,
   "id": "89574046",
   "metadata": {},
   "outputs": [
    {
     "data": {
      "text/plain": [
       "{1, 2, 3}"
      ]
     },
     "execution_count": 36,
     "metadata": {},
     "output_type": "execute_result"
    }
   ],
   "source": [
    "set((1,2,3))"
   ]
  },
  {
   "cell_type": "code",
   "execution_count": 37,
   "id": "a09d6070",
   "metadata": {},
   "outputs": [
    {
     "data": {
      "text/plain": [
       "{1, 2, 3}"
      ]
     },
     "execution_count": 37,
     "metadata": {},
     "output_type": "execute_result"
    }
   ],
   "source": [
    "set([1,2,3])"
   ]
  },
  {
   "cell_type": "code",
   "execution_count": 38,
   "id": "93f157a7",
   "metadata": {},
   "outputs": [
    {
     "name": "stdout",
     "output_type": "stream",
     "text": [
      "[1, 2, 3]\n"
     ]
    }
   ],
   "source": [
    "print(sorted([3, 1, 2]))  "
   ]
  },
  {
   "cell_type": "code",
   "execution_count": 39,
   "id": "8f0a2573",
   "metadata": {},
   "outputs": [
    {
     "name": "stdout",
     "output_type": "stream",
     "text": [
      "123\n"
     ]
    }
   ],
   "source": [
    "print(str(123))  "
   ]
  },
  {
   "cell_type": "code",
   "execution_count": 40,
   "id": "fb9656a0",
   "metadata": {},
   "outputs": [
    {
     "name": "stdout",
     "output_type": "stream",
     "text": [
      "<class 'str'>\n"
     ]
    }
   ],
   "source": [
    "print(type(str(123)))  "
   ]
  },
  {
   "cell_type": "code",
   "execution_count": 41,
   "id": "d5874e11",
   "metadata": {},
   "outputs": [
    {
     "data": {
      "text/plain": [
       "11"
      ]
     },
     "execution_count": 41,
     "metadata": {},
     "output_type": "execute_result"
    }
   ],
   "source": [
    "sum([1,2,3,5])"
   ]
  },
  {
   "cell_type": "code",
   "execution_count": 42,
   "id": "cd7559f0",
   "metadata": {},
   "outputs": [
    {
     "name": "stdout",
     "output_type": "stream",
     "text": [
      "(1, 2, 3)\n"
     ]
    }
   ],
   "source": [
    "print(tuple([1, 2, 3])) \n"
   ]
  },
  {
   "cell_type": "code",
   "execution_count": 43,
   "id": "d135296c",
   "metadata": {},
   "outputs": [
    {
     "name": "stdout",
     "output_type": "stream",
     "text": [
      "<class 'int'>\n"
     ]
    }
   ],
   "source": [
    "print(type(123)) \n"
   ]
  },
  {
   "cell_type": "code",
   "execution_count": 50,
   "id": "8a5312d0",
   "metadata": {},
   "outputs": [
    {
     "name": "stdout",
     "output_type": "stream",
     "text": [
      "{'x': 10, 'y': 20}\n"
     ]
    }
   ],
   "source": [
    "class MyClass:\n",
    "    def __init__(self):\n",
    "        self.x = 10\n",
    "        self.y = 20\n",
    "\n",
    "obj = MyClass()\n",
    "# obj.y\n",
    "print(vars(obj))  "
   ]
  },
  {
   "cell_type": "code",
   "execution_count": 51,
   "id": "7ea3ca16",
   "metadata": {},
   "outputs": [
    {
     "name": "stdout",
     "output_type": "stream",
     "text": [
      "[(1, 'a'), (2, 'b'), (3, 'c')]\n"
     ]
    }
   ],
   "source": [
    "print(list(zip([1, 2, 3], ['a', 'b', 'c']))) "
   ]
  },
  {
   "cell_type": "code",
   "execution_count": 52,
   "id": "8b65972c",
   "metadata": {},
   "outputs": [
    {
     "name": "stdout",
     "output_type": "stream",
     "text": [
      "<module 'math' (built-in)>\n"
     ]
    }
   ],
   "source": [
    "math = __import__('math')\n",
    "print(math)"
   ]
  },
  {
   "cell_type": "code",
   "execution_count": 53,
   "id": "315c15ef",
   "metadata": {},
   "outputs": [
    {
     "name": "stdout",
     "output_type": "stream",
     "text": [
      "4.0\n"
     ]
    }
   ],
   "source": [
    "math = __import__('math')\n",
    "print(math.sqrt(16))"
   ]
  },
  {
   "cell_type": "code",
   "execution_count": 54,
   "id": "ad3c5f1e",
   "metadata": {},
   "outputs": [
    {
     "name": "stdout",
     "output_type": "stream",
     "text": [
      "1307674368000.0\n"
     ]
    }
   ],
   "source": [
    "math = __import__('math')\n",
    "print(math.gamma(16))"
   ]
  },
  {
   "cell_type": "code",
   "execution_count": 55,
   "id": "1de6aa18",
   "metadata": {},
   "outputs": [
    {
     "name": "stdout",
     "output_type": "stream",
     "text": [
      "Help on built-in module math:\n",
      "\n",
      "NAME\n",
      "    math\n",
      "\n",
      "DESCRIPTION\n",
      "    This module provides access to the mathematical functions\n",
      "    defined by the C standard.\n",
      "\n",
      "FUNCTIONS\n",
      "    acos(x, /)\n",
      "        Return the arc cosine (measured in radians) of x.\n",
      "        \n",
      "        The result is between 0 and pi.\n",
      "    \n",
      "    acosh(x, /)\n",
      "        Return the inverse hyperbolic cosine of x.\n",
      "    \n",
      "    asin(x, /)\n",
      "        Return the arc sine (measured in radians) of x.\n",
      "        \n",
      "        The result is between -pi/2 and pi/2.\n",
      "    \n",
      "    asinh(x, /)\n",
      "        Return the inverse hyperbolic sine of x.\n",
      "    \n",
      "    atan(x, /)\n",
      "        Return the arc tangent (measured in radians) of x.\n",
      "        \n",
      "        The result is between -pi/2 and pi/2.\n",
      "    \n",
      "    atan2(y, x, /)\n",
      "        Return the arc tangent (measured in radians) of y/x.\n",
      "        \n",
      "        Unlike atan(y/x), the signs of both x and y are considered.\n",
      "    \n",
      "    atanh(x, /)\n",
      "        Return the inverse hyperbolic tangent of x.\n",
      "    \n",
      "    ceil(x, /)\n",
      "        Return the ceiling of x as an Integral.\n",
      "        \n",
      "        This is the smallest integer >= x.\n",
      "    \n",
      "    comb(n, k, /)\n",
      "        Number of ways to choose k items from n items without repetition and without order.\n",
      "        \n",
      "        Evaluates to n! / (k! * (n - k)!) when k <= n and evaluates\n",
      "        to zero when k > n.\n",
      "        \n",
      "        Also called the binomial coefficient because it is equivalent\n",
      "        to the coefficient of k-th term in polynomial expansion of the\n",
      "        expression (1 + x)**n.\n",
      "        \n",
      "        Raises TypeError if either of the arguments are not integers.\n",
      "        Raises ValueError if either of the arguments are negative.\n",
      "    \n",
      "    copysign(x, y, /)\n",
      "        Return a float with the magnitude (absolute value) of x but the sign of y.\n",
      "        \n",
      "        On platforms that support signed zeros, copysign(1.0, -0.0)\n",
      "        returns -1.0.\n",
      "    \n",
      "    cos(x, /)\n",
      "        Return the cosine of x (measured in radians).\n",
      "    \n",
      "    cosh(x, /)\n",
      "        Return the hyperbolic cosine of x.\n",
      "    \n",
      "    degrees(x, /)\n",
      "        Convert angle x from radians to degrees.\n",
      "    \n",
      "    dist(p, q, /)\n",
      "        Return the Euclidean distance between two points p and q.\n",
      "        \n",
      "        The points should be specified as sequences (or iterables) of\n",
      "        coordinates.  Both inputs must have the same dimension.\n",
      "        \n",
      "        Roughly equivalent to:\n",
      "            sqrt(sum((px - qx) ** 2.0 for px, qx in zip(p, q)))\n",
      "    \n",
      "    erf(x, /)\n",
      "        Error function at x.\n",
      "    \n",
      "    erfc(x, /)\n",
      "        Complementary error function at x.\n",
      "    \n",
      "    exp(x, /)\n",
      "        Return e raised to the power of x.\n",
      "    \n",
      "    expm1(x, /)\n",
      "        Return exp(x)-1.\n",
      "        \n",
      "        This function avoids the loss of precision involved in the direct evaluation of exp(x)-1 for small x.\n",
      "    \n",
      "    fabs(x, /)\n",
      "        Return the absolute value of the float x.\n",
      "    \n",
      "    factorial(x, /)\n",
      "        Find x!.\n",
      "        \n",
      "        Raise a ValueError if x is negative or non-integral.\n",
      "    \n",
      "    floor(x, /)\n",
      "        Return the floor of x as an Integral.\n",
      "        \n",
      "        This is the largest integer <= x.\n",
      "    \n",
      "    fmod(x, y, /)\n",
      "        Return fmod(x, y), according to platform C.\n",
      "        \n",
      "        x % y may differ.\n",
      "    \n",
      "    frexp(x, /)\n",
      "        Return the mantissa and exponent of x, as pair (m, e).\n",
      "        \n",
      "        m is a float and e is an int, such that x = m * 2.**e.\n",
      "        If x is 0, m and e are both 0.  Else 0.5 <= abs(m) < 1.0.\n",
      "    \n",
      "    fsum(seq, /)\n",
      "        Return an accurate floating point sum of values in the iterable seq.\n",
      "        \n",
      "        Assumes IEEE-754 floating point arithmetic.\n",
      "    \n",
      "    gamma(x, /)\n",
      "        Gamma function at x.\n",
      "    \n",
      "    gcd(*integers)\n",
      "        Greatest Common Divisor.\n",
      "    \n",
      "    hypot(...)\n",
      "        hypot(*coordinates) -> value\n",
      "        \n",
      "        Multidimensional Euclidean distance from the origin to a point.\n",
      "        \n",
      "        Roughly equivalent to:\n",
      "            sqrt(sum(x**2 for x in coordinates))\n",
      "        \n",
      "        For a two dimensional point (x, y), gives the hypotenuse\n",
      "        using the Pythagorean theorem:  sqrt(x*x + y*y).\n",
      "        \n",
      "        For example, the hypotenuse of a 3/4/5 right triangle is:\n",
      "        \n",
      "            >>> hypot(3.0, 4.0)\n",
      "            5.0\n",
      "    \n",
      "    isclose(a, b, *, rel_tol=1e-09, abs_tol=0.0)\n",
      "        Determine whether two floating point numbers are close in value.\n",
      "        \n",
      "          rel_tol\n",
      "            maximum difference for being considered \"close\", relative to the\n",
      "            magnitude of the input values\n",
      "          abs_tol\n",
      "            maximum difference for being considered \"close\", regardless of the\n",
      "            magnitude of the input values\n",
      "        \n",
      "        Return True if a is close in value to b, and False otherwise.\n",
      "        \n",
      "        For the values to be considered close, the difference between them\n",
      "        must be smaller than at least one of the tolerances.\n",
      "        \n",
      "        -inf, inf and NaN behave similarly to the IEEE 754 Standard.  That\n",
      "        is, NaN is not close to anything, even itself.  inf and -inf are\n",
      "        only close to themselves.\n",
      "    \n",
      "    isfinite(x, /)\n",
      "        Return True if x is neither an infinity nor a NaN, and False otherwise.\n",
      "    \n",
      "    isinf(x, /)\n",
      "        Return True if x is a positive or negative infinity, and False otherwise.\n",
      "    \n",
      "    isnan(x, /)\n",
      "        Return True if x is a NaN (not a number), and False otherwise.\n",
      "    \n",
      "    isqrt(n, /)\n",
      "        Return the integer part of the square root of the input.\n",
      "    \n",
      "    lcm(*integers)\n",
      "        Least Common Multiple.\n",
      "    \n",
      "    ldexp(x, i, /)\n",
      "        Return x * (2**i).\n",
      "        \n",
      "        This is essentially the inverse of frexp().\n",
      "    \n",
      "    lgamma(x, /)\n",
      "        Natural logarithm of absolute value of Gamma function at x.\n",
      "    \n",
      "    log(...)\n",
      "        log(x, [base=math.e])\n",
      "        Return the logarithm of x to the given base.\n",
      "        \n",
      "        If the base not specified, returns the natural logarithm (base e) of x.\n",
      "    \n",
      "    log10(x, /)\n",
      "        Return the base 10 logarithm of x.\n",
      "    \n",
      "    log1p(x, /)\n",
      "        Return the natural logarithm of 1+x (base e).\n",
      "        \n",
      "        The result is computed in a way which is accurate for x near zero.\n",
      "    \n",
      "    log2(x, /)\n",
      "        Return the base 2 logarithm of x.\n",
      "    \n",
      "    modf(x, /)\n",
      "        Return the fractional and integer parts of x.\n",
      "        \n",
      "        Both results carry the sign of x and are floats.\n",
      "    \n",
      "    nextafter(x, y, /)\n",
      "        Return the next floating-point value after x towards y.\n",
      "    \n",
      "    perm(n, k=None, /)\n",
      "        Number of ways to choose k items from n items without repetition and with order.\n",
      "        \n",
      "        Evaluates to n! / (n - k)! when k <= n and evaluates\n",
      "        to zero when k > n.\n",
      "        \n",
      "        If k is not specified or is None, then k defaults to n\n",
      "        and the function returns n!.\n",
      "        \n",
      "        Raises TypeError if either of the arguments are not integers.\n",
      "        Raises ValueError if either of the arguments are negative.\n",
      "    \n",
      "    pow(x, y, /)\n",
      "        Return x**y (x to the power of y).\n",
      "    \n",
      "    prod(iterable, /, *, start=1)\n",
      "        Calculate the product of all the elements in the input iterable.\n",
      "        \n",
      "        The default start value for the product is 1.\n",
      "        \n",
      "        When the iterable is empty, return the start value.  This function is\n",
      "        intended specifically for use with numeric values and may reject\n",
      "        non-numeric types.\n",
      "    \n",
      "    radians(x, /)\n",
      "        Convert angle x from degrees to radians.\n",
      "    \n",
      "    remainder(x, y, /)\n",
      "        Difference between x and the closest integer multiple of y.\n",
      "        \n",
      "        Return x - n*y where n*y is the closest integer multiple of y.\n",
      "        In the case where x is exactly halfway between two multiples of\n",
      "        y, the nearest even value of n is used. The result is always exact.\n",
      "    \n",
      "    sin(x, /)\n",
      "        Return the sine of x (measured in radians).\n",
      "    \n",
      "    sinh(x, /)\n",
      "        Return the hyperbolic sine of x.\n",
      "    \n",
      "    sqrt(x, /)\n",
      "        Return the square root of x.\n",
      "    \n",
      "    tan(x, /)\n",
      "        Return the tangent of x (measured in radians).\n",
      "    \n",
      "    tanh(x, /)\n",
      "        Return the hyperbolic tangent of x.\n",
      "    \n",
      "    trunc(x, /)\n",
      "        Truncates the Real x to the nearest Integral toward 0.\n",
      "        \n",
      "        Uses the __trunc__ magic method.\n",
      "    \n",
      "    ulp(x, /)\n",
      "        Return the value of the least significant bit of the float x.\n",
      "\n",
      "DATA\n",
      "    e = 2.718281828459045\n",
      "    inf = inf\n",
      "    nan = nan\n",
      "    pi = 3.141592653589793\n",
      "    tau = 6.283185307179586\n",
      "\n",
      "FILE\n",
      "    (built-in)\n",
      "\n",
      "\n"
     ]
    }
   ],
   "source": [
    "help(math)"
   ]
  },
  {
   "cell_type": "code",
   "execution_count": 56,
   "id": "7e7aa6fc",
   "metadata": {},
   "outputs": [
    {
     "data": {
      "text/plain": [
       "['__doc__',\n",
       " '__loader__',\n",
       " '__name__',\n",
       " '__package__',\n",
       " '__spec__',\n",
       " 'acos',\n",
       " 'acosh',\n",
       " 'asin',\n",
       " 'asinh',\n",
       " 'atan',\n",
       " 'atan2',\n",
       " 'atanh',\n",
       " 'ceil',\n",
       " 'comb',\n",
       " 'copysign',\n",
       " 'cos',\n",
       " 'cosh',\n",
       " 'degrees',\n",
       " 'dist',\n",
       " 'e',\n",
       " 'erf',\n",
       " 'erfc',\n",
       " 'exp',\n",
       " 'expm1',\n",
       " 'fabs',\n",
       " 'factorial',\n",
       " 'floor',\n",
       " 'fmod',\n",
       " 'frexp',\n",
       " 'fsum',\n",
       " 'gamma',\n",
       " 'gcd',\n",
       " 'hypot',\n",
       " 'inf',\n",
       " 'isclose',\n",
       " 'isfinite',\n",
       " 'isinf',\n",
       " 'isnan',\n",
       " 'isqrt',\n",
       " 'lcm',\n",
       " 'ldexp',\n",
       " 'lgamma',\n",
       " 'log',\n",
       " 'log10',\n",
       " 'log1p',\n",
       " 'log2',\n",
       " 'modf',\n",
       " 'nan',\n",
       " 'nextafter',\n",
       " 'perm',\n",
       " 'pi',\n",
       " 'pow',\n",
       " 'prod',\n",
       " 'radians',\n",
       " 'remainder',\n",
       " 'sin',\n",
       " 'sinh',\n",
       " 'sqrt',\n",
       " 'tan',\n",
       " 'tanh',\n",
       " 'tau',\n",
       " 'trunc',\n",
       " 'ulp']"
      ]
     },
     "execution_count": 56,
     "metadata": {},
     "output_type": "execute_result"
    }
   ],
   "source": [
    "dir(math)"
   ]
  },
  {
   "cell_type": "code",
   "execution_count": null,
   "id": "9e860491",
   "metadata": {},
   "outputs": [],
   "source": []
  }
 ],
 "metadata": {
  "kernelspec": {
   "display_name": "Python 3 (ipykernel)",
   "language": "python",
   "name": "python3"
  },
  "language_info": {
   "codemirror_mode": {
    "name": "ipython",
    "version": 3
   },
   "file_extension": ".py",
   "mimetype": "text/x-python",
   "name": "python",
   "nbconvert_exporter": "python",
   "pygments_lexer": "ipython3",
   "version": "3.9.12"
  }
 },
 "nbformat": 4,
 "nbformat_minor": 5
}
