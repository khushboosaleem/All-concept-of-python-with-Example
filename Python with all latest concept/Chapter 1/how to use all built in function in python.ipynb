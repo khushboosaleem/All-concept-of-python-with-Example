{
 "cells": [
  {
   "cell_type": "code",
   "execution_count": 1,
   "id": "0ed865fb",
   "metadata": {},
   "outputs": [
    {
     "name": "stdout",
     "output_type": "stream",
     "text": [
      "Hello world\n"
     ]
    }
   ],
   "source": [
    "# Print \"Hello world\"\n",
    "print(\"Hello world\")"
   ]
  },
  {
   "cell_type": "code",
   "execution_count": 2,
   "id": "1723308b",
   "metadata": {},
   "outputs": [
    {
     "name": "stdout",
     "output_type": "stream",
     "text": [
      "5\n"
     ]
    }
   ],
   "source": [
    "# Calculate the absolute value of -5 and print it, which is 5\n",
    "print(abs(-5))"
   ]
  },
  {
   "cell_type": "code",
   "execution_count": 3,
   "id": "0c002bda",
   "metadata": {},
   "outputs": [
    {
     "name": "stdout",
     "output_type": "stream",
     "text": [
      "True\n",
      "False\n"
     ]
    }
   ],
   "source": [
    "# Return True if bool(x) is True for all values x in the iterable.\n",
    "print(all([True,True,True,]))\n",
    "print(all([True,False,True,True,False,True,]))"
   ]
  },
  {
   "cell_type": "code",
   "execution_count": 4,
   "id": "c2d2a08e",
   "metadata": {},
   "outputs": [
    {
     "name": "stdout",
     "output_type": "stream",
     "text": [
      "True\n"
     ]
    }
   ],
   "source": [
    "# Return True if bool(x) is True for any x in the iterable.\n",
    "print(any([True,False,False]))\n"
   ]
  },
  {
   "cell_type": "code",
   "execution_count": 5,
   "id": "e9007417",
   "metadata": {},
   "outputs": [
    {
     "name": "stdout",
     "output_type": "stream",
     "text": [
      "'Hello, World!'\n"
     ]
    }
   ],
   "source": [
    "# This line converts the string \"Hello, World!\" to its ASCII representation and prints it\n",
    "print(ascii(\"Hello, World!\"))"
   ]
  },
  {
   "cell_type": "code",
   "execution_count": 6,
   "id": "e8407add",
   "metadata": {},
   "outputs": [
    {
     "name": "stdout",
     "output_type": "stream",
     "text": [
      "'Hello, World!'\n"
     ]
    }
   ],
   "source": [
    "print(ascii(\"Hello, World!\"))"
   ]
  },
  {
   "cell_type": "code",
   "execution_count": 7,
   "id": "23273cda",
   "metadata": {},
   "outputs": [
    {
     "name": "stdout",
     "output_type": "stream",
     "text": [
      "112\n"
     ]
    }
   ],
   "source": [
    "# Return the Unicode code point for a one-character string.\n",
    "print(ord('p'))"
   ]
  },
  {
   "cell_type": "code",
   "execution_count": 8,
   "id": "d8d0787d",
   "metadata": {},
   "outputs": [
    {
     "name": "stdout",
     "output_type": "stream",
     "text": [
      "0b1010\n"
     ]
    }
   ],
   "source": [
    "# Return the binary representation of an integer.\n",
    "print(bin(10))"
   ]
  },
  {
   "cell_type": "code",
   "execution_count": 9,
   "id": "fa5be66e",
   "metadata": {},
   "outputs": [
    {
     "name": "stdout",
     "output_type": "stream",
     "text": [
      "True\n",
      "False\n",
      "False\n",
      "True\n",
      "True\n"
     ]
    }
   ],
   "source": [
    "# Convert integer into the boolean value and print it\n",
    "print(bool(3))\n",
    "print(bool())\n",
    "print(bool(0))\n",
    "print(bool(56100))\n",
    "print(bool([56,83,0,'Hello']))"
   ]
  },
  {
   "cell_type": "code",
   "execution_count": 10,
   "id": "9ca6ef80",
   "metadata": {},
   "outputs": [
    {
     "name": "stdout",
     "output_type": "stream",
     "text": [
      "Help on built-in function print in module builtins:\n",
      "\n",
      "print(...)\n",
      "    print(value, ..., sep=' ', end='\\n', file=sys.stdout, flush=False)\n",
      "    \n",
      "    Prints the values to a stream, or to sys.stdout by default.\n",
      "    Optional keyword arguments:\n",
      "    file:  a file-like object (stream); defaults to the current sys.stdout.\n",
      "    sep:   string inserted between values, default a space.\n",
      "    end:   string appended after the last value, default a newline.\n",
      "    flush: whether to forcibly flush the stream.\n",
      "\n"
     ]
    }
   ],
   "source": [
    "# It shows the usage and details of the print function\n",
    "help(print)"
   ]
  },
  {
   "cell_type": "code",
   "execution_count": 11,
   "id": "8218dc2a",
   "metadata": {},
   "outputs": [
    {
     "name": "stdout",
     "output_type": "stream",
     "text": [
      "Help on built-in function len in module builtins:\n",
      "\n",
      "len(obj, /)\n",
      "    Return the number of items in a container.\n",
      "\n"
     ]
    }
   ],
   "source": [
    "help(len)"
   ]
  },
  {
   "cell_type": "code",
   "execution_count": 12,
   "id": "e35bdb57",
   "metadata": {},
   "outputs": [
    {
     "name": "stdout",
     "output_type": "stream",
     "text": [
      "Help on class type in module builtins:\n",
      "\n",
      "class type(object)\n",
      " |  type(object) -> the object's type\n",
      " |  type(name, bases, dict, **kwds) -> a new type\n",
      " |  \n",
      " |  Methods defined here:\n",
      " |  \n",
      " |  __call__(self, /, *args, **kwargs)\n",
      " |      Call self as a function.\n",
      " |  \n",
      " |  __delattr__(self, name, /)\n",
      " |      Implement delattr(self, name).\n",
      " |  \n",
      " |  __dir__(self, /)\n",
      " |      Specialized __dir__ implementation for types.\n",
      " |  \n",
      " |  __getattribute__(self, name, /)\n",
      " |      Return getattr(self, name).\n",
      " |  \n",
      " |  __init__(self, /, *args, **kwargs)\n",
      " |      Initialize self.  See help(type(self)) for accurate signature.\n",
      " |  \n",
      " |  __instancecheck__(self, instance, /)\n",
      " |      Check if an object is an instance.\n",
      " |  \n",
      " |  __repr__(self, /)\n",
      " |      Return repr(self).\n",
      " |  \n",
      " |  __setattr__(self, name, value, /)\n",
      " |      Implement setattr(self, name, value).\n",
      " |  \n",
      " |  __sizeof__(self, /)\n",
      " |      Return memory consumption of the type object.\n",
      " |  \n",
      " |  __subclasscheck__(self, subclass, /)\n",
      " |      Check if a class is a subclass.\n",
      " |  \n",
      " |  __subclasses__(self, /)\n",
      " |      Return a list of immediate subclasses.\n",
      " |  \n",
      " |  mro(self, /)\n",
      " |      Return a type's method resolution order.\n",
      " |  \n",
      " |  ----------------------------------------------------------------------\n",
      " |  Class methods defined here:\n",
      " |  \n",
      " |  __prepare__(...)\n",
      " |      __prepare__() -> dict\n",
      " |      used to create the namespace for the class statement\n",
      " |  \n",
      " |  ----------------------------------------------------------------------\n",
      " |  Static methods defined here:\n",
      " |  \n",
      " |  __new__(*args, **kwargs)\n",
      " |      Create and return a new object.  See help(type) for accurate signature.\n",
      " |  \n",
      " |  ----------------------------------------------------------------------\n",
      " |  Data descriptors defined here:\n",
      " |  \n",
      " |  __abstractmethods__\n",
      " |  \n",
      " |  __dict__\n",
      " |  \n",
      " |  __text_signature__\n",
      " |  \n",
      " |  ----------------------------------------------------------------------\n",
      " |  Data and other attributes defined here:\n",
      " |  \n",
      " |  __base__ = <class 'object'>\n",
      " |      The base class of the class hierarchy.\n",
      " |      \n",
      " |      When called, it accepts no arguments and returns a new featureless\n",
      " |      instance that has no instance attributes and cannot be given any.\n",
      " |  \n",
      " |  \n",
      " |  __bases__ = (<class 'object'>,)\n",
      " |  \n",
      " |  __basicsize__ = 880\n",
      " |  \n",
      " |  __dictoffset__ = 264\n",
      " |  \n",
      " |  __flags__ = 2148293632\n",
      " |  \n",
      " |  __itemsize__ = 40\n",
      " |  \n",
      " |  __mro__ = (<class 'type'>, <class 'object'>)\n",
      " |  \n",
      " |  __weakrefoffset__ = 368\n",
      "\n"
     ]
    }
   ],
   "source": [
    "help(type)"
   ]
  },
  {
   "cell_type": "code",
   "execution_count": 13,
   "id": "059d756f",
   "metadata": {},
   "outputs": [
    {
     "name": "stdout",
     "output_type": "stream",
     "text": [
      "bytearray(b'hello')\n"
     ]
    }
   ],
   "source": [
    "# Convert the string 'hello' to a bytearray using UTF-8 encoding\n",
    "print(bytearray('hello', 'utf-8')) "
   ]
  },
  {
   "cell_type": "code",
   "execution_count": 15,
   "id": "91dbae2b",
   "metadata": {},
   "outputs": [
    {
     "name": "stdout",
     "output_type": "stream",
     "text": [
      "True\n"
     ]
    }
   ],
   "source": [
    "# It returns True if the object can be called and False otherwise.\n",
    "\n",
    "def my_func():\n",
    "    pass\n",
    "print(callable(my_func))"
   ]
  },
  {
   "cell_type": "code",
   "execution_count": 16,
   "id": "fed1feab",
   "metadata": {},
   "outputs": [
    {
     "name": "stdout",
     "output_type": "stream",
     "text": [
      "False\n"
     ]
    }
   ],
   "source": [
    "def mu_func():\n",
    "    pass\n",
    "print(callable(my_func()))"
   ]
  },
  {
   "cell_type": "code",
   "execution_count": 17,
   "id": "55a99fd4",
   "metadata": {},
   "outputs": [
    {
     "data": {
      "text/plain": [
       "'d'"
      ]
     },
     "execution_count": 17,
     "metadata": {},
     "output_type": "execute_result"
    }
   ],
   "source": [
    "#  Return a Unicode string of one character with ordinal i; 0 <= i <= 0x10ffff.\n",
    "chr(100)"
   ]
  },
  {
   "cell_type": "code",
   "execution_count": 18,
   "id": "62e2bea7",
   "metadata": {},
   "outputs": [
    {
     "data": {
      "text/plain": [
       "'a'"
      ]
     },
     "execution_count": 18,
     "metadata": {},
     "output_type": "execute_result"
    }
   ],
   "source": [
    "chr(97)"
   ]
  },
  {
   "cell_type": "code",
   "execution_count": 19,
   "id": "c3290aec",
   "metadata": {},
   "outputs": [
    {
     "name": "stdout",
     "output_type": "stream",
     "text": [
      "Hello, World!\n"
     ]
    }
   ],
   "source": [
    "code_str = 'print(\"Hello, World!\")'\n",
    "code = compile(code_str, '<string>', 'exec')\n",
    "exec(code) "
   ]
  },
  {
   "cell_type": "code",
   "execution_count": 20,
   "id": "779acee9",
   "metadata": {},
   "outputs": [
    {
     "name": "stdout",
     "output_type": "stream",
     "text": [
      "(2+0j)\n",
      "(2+45j)\n"
     ]
    }
   ],
   "source": [
    "# Create a complex number from a real part and an optional imaginary part.\n",
    "print(complex(2))\n",
    "print(complex(2,45))"
   ]
  },
  {
   "cell_type": "code",
   "execution_count": 21,
   "id": "b0fe3e12",
   "metadata": {},
   "outputs": [
    {
     "name": "stdout",
     "output_type": "stream",
     "text": [
      "{'a': 1, 'b': 2}\n"
     ]
    }
   ],
   "source": [
    "print(dict(a=1, b=2)) "
   ]
  },
  {
   "cell_type": "code",
   "execution_count": 22,
   "id": "66924057",
   "metadata": {},
   "outputs": [
    {
     "data": {
      "text/plain": [
       "['__add__',\n",
       " '__class__',\n",
       " '__class_getitem__',\n",
       " '__contains__',\n",
       " '__delattr__',\n",
       " '__delitem__',\n",
       " '__dir__',\n",
       " '__doc__',\n",
       " '__eq__',\n",
       " '__format__',\n",
       " '__ge__',\n",
       " '__getattribute__',\n",
       " '__getitem__',\n",
       " '__gt__',\n",
       " '__hash__',\n",
       " '__iadd__',\n",
       " '__imul__',\n",
       " '__init__',\n",
       " '__init_subclass__',\n",
       " '__iter__',\n",
       " '__le__',\n",
       " '__len__',\n",
       " '__lt__',\n",
       " '__mul__',\n",
       " '__ne__',\n",
       " '__new__',\n",
       " '__reduce__',\n",
       " '__reduce_ex__',\n",
       " '__repr__',\n",
       " '__reversed__',\n",
       " '__rmul__',\n",
       " '__setattr__',\n",
       " '__setitem__',\n",
       " '__sizeof__',\n",
       " '__str__',\n",
       " '__subclasshook__',\n",
       " 'append',\n",
       " 'clear',\n",
       " 'copy',\n",
       " 'count',\n",
       " 'extend',\n",
       " 'index',\n",
       " 'insert',\n",
       " 'pop',\n",
       " 'remove',\n",
       " 'reverse',\n",
       " 'sort']"
      ]
     },
     "execution_count": 22,
     "metadata": {},
     "output_type": "execute_result"
    }
   ],
   "source": [
    "# dir([])\n",
    "# dir(())\n",
    "dir(list)"
   ]
  },
  {
   "cell_type": "code",
   "execution_count": 23,
   "id": "6b1126e4",
   "metadata": {},
   "outputs": [
    {
     "data": {
      "text/plain": [
       "(4, 1)"
      ]
     },
     "execution_count": 23,
     "metadata": {},
     "output_type": "execute_result"
    }
   ],
   "source": [
    "# Return the tuple (x//y, x%y)\n",
    "divmod(9,2)"
   ]
  },
  {
   "cell_type": "code",
   "execution_count": 24,
   "id": "543ad32e",
   "metadata": {},
   "outputs": [
    {
     "data": {
      "text/plain": [
       "(4, 1)"
      ]
     },
     "execution_count": 24,
     "metadata": {},
     "output_type": "execute_result"
    }
   ],
   "source": [
    "9//2,9%2"
   ]
  },
  {
   "cell_type": "code",
   "execution_count": 28,
   "id": "a4fad40b",
   "metadata": {},
   "outputs": [
    {
     "name": "stdout",
     "output_type": "stream",
     "text": [
      "0 a\n",
      "1 b\n",
      "2 c\n"
     ]
    }
   ],
   "source": [
    "for i,case in enumerate(['a','b','c']):\n",
    "    print(i,case)"
   ]
  },
  {
   "cell_type": "code",
   "execution_count": 30,
   "id": "28b1f22d",
   "metadata": {},
   "outputs": [
    {
     "name": "stdout",
     "output_type": "stream",
     "text": [
      "233\n"
     ]
    }
   ],
   "source": [
    "print(eval('1+232'))"
   ]
  },
  {
   "cell_type": "code",
   "execution_count": 35,
   "id": "344e5696",
   "metadata": {},
   "outputs": [
    {
     "data": {
      "text/plain": [
       "58"
      ]
     },
     "execution_count": 35,
     "metadata": {},
     "output_type": "execute_result"
    }
   ],
   "source": [
    "eval('56 + 2')"
   ]
  },
  {
   "cell_type": "code",
   "execution_count": 40,
   "id": "54159df0",
   "metadata": {},
   "outputs": [
    {
     "name": "stdout",
     "output_type": "stream",
     "text": [
      "Hello world\n"
     ]
    }
   ],
   "source": [
    "# Execute the given source in the context of globals and locals.\n",
    "exec('print(\"Hello world\")')"
   ]
  },
  {
   "cell_type": "code",
   "execution_count": 41,
   "id": "dc2505e8",
   "metadata": {},
   "outputs": [
    {
     "name": "stdout",
     "output_type": "stream",
     "text": [
      "[1, 2]\n"
     ]
    }
   ],
   "source": [
    "print(list(filter(lambda x: x > 0, [-1, 0, 1, 2]))) \n"
   ]
  },
  {
   "cell_type": "code",
   "execution_count": 42,
   "id": "5049bd90",
   "metadata": {},
   "outputs": [
    {
     "name": "stdout",
     "output_type": "stream",
     "text": [
      "3.14\n"
     ]
    }
   ],
   "source": [
    "print(float('3.14'))  "
   ]
  },
  {
   "cell_type": "code",
   "execution_count": 49,
   "id": "9d3cbb89",
   "metadata": {},
   "outputs": [
    {
     "name": "stdout",
     "output_type": "stream",
     "text": [
      "0123\n",
      "000123\n"
     ]
    }
   ],
   "source": [
    "# Print the number 123 formatted as a four-digit string with leading zeros\n",
    "print(format(123, '04d')) \n",
    "print(format(123, '06d')) "
   ]
  },
  {
   "cell_type": "code",
   "execution_count": 50,
   "id": "81a0d1d4",
   "metadata": {},
   "outputs": [
    {
     "data": {
      "text/plain": [
       "frozenset({1, 2, 3})"
      ]
     },
     "execution_count": 50,
     "metadata": {},
     "output_type": "execute_result"
    }
   ],
   "source": [
    "frozenset([1,2,3])"
   ]
  },
  {
   "cell_type": "markdown",
   "id": "1bf63380",
   "metadata": {},
   "source": [
    "In Python, globals() is a built-in function that returns a dictionary representing the current global symbol table. The global symbol table contains information about all global variables and their corresponding values within the current module or scope."
   ]
  },
  {
   "cell_type": "code",
   "execution_count": 51,
   "id": "e03ceb09",
   "metadata": {},
   "outputs": [
    {
     "name": "stdout",
     "output_type": "stream",
     "text": [
      "{'__name__': '__main__', '__doc__': 'Automatically created module for IPython interactive environment', '__package__': None, '__loader__': None, '__spec__': None, '__builtin__': <module 'builtins' (built-in)>, '__builtins__': <module 'builtins' (built-in)>, '_ih': ['', '# Print \"Hello world\"\\nprint(\"Hello world\")', '# Calculate the absolute value of -5 and print it, which is 5\\nprint(abs(-5))', '# Return True if bool(x) is True for all values x in the iterable.\\nprint(all([True,True,True,]))\\nprint(all([True,False,True,True,False,True,]))', '# Return True if bool(x) is True for any x in the iterable.\\nprint(any([True,False,False]))', '# This line converts the string \"Hello, World!\" to its ASCII representation and prints it\\nprint(ascii(\"Hello, World!\"))', 'print(ascii(\"Hello, World!\"))', \"# Return the Unicode code point for a one-character string.\\nprint(ord('p'))\", '# Return the binary representation of an integer.\\nprint(bin(10))', \"# Convert integer into the boolean value and print it\\nprint(bool(3))\\nprint(bool())\\nprint(bool(0))\\nprint(bool(56100))\\nprint(bool([56,83,0,'Hello']))\", '# It shows the usage and details of the print function\\nhelp(print)', 'help(len)', 'help(type)', \"# Convert the string 'hello' to a bytearray using UTF-8 encoding\\nprint(bytearray('hello', 'utf-8')) \", '# It returns True if the object can be called and False otherwise.\\n\\ndef mu_func():\\n    pass\\nprint(callable(my_func))', '# It returns True if the object can be called and False otherwise.\\n\\ndef my_func():\\n    pass\\nprint(callable(my_func))', 'def mu_func():\\n    pass\\nprint(callable(my_func()))', '#  Return a Unicode string of one character with ordinal i; 0 <= i <= 0x10ffff.\\nchr(100)', 'chr(97)', 'code_str = \\'print(\"Hello, World!\")\\'\\ncode = compile(code_str, \\'<string>\\', \\'exec\\')\\nexec(code) ', '# Create a complex number from a real part and an optional imaginary part.\\nprint(complex(2))\\nprint(complex(2,45))', 'print(dict(a=1, b=2)) ', '# dir([])\\n# dir(())\\ndir(list)', '# Return the tuple (x//y, x%y)\\ndivmod(9,2)', '9//2,9%2', \"for i,case in enumerate(['a','b','c']):\\n    print(i,value)\", \"for i,case in enumerate(['a','b','c']):\\n    print(i,case)\", \"for i in enumerate(['a','b','c']):\\n    print(i)\", \"for i,case in enumerate(['a','b','c']):\\n    print(i,case)\", \"print(eval('1+2'))\", \"print(eval('1+232'))\", 'eval(2+3)', \"eval('hmm+2')\", \"eval('h +2')\", \"eval('h + 2')\", \"eval('56 + 2')\", 'exce(\"Hello world\")', 'exec(\"Hello world\")', 'exec(print(\"Hello world\"))', 'exec(\\'print(\"Hello world\")\\')', '# Execute the given source in the context of globals and locals.\\nexec(\\'print(\"Hello world\")\\')', 'print(list(filter(lambda x: x > 0, [-1, 0, 1, 2]))) ', \"print(float('3.14'))  # Output: 3.14\", \"format(123,'o4d')\", \"print(format(123, '04d'))  # Output: '0123'\", \"print(format(123, '04d'))  # Output: '0123'\", \"# Print the number 123 formatted as a four-digit string with leading zeros\\nprint(format(123, '05d')) \", \"# Print the number 123 formatted as a four-digit string with leading zeros\\nprint(format(123, '06d')) \", \"# Print the number 123 formatted as a four-digit string with leading zeros\\nprint(format(123, '04d')) \", \"# Print the number 123 formatted as a four-digit string with leading zeros\\nprint(format(123, '04d')) \\nprint(format(123, '06d')) \", 'frozenset([1,2,3])', 'print(globals())  # Output: Dictionary with global variables'], '_oh': {17: 'd', 18: 'a', 22: ['__add__', '__class__', '__class_getitem__', '__contains__', '__delattr__', '__delitem__', '__dir__', '__doc__', '__eq__', '__format__', '__ge__', '__getattribute__', '__getitem__', '__gt__', '__hash__', '__iadd__', '__imul__', '__init__', '__init_subclass__', '__iter__', '__le__', '__len__', '__lt__', '__mul__', '__ne__', '__new__', '__reduce__', '__reduce_ex__', '__repr__', '__reversed__', '__rmul__', '__setattr__', '__setitem__', '__sizeof__', '__str__', '__subclasshook__', 'append', 'clear', 'copy', 'count', 'extend', 'index', 'insert', 'pop', 'remove', 'reverse', 'sort'], 23: (4, 1), 24: (4, 1), 35: 58, 50: frozenset({1, 2, 3})}, '_dh': [WindowsPath('C:/Users/khuboo/OneDrive/Desktop/student learning/Python with all latest concept/Chapter 1')], 'In': ['', '# Print \"Hello world\"\\nprint(\"Hello world\")', '# Calculate the absolute value of -5 and print it, which is 5\\nprint(abs(-5))', '# Return True if bool(x) is True for all values x in the iterable.\\nprint(all([True,True,True,]))\\nprint(all([True,False,True,True,False,True,]))', '# Return True if bool(x) is True for any x in the iterable.\\nprint(any([True,False,False]))', '# This line converts the string \"Hello, World!\" to its ASCII representation and prints it\\nprint(ascii(\"Hello, World!\"))', 'print(ascii(\"Hello, World!\"))', \"# Return the Unicode code point for a one-character string.\\nprint(ord('p'))\", '# Return the binary representation of an integer.\\nprint(bin(10))', \"# Convert integer into the boolean value and print it\\nprint(bool(3))\\nprint(bool())\\nprint(bool(0))\\nprint(bool(56100))\\nprint(bool([56,83,0,'Hello']))\", '# It shows the usage and details of the print function\\nhelp(print)', 'help(len)', 'help(type)', \"# Convert the string 'hello' to a bytearray using UTF-8 encoding\\nprint(bytearray('hello', 'utf-8')) \", '# It returns True if the object can be called and False otherwise.\\n\\ndef mu_func():\\n    pass\\nprint(callable(my_func))', '# It returns True if the object can be called and False otherwise.\\n\\ndef my_func():\\n    pass\\nprint(callable(my_func))', 'def mu_func():\\n    pass\\nprint(callable(my_func()))', '#  Return a Unicode string of one character with ordinal i; 0 <= i <= 0x10ffff.\\nchr(100)', 'chr(97)', 'code_str = \\'print(\"Hello, World!\")\\'\\ncode = compile(code_str, \\'<string>\\', \\'exec\\')\\nexec(code) ', '# Create a complex number from a real part and an optional imaginary part.\\nprint(complex(2))\\nprint(complex(2,45))', 'print(dict(a=1, b=2)) ', '# dir([])\\n# dir(())\\ndir(list)', '# Return the tuple (x//y, x%y)\\ndivmod(9,2)', '9//2,9%2', \"for i,case in enumerate(['a','b','c']):\\n    print(i,value)\", \"for i,case in enumerate(['a','b','c']):\\n    print(i,case)\", \"for i in enumerate(['a','b','c']):\\n    print(i)\", \"for i,case in enumerate(['a','b','c']):\\n    print(i,case)\", \"print(eval('1+2'))\", \"print(eval('1+232'))\", 'eval(2+3)', \"eval('hmm+2')\", \"eval('h +2')\", \"eval('h + 2')\", \"eval('56 + 2')\", 'exce(\"Hello world\")', 'exec(\"Hello world\")', 'exec(print(\"Hello world\"))', 'exec(\\'print(\"Hello world\")\\')', '# Execute the given source in the context of globals and locals.\\nexec(\\'print(\"Hello world\")\\')', 'print(list(filter(lambda x: x > 0, [-1, 0, 1, 2]))) ', \"print(float('3.14'))  # Output: 3.14\", \"format(123,'o4d')\", \"print(format(123, '04d'))  # Output: '0123'\", \"print(format(123, '04d'))  # Output: '0123'\", \"# Print the number 123 formatted as a four-digit string with leading zeros\\nprint(format(123, '05d')) \", \"# Print the number 123 formatted as a four-digit string with leading zeros\\nprint(format(123, '06d')) \", \"# Print the number 123 formatted as a four-digit string with leading zeros\\nprint(format(123, '04d')) \", \"# Print the number 123 formatted as a four-digit string with leading zeros\\nprint(format(123, '04d')) \\nprint(format(123, '06d')) \", 'frozenset([1,2,3])', 'print(globals())  # Output: Dictionary with global variables'], 'Out': {17: 'd', 18: 'a', 22: ['__add__', '__class__', '__class_getitem__', '__contains__', '__delattr__', '__delitem__', '__dir__', '__doc__', '__eq__', '__format__', '__ge__', '__getattribute__', '__getitem__', '__gt__', '__hash__', '__iadd__', '__imul__', '__init__', '__init_subclass__', '__iter__', '__le__', '__len__', '__lt__', '__mul__', '__ne__', '__new__', '__reduce__', '__reduce_ex__', '__repr__', '__reversed__', '__rmul__', '__setattr__', '__setitem__', '__sizeof__', '__str__', '__subclasshook__', 'append', 'clear', 'copy', 'count', 'extend', 'index', 'insert', 'pop', 'remove', 'reverse', 'sort'], 23: (4, 1), 24: (4, 1), 35: 58, 50: frozenset({1, 2, 3})}, 'get_ipython': <bound method InteractiveShell.get_ipython of <ipykernel.zmqshell.ZMQInteractiveShell object at 0x000001F872365F40>>, 'exit': <IPython.core.autocall.ZMQExitAutocall object at 0x000001F87233E5E0>, 'quit': <IPython.core.autocall.ZMQExitAutocall object at 0x000001F87233E5E0>, '_': frozenset({1, 2, 3}), '__': 58, '___': (4, 1), '_i': 'frozenset([1,2,3])', '_ii': \"# Print the number 123 formatted as a four-digit string with leading zeros\\nprint(format(123, '04d')) \\nprint(format(123, '06d')) \", '_iii': \"# Print the number 123 formatted as a four-digit string with leading zeros\\nprint(format(123, '04d')) \", '_i1': '# Print \"Hello world\"\\nprint(\"Hello world\")', '_i2': '# Calculate the absolute value of -5 and print it, which is 5\\nprint(abs(-5))', '_i3': '# Return True if bool(x) is True for all values x in the iterable.\\nprint(all([True,True,True,]))\\nprint(all([True,False,True,True,False,True,]))', '_i4': '# Return True if bool(x) is True for any x in the iterable.\\nprint(any([True,False,False]))', '_i5': '# This line converts the string \"Hello, World!\" to its ASCII representation and prints it\\nprint(ascii(\"Hello, World!\"))', '_i6': 'print(ascii(\"Hello, World!\"))', '_i7': \"# Return the Unicode code point for a one-character string.\\nprint(ord('p'))\", '_i8': '# Return the binary representation of an integer.\\nprint(bin(10))', '_i9': \"# Convert integer into the boolean value and print it\\nprint(bool(3))\\nprint(bool())\\nprint(bool(0))\\nprint(bool(56100))\\nprint(bool([56,83,0,'Hello']))\", '_i10': '# It shows the usage and details of the print function\\nhelp(print)', '_i11': 'help(len)', '_i12': 'help(type)', '_i13': \"# Convert the string 'hello' to a bytearray using UTF-8 encoding\\nprint(bytearray('hello', 'utf-8')) \", '_i14': '# It returns True if the object can be called and False otherwise.\\n\\ndef mu_func():\\n    pass\\nprint(callable(my_func))', 'mu_func': <function mu_func at 0x000001F873EC2CA0>, '_i15': '# It returns True if the object can be called and False otherwise.\\n\\ndef my_func():\\n    pass\\nprint(callable(my_func))', 'my_func': <function my_func at 0x000001F873EC2C10>, '_i16': 'def mu_func():\\n    pass\\nprint(callable(my_func()))', '_i17': '#  Return a Unicode string of one character with ordinal i; 0 <= i <= 0x10ffff.\\nchr(100)', '_17': 'd', '_i18': 'chr(97)', '_18': 'a', '_i19': 'code_str = \\'print(\"Hello, World!\")\\'\\ncode = compile(code_str, \\'<string>\\', \\'exec\\')\\nexec(code) ', 'code_str': 'print(\"Hello, World!\")', 'code': <code object <module> at 0x000001F87232C870, file \"<string>\", line 1>, '_i20': '# Create a complex number from a real part and an optional imaginary part.\\nprint(complex(2))\\nprint(complex(2,45))', '_i21': 'print(dict(a=1, b=2)) ', '_i22': '# dir([])\\n# dir(())\\ndir(list)', '_22': ['__add__', '__class__', '__class_getitem__', '__contains__', '__delattr__', '__delitem__', '__dir__', '__doc__', '__eq__', '__format__', '__ge__', '__getattribute__', '__getitem__', '__gt__', '__hash__', '__iadd__', '__imul__', '__init__', '__init_subclass__', '__iter__', '__le__', '__len__', '__lt__', '__mul__', '__ne__', '__new__', '__reduce__', '__reduce_ex__', '__repr__', '__reversed__', '__rmul__', '__setattr__', '__setitem__', '__sizeof__', '__str__', '__subclasshook__', 'append', 'clear', 'copy', 'count', 'extend', 'index', 'insert', 'pop', 'remove', 'reverse', 'sort'], '_i23': '# Return the tuple (x//y, x%y)\\ndivmod(9,2)', '_23': (4, 1), '_i24': '9//2,9%2', '_24': (4, 1), '_i25': \"for i,case in enumerate(['a','b','c']):\\n    print(i,value)\", 'i': 2, 'case': 'c', '_i26': \"for i,case in enumerate(['a','b','c']):\\n    print(i,case)\", '_i27': \"for i in enumerate(['a','b','c']):\\n    print(i)\", '_i28': \"for i,case in enumerate(['a','b','c']):\\n    print(i,case)\", '_i29': \"print(eval('1+2'))\", '_i30': \"print(eval('1+232'))\", '_i31': 'eval(2+3)', '_i32': \"eval('hmm+2')\", '_i33': \"eval('h +2')\", '_i34': \"eval('h + 2')\", '_i35': \"eval('56 + 2')\", '_35': 58, '_i36': 'exce(\"Hello world\")', '_i37': 'exec(\"Hello world\")', '_i38': 'exec(print(\"Hello world\"))', '_i39': 'exec(\\'print(\"Hello world\")\\')', '_i40': '# Execute the given source in the context of globals and locals.\\nexec(\\'print(\"Hello world\")\\')', '_i41': 'print(list(filter(lambda x: x > 0, [-1, 0, 1, 2]))) ', '_i42': \"print(float('3.14'))  # Output: 3.14\", '_i43': \"format(123,'o4d')\", '_i44': \"print(format(123, '04d'))  # Output: '0123'\", '_i45': \"print(format(123, '04d'))  # Output: '0123'\", '_i46': \"# Print the number 123 formatted as a four-digit string with leading zeros\\nprint(format(123, '05d')) \", '_i47': \"# Print the number 123 formatted as a four-digit string with leading zeros\\nprint(format(123, '06d')) \", '_i48': \"# Print the number 123 formatted as a four-digit string with leading zeros\\nprint(format(123, '04d')) \", '_i49': \"# Print the number 123 formatted as a four-digit string with leading zeros\\nprint(format(123, '04d')) \\nprint(format(123, '06d')) \", '_i50': 'frozenset([1,2,3])', '_50': frozenset({1, 2, 3}), '_i51': 'print(globals())  # Output: Dictionary with global variables'}\n"
     ]
    }
   ],
   "source": [
    "print(globals()) "
   ]
  },
  {
   "cell_type": "code",
   "execution_count": 52,
   "id": "cb743fa9",
   "metadata": {},
   "outputs": [
    {
     "data": {
      "text/plain": [
       "3046343889232631561"
      ]
     },
     "execution_count": 52,
     "metadata": {},
     "output_type": "execute_result"
    }
   ],
   "source": [
    "hash('hello')"
   ]
  },
  {
   "cell_type": "code",
   "execution_count": 53,
   "id": "8659aefc",
   "metadata": {},
   "outputs": [
    {
     "data": {
      "text/plain": [
       "3669592090659739722"
      ]
     },
     "execution_count": 53,
     "metadata": {},
     "output_type": "execute_result"
    }
   ],
   "source": [
    "hash('13')"
   ]
  },
  {
   "cell_type": "code",
   "execution_count": 55,
   "id": "5290e0d1",
   "metadata": {},
   "outputs": [
    {
     "data": {
      "text/plain": [
       "4672410970794692346"
      ]
     },
     "execution_count": 55,
     "metadata": {},
     "output_type": "execute_result"
    }
   ],
   "source": [
    "hash('132')"
   ]
  },
  {
   "cell_type": "code",
   "execution_count": 57,
   "id": "c8b8942a",
   "metadata": {},
   "outputs": [
    {
     "data": {
      "text/plain": [
       "'0xff'"
      ]
     },
     "execution_count": 57,
     "metadata": {},
     "output_type": "execute_result"
    }
   ],
   "source": [
    "# Return the hexadecimal representation of an integer.\n",
    "hex(255)"
   ]
  },
  {
   "cell_type": "code",
   "execution_count": 63,
   "id": "7b273e5f",
   "metadata": {},
   "outputs": [
    {
     "data": {
      "text/plain": [
       "'0x5c68'"
      ]
     },
     "execution_count": 63,
     "metadata": {},
     "output_type": "execute_result"
    }
   ],
   "source": [
    "hex(23656)"
   ]
  },
  {
   "cell_type": "code",
   "execution_count": 64,
   "id": "8c6ce62b",
   "metadata": {},
   "outputs": [
    {
     "data": {
      "text/plain": [
       "2166496979536"
      ]
     },
     "execution_count": 64,
     "metadata": {},
     "output_type": "execute_result"
    }
   ],
   "source": [
    "# Check memory address \n",
    "id(10)"
   ]
  },
  {
   "cell_type": "code",
   "execution_count": 69,
   "id": "913c0990",
   "metadata": {},
   "outputs": [
    {
     "data": {
      "text/plain": [
       "2166613413104"
      ]
     },
     "execution_count": 69,
     "metadata": {},
     "output_type": "execute_result"
    }
   ],
   "source": [
    "a = 10.26\n",
    "id(a)"
   ]
  },
  {
   "cell_type": "code",
   "execution_count": 68,
   "id": "1849f779",
   "metadata": {},
   "outputs": [
    {
     "name": "stdout",
     "output_type": "stream",
     "text": [
      "2166614237808\n"
     ]
    }
   ],
   "source": [
    "a = 'sahar'\n",
    "print(id(a))  \n"
   ]
  },
  {
   "cell_type": "code",
   "execution_count": 70,
   "id": "d16e3772",
   "metadata": {},
   "outputs": [
    {
     "name": "stdout",
     "output_type": "stream",
     "text": [
      "Enter your name: khushboo\n"
     ]
    },
    {
     "data": {
      "text/plain": [
       "'khushboo'"
      ]
     },
     "execution_count": 70,
     "metadata": {},
     "output_type": "execute_result"
    }
   ],
   "source": [
    "input('Enter your name: ')"
   ]
  },
  {
   "cell_type": "code",
   "execution_count": 71,
   "id": "e9051123",
   "metadata": {},
   "outputs": [
    {
     "data": {
      "text/plain": [
       "10"
      ]
     },
     "execution_count": 71,
     "metadata": {},
     "output_type": "execute_result"
    }
   ],
   "source": [
    "int('10')"
   ]
  },
  {
   "cell_type": "code",
   "execution_count": 73,
   "id": "1e048006",
   "metadata": {},
   "outputs": [
    {
     "data": {
      "text/plain": [
       "True"
      ]
     },
     "execution_count": 73,
     "metadata": {},
     "output_type": "execute_result"
    }
   ],
   "source": [
    "isinstance(10,int)"
   ]
  },
  {
   "cell_type": "code",
   "execution_count": 75,
   "id": "b7110ae1",
   "metadata": {},
   "outputs": [
    {
     "data": {
      "text/plain": [
       "False"
      ]
     },
     "execution_count": 75,
     "metadata": {},
     "output_type": "execute_result"
    }
   ],
   "source": [
    "isinstance('10',int)"
   ]
  },
  {
   "cell_type": "code",
   "execution_count": 74,
   "id": "156bcb0d",
   "metadata": {},
   "outputs": [
    {
     "data": {
      "text/plain": [
       "True"
      ]
     },
     "execution_count": 74,
     "metadata": {},
     "output_type": "execute_result"
    }
   ],
   "source": [
    "isinstance([10,36,45], list)"
   ]
  },
  {
   "cell_type": "code",
   "execution_count": null,
   "id": "3384d6b3",
   "metadata": {},
   "outputs": [],
   "source": []
  },
  {
   "cell_type": "code",
   "execution_count": null,
   "id": "bf6cf4c9",
   "metadata": {},
   "outputs": [],
   "source": []
  },
  {
   "cell_type": "code",
   "execution_count": null,
   "id": "465b7d79",
   "metadata": {},
   "outputs": [],
   "source": []
  },
  {
   "cell_type": "code",
   "execution_count": null,
   "id": "399ed6c7",
   "metadata": {},
   "outputs": [],
   "source": []
  },
  {
   "cell_type": "code",
   "execution_count": null,
   "id": "d49ef188",
   "metadata": {},
   "outputs": [],
   "source": []
  },
  {
   "cell_type": "code",
   "execution_count": null,
   "id": "aac73395",
   "metadata": {},
   "outputs": [],
   "source": []
  },
  {
   "cell_type": "code",
   "execution_count": null,
   "id": "c1028374",
   "metadata": {},
   "outputs": [],
   "source": []
  },
  {
   "cell_type": "code",
   "execution_count": null,
   "id": "6ec2aaee",
   "metadata": {},
   "outputs": [],
   "source": []
  },
  {
   "cell_type": "code",
   "execution_count": null,
   "id": "48560a90",
   "metadata": {},
   "outputs": [],
   "source": []
  },
  {
   "cell_type": "code",
   "execution_count": null,
   "id": "5f408601",
   "metadata": {},
   "outputs": [],
   "source": []
  },
  {
   "cell_type": "code",
   "execution_count": null,
   "id": "80354729",
   "metadata": {},
   "outputs": [],
   "source": []
  },
  {
   "cell_type": "code",
   "execution_count": null,
   "id": "354f0aa6",
   "metadata": {},
   "outputs": [],
   "source": []
  },
  {
   "cell_type": "code",
   "execution_count": null,
   "id": "e5b97402",
   "metadata": {},
   "outputs": [],
   "source": []
  }
 ],
 "metadata": {
  "kernelspec": {
   "display_name": "Python 3 (ipykernel)",
   "language": "python",
   "name": "python3"
  },
  "language_info": {
   "codemirror_mode": {
    "name": "ipython",
    "version": 3
   },
   "file_extension": ".py",
   "mimetype": "text/x-python",
   "name": "python",
   "nbconvert_exporter": "python",
   "pygments_lexer": "ipython3",
   "version": "3.9.12"
  }
 },
 "nbformat": 4,
 "nbformat_minor": 5
}
