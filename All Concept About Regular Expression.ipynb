{
 "cells": [
  {
   "cell_type": "markdown",
   "id": "7a2f6806",
   "metadata": {},
   "source": [
    "# ***Regular Expression (Regex or REG-EX)***"
   ]
  },
  {
   "cell_type": "code",
   "execution_count": 1,
   "id": "48489049",
   "metadata": {},
   "outputs": [],
   "source": [
    "import re"
   ]
  },
  {
   "cell_type": "code",
   "execution_count": 3,
   "id": "bca54e28",
   "metadata": {},
   "outputs": [],
   "source": [
    "pattern = \"and\"\n",
    "check_string = \"land\""
   ]
  },
  {
   "cell_type": "code",
   "execution_count": 6,
   "id": "327f3390",
   "metadata": {},
   "outputs": [
    {
     "data": {
      "text/plain": [
       "<re.Match object; span=(1, 4), match='and'>"
      ]
     },
     "execution_count": 6,
     "metadata": {},
     "output_type": "execute_result"
    }
   ],
   "source": [
    "re.search(pattern , check_string)"
   ]
  },
  {
   "cell_type": "code",
   "execution_count": 2,
   "id": "3c0db639",
   "metadata": {},
   "outputs": [
    {
     "data": {
      "text/plain": [
       "<re.Match object; span=(1, 4), match='and'>"
      ]
     },
     "execution_count": 2,
     "metadata": {},
     "output_type": "execute_result"
    }
   ],
   "source": [
    "re.search(\"and\", \"hand\")"
   ]
  },
  {
   "cell_type": "code",
   "execution_count": null,
   "id": "374e27c4",
   "metadata": {},
   "outputs": [],
   "source": [
    "print(re.search(\"and\", \"hand\"))"
   ]
  },
  {
   "cell_type": "code",
   "execution_count": 5,
   "id": "c3667b63",
   "metadata": {},
   "outputs": [
    {
     "data": {
      "text/plain": [
       "'land'"
      ]
     },
     "execution_count": 5,
     "metadata": {},
     "output_type": "execute_result"
    }
   ],
   "source": [
    "check_string"
   ]
  },
  {
   "cell_type": "code",
   "execution_count": 4,
   "id": "59568108",
   "metadata": {},
   "outputs": [
    {
     "data": {
      "text/plain": [
       "'and'"
      ]
     },
     "execution_count": 4,
     "metadata": {},
     "output_type": "execute_result"
    }
   ],
   "source": [
    "pattern"
   ]
  },
  {
   "cell_type": "code",
   "execution_count": 7,
   "id": "818d7e82",
   "metadata": {},
   "outputs": [
    {
     "name": "stdout",
     "output_type": "stream",
     "text": [
      "Match\n"
     ]
    }
   ],
   "source": [
    "if re.search(\"and\",\"land\"):\n",
    "    print(\"Match\")\n",
    "else:\n",
    "    print(\"No Match\")"
   ]
  },
  {
   "cell_type": "code",
   "execution_count": 8,
   "id": "3984f7b7",
   "metadata": {},
   "outputs": [
    {
     "name": "stdout",
     "output_type": "stream",
     "text": [
      "Match\n"
     ]
    }
   ],
   "source": [
    "if re.search(pattern , check_string):\n",
    "    print(\"Match\")\n",
    "else:\n",
    "    print(\"No Match\")"
   ]
  },
  {
   "cell_type": "code",
   "execution_count": 9,
   "id": "2668de1e",
   "metadata": {},
   "outputs": [
    {
     "name": "stdout",
     "output_type": "stream",
     "text": [
      "No Match\n"
     ]
    }
   ],
   "source": [
    "if re.search(pattern , \"mlda\"):\n",
    "    print(\"Match\")\n",
    "else:\n",
    "    print(\"No Match\")"
   ]
  },
  {
   "cell_type": "code",
   "execution_count": 11,
   "id": "fdf390bb",
   "metadata": {},
   "outputs": [
    {
     "data": {
      "text/plain": [
       "['My name is Ayaan', 'my favorite food is pizza', 'MY favorite color is green']"
      ]
     },
     "execution_count": 11,
     "metadata": {},
     "output_type": "execute_result"
    }
   ],
   "source": [
    "about_me = [\"My name is Ayaan\",\n",
    "           \"my favorite food is pizza\",\n",
    "            \"MY favorite color is green\"]\n",
    "about_me"
   ]
  },
  {
   "cell_type": "code",
   "execution_count": 14,
   "id": "15515267",
   "metadata": {},
   "outputs": [
    {
     "name": "stdout",
     "output_type": "stream",
     "text": [
      "<re.Match object; span=(0, 2), match='My'>\n",
      "None\n",
      "None\n"
     ]
    }
   ],
   "source": [
    "pattern = 'My'\n",
    "\n",
    "for i in about_me:\n",
    "    c = re.search(pattern, i )\n",
    "    print(c)"
   ]
  },
  {
   "cell_type": "code",
   "execution_count": 15,
   "id": "e57b8573",
   "metadata": {},
   "outputs": [
    {
     "name": "stdout",
     "output_type": "stream",
     "text": [
      "Match\n",
      "No Match\n",
      "No Match\n"
     ]
    }
   ],
   "source": [
    "pattern = 'My'\n",
    "\n",
    "for i in about_me:\n",
    "    if re.search(pattern, i):\n",
    "        print(\"Match\")\n",
    "    else:\n",
    "        print(\"No Match\")"
   ]
  },
  {
   "cell_type": "markdown",
   "id": "0ff358b7",
   "metadata": {},
   "source": [
    "# ***Set [ ]***"
   ]
  },
  {
   "cell_type": "code",
   "execution_count": 16,
   "id": "3be94f85",
   "metadata": {},
   "outputs": [
    {
     "name": "stdout",
     "output_type": "stream",
     "text": [
      "Match\n",
      "Match\n",
      "Match\n"
     ]
    }
   ],
   "source": [
    "pattern = '[Mm][yY]'\n",
    "\n",
    "for i in about_me:\n",
    "    if re.search(pattern, i):\n",
    "        print(\"Match\")\n",
    "    else:\n",
    "        print(\"No Match\")"
   ]
  },
  {
   "cell_type": "code",
   "execution_count": 17,
   "id": "9ec43160",
   "metadata": {},
   "outputs": [
    {
     "name": "stdout",
     "output_type": "stream",
     "text": [
      "<re.Match object; span=(0, 2), match='My'>\n",
      "<re.Match object; span=(0, 2), match='my'>\n",
      "<re.Match object; span=(0, 2), match='MY'>\n"
     ]
    }
   ],
   "source": [
    "pattern = \"[Mm][Yy]\"\n",
    "for i in about_me:\n",
    "    c = re.search(pattern, i )\n",
    "    print(c)"
   ]
  },
  {
   "cell_type": "code",
   "execution_count": 18,
   "id": "835f1501",
   "metadata": {},
   "outputs": [
    {
     "name": "stdout",
     "output_type": "stream",
     "text": [
      "Ayaa\n",
      "n\n"
     ]
    }
   ],
   "source": [
    "print(\"Ayaa\\nn\")"
   ]
  },
  {
   "cell_type": "code",
   "execution_count": 19,
   "id": "56556122",
   "metadata": {},
   "outputs": [
    {
     "name": "stdout",
     "output_type": "stream",
     "text": [
      "Ayaa\\nn\n"
     ]
    }
   ],
   "source": [
    "print(r\"Ayaa\\nn\")"
   ]
  },
  {
   "cell_type": "markdown",
   "id": "41367b69",
   "metadata": {},
   "source": [
    "# Character classes\n",
    "\n",
    "* `set` ->[fud] either f,u or d\n",
    "* `range` -> [a-e] any of the charachter a,b,c,d or e\n",
    "* `range` -> [0-3] any of the charachter 0,1,2 or 3\n",
    "* `range` -> [A-Z] any uppercase letter\n",
    "* `set+range` -> [A-Za-z] any uppercase or lower case letter[Aa-Zz]\n",
    "* `Digit` -> **`\\d`** any digit character(equivalent to [0-9])\n",
    "* `Word` -> **`\\w`** any digit, uppercase, lowercase or underscore character (equivalent to [A-Za-z0-9_]). Does not include any special character \n",
    "* `Whitepace` -> **`\\s`** any space, tab or linebreak character\n",
    "* `Dot` -> **`.`**  any character except newline"
   ]
  },
  {
   "cell_type": "code",
   "execution_count": 22,
   "id": "2bfdca54",
   "metadata": {},
   "outputs": [
    {
     "data": {
      "text/plain": [
       "['A-12345',\n",
       " 'B-56789',\n",
       " 'A-24680',\n",
       " 'U-13579',\n",
       " 'E-98765',\n",
       " 'F-54321',\n",
       " 'G-02468',\n",
       " 'G-97531',\n",
       " 'I-86420',\n",
       " 'J-36984',\n",
       " 'K25897',\n",
       " 'L74103',\n",
       " 'M-60257',\n",
       " 'N-81492',\n",
       " 'O-48723',\n",
       " 'Q-31584',\n",
       " 'u-72936',\n",
       " 'S-46829',\n",
       " 'T-15937',\n",
       " 'U-68204']"
      ]
     },
     "execution_count": 22,
     "metadata": {},
     "output_type": "execute_result"
    }
   ],
   "source": [
    "codes = ['A-12345','B-56789', 'A-24680','U-13579','E-98765','F-54321',\n",
    "         'G-02468','G-97531','I-86420','J-36984','K25897','L74103',\n",
    "         'M-60257','N-81492','O-48723','Q-31584','u-72936','S-46829',\n",
    "         'T-15937','U-68204']\n",
    "codes"
   ]
  },
  {
   "cell_type": "code",
   "execution_count": 23,
   "id": "9b66b8c0",
   "metadata": {},
   "outputs": [
    {
     "name": "stdout",
     "output_type": "stream",
     "text": [
      "A-12345\n",
      "A-24680\n",
      "U-13579\n",
      "G-02468\n",
      "G-97531\n",
      "u-72936\n",
      "U-68204\n"
     ]
    }
   ],
   "source": [
    "pattern =  r\"[AUuG]-\"\n",
    "\n",
    "for i in codes:\n",
    "    if re.search(pattern , i):\n",
    "        print(i)"
   ]
  },
  {
   "cell_type": "code",
   "execution_count": null,
   "id": "b882909d",
   "metadata": {},
   "outputs": [],
   "source": []
  }
 ],
 "metadata": {
  "kernelspec": {
   "display_name": "Python 3 (ipykernel)",
   "language": "python",
   "name": "python3"
  },
  "language_info": {
   "codemirror_mode": {
    "name": "ipython",
    "version": 3
   },
   "file_extension": ".py",
   "mimetype": "text/x-python",
   "name": "python",
   "nbconvert_exporter": "python",
   "pygments_lexer": "ipython3",
   "version": "3.9.12"
  }
 },
 "nbformat": 4,
 "nbformat_minor": 5
}
