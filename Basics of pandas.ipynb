{
 "cells": [
  {
   "cell_type": "code",
   "execution_count": null,
   "id": "d6ac461c",
   "metadata": {},
   "outputs": [],
   "source": [
    "import pandas as pd"
   ]
  },
  {
   "cell_type": "code",
   "execution_count": null,
   "id": "c30a27cd",
   "metadata": {},
   "outputs": [],
   "source": [
    "f500 = pd.read_csv(\"f500.csv\")"
   ]
  },
  {
   "cell_type": "code",
   "execution_count": null,
   "id": "ce13734f",
   "metadata": {},
   "outputs": [],
   "source": [
    "f500"
   ]
  },
  {
   "cell_type": "code",
   "execution_count": null,
   "id": "f15156f6",
   "metadata": {},
   "outputs": [],
   "source": [
    "f500.shape"
   ]
  },
  {
   "cell_type": "code",
   "execution_count": null,
   "id": "a8dd6bb5",
   "metadata": {},
   "outputs": [],
   "source": [
    "f500.shape[0]"
   ]
  },
  {
   "cell_type": "code",
   "execution_count": null,
   "id": "bb5cfee9",
   "metadata": {},
   "outputs": [],
   "source": [
    "f500.shape[1]"
   ]
  },
  {
   "cell_type": "code",
   "execution_count": null,
   "id": "bfbb5264",
   "metadata": {},
   "outputs": [],
   "source": [
    "f500.dtypes"
   ]
  },
  {
   "cell_type": "code",
   "execution_count": null,
   "id": "d08ad07e",
   "metadata": {},
   "outputs": [],
   "source": [
    "f500.info()"
   ]
  },
  {
   "cell_type": "code",
   "execution_count": null,
   "id": "d44902dd",
   "metadata": {},
   "outputs": [],
   "source": [
    "f500.head()"
   ]
  },
  {
   "cell_type": "code",
   "execution_count": null,
   "id": "6de32cad",
   "metadata": {},
   "outputs": [],
   "source": [
    "f500.head(10)"
   ]
  },
  {
   "cell_type": "code",
   "execution_count": null,
   "id": "17c7805d",
   "metadata": {},
   "outputs": [],
   "source": [
    "f500.tail()"
   ]
  },
  {
   "cell_type": "code",
   "execution_count": null,
   "id": "aedf37ed",
   "metadata": {},
   "outputs": [],
   "source": [
    "f500.tail(2)"
   ]
  },
  {
   "cell_type": "code",
   "execution_count": null,
   "id": "241363b3",
   "metadata": {},
   "outputs": [],
   "source": [
    "f500.columns"
   ]
  },
  {
   "cell_type": "code",
   "execution_count": null,
   "id": "2b646b46",
   "metadata": {},
   "outputs": [],
   "source": [
    "f500['company']"
   ]
  },
  {
   "cell_type": "code",
   "execution_count": null,
   "id": "818801fe",
   "metadata": {},
   "outputs": [],
   "source": [
    "for i in f500['company']:\n",
    "    print(i)"
   ]
  },
  {
   "cell_type": "code",
   "execution_count": null,
   "id": "0532baea",
   "metadata": {},
   "outputs": [],
   "source": [
    "f500['company'].head()"
   ]
  },
  {
   "cell_type": "code",
   "execution_count": null,
   "id": "29844cd5",
   "metadata": {},
   "outputs": [],
   "source": [
    "f500.head(2)"
   ]
  },
  {
   "cell_type": "code",
   "execution_count": null,
   "id": "8e64014e",
   "metadata": {},
   "outputs": [],
   "source": [
    "f500[[\"company\",\"ceo\",\"industry\",\"rank\"]]"
   ]
  },
  {
   "cell_type": "code",
   "execution_count": null,
   "id": "a8c50c3a",
   "metadata": {},
   "outputs": [],
   "source": [
    "f500[[\"company\",\"ceo\",\"industry\",\"rank\"]].tail()"
   ]
  },
  {
   "cell_type": "markdown",
   "id": "d4641cd1",
   "metadata": {},
   "source": [
    "1. iloc: will use when we have integer indexing\n",
    "2. loc: will use when we have label indexing"
   ]
  },
  {
   "cell_type": "code",
   "execution_count": null,
   "id": "50e9079d",
   "metadata": {},
   "outputs": [],
   "source": [
    "f500"
   ]
  },
  {
   "cell_type": "code",
   "execution_count": null,
   "id": "0d86f3df",
   "metadata": {},
   "outputs": [],
   "source": [
    "f500.iloc[0]"
   ]
  },
  {
   "cell_type": "code",
   "execution_count": null,
   "id": "8ab3dfca",
   "metadata": {},
   "outputs": [],
   "source": [
    "f500.iloc[0,-4]"
   ]
  },
  {
   "cell_type": "code",
   "execution_count": null,
   "id": "efeb2bd2",
   "metadata": {},
   "outputs": [],
   "source": [
    "f500.iloc[0,-1]"
   ]
  },
  {
   "cell_type": "code",
   "execution_count": null,
   "id": "2785cbbf",
   "metadata": {},
   "outputs": [],
   "source": [
    "f500.iloc[5:10]"
   ]
  },
  {
   "cell_type": "code",
   "execution_count": null,
   "id": "b86fc0c6",
   "metadata": {},
   "outputs": [],
   "source": [
    "f500.iloc[5:10,4]"
   ]
  },
  {
   "cell_type": "code",
   "execution_count": null,
   "id": "29ff3144",
   "metadata": {},
   "outputs": [],
   "source": [
    "f500.iloc[5:10,:4]"
   ]
  },
  {
   "cell_type": "code",
   "execution_count": null,
   "id": "3736cd5b",
   "metadata": {},
   "outputs": [],
   "source": [
    "f500.iloc[5:10,4:]"
   ]
  },
  {
   "cell_type": "code",
   "execution_count": null,
   "id": "cbd3ae89",
   "metadata": {},
   "outputs": [],
   "source": [
    "f500.iloc[5]"
   ]
  },
  {
   "cell_type": "code",
   "execution_count": null,
   "id": "29ccbd56",
   "metadata": {},
   "outputs": [],
   "source": [
    "f500.iloc[5,8]"
   ]
  },
  {
   "cell_type": "code",
   "execution_count": null,
   "id": "3f26d7f4",
   "metadata": {},
   "outputs": [],
   "source": [
    "f500.iloc[[5,8],:3]"
   ]
  },
  {
   "cell_type": "code",
   "execution_count": null,
   "id": "ad8c6ad1",
   "metadata": {},
   "outputs": [],
   "source": [
    "f500.head()"
   ]
  },
  {
   "cell_type": "code",
   "execution_count": null,
   "id": "051401d8",
   "metadata": {},
   "outputs": [],
   "source": [
    "f500.iloc[2:5,[0,7]]"
   ]
  },
  {
   "cell_type": "code",
   "execution_count": null,
   "id": "570ac69b",
   "metadata": {},
   "outputs": [],
   "source": []
  },
  {
   "cell_type": "code",
   "execution_count": null,
   "id": "db324f22",
   "metadata": {},
   "outputs": [],
   "source": []
  }
 ],
 "metadata": {
  "kernelspec": {
   "display_name": "Python 3 (ipykernel)",
   "language": "python",
   "name": "python3"
  },
  "language_info": {
   "codemirror_mode": {
    "name": "ipython",
    "version": 3
   },
   "file_extension": ".py",
   "mimetype": "text/x-python",
   "name": "python",
   "nbconvert_exporter": "python",
   "pygments_lexer": "ipython3",
   "version": "3.9.12"
  }
 },
 "nbformat": 4,
 "nbformat_minor": 5
}
