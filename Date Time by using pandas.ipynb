{
 "cells": [
  {
   "cell_type": "code",
   "execution_count": 1,
   "id": "cc26b4ff",
   "metadata": {},
   "outputs": [],
   "source": [
    "import pandas as pd\n",
    "import datetime as dt"
   ]
  },
  {
   "cell_type": "code",
   "execution_count": 2,
   "id": "583b26e4",
   "metadata": {},
   "outputs": [
    {
     "data": {
      "text/html": [
       "<div>\n",
       "<style scoped>\n",
       "    .dataframe tbody tr th:only-of-type {\n",
       "        vertical-align: middle;\n",
       "    }\n",
       "\n",
       "    .dataframe tbody tr th {\n",
       "        vertical-align: top;\n",
       "    }\n",
       "\n",
       "    .dataframe thead th {\n",
       "        text-align: right;\n",
       "    }\n",
       "</style>\n",
       "<table border=\"1\" class=\"dataframe\">\n",
       "  <thead>\n",
       "    <tr style=\"text-align: right;\">\n",
       "      <th></th>\n",
       "      <th>name</th>\n",
       "      <th>appt_made_date</th>\n",
       "      <th>appt_start_date</th>\n",
       "      <th>appt_end_date</th>\n",
       "      <th>visitee_namelast</th>\n",
       "      <th>visitee_namefirst</th>\n",
       "      <th>meeting_room</th>\n",
       "      <th>description</th>\n",
       "    </tr>\n",
       "  </thead>\n",
       "  <tbody>\n",
       "    <tr>\n",
       "      <th>0</th>\n",
       "      <td>Joshua T. Blanton</td>\n",
       "      <td>2014-12-18T00:00:00</td>\n",
       "      <td>1/6/2015 9:30</td>\n",
       "      <td>1/6/2015 23:59</td>\n",
       "      <td>NaN</td>\n",
       "      <td>potus</td>\n",
       "      <td>west wing</td>\n",
       "      <td>JointService Military Honor Guard</td>\n",
       "    </tr>\n",
       "    <tr>\n",
       "      <th>1</th>\n",
       "      <td>Jack T. Gutting</td>\n",
       "      <td>2014-12-18T00:00:00</td>\n",
       "      <td>1/6/2015 9:30</td>\n",
       "      <td>1/6/2015 23:59</td>\n",
       "      <td>NaN</td>\n",
       "      <td>potus</td>\n",
       "      <td>west wing</td>\n",
       "      <td>JointService Military Honor Guard</td>\n",
       "    </tr>\n",
       "    <tr>\n",
       "      <th>2</th>\n",
       "      <td>Bradley T. Guiles</td>\n",
       "      <td>2014-12-18T00:00:00</td>\n",
       "      <td>1/6/2015 9:30</td>\n",
       "      <td>1/6/2015 23:59</td>\n",
       "      <td>NaN</td>\n",
       "      <td>potus</td>\n",
       "      <td>west wing</td>\n",
       "      <td>JointService Military Honor Guard</td>\n",
       "    </tr>\n",
       "    <tr>\n",
       "      <th>3</th>\n",
       "      <td>Loryn F. Grieb</td>\n",
       "      <td>2014-12-18T00:00:00</td>\n",
       "      <td>1/6/2015 9:30</td>\n",
       "      <td>1/6/2015 23:59</td>\n",
       "      <td>NaN</td>\n",
       "      <td>potus</td>\n",
       "      <td>west wing</td>\n",
       "      <td>JointService Military Honor Guard</td>\n",
       "    </tr>\n",
       "    <tr>\n",
       "      <th>4</th>\n",
       "      <td>Travis D. Gordon</td>\n",
       "      <td>2014-12-18T00:00:00</td>\n",
       "      <td>1/6/2015 9:30</td>\n",
       "      <td>1/6/2015 23:59</td>\n",
       "      <td>NaN</td>\n",
       "      <td>potus</td>\n",
       "      <td>west wing</td>\n",
       "      <td>JointService Military Honor Guard</td>\n",
       "    </tr>\n",
       "    <tr>\n",
       "      <th>...</th>\n",
       "      <td>...</td>\n",
       "      <td>...</td>\n",
       "      <td>...</td>\n",
       "      <td>...</td>\n",
       "      <td>...</td>\n",
       "      <td>...</td>\n",
       "      <td>...</td>\n",
       "      <td>...</td>\n",
       "    </tr>\n",
       "    <tr>\n",
       "      <th>47949</th>\n",
       "      <td>William B. Henline</td>\n",
       "      <td>2015-12-16T00:00:00</td>\n",
       "      <td>12/18/2015 16:30</td>\n",
       "      <td>12/18/2015 23:59</td>\n",
       "      <td>NaN</td>\n",
       "      <td>POTUS/FLOTUS</td>\n",
       "      <td>State Floo</td>\n",
       "      <td>NaN</td>\n",
       "    </tr>\n",
       "    <tr>\n",
       "      <th>47950</th>\n",
       "      <td>Ian T. Burris</td>\n",
       "      <td>2015-12-16T00:00:00</td>\n",
       "      <td>12/18/2015 16:30</td>\n",
       "      <td>12/18/2015 23:59</td>\n",
       "      <td>NaN</td>\n",
       "      <td>POTUS/FLOTUS</td>\n",
       "      <td>State Floo</td>\n",
       "      <td>NaN</td>\n",
       "    </tr>\n",
       "    <tr>\n",
       "      <th>47951</th>\n",
       "      <td>James F. Albaugh</td>\n",
       "      <td>2015-12-16T00:00:00</td>\n",
       "      <td>12/18/2015 16:30</td>\n",
       "      <td>12/18/2015 23:59</td>\n",
       "      <td>NaN</td>\n",
       "      <td>POTUS/FLOTUS</td>\n",
       "      <td>State Floo</td>\n",
       "      <td>NaN</td>\n",
       "    </tr>\n",
       "    <tr>\n",
       "      <th>47952</th>\n",
       "      <td>Jackie L. Finken</td>\n",
       "      <td>2015-12-16T00:00:00</td>\n",
       "      <td>12/18/2015 16:30</td>\n",
       "      <td>12/18/2015 23:59</td>\n",
       "      <td>NaN</td>\n",
       "      <td>POTUS/FLOTUS</td>\n",
       "      <td>State Floo</td>\n",
       "      <td>NaN</td>\n",
       "    </tr>\n",
       "    <tr>\n",
       "      <th>47953</th>\n",
       "      <td>Grace M. Bauman</td>\n",
       "      <td>2015-12-16T00:00:00</td>\n",
       "      <td>12/18/2015 16:30</td>\n",
       "      <td>12/18/2015 23:59</td>\n",
       "      <td>NaN</td>\n",
       "      <td>POTUS/FLOTUS</td>\n",
       "      <td>State Floo</td>\n",
       "      <td>NaN</td>\n",
       "    </tr>\n",
       "  </tbody>\n",
       "</table>\n",
       "<p>47954 rows × 8 columns</p>\n",
       "</div>"
      ],
      "text/plain": [
       "                     name       appt_made_date   appt_start_date  \\\n",
       "0       Joshua T. Blanton  2014-12-18T00:00:00     1/6/2015 9:30   \n",
       "1         Jack T. Gutting  2014-12-18T00:00:00     1/6/2015 9:30   \n",
       "2       Bradley T. Guiles  2014-12-18T00:00:00     1/6/2015 9:30   \n",
       "3          Loryn F. Grieb  2014-12-18T00:00:00     1/6/2015 9:30   \n",
       "4        Travis D. Gordon  2014-12-18T00:00:00     1/6/2015 9:30   \n",
       "...                   ...                  ...               ...   \n",
       "47949  William B. Henline  2015-12-16T00:00:00  12/18/2015 16:30   \n",
       "47950       Ian T. Burris  2015-12-16T00:00:00  12/18/2015 16:30   \n",
       "47951    James F. Albaugh  2015-12-16T00:00:00  12/18/2015 16:30   \n",
       "47952    Jackie L. Finken  2015-12-16T00:00:00  12/18/2015 16:30   \n",
       "47953     Grace M. Bauman  2015-12-16T00:00:00  12/18/2015 16:30   \n",
       "\n",
       "          appt_end_date visitee_namelast visitee_namefirst meeting_room  \\\n",
       "0        1/6/2015 23:59              NaN             potus    west wing   \n",
       "1        1/6/2015 23:59              NaN             potus    west wing   \n",
       "2        1/6/2015 23:59              NaN             potus    west wing   \n",
       "3        1/6/2015 23:59              NaN             potus    west wing   \n",
       "4        1/6/2015 23:59              NaN             potus    west wing   \n",
       "...                 ...              ...               ...          ...   \n",
       "47949  12/18/2015 23:59              NaN      POTUS/FLOTUS   State Floo   \n",
       "47950  12/18/2015 23:59              NaN      POTUS/FLOTUS   State Floo   \n",
       "47951  12/18/2015 23:59              NaN      POTUS/FLOTUS   State Floo   \n",
       "47952  12/18/2015 23:59              NaN      POTUS/FLOTUS   State Floo   \n",
       "47953  12/18/2015 23:59              NaN      POTUS/FLOTUS   State Floo   \n",
       "\n",
       "                             description  \n",
       "0      JointService Military Honor Guard  \n",
       "1      JointService Military Honor Guard  \n",
       "2      JointService Military Honor Guard  \n",
       "3      JointService Military Honor Guard  \n",
       "4      JointService Military Honor Guard  \n",
       "...                                  ...  \n",
       "47949                                NaN  \n",
       "47950                                NaN  \n",
       "47951                                NaN  \n",
       "47952                                NaN  \n",
       "47953                                NaN  \n",
       "\n",
       "[47954 rows x 8 columns]"
      ]
     },
     "execution_count": 2,
     "metadata": {},
     "output_type": "execute_result"
    }
   ],
   "source": [
    "dataset = pd.read_csv(\"potus_visitors_2015.csv\")\n",
    "dataset"
   ]
  },
  {
   "cell_type": "code",
   "execution_count": 3,
   "id": "48cc73a0",
   "metadata": {},
   "outputs": [],
   "source": [
    "header = dataset.columns"
   ]
  },
  {
   "cell_type": "code",
   "execution_count": 4,
   "id": "9487356d",
   "metadata": {},
   "outputs": [
    {
     "data": {
      "text/plain": [
       "Index(['name', 'appt_made_date', 'appt_start_date', 'appt_end_date',\n",
       "       'visitee_namelast', 'visitee_namefirst', 'meeting_room', 'description'],\n",
       "      dtype='object')"
      ]
     },
     "execution_count": 4,
     "metadata": {},
     "output_type": "execute_result"
    }
   ],
   "source": [
    "header"
   ]
  },
  {
   "cell_type": "code",
   "execution_count": 5,
   "id": "f9ca5377",
   "metadata": {},
   "outputs": [
    {
     "data": {
      "text/plain": [
       "Index(['name', 'appt_made_date', 'appt_start_date', 'appt_end_date',\n",
       "       'visitee_namelast', 'visitee_namefirst', 'meeting_room', 'description'],\n",
       "      dtype='object')"
      ]
     },
     "execution_count": 5,
     "metadata": {},
     "output_type": "execute_result"
    }
   ],
   "source": [
    "dataset.columns"
   ]
  },
  {
   "cell_type": "code",
   "execution_count": 6,
   "id": "81d4c147",
   "metadata": {},
   "outputs": [
    {
     "data": {
      "text/html": [
       "<div>\n",
       "<style scoped>\n",
       "    .dataframe tbody tr th:only-of-type {\n",
       "        vertical-align: middle;\n",
       "    }\n",
       "\n",
       "    .dataframe tbody tr th {\n",
       "        vertical-align: top;\n",
       "    }\n",
       "\n",
       "    .dataframe thead th {\n",
       "        text-align: right;\n",
       "    }\n",
       "</style>\n",
       "<table border=\"1\" class=\"dataframe\">\n",
       "  <thead>\n",
       "    <tr style=\"text-align: right;\">\n",
       "      <th></th>\n",
       "      <th>name</th>\n",
       "      <th>appt_made_date</th>\n",
       "      <th>appt_start_date</th>\n",
       "      <th>appt_end_date</th>\n",
       "      <th>visitee_namelast</th>\n",
       "      <th>visitee_namefirst</th>\n",
       "      <th>meeting_room</th>\n",
       "      <th>description</th>\n",
       "    </tr>\n",
       "  </thead>\n",
       "  <tbody>\n",
       "    <tr>\n",
       "      <th>0</th>\n",
       "      <td>Joshua T. Blanton</td>\n",
       "      <td>2014-12-18T00:00:00</td>\n",
       "      <td>1/6/2015 9:30</td>\n",
       "      <td>1/6/2015 23:59</td>\n",
       "      <td>NaN</td>\n",
       "      <td>potus</td>\n",
       "      <td>west wing</td>\n",
       "      <td>JointService Military Honor Guard</td>\n",
       "    </tr>\n",
       "    <tr>\n",
       "      <th>1</th>\n",
       "      <td>Jack T. Gutting</td>\n",
       "      <td>2014-12-18T00:00:00</td>\n",
       "      <td>1/6/2015 9:30</td>\n",
       "      <td>1/6/2015 23:59</td>\n",
       "      <td>NaN</td>\n",
       "      <td>potus</td>\n",
       "      <td>west wing</td>\n",
       "      <td>JointService Military Honor Guard</td>\n",
       "    </tr>\n",
       "    <tr>\n",
       "      <th>2</th>\n",
       "      <td>Bradley T. Guiles</td>\n",
       "      <td>2014-12-18T00:00:00</td>\n",
       "      <td>1/6/2015 9:30</td>\n",
       "      <td>1/6/2015 23:59</td>\n",
       "      <td>NaN</td>\n",
       "      <td>potus</td>\n",
       "      <td>west wing</td>\n",
       "      <td>JointService Military Honor Guard</td>\n",
       "    </tr>\n",
       "    <tr>\n",
       "      <th>3</th>\n",
       "      <td>Loryn F. Grieb</td>\n",
       "      <td>2014-12-18T00:00:00</td>\n",
       "      <td>1/6/2015 9:30</td>\n",
       "      <td>1/6/2015 23:59</td>\n",
       "      <td>NaN</td>\n",
       "      <td>potus</td>\n",
       "      <td>west wing</td>\n",
       "      <td>JointService Military Honor Guard</td>\n",
       "    </tr>\n",
       "    <tr>\n",
       "      <th>4</th>\n",
       "      <td>Travis D. Gordon</td>\n",
       "      <td>2014-12-18T00:00:00</td>\n",
       "      <td>1/6/2015 9:30</td>\n",
       "      <td>1/6/2015 23:59</td>\n",
       "      <td>NaN</td>\n",
       "      <td>potus</td>\n",
       "      <td>west wing</td>\n",
       "      <td>JointService Military Honor Guard</td>\n",
       "    </tr>\n",
       "  </tbody>\n",
       "</table>\n",
       "</div>"
      ],
      "text/plain": [
       "                name       appt_made_date appt_start_date   appt_end_date  \\\n",
       "0  Joshua T. Blanton  2014-12-18T00:00:00   1/6/2015 9:30  1/6/2015 23:59   \n",
       "1    Jack T. Gutting  2014-12-18T00:00:00   1/6/2015 9:30  1/6/2015 23:59   \n",
       "2  Bradley T. Guiles  2014-12-18T00:00:00   1/6/2015 9:30  1/6/2015 23:59   \n",
       "3     Loryn F. Grieb  2014-12-18T00:00:00   1/6/2015 9:30  1/6/2015 23:59   \n",
       "4   Travis D. Gordon  2014-12-18T00:00:00   1/6/2015 9:30  1/6/2015 23:59   \n",
       "\n",
       "  visitee_namelast visitee_namefirst meeting_room  \\\n",
       "0              NaN             potus    west wing   \n",
       "1              NaN             potus    west wing   \n",
       "2              NaN             potus    west wing   \n",
       "3              NaN             potus    west wing   \n",
       "4              NaN             potus    west wing   \n",
       "\n",
       "                         description  \n",
       "0  JointService Military Honor Guard  \n",
       "1  JointService Military Honor Guard  \n",
       "2  JointService Military Honor Guard  \n",
       "3  JointService Military Honor Guard  \n",
       "4  JointService Military Honor Guard  "
      ]
     },
     "execution_count": 6,
     "metadata": {},
     "output_type": "execute_result"
    }
   ],
   "source": [
    "dataset.head()"
   ]
  },
  {
   "cell_type": "code",
   "execution_count": 7,
   "id": "5312cdd6",
   "metadata": {},
   "outputs": [
    {
     "data": {
      "text/html": [
       "<div>\n",
       "<style scoped>\n",
       "    .dataframe tbody tr th:only-of-type {\n",
       "        vertical-align: middle;\n",
       "    }\n",
       "\n",
       "    .dataframe tbody tr th {\n",
       "        vertical-align: top;\n",
       "    }\n",
       "\n",
       "    .dataframe thead th {\n",
       "        text-align: right;\n",
       "    }\n",
       "</style>\n",
       "<table border=\"1\" class=\"dataframe\">\n",
       "  <thead>\n",
       "    <tr style=\"text-align: right;\">\n",
       "      <th></th>\n",
       "      <th>name</th>\n",
       "      <th>appt_made_date</th>\n",
       "      <th>appt_start_date</th>\n",
       "      <th>appt_end_date</th>\n",
       "      <th>visitee_namelast</th>\n",
       "      <th>visitee_namefirst</th>\n",
       "      <th>meeting_room</th>\n",
       "      <th>description</th>\n",
       "    </tr>\n",
       "  </thead>\n",
       "  <tbody>\n",
       "    <tr>\n",
       "      <th>47949</th>\n",
       "      <td>William B. Henline</td>\n",
       "      <td>2015-12-16T00:00:00</td>\n",
       "      <td>12/18/2015 16:30</td>\n",
       "      <td>12/18/2015 23:59</td>\n",
       "      <td>NaN</td>\n",
       "      <td>POTUS/FLOTUS</td>\n",
       "      <td>State Floo</td>\n",
       "      <td>NaN</td>\n",
       "    </tr>\n",
       "    <tr>\n",
       "      <th>47950</th>\n",
       "      <td>Ian T. Burris</td>\n",
       "      <td>2015-12-16T00:00:00</td>\n",
       "      <td>12/18/2015 16:30</td>\n",
       "      <td>12/18/2015 23:59</td>\n",
       "      <td>NaN</td>\n",
       "      <td>POTUS/FLOTUS</td>\n",
       "      <td>State Floo</td>\n",
       "      <td>NaN</td>\n",
       "    </tr>\n",
       "    <tr>\n",
       "      <th>47951</th>\n",
       "      <td>James F. Albaugh</td>\n",
       "      <td>2015-12-16T00:00:00</td>\n",
       "      <td>12/18/2015 16:30</td>\n",
       "      <td>12/18/2015 23:59</td>\n",
       "      <td>NaN</td>\n",
       "      <td>POTUS/FLOTUS</td>\n",
       "      <td>State Floo</td>\n",
       "      <td>NaN</td>\n",
       "    </tr>\n",
       "    <tr>\n",
       "      <th>47952</th>\n",
       "      <td>Jackie L. Finken</td>\n",
       "      <td>2015-12-16T00:00:00</td>\n",
       "      <td>12/18/2015 16:30</td>\n",
       "      <td>12/18/2015 23:59</td>\n",
       "      <td>NaN</td>\n",
       "      <td>POTUS/FLOTUS</td>\n",
       "      <td>State Floo</td>\n",
       "      <td>NaN</td>\n",
       "    </tr>\n",
       "    <tr>\n",
       "      <th>47953</th>\n",
       "      <td>Grace M. Bauman</td>\n",
       "      <td>2015-12-16T00:00:00</td>\n",
       "      <td>12/18/2015 16:30</td>\n",
       "      <td>12/18/2015 23:59</td>\n",
       "      <td>NaN</td>\n",
       "      <td>POTUS/FLOTUS</td>\n",
       "      <td>State Floo</td>\n",
       "      <td>NaN</td>\n",
       "    </tr>\n",
       "  </tbody>\n",
       "</table>\n",
       "</div>"
      ],
      "text/plain": [
       "                     name       appt_made_date   appt_start_date  \\\n",
       "47949  William B. Henline  2015-12-16T00:00:00  12/18/2015 16:30   \n",
       "47950       Ian T. Burris  2015-12-16T00:00:00  12/18/2015 16:30   \n",
       "47951    James F. Albaugh  2015-12-16T00:00:00  12/18/2015 16:30   \n",
       "47952    Jackie L. Finken  2015-12-16T00:00:00  12/18/2015 16:30   \n",
       "47953     Grace M. Bauman  2015-12-16T00:00:00  12/18/2015 16:30   \n",
       "\n",
       "          appt_end_date visitee_namelast visitee_namefirst meeting_room  \\\n",
       "47949  12/18/2015 23:59              NaN      POTUS/FLOTUS   State Floo   \n",
       "47950  12/18/2015 23:59              NaN      POTUS/FLOTUS   State Floo   \n",
       "47951  12/18/2015 23:59              NaN      POTUS/FLOTUS   State Floo   \n",
       "47952  12/18/2015 23:59              NaN      POTUS/FLOTUS   State Floo   \n",
       "47953  12/18/2015 23:59              NaN      POTUS/FLOTUS   State Floo   \n",
       "\n",
       "      description  \n",
       "47949         NaN  \n",
       "47950         NaN  \n",
       "47951         NaN  \n",
       "47952         NaN  \n",
       "47953         NaN  "
      ]
     },
     "execution_count": 7,
     "metadata": {},
     "output_type": "execute_result"
    }
   ],
   "source": [
    "dataset.tail()"
   ]
  },
  {
   "cell_type": "code",
   "execution_count": 8,
   "id": "76821ce7",
   "metadata": {},
   "outputs": [
    {
     "data": {
      "text/plain": [
       "47953    12/18/2015 16:30\n",
       "Name: appt_start_date, dtype: object"
      ]
     },
     "execution_count": 8,
     "metadata": {},
     "output_type": "execute_result"
    }
   ],
   "source": [
    "dataset['appt_start_date'].tail(1)"
   ]
  },
  {
   "cell_type": "code",
   "execution_count": 9,
   "id": "d0d26ea8",
   "metadata": {},
   "outputs": [
    {
     "data": {
      "text/plain": [
       "0           1/6/2015 9:30\n",
       "1           1/6/2015 9:30\n",
       "2           1/6/2015 9:30\n",
       "3           1/6/2015 9:30\n",
       "4           1/6/2015 9:30\n",
       "               ...       \n",
       "47949    12/18/2015 16:30\n",
       "47950    12/18/2015 16:30\n",
       "47951    12/18/2015 16:30\n",
       "47952    12/18/2015 16:30\n",
       "47953    12/18/2015 16:30\n",
       "Name: appt_start_date, Length: 47954, dtype: object"
      ]
     },
     "execution_count": 9,
     "metadata": {},
     "output_type": "execute_result"
    }
   ],
   "source": [
    "dataset['appt_start_date']"
   ]
  },
  {
   "cell_type": "code",
   "execution_count": 10,
   "id": "bdef3f87",
   "metadata": {},
   "outputs": [],
   "source": [
    "date_format = '%m/%d/%Y %H:%M'"
   ]
  },
  {
   "cell_type": "code",
   "execution_count": 11,
   "id": "cf53e550",
   "metadata": {},
   "outputs": [
    {
     "data": {
      "text/plain": [
       "0           1/6/2015 9:30\n",
       "1           1/6/2015 9:30\n",
       "2           1/6/2015 9:30\n",
       "3           1/6/2015 9:30\n",
       "4           1/6/2015 9:30\n",
       "               ...       \n",
       "47949    12/18/2015 16:30\n",
       "47950    12/18/2015 16:30\n",
       "47951    12/18/2015 16:30\n",
       "47952    12/18/2015 16:30\n",
       "47953    12/18/2015 16:30\n",
       "Name: appt_start_date, Length: 47954, dtype: object"
      ]
     },
     "execution_count": 11,
     "metadata": {},
     "output_type": "execute_result"
    }
   ],
   "source": [
    "start_date = dataset['appt_start_date']\n",
    "start_date"
   ]
  },
  {
   "cell_type": "code",
   "execution_count": 12,
   "id": "f65aab91",
   "metadata": {},
   "outputs": [],
   "source": [
    "dataset['appt_start_date'] = pd.to_datetime(start_date,format=date_format)"
   ]
  },
  {
   "cell_type": "code",
   "execution_count": 13,
   "id": "906021b8",
   "metadata": {},
   "outputs": [
    {
     "data": {
      "text/plain": [
       "0       2015-01-06 09:30:00\n",
       "1       2015-01-06 09:30:00\n",
       "2       2015-01-06 09:30:00\n",
       "3       2015-01-06 09:30:00\n",
       "4       2015-01-06 09:30:00\n",
       "                ...        \n",
       "47949   2015-12-18 16:30:00\n",
       "47950   2015-12-18 16:30:00\n",
       "47951   2015-12-18 16:30:00\n",
       "47952   2015-12-18 16:30:00\n",
       "47953   2015-12-18 16:30:00\n",
       "Name: appt_start_date, Length: 47954, dtype: datetime64[ns]"
      ]
     },
     "execution_count": 13,
     "metadata": {},
     "output_type": "execute_result"
    }
   ],
   "source": [
    "dataset['appt_start_date']"
   ]
  },
  {
   "cell_type": "code",
   "execution_count": 14,
   "id": "c96d0944",
   "metadata": {},
   "outputs": [
    {
     "name": "stdout",
     "output_type": "stream",
     "text": [
      "<class 'pandas.core.frame.DataFrame'>\n",
      "RangeIndex: 47954 entries, 0 to 47953\n",
      "Data columns (total 8 columns):\n",
      " #   Column             Non-Null Count  Dtype         \n",
      "---  ------             --------------  -----         \n",
      " 0   name               47954 non-null  object        \n",
      " 1   appt_made_date     47954 non-null  object        \n",
      " 2   appt_start_date    47954 non-null  datetime64[ns]\n",
      " 3   appt_end_date      47954 non-null  object        \n",
      " 4   visitee_namelast   6069 non-null   object        \n",
      " 5   visitee_namefirst  47953 non-null  object        \n",
      " 6   meeting_room       47954 non-null  object        \n",
      " 7   description        8053 non-null   object        \n",
      "dtypes: datetime64[ns](1), object(7)\n",
      "memory usage: 2.9+ MB\n"
     ]
    }
   ],
   "source": [
    "dataset.info()"
   ]
  },
  {
   "cell_type": "code",
   "execution_count": 15,
   "id": "8e9f56a6",
   "metadata": {},
   "outputs": [
    {
     "data": {
      "text/plain": [
       "0       2015-01-06 09:30:00\n",
       "1       2015-01-06 09:30:00\n",
       "2       2015-01-06 09:30:00\n",
       "3       2015-01-06 09:30:00\n",
       "4       2015-01-06 09:30:00\n",
       "                ...        \n",
       "47949   2015-12-18 16:30:00\n",
       "47950   2015-12-18 16:30:00\n",
       "47951   2015-12-18 16:30:00\n",
       "47952   2015-12-18 16:30:00\n",
       "47953   2015-12-18 16:30:00\n",
       "Name: appt_start_date, Length: 47954, dtype: datetime64[ns]"
      ]
     },
     "execution_count": 15,
     "metadata": {},
     "output_type": "execute_result"
    }
   ],
   "source": [
    "dis = dataset['appt_start_date']\n",
    "dis"
   ]
  },
  {
   "cell_type": "code",
   "execution_count": null,
   "id": "647ce313",
   "metadata": {},
   "outputs": [],
   "source": [
    "dataset[\"app_start_date_in_text\"] = dis.dt.strftime(\"%Y-%B-%A at %H\")\n",
    "dataset"
   ]
  },
  {
   "cell_type": "code",
   "execution_count": null,
   "id": "eb9b9618",
   "metadata": {},
   "outputs": [],
   "source": [
    "dir(pd)"
   ]
  },
  {
   "cell_type": "code",
   "execution_count": null,
   "id": "b767157f",
   "metadata": {},
   "outputs": [],
   "source": [
    "dataset[['appt_start_date','app_start_date_in_text']]"
   ]
  },
  {
   "cell_type": "code",
   "execution_count": null,
   "id": "99af3f33",
   "metadata": {},
   "outputs": [],
   "source": [
    "dataset.info()"
   ]
  },
  {
   "cell_type": "code",
   "execution_count": null,
   "id": "1f135184",
   "metadata": {},
   "outputs": [],
   "source": [
    "dataset.isnull().sum()"
   ]
  },
  {
   "cell_type": "code",
   "execution_count": null,
   "id": "b8fbaf3b",
   "metadata": {},
   "outputs": [],
   "source": [
    "dataset['description'].isnull().sum()"
   ]
  },
  {
   "cell_type": "code",
   "execution_count": null,
   "id": "181f98d7",
   "metadata": {},
   "outputs": [],
   "source": [
    "dataset['description'].unique"
   ]
  },
  {
   "cell_type": "code",
   "execution_count": null,
   "id": "1d2283d4",
   "metadata": {},
   "outputs": [],
   "source": [
    "dataset['description'] = dataset['description'].fillna(\"description not required\").replace(\"NAN\",\"description not required\")\n",
    "dataset['description']"
   ]
  },
  {
   "cell_type": "code",
   "execution_count": null,
   "id": "f5cbd8e8",
   "metadata": {},
   "outputs": [],
   "source": [
    "for i in dataset['description']:\n",
    "    print(i)"
   ]
  },
  {
   "cell_type": "code",
   "execution_count": null,
   "id": "e83442a5",
   "metadata": {},
   "outputs": [],
   "source": [
    "pd.set_option('display.max_rows', None)"
   ]
  },
  {
   "cell_type": "code",
   "execution_count": null,
   "id": "94fb91e6",
   "metadata": {},
   "outputs": [],
   "source": [
    "dataset['description']"
   ]
  },
  {
   "cell_type": "code",
   "execution_count": null,
   "id": "f0776949",
   "metadata": {},
   "outputs": [],
   "source": [
    "dataset.info()"
   ]
  },
  {
   "cell_type": "code",
   "execution_count": null,
   "id": "41341c23",
   "metadata": {},
   "outputs": [],
   "source": [
    "dataset[dataset['visitee_namelast'].isnull()]"
   ]
  },
  {
   "cell_type": "code",
   "execution_count": null,
   "id": "97ca7c4f",
   "metadata": {},
   "outputs": [],
   "source": [
    "dataset.visitee_namelast.unique()"
   ]
  },
  {
   "cell_type": "code",
   "execution_count": null,
   "id": "ae2898b4",
   "metadata": {},
   "outputs": [],
   "source": [
    "dataset['visitee_namelast'] = dataset['visitee_namelast'].fillna('unknown').replace('None', 'unknown').replace('/','unknown')\n",
    " "
   ]
  },
  {
   "cell_type": "code",
   "execution_count": null,
   "id": "a6971698",
   "metadata": {},
   "outputs": [],
   "source": [
    "dataset['visitee_namelast']"
   ]
  },
  {
   "cell_type": "code",
   "execution_count": null,
   "id": "bdd71493",
   "metadata": {},
   "outputs": [],
   "source": [
    "dataset['visitee_namelast'].unique()"
   ]
  },
  {
   "cell_type": "code",
   "execution_count": null,
   "id": "85a37743",
   "metadata": {},
   "outputs": [],
   "source": [
    "dataset"
   ]
  },
  {
   "cell_type": "code",
   "execution_count": null,
   "id": "2b6711aa",
   "metadata": {},
   "outputs": [],
   "source": [
    "dataset.info()"
   ]
  },
  {
   "cell_type": "code",
   "execution_count": null,
   "id": "35a7d36b",
   "metadata": {},
   "outputs": [],
   "source": []
  }
 ],
 "metadata": {
  "kernelspec": {
   "display_name": "Python 3 (ipykernel)",
   "language": "python",
   "name": "python3"
  },
  "language_info": {
   "codemirror_mode": {
    "name": "ipython",
    "version": 3
   },
   "file_extension": ".py",
   "mimetype": "text/x-python",
   "name": "python",
   "nbconvert_exporter": "python",
   "pygments_lexer": "ipython3",
   "version": "3.9.12"
  }
 },
 "nbformat": 4,
 "nbformat_minor": 5
}
