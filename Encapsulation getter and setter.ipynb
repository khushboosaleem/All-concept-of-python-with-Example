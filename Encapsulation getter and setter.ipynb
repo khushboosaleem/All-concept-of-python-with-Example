{
 "cells": [
  {
   "cell_type": "code",
   "execution_count": null,
   "id": "ad8cacbf",
   "metadata": {},
   "outputs": [],
   "source": [
    "# Public_variable\n",
    "# __Private_variable\n",
    "# _Protected_variable"
   ]
  },
  {
   "cell_type": "code",
   "execution_count": 1,
   "id": "a5944076",
   "metadata": {},
   "outputs": [],
   "source": [
    "class Example:\n",
    "    def __init__(self):\n",
    "        # Public variable\n",
    "        self.public_variable = 10\n",
    "\n",
    "        # Protected variable (conventionally protected in Python)\n",
    "        self._protected_variable = 20\n",
    "\n",
    "        # Private variable\n",
    "        self.__private_variable = 30\n",
    "\n",
    "    # Public method\n",
    "    def public_method(self):\n",
    "        print(\"This is a public method\")\n",
    "\n",
    "    # Protected method (conventionally protected in Python)\n",
    "    def _protected_method(self):\n",
    "        print(\"This is a protected method\")\n",
    "\n",
    "    # Private method\n",
    "    def __private_method(self):\n",
    "        print(\"This is a private method\")\n",
    "\n"
   ]
  },
  {
   "cell_type": "code",
   "execution_count": 2,
   "id": "1543ffed",
   "metadata": {},
   "outputs": [],
   "source": [
    "ex_instance = Example()"
   ]
  },
  {
   "cell_type": "code",
   "execution_count": 3,
   "id": "5fcb3d1c",
   "metadata": {},
   "outputs": [
    {
     "data": {
      "text/plain": [
       "10"
      ]
     },
     "execution_count": 3,
     "metadata": {},
     "output_type": "execute_result"
    }
   ],
   "source": [
    "ex_instance.public_variable"
   ]
  },
  {
   "cell_type": "code",
   "execution_count": 4,
   "id": "93266195",
   "metadata": {},
   "outputs": [
    {
     "data": {
      "text/plain": [
       "20"
      ]
     },
     "execution_count": 4,
     "metadata": {},
     "output_type": "execute_result"
    }
   ],
   "source": [
    "ex_instance._protected_variable"
   ]
  },
  {
   "cell_type": "code",
   "execution_count": 5,
   "id": "bfd6eee7",
   "metadata": {},
   "outputs": [
    {
     "data": {
      "text/plain": [
       "30"
      ]
     },
     "execution_count": 5,
     "metadata": {},
     "output_type": "execute_result"
    }
   ],
   "source": [
    "ex_instance._Example__private_variable"
   ]
  },
  {
   "cell_type": "markdown",
   "id": "478e0452",
   "metadata": {},
   "source": [
    "## Encapsulation"
   ]
  },
  {
   "cell_type": "code",
   "execution_count": 6,
   "id": "8b83c70c",
   "metadata": {},
   "outputs": [],
   "source": [
    "class Person:\n",
    "    def __init__(self,name,age):\n",
    "        self._name = name\n",
    "        self._age = age\n",
    "        \n",
    "    def get_name(self):\n",
    "        return self._name\n",
    "    \n",
    "    def set_name(self, new_name):\n",
    "        self._name = new_name\n",
    "        \n",
    "    def get_age(self):\n",
    "        return self._age\n",
    "    \n",
    "    def set_age(self, new_age):\n",
    "        if new_age >= 18:\n",
    "            self._age = new_age\n",
    "        "
   ]
  },
  {
   "cell_type": "code",
   "execution_count": 7,
   "id": "3beb3205",
   "metadata": {},
   "outputs": [],
   "source": [
    "# Creating an instance of the person class\n",
    "person_instance = Person(\"Ayaan\", 12)"
   ]
  },
  {
   "cell_type": "code",
   "execution_count": 9,
   "id": "03b1b309",
   "metadata": {},
   "outputs": [
    {
     "data": {
      "text/plain": [
       "'Ayaan'"
      ]
     },
     "execution_count": 9,
     "metadata": {},
     "output_type": "execute_result"
    }
   ],
   "source": [
    "# Accessing attributes using getter methods\n",
    "person_instance.get_name()"
   ]
  },
  {
   "cell_type": "code",
   "execution_count": 10,
   "id": "08a9dea4",
   "metadata": {},
   "outputs": [
    {
     "data": {
      "text/plain": [
       "12"
      ]
     },
     "execution_count": 10,
     "metadata": {},
     "output_type": "execute_result"
    }
   ],
   "source": [
    "person_instance.get_age()"
   ]
  },
  {
   "cell_type": "code",
   "execution_count": 14,
   "id": "c2b88fb8",
   "metadata": {},
   "outputs": [
    {
     "name": "stdout",
     "output_type": "stream",
     "text": [
      "Ali\n"
     ]
    }
   ],
   "source": [
    "# Modifying attributes using setter methods\n",
    "person_instance.set_name(\"Ali\")\n",
    "print(person_instance.get_name())"
   ]
  },
  {
   "cell_type": "code",
   "execution_count": 15,
   "id": "6ae4d074",
   "metadata": {},
   "outputs": [],
   "source": [
    "person_instance.set_age(23)"
   ]
  },
  {
   "cell_type": "code",
   "execution_count": 17,
   "id": "24c074d1",
   "metadata": {},
   "outputs": [
    {
     "name": "stdout",
     "output_type": "stream",
     "text": [
      "23\n"
     ]
    }
   ],
   "source": [
    "print(person_instance.get_age())"
   ]
  },
  {
   "cell_type": "code",
   "execution_count": 18,
   "id": "b7db55fd",
   "metadata": {},
   "outputs": [
    {
     "data": {
      "text/plain": [
       "['__class__',\n",
       " '__delattr__',\n",
       " '__dict__',\n",
       " '__dir__',\n",
       " '__doc__',\n",
       " '__eq__',\n",
       " '__format__',\n",
       " '__ge__',\n",
       " '__getattribute__',\n",
       " '__gt__',\n",
       " '__hash__',\n",
       " '__init__',\n",
       " '__init_subclass__',\n",
       " '__le__',\n",
       " '__lt__',\n",
       " '__module__',\n",
       " '__ne__',\n",
       " '__new__',\n",
       " '__reduce__',\n",
       " '__reduce_ex__',\n",
       " '__repr__',\n",
       " '__setattr__',\n",
       " '__sizeof__',\n",
       " '__str__',\n",
       " '__subclasshook__',\n",
       " '__weakref__',\n",
       " '_age',\n",
       " '_name',\n",
       " 'get_age',\n",
       " 'get_name',\n",
       " 'set_age',\n",
       " 'set_name']"
      ]
     },
     "execution_count": 18,
     "metadata": {},
     "output_type": "execute_result"
    }
   ],
   "source": [
    "dir(person_instance)"
   ]
  },
  {
   "cell_type": "code",
   "execution_count": null,
   "id": "7072bec4",
   "metadata": {},
   "outputs": [],
   "source": []
  }
 ],
 "metadata": {
  "kernelspec": {
   "display_name": "Python 3 (ipykernel)",
   "language": "python",
   "name": "python3"
  },
  "language_info": {
   "codemirror_mode": {
    "name": "ipython",
    "version": 3
   },
   "file_extension": ".py",
   "mimetype": "text/x-python",
   "name": "python",
   "nbconvert_exporter": "python",
   "pygments_lexer": "ipython3",
   "version": "3.9.12"
  }
 },
 "nbformat": 4,
 "nbformat_minor": 5
}
