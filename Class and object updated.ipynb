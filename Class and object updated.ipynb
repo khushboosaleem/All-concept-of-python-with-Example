{
 "cells": [
  {
   "cell_type": "markdown",
   "id": "26222685",
   "metadata": {},
   "source": [
    "# Procedural Programming"
   ]
  },
  {
   "cell_type": "code",
   "execution_count": 1,
   "id": "de7f593e",
   "metadata": {},
   "outputs": [
    {
     "name": "stdout",
     "output_type": "stream",
     "text": [
      "0\n",
      "1\n",
      "2\n",
      "3\n",
      "4\n",
      "5\n",
      "6\n",
      "7\n",
      "8\n",
      "9\n"
     ]
    }
   ],
   "source": [
    "for i in range(10):\n",
    "    print(i)"
   ]
  },
  {
   "cell_type": "markdown",
   "id": "382b433d",
   "metadata": {},
   "source": [
    "# Object Oriented Programming (oop)"
   ]
  },
  {
   "cell_type": "markdown",
   "id": "eed49441",
   "metadata": {},
   "source": [
    "* Object - Variable\n",
    "* Class - Type\n",
    "* Method\n",
    "* Attribute\n"
   ]
  },
  {
   "cell_type": "code",
   "execution_count": 2,
   "id": "ffb6e2cf",
   "metadata": {},
   "outputs": [],
   "source": [
    "learn = \"we are learning python\"  "
   ]
  },
  {
   "cell_type": "code",
   "execution_count": 3,
   "id": "cd26caff",
   "metadata": {},
   "outputs": [],
   "source": [
    "# name = ali() # object   "
   ]
  },
  {
   "cell_type": "code",
   "execution_count": 4,
   "id": "b4a0056a",
   "metadata": {},
   "outputs": [
    {
     "data": {
      "text/plain": [
       "str"
      ]
     },
     "execution_count": 4,
     "metadata": {},
     "output_type": "execute_result"
    }
   ],
   "source": [
    "# Check learn belongs to which class \n",
    "type(learn)"
   ]
  },
  {
   "cell_type": "code",
   "execution_count": 5,
   "id": "2c8d0e27",
   "metadata": {},
   "outputs": [
    {
     "name": "stdout",
     "output_type": "stream",
     "text": [
      "<class 'str'>\n"
     ]
    }
   ],
   "source": [
    "# Check learn belongs to which class \n",
    "print(type(learn))"
   ]
  },
  {
   "cell_type": "code",
   "execution_count": 6,
   "id": "6807ec91",
   "metadata": {},
   "outputs": [
    {
     "data": {
      "text/plain": [
       "['__add__',\n",
       " '__class__',\n",
       " '__contains__',\n",
       " '__delattr__',\n",
       " '__dir__',\n",
       " '__doc__',\n",
       " '__eq__',\n",
       " '__format__',\n",
       " '__ge__',\n",
       " '__getattribute__',\n",
       " '__getitem__',\n",
       " '__getnewargs__',\n",
       " '__gt__',\n",
       " '__hash__',\n",
       " '__init__',\n",
       " '__init_subclass__',\n",
       " '__iter__',\n",
       " '__le__',\n",
       " '__len__',\n",
       " '__lt__',\n",
       " '__mod__',\n",
       " '__mul__',\n",
       " '__ne__',\n",
       " '__new__',\n",
       " '__reduce__',\n",
       " '__reduce_ex__',\n",
       " '__repr__',\n",
       " '__rmod__',\n",
       " '__rmul__',\n",
       " '__setattr__',\n",
       " '__sizeof__',\n",
       " '__str__',\n",
       " '__subclasshook__',\n",
       " 'capitalize',\n",
       " 'casefold',\n",
       " 'center',\n",
       " 'count',\n",
       " 'encode',\n",
       " 'endswith',\n",
       " 'expandtabs',\n",
       " 'find',\n",
       " 'format',\n",
       " 'format_map',\n",
       " 'index',\n",
       " 'isalnum',\n",
       " 'isalpha',\n",
       " 'isascii',\n",
       " 'isdecimal',\n",
       " 'isdigit',\n",
       " 'isidentifier',\n",
       " 'islower',\n",
       " 'isnumeric',\n",
       " 'isprintable',\n",
       " 'isspace',\n",
       " 'istitle',\n",
       " 'isupper',\n",
       " 'join',\n",
       " 'ljust',\n",
       " 'lower',\n",
       " 'lstrip',\n",
       " 'maketrans',\n",
       " 'partition',\n",
       " 'removeprefix',\n",
       " 'removesuffix',\n",
       " 'replace',\n",
       " 'rfind',\n",
       " 'rindex',\n",
       " 'rjust',\n",
       " 'rpartition',\n",
       " 'rsplit',\n",
       " 'rstrip',\n",
       " 'split',\n",
       " 'splitlines',\n",
       " 'startswith',\n",
       " 'strip',\n",
       " 'swapcase',\n",
       " 'title',\n",
       " 'translate',\n",
       " 'upper',\n",
       " 'zfill']"
      ]
     },
     "execution_count": 6,
     "metadata": {},
     "output_type": "execute_result"
    }
   ],
   "source": [
    "dir(str)"
   ]
  },
  {
   "cell_type": "code",
   "execution_count": 7,
   "id": "8c47aae8",
   "metadata": {},
   "outputs": [
    {
     "name": "stdout",
     "output_type": "stream",
     "text": [
      "<class 'list'>\n"
     ]
    }
   ],
   "source": [
    "l = [1,2,3]\n",
    "print(type(l))"
   ]
  },
  {
   "cell_type": "code",
   "execution_count": 8,
   "id": "84053031",
   "metadata": {},
   "outputs": [],
   "source": [
    "# Create fun by using Snake case like_this\n",
    "def add(a,b):   \n",
    "    return a+b"
   ]
  },
  {
   "cell_type": "code",
   "execution_count": 9,
   "id": "cb5e194d",
   "metadata": {},
   "outputs": [
    {
     "data": {
      "text/plain": [
       "7"
      ]
     },
     "execution_count": 9,
     "metadata": {},
     "output_type": "execute_result"
    }
   ],
   "source": [
    "add(3,4)"
   ]
  },
  {
   "cell_type": "code",
   "execution_count": 10,
   "id": "0666f61c",
   "metadata": {},
   "outputs": [],
   "source": [
    "# class Elephant:\n"
   ]
  },
  {
   "cell_type": "code",
   "execution_count": 11,
   "id": "b354767f",
   "metadata": {},
   "outputs": [],
   "source": [
    "# Create class by using Camel case likeThis\n",
    "class Elephant: \n",
    "    pass # Method & attribute"
   ]
  },
  {
   "cell_type": "code",
   "execution_count": 12,
   "id": "834d30fc",
   "metadata": {},
   "outputs": [],
   "source": [
    "string_1 = \"This is the first string\" # instance belongs to (str) class\n",
    "integer = 123  # this instance belongs to (int) class"
   ]
  },
  {
   "cell_type": "code",
   "execution_count": 13,
   "id": "7550aeb2",
   "metadata": {},
   "outputs": [],
   "source": [
    "bubble = Elephant() # Creating Instance"
   ]
  },
  {
   "cell_type": "code",
   "execution_count": 14,
   "id": "952df81b",
   "metadata": {},
   "outputs": [],
   "source": [
    "luna = Elephant()  # Var and object"
   ]
  },
  {
   "cell_type": "code",
   "execution_count": 15,
   "id": "1972302a",
   "metadata": {},
   "outputs": [
    {
     "name": "stdout",
     "output_type": "stream",
     "text": [
      "<class '__main__.Elephant'>\n"
     ]
    }
   ],
   "source": [
    "print(type(bubble))"
   ]
  },
  {
   "cell_type": "code",
   "execution_count": 16,
   "id": "65adb372",
   "metadata": {},
   "outputs": [],
   "source": [
    "class Elephant:\n",
    "    def trumpet():   # method\n",
    "        return \"Toot toot\""
   ]
  },
  {
   "cell_type": "code",
   "execution_count": 17,
   "id": "9a69e8ca",
   "metadata": {},
   "outputs": [],
   "source": [
    "bubble = Elephant()"
   ]
  },
  {
   "cell_type": "code",
   "execution_count": 18,
   "id": "3524cc63",
   "metadata": {},
   "outputs": [
    {
     "ename": "TypeError",
     "evalue": "trumpet() takes 0 positional arguments but 1 was given",
     "output_type": "error",
     "traceback": [
      "\u001b[1;31m---------------------------------------------------------------------------\u001b[0m",
      "\u001b[1;31mTypeError\u001b[0m                                 Traceback (most recent call last)",
      "Input \u001b[1;32mIn [18]\u001b[0m, in \u001b[0;36m<cell line: 1>\u001b[1;34m()\u001b[0m\n\u001b[1;32m----> 1\u001b[0m \u001b[43mbubble\u001b[49m\u001b[38;5;241;43m.\u001b[39;49m\u001b[43mtrumpet\u001b[49m\u001b[43m(\u001b[49m\u001b[43m)\u001b[49m\n",
      "\u001b[1;31mTypeError\u001b[0m: trumpet() takes 0 positional arguments but 1 was given"
     ]
    }
   ],
   "source": [
    "bubble.trumpet()"
   ]
  },
  {
   "cell_type": "code",
   "execution_count": 19,
   "id": "a94434af",
   "metadata": {},
   "outputs": [
    {
     "ename": "TypeError",
     "evalue": "trumpet() takes 0 positional arguments but 1 was given",
     "output_type": "error",
     "traceback": [
      "\u001b[1;31m---------------------------------------------------------------------------\u001b[0m",
      "\u001b[1;31mTypeError\u001b[0m                                 Traceback (most recent call last)",
      "Input \u001b[1;32mIn [19]\u001b[0m, in \u001b[0;36m<cell line: 1>\u001b[1;34m()\u001b[0m\n\u001b[1;32m----> 1\u001b[0m \u001b[43mElephant\u001b[49m\u001b[38;5;241;43m.\u001b[39;49m\u001b[43mtrumpet\u001b[49m\u001b[43m(\u001b[49m\u001b[43mbubble\u001b[49m\u001b[43m)\u001b[49m\n",
      "\u001b[1;31mTypeError\u001b[0m: trumpet() takes 0 positional arguments but 1 was given"
     ]
    }
   ],
   "source": [
    "Elephant.trumpet(bubble)"
   ]
  },
  {
   "cell_type": "code",
   "execution_count": 20,
   "id": "cee53e9b",
   "metadata": {},
   "outputs": [],
   "source": [
    "class Elephant:\n",
    "    def trumpet(self):   # method\n",
    "        return \"Toot toot\""
   ]
  },
  {
   "cell_type": "code",
   "execution_count": 21,
   "id": "7ccd53dc",
   "metadata": {},
   "outputs": [
    {
     "data": {
      "text/plain": [
       "'Toot toot'"
      ]
     },
     "execution_count": 21,
     "metadata": {},
     "output_type": "execute_result"
    }
   ],
   "source": [
    "\n",
    "bubble = Elephant()\n",
    "bubble.trumpet()"
   ]
  },
  {
   "cell_type": "code",
   "execution_count": 22,
   "id": "63fc83d2",
   "metadata": {},
   "outputs": [
    {
     "data": {
      "text/plain": [
       "'ali'"
      ]
     },
     "execution_count": 22,
     "metadata": {},
     "output_type": "execute_result"
    }
   ],
   "source": [
    "name = \"Ali\"\n",
    "name.lower()"
   ]
  },
  {
   "cell_type": "code",
   "execution_count": 23,
   "id": "01fd070f",
   "metadata": {},
   "outputs": [
    {
     "data": {
      "text/plain": [
       "'ali'"
      ]
     },
     "execution_count": 23,
     "metadata": {},
     "output_type": "execute_result"
    }
   ],
   "source": [
    "str.lower(name)"
   ]
  },
  {
   "cell_type": "code",
   "execution_count": 24,
   "id": "5afaeb22",
   "metadata": {},
   "outputs": [],
   "source": [
    "class lion:\n",
    "    def move(self):\n",
    "        return \"Lion is moving\""
   ]
  },
  {
   "cell_type": "code",
   "execution_count": 25,
   "id": "562f1851",
   "metadata": {},
   "outputs": [],
   "source": [
    "leo = lion()"
   ]
  },
  {
   "cell_type": "code",
   "execution_count": 26,
   "id": "b0c5e59e",
   "metadata": {},
   "outputs": [
    {
     "data": {
      "text/plain": [
       "'Lion is moving'"
      ]
     },
     "execution_count": 26,
     "metadata": {},
     "output_type": "execute_result"
    }
   ],
   "source": [
    "leo.move()"
   ]
  },
  {
   "cell_type": "code",
   "execution_count": 27,
   "id": "1cbff5ef",
   "metadata": {},
   "outputs": [
    {
     "data": {
      "text/plain": [
       "'Lion is moving'"
      ]
     },
     "execution_count": 27,
     "metadata": {},
     "output_type": "execute_result"
    }
   ],
   "source": [
    "lion.move(leo)"
   ]
  },
  {
   "cell_type": "code",
   "execution_count": 28,
   "id": "5aec5dc1",
   "metadata": {},
   "outputs": [],
   "source": [
    "class Ayaan:\n",
    "    def study(self):\n",
    "        return \"Ayaan is learning python\""
   ]
  },
  {
   "cell_type": "code",
   "execution_count": 29,
   "id": "5523fd5e",
   "metadata": {},
   "outputs": [],
   "source": [
    "name = Ayaan()"
   ]
  },
  {
   "cell_type": "code",
   "execution_count": 30,
   "id": "675254f6",
   "metadata": {},
   "outputs": [
    {
     "data": {
      "text/plain": [
       "'Ayaan is learning python'"
      ]
     },
     "execution_count": 30,
     "metadata": {},
     "output_type": "execute_result"
    }
   ],
   "source": [
    "name.study()"
   ]
  },
  {
   "cell_type": "code",
   "execution_count": 31,
   "id": "280b8283",
   "metadata": {},
   "outputs": [
    {
     "data": {
      "text/plain": [
       "'Ayaan is learning python'"
      ]
     },
     "execution_count": 31,
     "metadata": {},
     "output_type": "execute_result"
    }
   ],
   "source": [
    "Ayaan.study(name)"
   ]
  },
  {
   "cell_type": "raw",
   "id": "59b36834",
   "metadata": {},
   "source": [
    "----------------------------------------------------------------"
   ]
  },
  {
   "cell_type": "code",
   "execution_count": 32,
   "id": "e42a1bb1",
   "metadata": {},
   "outputs": [],
   "source": [
    "class Elephant:\n",
    "    def trumpet(self):   # method\n",
    "        return \"Toot toot\"\n",
    "    def memory(self, memory_list):\n",
    "        return memory_list"
   ]
  },
  {
   "cell_type": "code",
   "execution_count": 33,
   "id": "6561ff0f",
   "metadata": {},
   "outputs": [
    {
     "data": {
      "text/plain": [
       "['Ayan', 'Khus']"
      ]
     },
     "execution_count": 33,
     "metadata": {},
     "output_type": "execute_result"
    }
   ],
   "source": [
    "bubble = Elephant()  # instance\n",
    "bubble.memory([\"Ayan\",\"Khus\"])"
   ]
  },
  {
   "cell_type": "code",
   "execution_count": 34,
   "id": "05da1618",
   "metadata": {},
   "outputs": [
    {
     "data": {
      "text/plain": [
       "'Toot toot'"
      ]
     },
     "execution_count": 34,
     "metadata": {},
     "output_type": "execute_result"
    }
   ],
   "source": [
    "bubble.trumpet()"
   ]
  },
  {
   "cell_type": "code",
   "execution_count": 35,
   "id": "282d512b",
   "metadata": {},
   "outputs": [],
   "source": [
    "# Store data to make the constructor\n",
    "# jab bhi ap object bnain gy automatic call hojay ga\n",
    "\n",
    "class Lion:\n",
    "    def __init__(self,age): # dunder method # constructor # __init__ mean(intializer)\n",
    "        self.age = age\n",
    "\n",
    "        "
   ]
  },
  {
   "cell_type": "code",
   "execution_count": 36,
   "id": "a480eb42",
   "metadata": {},
   "outputs": [
    {
     "ename": "TypeError",
     "evalue": "__init__() missing 1 required positional argument: 'age'",
     "output_type": "error",
     "traceback": [
      "\u001b[1;31m---------------------------------------------------------------------------\u001b[0m",
      "\u001b[1;31mTypeError\u001b[0m                                 Traceback (most recent call last)",
      "Input \u001b[1;32mIn [36]\u001b[0m, in \u001b[0;36m<cell line: 1>\u001b[1;34m()\u001b[0m\n\u001b[1;32m----> 1\u001b[0m leo \u001b[38;5;241m=\u001b[39m \u001b[43mLion\u001b[49m\u001b[43m(\u001b[49m\u001b[43m)\u001b[49m\n",
      "\u001b[1;31mTypeError\u001b[0m: __init__() missing 1 required positional argument: 'age'"
     ]
    }
   ],
   "source": [
    "leo = Lion()"
   ]
  },
  {
   "cell_type": "code",
   "execution_count": 37,
   "id": "92c6f045",
   "metadata": {},
   "outputs": [],
   "source": [
    "leo = Lion(5)"
   ]
  },
  {
   "cell_type": "code",
   "execution_count": 38,
   "id": "84fca237",
   "metadata": {},
   "outputs": [
    {
     "data": {
      "text/plain": [
       "5"
      ]
     },
     "execution_count": 38,
     "metadata": {},
     "output_type": "execute_result"
    }
   ],
   "source": [
    "leo.age  # attribute"
   ]
  },
  {
   "cell_type": "code",
   "execution_count": 39,
   "id": "8cda8d21",
   "metadata": {},
   "outputs": [],
   "source": [
    "lia = Lion(6)"
   ]
  },
  {
   "cell_type": "code",
   "execution_count": 40,
   "id": "f132df66",
   "metadata": {},
   "outputs": [
    {
     "data": {
      "text/plain": [
       "6"
      ]
     },
     "execution_count": 40,
     "metadata": {},
     "output_type": "execute_result"
    }
   ],
   "source": [
    "lia.age"
   ]
  },
  {
   "cell_type": "code",
   "execution_count": 41,
   "id": "e95f83f1",
   "metadata": {},
   "outputs": [],
   "source": [
    "class Elephant:\n",
    "    def __init__(self,favourite_food, friendliness):\n",
    "        self.food = favourite_food\n",
    "        self.friendly = friendliness\n",
    "    def trumpet(self):   # method\n",
    "        return \"Toot toot\"\n",
    "    def memory(self, memory_list):\n",
    "        return memory_list"
   ]
  },
  {
   "cell_type": "code",
   "execution_count": 42,
   "id": "fd206672",
   "metadata": {},
   "outputs": [
    {
     "ename": "TypeError",
     "evalue": "__init__() missing 2 required positional arguments: 'favourite_food' and 'friendliness'",
     "output_type": "error",
     "traceback": [
      "\u001b[1;31m---------------------------------------------------------------------------\u001b[0m",
      "\u001b[1;31mTypeError\u001b[0m                                 Traceback (most recent call last)",
      "Input \u001b[1;32mIn [42]\u001b[0m, in \u001b[0;36m<cell line: 1>\u001b[1;34m()\u001b[0m\n\u001b[1;32m----> 1\u001b[0m bubble \u001b[38;5;241m=\u001b[39m \u001b[43mElephant\u001b[49m\u001b[43m(\u001b[49m\n\u001b[0;32m      2\u001b[0m \u001b[43m)\u001b[49m\n",
      "\u001b[1;31mTypeError\u001b[0m: __init__() missing 2 required positional arguments: 'favourite_food' and 'friendliness'"
     ]
    }
   ],
   "source": [
    "bubble = Elephant(\n",
    ")"
   ]
  },
  {
   "cell_type": "code",
   "execution_count": 43,
   "id": "6d4f34a8",
   "metadata": {},
   "outputs": [],
   "source": [
    "bubble = Elephant(\"melon\", 70)"
   ]
  },
  {
   "cell_type": "code",
   "execution_count": 44,
   "id": "91798e6d",
   "metadata": {},
   "outputs": [
    {
     "data": {
      "text/plain": [
       "'melon'"
      ]
     },
     "execution_count": 44,
     "metadata": {},
     "output_type": "execute_result"
    }
   ],
   "source": [
    "bubble.food"
   ]
  },
  {
   "cell_type": "code",
   "execution_count": 45,
   "id": "65356cc3",
   "metadata": {},
   "outputs": [
    {
     "data": {
      "text/plain": [
       "70"
      ]
     },
     "execution_count": 45,
     "metadata": {},
     "output_type": "execute_result"
    }
   ],
   "source": [
    "bubble.friendly"
   ]
  },
  {
   "cell_type": "code",
   "execution_count": 46,
   "id": "b117bcbf",
   "metadata": {},
   "outputs": [
    {
     "ename": "TypeError",
     "evalue": "__init__() missing 2 required positional arguments: 'favourite_food' and 'friendliness'",
     "output_type": "error",
     "traceback": [
      "\u001b[1;31m---------------------------------------------------------------------------\u001b[0m",
      "\u001b[1;31mTypeError\u001b[0m                                 Traceback (most recent call last)",
      "Input \u001b[1;32mIn [46]\u001b[0m, in \u001b[0;36m<cell line: 1>\u001b[1;34m()\u001b[0m\n\u001b[1;32m----> 1\u001b[0m bubble \u001b[38;5;241m=\u001b[39m \u001b[43mElephant\u001b[49m\u001b[43m(\u001b[49m\u001b[43m)\u001b[49m\n\u001b[0;32m      2\u001b[0m bubble\u001b[38;5;241m.\u001b[39mtrumpet()\n",
      "\u001b[1;31mTypeError\u001b[0m: __init__() missing 2 required positional arguments: 'favourite_food' and 'friendliness'"
     ]
    }
   ],
   "source": [
    "bubble = Elephant()\n",
    "bubble.trumpet()"
   ]
  },
  {
   "cell_type": "code",
   "execution_count": 47,
   "id": "c9a6d878",
   "metadata": {},
   "outputs": [
    {
     "data": {
      "text/plain": [
       "'Toot toot'"
      ]
     },
     "execution_count": 47,
     "metadata": {},
     "output_type": "execute_result"
    }
   ],
   "source": [
    "bubble = Elephant(\"melon\", 70)\n",
    "bubble.trumpet()\n"
   ]
  },
  {
   "cell_type": "raw",
   "id": "8f4083bb",
   "metadata": {},
   "source": [
    "---------------------------------------------------------------------"
   ]
  },
  {
   "cell_type": "code",
   "execution_count": 48,
   "id": "98ad88f0",
   "metadata": {},
   "outputs": [],
   "source": [
    "class Elephant:\n",
    "    def __init__(self,favourite_food, friendliness):\n",
    "        self.food = favourite_food\n",
    "        self.friendly = friendliness\n",
    "    def trumpet(self):   # method\n",
    "        return \"Toot toot\"\n",
    "    def memory(self, memory_list):\n",
    "        return memory_list\n",
    "    def improve_friendliness(self, frienliness_boost):\n",
    "        self.friendly += frienliness_boost"
   ]
  },
  {
   "cell_type": "code",
   "execution_count": 49,
   "id": "70f4142e",
   "metadata": {},
   "outputs": [],
   "source": [
    "bubble = Elephant(\"melon\", 70) # Instantiation"
   ]
  },
  {
   "cell_type": "code",
   "execution_count": 50,
   "id": "54a5b2c0",
   "metadata": {},
   "outputs": [
    {
     "data": {
      "text/plain": [
       "70"
      ]
     },
     "execution_count": 50,
     "metadata": {},
     "output_type": "execute_result"
    }
   ],
   "source": [
    "bubble.friendly"
   ]
  },
  {
   "cell_type": "code",
   "execution_count": 51,
   "id": "330f1c5f",
   "metadata": {},
   "outputs": [],
   "source": [
    "bubble.friendly = 65"
   ]
  },
  {
   "cell_type": "code",
   "execution_count": 52,
   "id": "d6710f30",
   "metadata": {},
   "outputs": [
    {
     "data": {
      "text/plain": [
       "65"
      ]
     },
     "execution_count": 52,
     "metadata": {},
     "output_type": "execute_result"
    }
   ],
   "source": [
    "bubble.friendly"
   ]
  },
  {
   "cell_type": "code",
   "execution_count": 53,
   "id": "d5886b43",
   "metadata": {},
   "outputs": [
    {
     "data": {
      "text/plain": [
       "87"
      ]
     },
     "execution_count": 53,
     "metadata": {},
     "output_type": "execute_result"
    }
   ],
   "source": [
    "65+22"
   ]
  },
  {
   "cell_type": "code",
   "execution_count": 54,
   "id": "c89ef7b2",
   "metadata": {},
   "outputs": [],
   "source": [
    "bubble.improve_friendliness(22)"
   ]
  },
  {
   "cell_type": "code",
   "execution_count": 55,
   "id": "835d1138",
   "metadata": {},
   "outputs": [
    {
     "data": {
      "text/plain": [
       "87"
      ]
     },
     "execution_count": 55,
     "metadata": {},
     "output_type": "execute_result"
    }
   ],
   "source": [
    "bubble.friendly"
   ]
  },
  {
   "cell_type": "code",
   "execution_count": 56,
   "id": "b21ddc18",
   "metadata": {},
   "outputs": [],
   "source": [
    "class Elephant:\n",
    "    def __init__(self,favourite_food, friendliness):\n",
    "        self.food = favourite_food\n",
    "        self.friendly = friendliness\n",
    "    def trumpet(self):   # method\n",
    "        return \"Toot toot\"\n",
    "    def memory(self, memory_list):\n",
    "        return memory_list\n",
    "    def improve_friendliness(self, frienliness_boost):\n",
    "        self.friendly += frienliness_boost\n",
    "    def display_friendly(self):\n",
    "        return self.friendly\n",
    "        "
   ]
  },
  {
   "cell_type": "code",
   "execution_count": 57,
   "id": "5d903cf7",
   "metadata": {},
   "outputs": [],
   "source": [
    "bubble = Elephant(\"melon\", 70)"
   ]
  },
  {
   "cell_type": "code",
   "execution_count": 58,
   "id": "719f2ab3",
   "metadata": {},
   "outputs": [
    {
     "data": {
      "text/plain": [
       "70"
      ]
     },
     "execution_count": 58,
     "metadata": {},
     "output_type": "execute_result"
    }
   ],
   "source": [
    "bubble.friendly"
   ]
  },
  {
   "cell_type": "code",
   "execution_count": 59,
   "id": "7a792869",
   "metadata": {},
   "outputs": [
    {
     "data": {
      "text/plain": [
       "70"
      ]
     },
     "execution_count": 59,
     "metadata": {},
     "output_type": "execute_result"
    }
   ],
   "source": [
    "bubble.display_friendly()"
   ]
  },
  {
   "cell_type": "code",
   "execution_count": 60,
   "id": "a56e02e6",
   "metadata": {},
   "outputs": [],
   "source": [
    "class Elephant:\n",
    "    def __init__(self,favourite_food, friendliness):\n",
    "        self.food = favourite_food\n",
    "        self.friendly = friendliness\n",
    "        self.update = 0  # default attribute\n",
    "        \n",
    "    def trumpet(self):   # method\n",
    "        return \"Toot toot\"\n",
    "    def memory(self, memory_list):\n",
    "        return memory_list\n",
    "    def improve_friendliness(self, frienliness_boost):\n",
    "        self.friendly += frienliness_boost\n",
    "        self.update += 1\n",
    "    def display_friendly(self):\n",
    "        return self.friendly"
   ]
  },
  {
   "cell_type": "code",
   "execution_count": 61,
   "id": "29e6f733",
   "metadata": {},
   "outputs": [],
   "source": [
    "dude = Elephant(\"Banana\", 30)"
   ]
  },
  {
   "cell_type": "code",
   "execution_count": 62,
   "id": "c01b997a",
   "metadata": {},
   "outputs": [],
   "source": [
    "dude.improve_friendliness(20)"
   ]
  },
  {
   "cell_type": "code",
   "execution_count": 63,
   "id": "fb063e91",
   "metadata": {},
   "outputs": [
    {
     "data": {
      "text/plain": [
       "50"
      ]
     },
     "execution_count": 63,
     "metadata": {},
     "output_type": "execute_result"
    }
   ],
   "source": [
    "dude.friendly"
   ]
  },
  {
   "cell_type": "code",
   "execution_count": 64,
   "id": "b91a5651",
   "metadata": {},
   "outputs": [
    {
     "data": {
      "text/plain": [
       "1"
      ]
     },
     "execution_count": 64,
     "metadata": {},
     "output_type": "execute_result"
    }
   ],
   "source": [
    "dude.update"
   ]
  },
  {
   "cell_type": "code",
   "execution_count": 65,
   "id": "cdb6a813",
   "metadata": {},
   "outputs": [],
   "source": [
    "dude = Elephant(\"Banana\", 30)"
   ]
  },
  {
   "cell_type": "code",
   "execution_count": 74,
   "id": "1a015d86",
   "metadata": {},
   "outputs": [],
   "source": [
    "dude.improve_friendliness(100)"
   ]
  },
  {
   "cell_type": "code",
   "execution_count": 75,
   "id": "9618a766",
   "metadata": {},
   "outputs": [
    {
     "data": {
      "text/plain": [
       "210"
      ]
     },
     "execution_count": 75,
     "metadata": {},
     "output_type": "execute_result"
    }
   ],
   "source": [
    "dude.friendly"
   ]
  },
  {
   "cell_type": "code",
   "execution_count": 76,
   "id": "8dc77fe4",
   "metadata": {},
   "outputs": [
    {
     "data": {
      "text/plain": [
       "3"
      ]
     },
     "execution_count": 76,
     "metadata": {},
     "output_type": "execute_result"
    }
   ],
   "source": [
    "dude.update"
   ]
  },
  {
   "cell_type": "code",
   "execution_count": 69,
   "id": "92699b9e",
   "metadata": {},
   "outputs": [
    {
     "data": {
      "text/plain": [
       "['__class__',\n",
       " '__delattr__',\n",
       " '__dict__',\n",
       " '__dir__',\n",
       " '__doc__',\n",
       " '__eq__',\n",
       " '__format__',\n",
       " '__ge__',\n",
       " '__getattribute__',\n",
       " '__gt__',\n",
       " '__hash__',\n",
       " '__init__',\n",
       " '__init_subclass__',\n",
       " '__le__',\n",
       " '__lt__',\n",
       " '__module__',\n",
       " '__ne__',\n",
       " '__new__',\n",
       " '__reduce__',\n",
       " '__reduce_ex__',\n",
       " '__repr__',\n",
       " '__setattr__',\n",
       " '__sizeof__',\n",
       " '__str__',\n",
       " '__subclasshook__',\n",
       " '__weakref__',\n",
       " 'display_friendly',\n",
       " 'improve_friendliness',\n",
       " 'memory',\n",
       " 'trumpet']"
      ]
     },
     "execution_count": 69,
     "metadata": {},
     "output_type": "execute_result"
    }
   ],
   "source": [
    "dir(Elephant)"
   ]
  },
  {
   "cell_type": "code",
   "execution_count": 77,
   "id": "3c64fa6f",
   "metadata": {
    "scrolled": true
   },
   "outputs": [
    {
     "data": {
      "text/plain": [
       "['__class__',\n",
       " '__delattr__',\n",
       " '__dict__',\n",
       " '__dir__',\n",
       " '__doc__',\n",
       " '__eq__',\n",
       " '__format__',\n",
       " '__ge__',\n",
       " '__getattribute__',\n",
       " '__gt__',\n",
       " '__hash__',\n",
       " '__init__',\n",
       " '__init_subclass__',\n",
       " '__le__',\n",
       " '__lt__',\n",
       " '__module__',\n",
       " '__ne__',\n",
       " '__new__',\n",
       " '__reduce__',\n",
       " '__reduce_ex__',\n",
       " '__repr__',\n",
       " '__setattr__',\n",
       " '__sizeof__',\n",
       " '__str__',\n",
       " '__subclasshook__',\n",
       " '__weakref__',\n",
       " 'display_friendly',\n",
       " 'food',\n",
       " 'friendly',\n",
       " 'improve_friendliness',\n",
       " 'memory',\n",
       " 'trumpet',\n",
       " 'update']"
      ]
     },
     "execution_count": 77,
     "metadata": {},
     "output_type": "execute_result"
    }
   ],
   "source": [
    "dir(dude)"
   ]
  },
  {
   "cell_type": "code",
   "execution_count": null,
   "id": "e85a607b",
   "metadata": {},
   "outputs": [],
   "source": []
  }
 ],
 "metadata": {
  "kernelspec": {
   "display_name": "Python 3 (ipykernel)",
   "language": "python",
   "name": "python3"
  },
  "language_info": {
   "codemirror_mode": {
    "name": "ipython",
    "version": 3
   },
   "file_extension": ".py",
   "mimetype": "text/x-python",
   "name": "python",
   "nbconvert_exporter": "python",
   "pygments_lexer": "ipython3",
   "version": "3.9.12"
  }
 },
 "nbformat": 4,
 "nbformat_minor": 5
}
