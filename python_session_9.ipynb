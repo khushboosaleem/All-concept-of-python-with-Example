{
 "cells": [
  {
   "cell_type": "markdown",
   "metadata": {
    "id": "gmfQWJ27W4jM"
   },
   "source": [
    "# **if elif else condition**"
   ]
  },
  {
   "cell_type": "code",
   "execution_count": 4,
   "metadata": {
    "colab": {
     "base_uri": "https://localhost:8080/"
    },
    "id": "lHEiITZCWhWd",
    "outputId": "de90bf0c-434f-47d1-f5d1-875cf4aa9022"
   },
   "outputs": [
    {
     "name": "stdout",
     "output_type": "stream",
     "text": [
      "this condition is not correct\n"
     ]
    }
   ],
   "source": [
    "a = 3\n",
    "b = 10\n",
    "\n",
    "if a > b:\n",
    "  print(\"a is greator than b\")\n",
    "else:\n",
    "  print(\"this condition is not correct\")\n",
    "\n"
   ]
  },
  {
   "cell_type": "code",
   "execution_count": 5,
   "metadata": {
    "colab": {
     "base_uri": "https://localhost:8080/",
     "height": 141
    },
    "id": "6O6LfUc6XD9N",
    "outputId": "474f961a-80cb-4e32-985f-5cf0713d4aeb"
   },
   "outputs": [
    {
     "ename": "IndentationError",
     "evalue": "ignored",
     "output_type": "error",
     "traceback": [
      "\u001b[0;36m  File \u001b[0;32m\"<ipython-input-5-7b9bea3745cf>\"\u001b[0;36m, line \u001b[0;32m5\u001b[0m\n\u001b[0;31m    print(\"a is greator than b\")\u001b[0m\n\u001b[0m    ^\u001b[0m\n\u001b[0;31mIndentationError\u001b[0m\u001b[0;31m:\u001b[0m expected an indented block after 'if' statement on line 4\n"
     ]
    }
   ],
   "source": [
    "a = 3\n",
    "b = 10\n",
    "\n",
    "if a > b:\n",
    "print(\"a is greator than b\")\n",
    "else:\n",
    "print(\"this condition is not correct\")"
   ]
  },
  {
   "cell_type": "code",
   "execution_count": 6,
   "metadata": {
    "colab": {
     "base_uri": "https://localhost:8080/"
    },
    "id": "gzocy_mBXKJD",
    "outputId": "208f08f1-c6f3-4fcf-c8d8-fa888fdee5c9"
   },
   "outputs": [
    {
     "name": "stdout",
     "output_type": "stream",
     "text": [
      "a is less than b\n"
     ]
    }
   ],
   "source": [
    "a = 3\n",
    "b = 10\n",
    "\n",
    "if a > b:\n",
    "  print(\"a is greator than b\")\n",
    "elif a == b:\n",
    "  print(\"a is equal to b\")\n",
    "elif a < b:\n",
    "  print(\"a is less than b\")\n",
    "else:\n",
    "  print(\"this condition is not correct\")"
   ]
  },
  {
   "cell_type": "code",
   "execution_count": 7,
   "metadata": {
    "colab": {
     "base_uri": "https://localhost:8080/"
    },
    "id": "PxN365pefgp4",
    "outputId": "3b0f2699-9298-4e03-9563-4ff3456dcc86"
   },
   "outputs": [
    {
     "name": "stdout",
     "output_type": "stream",
     "text": [
      "a is equal to b\n"
     ]
    }
   ],
   "source": [
    "a = 10\n",
    "b = 10\n",
    "\n",
    "if a > b:\n",
    "  print(\"a is greator than b\")\n",
    "elif a == b:\n",
    "  print(\"a is equal to b\")\n",
    "elif a < b:\n",
    "  print(\"a is less than b\")\n",
    "else:\n",
    "  print(\"this condition is not correct\")"
   ]
  },
  {
   "cell_type": "code",
   "execution_count": 8,
   "metadata": {
    "colab": {
     "base_uri": "https://localhost:8080/"
    },
    "id": "9V65OVW1fuZK",
    "outputId": "697d0489-4193-4503-9a79-894dbe4a9d53"
   },
   "outputs": [
    {
     "name": "stdout",
     "output_type": "stream",
     "text": [
      "a is greator than b\n"
     ]
    }
   ],
   "source": [
    "a = 20\n",
    "b = 10\n",
    "\n",
    "if a > b:\n",
    "  print(\"a is greator than b\")\n",
    "elif a == b:\n",
    "  print(\"a is equal to b\")\n",
    "elif a < b:\n",
    "  print(\"a is less than b\")\n",
    "else:\n",
    "  print(\"this condition is not correct\")"
   ]
  },
  {
   "cell_type": "code",
   "execution_count": 9,
   "metadata": {
    "colab": {
     "base_uri": "https://localhost:8080/"
    },
    "id": "cdxjTyjGfxuq",
    "outputId": "6086f1b3-f9a7-4979-8548-ecb9a91a1d1b"
   },
   "outputs": [
    {
     "name": "stdout",
     "output_type": "stream",
     "text": [
      "a is greator than b\n"
     ]
    }
   ],
   "source": [
    "a = 20\n",
    "b = 10\n",
    "\n",
    "if a > b and b < a:\n",
    "  print(\"a is greator than b\")\n",
    "elif a == b:\n",
    "  print(\"a is equal to b\")\n",
    "elif a < b:\n",
    "  print(\"a is less than b\")\n",
    "else:\n",
    "  print(\"this condition is not correct\")"
   ]
  },
  {
   "cell_type": "code",
   "execution_count": 10,
   "metadata": {
    "colab": {
     "base_uri": "https://localhost:8080/"
    },
    "id": "hIhPRaZdhLCD",
    "outputId": "1391f60f-69ec-45b8-d237-05fee23695fb"
   },
   "outputs": [
    {
     "name": "stdout",
     "output_type": "stream",
     "text": [
      "this condition is not correct\n"
     ]
    }
   ],
   "source": [
    "a = 20\n",
    "b = 10\n",
    "\n",
    "if a > b and b > a:\n",
    "  print(\"a is greator than b\")\n",
    "elif a == b:\n",
    "  print(\"a is equal to b\")\n",
    "elif a < b:\n",
    "  print(\"a is less than b\")\n",
    "else:\n",
    "  print(\"this condition is not correct\")"
   ]
  },
  {
   "cell_type": "code",
   "execution_count": 12,
   "metadata": {
    "colab": {
     "base_uri": "https://localhost:8080/"
    },
    "id": "R5Zm8RcUhU45",
    "outputId": "0ea52ae7-cdcb-4ec1-9dce-e4076f7f22ff"
   },
   "outputs": [
    {
     "name": "stdout",
     "output_type": "stream",
     "text": [
      "a is equal to b\n"
     ]
    }
   ],
   "source": [
    "a = 20\n",
    "b = 20\n",
    "\n",
    "if a > b and b < a:\n",
    "  print(\"a is greator than b\")\n",
    "elif a == b or a != b:\n",
    "  print(\"a is equal to b\")\n",
    "elif a < b:\n",
    "  print(\"a is less than b\")\n",
    "else:\n",
    "  print(\"this condition is not correct\")"
   ]
  },
  {
   "cell_type": "code",
   "execution_count": 13,
   "metadata": {
    "colab": {
     "base_uri": "https://localhost:8080/"
    },
    "id": "kXuTR15Dh5OC",
    "outputId": "0cad1caf-bc03-4b9c-883b-d400c35900f3"
   },
   "outputs": [
    {
     "name": "stdout",
     "output_type": "stream",
     "text": [
      "SORRY ! YOU ARE NOT ALLOWED. BYE !\n"
     ]
    }
   ],
   "source": [
    "age = 18\n",
    "\n",
    "if ((age>= 8) and (age<= 12)):\n",
    "    print(\"YOU ARE ALLOWED. WELCOME !\")\n",
    "else:\n",
    "    print(\"SORRY ! YOU ARE NOT ALLOWED. BYE !\")"
   ]
  },
  {
   "cell_type": "code",
   "execution_count": 14,
   "metadata": {
    "colab": {
     "base_uri": "https://localhost:8080/"
    },
    "id": "h5ftlG5GiYxM",
    "outputId": "b2275252-046c-4fc4-dd99-68a8f37fab37"
   },
   "outputs": [
    {
     "name": "stdout",
     "output_type": "stream",
     "text": [
      "YOU ARE ALLOWED. WELCOME !\n"
     ]
    }
   ],
   "source": [
    "age = 18\n",
    "\n",
    "if ((age>= 8) or (age<= 12)):\n",
    "    print(\"YOU ARE ALLOWED. WELCOME !\")\n",
    "else:\n",
    "    print(\"SORRY ! YOU ARE NOT ALLOWED. BYE !\")"
   ]
  },
  {
   "cell_type": "code",
   "execution_count": null,
   "metadata": {
    "id": "nUv23l1VjD4g"
   },
   "outputs": [],
   "source": []
  }
 ],
 "metadata": {
  "colab": {
   "provenance": []
  },
  "kernelspec": {
   "display_name": "Python 3 (ipykernel)",
   "language": "python",
   "name": "python3"
  },
  "language_info": {
   "codemirror_mode": {
    "name": "ipython",
    "version": 3
   },
   "file_extension": ".py",
   "mimetype": "text/x-python",
   "name": "python",
   "nbconvert_exporter": "python",
   "pygments_lexer": "ipython3",
   "version": "3.9.12"
  }
 },
 "nbformat": 4,
 "nbformat_minor": 1
}
