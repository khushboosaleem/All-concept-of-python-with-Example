{
  "nbformat": 4,
  "nbformat_minor": 0,
  "metadata": {
    "colab": {
      "provenance": []
    },
    "kernelspec": {
      "name": "python3",
      "display_name": "Python 3"
    },
    "language_info": {
      "name": "python"
    }
  },
  "cells": [
    {
      "cell_type": "markdown",
      "source": [
        "# **Python Sets**\n",
        "# **Access python Sets**\n",
        "# **Add python Sets**\n",
        "# **Update python sets**\n",
        "# **remove python Sets**\n",
        "# **Method python Sets**"
      ],
      "metadata": {
        "id": "mhrIqxJ8QrWK"
      }
    },
    {
      "cell_type": "code",
      "execution_count": 1,
      "metadata": {
        "id": "HlvAQHOVMKXz"
      },
      "outputs": [],
      "source": [
        "# A = {1,2,3,4,5}\n",
        "# B = {2,5,6,7}\n",
        "\n",
        "# AUB = ?   {1,2,3,4,5}U{2,5,6,7} ------->    {1,2,3,4,5,6,7}\n",
        "# A∩B = ?   {1,2,3,4,5}∩{2,5,6,7} ------->    {2,5}\n"
      ]
    },
    {
      "cell_type": "markdown",
      "source": [
        "# **Python Sets**"
      ],
      "metadata": {
        "id": "SGxyr_Zcjf-7"
      }
    },
    {
      "cell_type": "code",
      "source": [
        "fruits = {\"Banana\", \"Apple\", \"Mango\", \"Apricot\", \"Apple\", \"Mango\"}\n",
        "fruits"
      ],
      "metadata": {
        "id": "K1iT5319Rqh9",
        "colab": {
          "base_uri": "https://localhost:8080/"
        },
        "outputId": "ad57267b-7a92-4465-cace-0d56f0d13eb0"
      },
      "execution_count": 2,
      "outputs": [
        {
          "output_type": "execute_result",
          "data": {
            "text/plain": [
              "{'Apple', 'Apricot', 'Banana', 'Mango'}"
            ]
          },
          "metadata": {},
          "execution_count": 2
        }
      ]
    },
    {
      "cell_type": "code",
      "source": [
        "type(fruits)"
      ],
      "metadata": {
        "colab": {
          "base_uri": "https://localhost:8080/"
        },
        "id": "b0Cz27EekHRZ",
        "outputId": "19631111-319a-4b8f-c18f-e0c58fcad17f"
      },
      "execution_count": 3,
      "outputs": [
        {
          "output_type": "execute_result",
          "data": {
            "text/plain": [
              "set"
            ]
          },
          "metadata": {},
          "execution_count": 3
        }
      ]
    },
    {
      "cell_type": "code",
      "source": [
        "inte = {1,2,3,3,3,3,4,4,4,5,555}\n",
        "inte"
      ],
      "metadata": {
        "colab": {
          "base_uri": "https://localhost:8080/"
        },
        "id": "vM23WdvMlJV0",
        "outputId": "8243ac3c-c6ba-40af-ff12-4b82ab7711b6"
      },
      "execution_count": 4,
      "outputs": [
        {
          "output_type": "execute_result",
          "data": {
            "text/plain": [
              "{1, 2, 3, 4, 5, 555}"
            ]
          },
          "metadata": {},
          "execution_count": 4
        }
      ]
    },
    {
      "cell_type": "code",
      "source": [
        "# float\n",
        "# boolen\n",
        "# multiple data type\n"
      ],
      "metadata": {
        "id": "DT7BDVnNldpb"
      },
      "execution_count": 5,
      "outputs": []
    },
    {
      "cell_type": "markdown",
      "source": [
        "# **Access python Sets**"
      ],
      "metadata": {
        "id": "5QeVllbelAeA"
      }
    },
    {
      "cell_type": "code",
      "source": [
        "fruits"
      ],
      "metadata": {
        "id": "LK2RUa5dmh97",
        "colab": {
          "base_uri": "https://localhost:8080/"
        },
        "outputId": "1afd61d5-e7d1-46a4-ede0-a5a0ee1824c0"
      },
      "execution_count": 6,
      "outputs": [
        {
          "output_type": "execute_result",
          "data": {
            "text/plain": [
              "{'Apple', 'Apricot', 'Banana', 'Mango'}"
            ]
          },
          "metadata": {},
          "execution_count": 6
        }
      ]
    },
    {
      "cell_type": "code",
      "source": [
        "# loop python set\n",
        "for i in fruits:\n",
        "  print(i)"
      ],
      "metadata": {
        "colab": {
          "base_uri": "https://localhost:8080/"
        },
        "id": "Ix7VZi3elFGL",
        "outputId": "714cdf83-6ca7-4bd4-d4cd-de9d6521d2ca"
      },
      "execution_count": 9,
      "outputs": [
        {
          "output_type": "stream",
          "name": "stdout",
          "text": [
            "Apple\n",
            "Banana\n",
            "Apricot\n",
            "Mango\n"
          ]
        }
      ]
    },
    {
      "cell_type": "code",
      "source": [
        "\"A\" in \"Apple\""
      ],
      "metadata": {
        "colab": {
          "base_uri": "https://localhost:8080/"
        },
        "id": "rEAtk4u4lot-",
        "outputId": "026cc7ec-b290-4def-f961-cd62de71175f"
      },
      "execution_count": 11,
      "outputs": [
        {
          "output_type": "execute_result",
          "data": {
            "text/plain": [
              "True"
            ]
          },
          "metadata": {},
          "execution_count": 11
        }
      ]
    },
    {
      "cell_type": "code",
      "source": [
        "\"Banana\" in fruits\n"
      ],
      "metadata": {
        "colab": {
          "base_uri": "https://localhost:8080/"
        },
        "id": "KUm0jS9wmV7W",
        "outputId": "a3fab659-371c-467d-a67f-5f7d86685d12"
      },
      "execution_count": 12,
      "outputs": [
        {
          "output_type": "execute_result",
          "data": {
            "text/plain": [
              "True"
            ]
          },
          "metadata": {},
          "execution_count": 12
        }
      ]
    },
    {
      "cell_type": "markdown",
      "source": [
        "# **Add python Sets**"
      ],
      "metadata": {
        "id": "TYcz1UVQmz6A"
      }
    },
    {
      "cell_type": "code",
      "source": [
        "fruits.add(\"cherry\")\n",
        "fruits"
      ],
      "metadata": {
        "colab": {
          "base_uri": "https://localhost:8080/"
        },
        "id": "PsJPXiTBmf_D",
        "outputId": "20429714-addb-4ef4-e881-640042b18b0a"
      },
      "execution_count": 13,
      "outputs": [
        {
          "output_type": "execute_result",
          "data": {
            "text/plain": [
              "{'Apple', 'Apricot', 'Banana', 'Mango', 'cherry'}"
            ]
          },
          "metadata": {},
          "execution_count": 13
        }
      ]
    },
    {
      "cell_type": "code",
      "source": [
        "dir(set)"
      ],
      "metadata": {
        "colab": {
          "base_uri": "https://localhost:8080/"
        },
        "id": "AXl6u_cBm7YS",
        "outputId": "5669cc94-8f9c-451c-c393-270f8557d135"
      },
      "execution_count": 14,
      "outputs": [
        {
          "output_type": "execute_result",
          "data": {
            "text/plain": [
              "['__and__',\n",
              " '__class__',\n",
              " '__class_getitem__',\n",
              " '__contains__',\n",
              " '__delattr__',\n",
              " '__dir__',\n",
              " '__doc__',\n",
              " '__eq__',\n",
              " '__format__',\n",
              " '__ge__',\n",
              " '__getattribute__',\n",
              " '__gt__',\n",
              " '__hash__',\n",
              " '__iand__',\n",
              " '__init__',\n",
              " '__init_subclass__',\n",
              " '__ior__',\n",
              " '__isub__',\n",
              " '__iter__',\n",
              " '__ixor__',\n",
              " '__le__',\n",
              " '__len__',\n",
              " '__lt__',\n",
              " '__ne__',\n",
              " '__new__',\n",
              " '__or__',\n",
              " '__rand__',\n",
              " '__reduce__',\n",
              " '__reduce_ex__',\n",
              " '__repr__',\n",
              " '__ror__',\n",
              " '__rsub__',\n",
              " '__rxor__',\n",
              " '__setattr__',\n",
              " '__sizeof__',\n",
              " '__str__',\n",
              " '__sub__',\n",
              " '__subclasshook__',\n",
              " '__xor__',\n",
              " 'add',\n",
              " 'clear',\n",
              " 'copy',\n",
              " 'difference',\n",
              " 'difference_update',\n",
              " 'discard',\n",
              " 'intersection',\n",
              " 'intersection_update',\n",
              " 'isdisjoint',\n",
              " 'issubset',\n",
              " 'issuperset',\n",
              " 'pop',\n",
              " 'remove',\n",
              " 'symmetric_difference',\n",
              " 'symmetric_difference_update',\n",
              " 'union',\n",
              " 'update']"
            ]
          },
          "metadata": {},
          "execution_count": 14
        }
      ]
    },
    {
      "cell_type": "code",
      "source": [
        "prog = {\"Java\", \"Python\", \"Css\",\"C++\", \"Css\"}\n",
        "elec = {\"laptop\", \"Pc\", \"Smart Phone\",\"Ipad\", \"Pc\", \"laptop\"}\n",
        "print(prog)\n",
        "print(elec)\n",
        "\n",
        "\n"
      ],
      "metadata": {
        "colab": {
          "base_uri": "https://localhost:8080/"
        },
        "id": "vXJ6jidDnetX",
        "outputId": "46e0becd-3e60-4950-d5b0-6924c3bbcb9f"
      },
      "execution_count": 16,
      "outputs": [
        {
          "output_type": "stream",
          "name": "stdout",
          "text": [
            "{'Python', 'Css', 'Java', 'C++'}\n",
            "{'Pc', 'Ipad', 'laptop', 'Smart Phone'}\n"
          ]
        }
      ]
    },
    {
      "cell_type": "code",
      "source": [
        "join_set = prog.union(elec)\n",
        "print(join_set)"
      ],
      "metadata": {
        "colab": {
          "base_uri": "https://localhost:8080/"
        },
        "id": "8lNcc22Cof8q",
        "outputId": "1a7f495c-358c-433b-bd0e-3e56eef4cd6b"
      },
      "execution_count": 19,
      "outputs": [
        {
          "output_type": "stream",
          "name": "stdout",
          "text": [
            "{'Ipad', 'Css', 'Java', 'Python', 'laptop', 'C++', 'Smart Phone', 'Pc'}\n"
          ]
        }
      ]
    },
    {
      "cell_type": "code",
      "source": [
        "len(join_set)"
      ],
      "metadata": {
        "colab": {
          "base_uri": "https://localhost:8080/"
        },
        "id": "J3vyWpuFo-Hy",
        "outputId": "c77c262b-6f74-448e-ac8e-04118ff5e5d4"
      },
      "execution_count": 20,
      "outputs": [
        {
          "output_type": "execute_result",
          "data": {
            "text/plain": [
              "8"
            ]
          },
          "metadata": {},
          "execution_count": 20
        }
      ]
    },
    {
      "cell_type": "code",
      "source": [
        "prog"
      ],
      "metadata": {
        "colab": {
          "base_uri": "https://localhost:8080/"
        },
        "id": "cQciHPTRpZ6c",
        "outputId": "d3325e0d-2d89-406f-9437-642946fc99a9"
      },
      "execution_count": 23,
      "outputs": [
        {
          "output_type": "execute_result",
          "data": {
            "text/plain": [
              "{'C++', 'Css', 'Ipad', 'Java', 'Pc', 'Python', 'Smart Phone', 'laptop'}"
            ]
          },
          "metadata": {},
          "execution_count": 23
        }
      ]
    },
    {
      "cell_type": "code",
      "source": [
        "len(prog)"
      ],
      "metadata": {
        "colab": {
          "base_uri": "https://localhost:8080/"
        },
        "id": "ZQiG_Tz3pvtl",
        "outputId": "f886882e-0622-4cfb-e0c4-6682a75a1b8e"
      },
      "execution_count": 24,
      "outputs": [
        {
          "output_type": "execute_result",
          "data": {
            "text/plain": [
              "8"
            ]
          },
          "metadata": {},
          "execution_count": 24
        }
      ]
    },
    {
      "cell_type": "code",
      "source": [
        "len(elec)"
      ],
      "metadata": {
        "colab": {
          "base_uri": "https://localhost:8080/"
        },
        "id": "OnEbo8trp6Ha",
        "outputId": "46c22ccf-fdba-4c23-e272-b78a6239f044"
      },
      "execution_count": 27,
      "outputs": [
        {
          "output_type": "execute_result",
          "data": {
            "text/plain": [
              "4"
            ]
          },
          "metadata": {},
          "execution_count": 27
        }
      ]
    },
    {
      "cell_type": "code",
      "source": [
        "elec"
      ],
      "metadata": {
        "colab": {
          "base_uri": "https://localhost:8080/"
        },
        "id": "Bhk6J-SCqJAk",
        "outputId": "d33abc6e-8ab7-44e4-f7c8-cb21a139eab9"
      },
      "execution_count": 28,
      "outputs": [
        {
          "output_type": "execute_result",
          "data": {
            "text/plain": [
              "{'Ipad', 'Pc', 'Smart Phone', 'laptop'}"
            ]
          },
          "metadata": {},
          "execution_count": 28
        }
      ]
    },
    {
      "cell_type": "code",
      "source": [
        "prog\n"
      ],
      "metadata": {
        "colab": {
          "base_uri": "https://localhost:8080/"
        },
        "id": "ITOWkDcHrh2U",
        "outputId": "2125904f-9510-40b8-af9d-28fe137726b5"
      },
      "execution_count": 29,
      "outputs": [
        {
          "output_type": "execute_result",
          "data": {
            "text/plain": [
              "{'C++', 'Css', 'Ipad', 'Java', 'Pc', 'Python', 'Smart Phone', 'laptop'}"
            ]
          },
          "metadata": {},
          "execution_count": 29
        }
      ]
    },
    {
      "cell_type": "code",
      "source": [
        "a = {1,2,3,4,4,5,6}\n",
        "b = {2,3,4,5,8,9,10}\n",
        "a.update(b)"
      ],
      "metadata": {
        "id": "wqhKDDUfrlXi"
      },
      "execution_count": 30,
      "outputs": []
    },
    {
      "cell_type": "code",
      "source": [
        "a"
      ],
      "metadata": {
        "colab": {
          "base_uri": "https://localhost:8080/"
        },
        "id": "Nok1KWRlsVFl",
        "outputId": "84bfa2b5-e79a-4fe5-a65e-a1bb9195aa0c"
      },
      "execution_count": 31,
      "outputs": [
        {
          "output_type": "execute_result",
          "data": {
            "text/plain": [
              "{1, 2, 3, 4, 5, 6, 8, 9, 10}"
            ]
          },
          "metadata": {},
          "execution_count": 31
        }
      ]
    },
    {
      "cell_type": "code",
      "source": [
        "fruits\n"
      ],
      "metadata": {
        "colab": {
          "base_uri": "https://localhost:8080/"
        },
        "id": "gjVZugVMsWWo",
        "outputId": "7485425f-8a65-45c2-a9ed-8965da0ed6ef"
      },
      "execution_count": 34,
      "outputs": [
        {
          "output_type": "execute_result",
          "data": {
            "text/plain": [
              "{'Apple', 'Apricot', 'Banana', 'Mango', 'cherry'}"
            ]
          },
          "metadata": {},
          "execution_count": 34
        }
      ]
    },
    {
      "cell_type": "code",
      "source": [
        "fruits.remove(\"Apple\")"
      ],
      "metadata": {
        "id": "yJOQ82AtsitZ"
      },
      "execution_count": 35,
      "outputs": []
    },
    {
      "cell_type": "code",
      "source": [
        "fruits"
      ],
      "metadata": {
        "colab": {
          "base_uri": "https://localhost:8080/"
        },
        "id": "9kJwnHEitc1e",
        "outputId": "a552b995-40b0-4451-e393-77312e1c95bd"
      },
      "execution_count": 36,
      "outputs": [
        {
          "output_type": "execute_result",
          "data": {
            "text/plain": [
              "{'Apricot', 'Banana', 'Mango', 'cherry'}"
            ]
          },
          "metadata": {},
          "execution_count": 36
        }
      ]
    },
    {
      "cell_type": "code",
      "source": [
        "up_fr = fruits.remove(\"Banana\")\n",
        "up_fr"
      ],
      "metadata": {
        "id": "Q5_5QiJIte3h"
      },
      "execution_count": 37,
      "outputs": []
    },
    {
      "cell_type": "code",
      "source": [
        "print(up_fr)"
      ],
      "metadata": {
        "colab": {
          "base_uri": "https://localhost:8080/"
        },
        "id": "SqNxOmJbtnu4",
        "outputId": "5157d2f9-53b2-48f6-9760-692bc9820709"
      },
      "execution_count": 39,
      "outputs": [
        {
          "output_type": "stream",
          "name": "stdout",
          "text": [
            "None\n"
          ]
        }
      ]
    },
    {
      "cell_type": "code",
      "source": [
        "fruits.discard(\"cherry\")\n",
        "fruits"
      ],
      "metadata": {
        "colab": {
          "base_uri": "https://localhost:8080/"
        },
        "id": "R3lf74cNtpfp",
        "outputId": "630671dc-1949-4f3e-9137-25350d5e1741"
      },
      "execution_count": 40,
      "outputs": [
        {
          "output_type": "execute_result",
          "data": {
            "text/plain": [
              "{'Apricot', 'Mango'}"
            ]
          },
          "metadata": {},
          "execution_count": 40
        }
      ]
    },
    {
      "cell_type": "code",
      "source": [
        "A = {1,2,3,4,5}\n",
        "B = {2,3,4,6}\n",
        "c = A.intersection(B)"
      ],
      "metadata": {
        "id": "C5EIoOfgt-rP"
      },
      "execution_count": 44,
      "outputs": []
    },
    {
      "cell_type": "code",
      "source": [
        "c"
      ],
      "metadata": {
        "colab": {
          "base_uri": "https://localhost:8080/"
        },
        "id": "9Ll1A9YkulBi",
        "outputId": "bac3bf84-cb21-488c-ad29-9b049a3cfaf4"
      },
      "execution_count": 45,
      "outputs": [
        {
          "output_type": "execute_result",
          "data": {
            "text/plain": [
              "{2, 3, 4}"
            ]
          },
          "metadata": {},
          "execution_count": 45
        }
      ]
    },
    {
      "cell_type": "code",
      "source": [],
      "metadata": {
        "id": "dVb48iOWu92f"
      },
      "execution_count": null,
      "outputs": []
    }
  ]
}