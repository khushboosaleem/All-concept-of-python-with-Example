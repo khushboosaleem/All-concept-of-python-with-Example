{
  "nbformat": 4,
  "nbformat_minor": 0,
  "metadata": {
    "colab": {
      "provenance": []
    },
    "kernelspec": {
      "name": "python3",
      "display_name": "Python 3"
    },
    "language_info": {
      "name": "python"
    }
  },
  "cells": [
    {
      "cell_type": "markdown",
      "source": [
        "# **list**\n",
        "# **Indexing**"
      ],
      "metadata": {
        "id": "u9Fqu72LF6Pk"
      }
    },
    {
      "cell_type": "markdown",
      "source": [
        "## **list**\n",
        "## **Multiple values in list**\n",
        "## **list in list**"
      ],
      "metadata": {
        "id": "M6qvO4VaKVo8"
      }
    },
    {
      "cell_type": "code",
      "source": [
        "for_school_use = [\"pencil\",\"pen\",\"books\",\"copy\",\"sharpner\"]\n",
        "for_school_use"
      ],
      "metadata": {
        "colab": {
          "base_uri": "https://localhost:8080/"
        },
        "id": "KGbahPYJGq5U",
        "outputId": "180b48e2-ef01-4438-8453-5a36b9941bd0"
      },
      "execution_count": 29,
      "outputs": [
        {
          "output_type": "execute_result",
          "data": {
            "text/plain": [
              "['pencil', 'pen', 'books', 'copy', 'sharpner']"
            ]
          },
          "metadata": {},
          "execution_count": 29
        }
      ]
    },
    {
      "cell_type": "code",
      "source": [
        "type(for_school_use)"
      ],
      "metadata": {
        "colab": {
          "base_uri": "https://localhost:8080/"
        },
        "id": "HqSGzwCDK6Fl",
        "outputId": "3487dd41-78d8-4195-8823-eea3a4b4180b"
      },
      "execution_count": 30,
      "outputs": [
        {
          "output_type": "execute_result",
          "data": {
            "text/plain": [
              "list"
            ]
          },
          "metadata": {},
          "execution_count": 30
        }
      ]
    },
    {
      "cell_type": "code",
      "source": [
        "len(for_school_use)"
      ],
      "metadata": {
        "colab": {
          "base_uri": "https://localhost:8080/"
        },
        "id": "BOTjZKXoNrpd",
        "outputId": "d5d1c79e-35da-4269-fd6d-c010d64fe899"
      },
      "execution_count": 31,
      "outputs": [
        {
          "output_type": "execute_result",
          "data": {
            "text/plain": [
              "5"
            ]
          },
          "metadata": {},
          "execution_count": 31
        }
      ]
    },
    {
      "cell_type": "code",
      "source": [
        "# list in list\n",
        "# multiple values in list\n",
        "mutilpe_values_in_list = [\"pencil\", True , False , 123 , 123.45, for_school_use , for_school_use]"
      ],
      "metadata": {
        "id": "U5zhMCr2LOju"
      },
      "execution_count": 32,
      "outputs": []
    },
    {
      "cell_type": "code",
      "source": [
        "mutilpe_values_in_list"
      ],
      "metadata": {
        "colab": {
          "base_uri": "https://localhost:8080/"
        },
        "id": "4k0ZdOOOLp7e",
        "outputId": "90a72d81-e9dd-4151-cf80-a6c7ef7555c0"
      },
      "execution_count": 33,
      "outputs": [
        {
          "output_type": "execute_result",
          "data": {
            "text/plain": [
              "['pencil',\n",
              " True,\n",
              " False,\n",
              " 123,\n",
              " 123.45,\n",
              " ['pencil', 'pen', 'books', 'copy', 'sharpner'],\n",
              " ['pencil', 'pen', 'books', 'copy', 'sharpner']]"
            ]
          },
          "metadata": {},
          "execution_count": 33
        }
      ]
    },
    {
      "cell_type": "markdown",
      "source": [
        "# **Indexing**"
      ],
      "metadata": {
        "id": "qs0WpsPFM8HB"
      }
    },
    {
      "cell_type": "code",
      "source": [
        " # indexing start with zero in python\n",
        " for_school_use"
      ],
      "metadata": {
        "colab": {
          "base_uri": "https://localhost:8080/"
        },
        "id": "JQ9A6vL-LsOT",
        "outputId": "7266b91d-4a94-42e0-c621-1bc50307d698"
      },
      "execution_count": 49,
      "outputs": [
        {
          "output_type": "execute_result",
          "data": {
            "text/plain": [
              "['pencil', 'pen', 'books', 'copy', 'sharpner']"
            ]
          },
          "metadata": {},
          "execution_count": 49
        }
      ]
    },
    {
      "cell_type": "code",
      "source": [
        "for_school_use[0]"
      ],
      "metadata": {
        "colab": {
          "base_uri": "https://localhost:8080/",
          "height": 35
        },
        "id": "ZUYQZO-FOGlO",
        "outputId": "3a2d0139-9391-4236-b169-369bf2bdd082"
      },
      "execution_count": 35,
      "outputs": [
        {
          "output_type": "execute_result",
          "data": {
            "text/plain": [
              "'pencil'"
            ],
            "application/vnd.google.colaboratory.intrinsic+json": {
              "type": "string"
            }
          },
          "metadata": {},
          "execution_count": 35
        }
      ]
    },
    {
      "cell_type": "code",
      "source": [
        "for_school_use[4]"
      ],
      "metadata": {
        "colab": {
          "base_uri": "https://localhost:8080/",
          "height": 35
        },
        "id": "D0cG-eW2Oo3Y",
        "outputId": "84194c3d-0fd6-4d3b-af0d-e3c347050370"
      },
      "execution_count": 36,
      "outputs": [
        {
          "output_type": "execute_result",
          "data": {
            "text/plain": [
              "'sharpner'"
            ],
            "application/vnd.google.colaboratory.intrinsic+json": {
              "type": "string"
            }
          },
          "metadata": {},
          "execution_count": 36
        }
      ]
    },
    {
      "cell_type": "code",
      "source": [
        "mutilpe_values_in_list[2]"
      ],
      "metadata": {
        "colab": {
          "base_uri": "https://localhost:8080/"
        },
        "id": "W72_x0A3OtT9",
        "outputId": "5e047465-e4e2-4afe-c399-1a08339d0c5f"
      },
      "execution_count": 37,
      "outputs": [
        {
          "output_type": "execute_result",
          "data": {
            "text/plain": [
              "False"
            ]
          },
          "metadata": {},
          "execution_count": 37
        }
      ]
    },
    {
      "cell_type": "code",
      "source": [
        "mutilpe_values_in_list[5]"
      ],
      "metadata": {
        "colab": {
          "base_uri": "https://localhost:8080/"
        },
        "id": "W3W88lruOz1T",
        "outputId": "25291763-c21f-4b29-ae91-87fc1a3d65d1"
      },
      "execution_count": 38,
      "outputs": [
        {
          "output_type": "execute_result",
          "data": {
            "text/plain": [
              "['pencil', 'pen', 'books', 'copy', 'sharpner']"
            ]
          },
          "metadata": {},
          "execution_count": 38
        }
      ]
    },
    {
      "cell_type": "code",
      "source": [
        "mutilpe_values_in_list[5][2]"
      ],
      "metadata": {
        "colab": {
          "base_uri": "https://localhost:8080/",
          "height": 35
        },
        "id": "Hj27bqBJPK08",
        "outputId": "71ed717b-f900-43a3-fb00-274d5c555f2c"
      },
      "execution_count": 39,
      "outputs": [
        {
          "output_type": "execute_result",
          "data": {
            "text/plain": [
              "'books'"
            ],
            "application/vnd.google.colaboratory.intrinsic+json": {
              "type": "string"
            }
          },
          "metadata": {},
          "execution_count": 39
        }
      ]
    },
    {
      "cell_type": "code",
      "source": [
        "mutilpe_values_in_list[6]"
      ],
      "metadata": {
        "colab": {
          "base_uri": "https://localhost:8080/"
        },
        "id": "Fi1Gj0dbO-rd",
        "outputId": "e45d3621-faa4-4345-efd9-ea7b9886b722"
      },
      "execution_count": 40,
      "outputs": [
        {
          "output_type": "execute_result",
          "data": {
            "text/plain": [
              "['pencil', 'pen', 'books', 'copy', 'sharpner']"
            ]
          },
          "metadata": {},
          "execution_count": 40
        }
      ]
    },
    {
      "cell_type": "code",
      "source": [
        "mutilpe_values_in_list[6][4]"
      ],
      "metadata": {
        "colab": {
          "base_uri": "https://localhost:8080/",
          "height": 35
        },
        "id": "-e44RvRYPb9O",
        "outputId": "172b4bba-4303-494f-b322-4d3b4a1260ca"
      },
      "execution_count": 41,
      "outputs": [
        {
          "output_type": "execute_result",
          "data": {
            "text/plain": [
              "'sharpner'"
            ],
            "application/vnd.google.colaboratory.intrinsic+json": {
              "type": "string"
            }
          },
          "metadata": {},
          "execution_count": 41
        }
      ]
    },
    {
      "cell_type": "code",
      "source": [
        "for_school_use"
      ],
      "metadata": {
        "colab": {
          "base_uri": "https://localhost:8080/"
        },
        "id": "b15R9FYmPBze",
        "outputId": "a9e321cd-b5ac-49ad-8961-c2641ec39d87"
      },
      "execution_count": 42,
      "outputs": [
        {
          "output_type": "execute_result",
          "data": {
            "text/plain": [
              "['pencil', 'pen', 'books', 'copy', 'sharpner']"
            ]
          },
          "metadata": {},
          "execution_count": 42
        }
      ]
    },
    {
      "cell_type": "code",
      "source": [
        "for_school_use[-1]"
      ],
      "metadata": {
        "colab": {
          "base_uri": "https://localhost:8080/",
          "height": 35
        },
        "id": "GKMxWphHP6qz",
        "outputId": "98001714-b48e-4a16-ca80-e3f227213ac8"
      },
      "execution_count": 43,
      "outputs": [
        {
          "output_type": "execute_result",
          "data": {
            "text/plain": [
              "'sharpner'"
            ],
            "application/vnd.google.colaboratory.intrinsic+json": {
              "type": "string"
            }
          },
          "metadata": {},
          "execution_count": 43
        }
      ]
    },
    {
      "cell_type": "code",
      "source": [
        " for_school_use[-3]"
      ],
      "metadata": {
        "colab": {
          "base_uri": "https://localhost:8080/",
          "height": 35
        },
        "id": "il2AwJKNQApd",
        "outputId": "d7f72c36-e76a-4eb9-c681-913b011394f6"
      },
      "execution_count": 44,
      "outputs": [
        {
          "output_type": "execute_result",
          "data": {
            "text/plain": [
              "'books'"
            ],
            "application/vnd.google.colaboratory.intrinsic+json": {
              "type": "string"
            }
          },
          "metadata": {},
          "execution_count": 44
        }
      ]
    },
    {
      "cell_type": "code",
      "source": [
        "mutilpe_values_in_list"
      ],
      "metadata": {
        "colab": {
          "base_uri": "https://localhost:8080/"
        },
        "id": "zULmHPHWQR4C",
        "outputId": "63e3b27b-d8d7-4637-99a7-486623cb3359"
      },
      "execution_count": 45,
      "outputs": [
        {
          "output_type": "execute_result",
          "data": {
            "text/plain": [
              "['pencil',\n",
              " True,\n",
              " False,\n",
              " 123,\n",
              " 123.45,\n",
              " ['pencil', 'pen', 'books', 'copy', 'sharpner'],\n",
              " ['pencil', 'pen', 'books', 'copy', 'sharpner']]"
            ]
          },
          "metadata": {},
          "execution_count": 45
        }
      ]
    },
    {
      "cell_type": "code",
      "source": [
        "mutilpe_values_in_list[-1]"
      ],
      "metadata": {
        "colab": {
          "base_uri": "https://localhost:8080/"
        },
        "id": "1yeGkNfgQW_b",
        "outputId": "4b52f007-d4e2-4997-afde-286a39b5b353"
      },
      "execution_count": 46,
      "outputs": [
        {
          "output_type": "execute_result",
          "data": {
            "text/plain": [
              "['pencil', 'pen', 'books', 'copy', 'sharpner']"
            ]
          },
          "metadata": {},
          "execution_count": 46
        }
      ]
    },
    {
      "cell_type": "code",
      "source": [
        "mutilpe_values_in_list[-1][-1]"
      ],
      "metadata": {
        "colab": {
          "base_uri": "https://localhost:8080/",
          "height": 35
        },
        "id": "i47ZJRf0Qxiz",
        "outputId": "744a03c8-6208-4be5-a860-992f56d86288"
      },
      "execution_count": 47,
      "outputs": [
        {
          "output_type": "execute_result",
          "data": {
            "text/plain": [
              "'sharpner'"
            ],
            "application/vnd.google.colaboratory.intrinsic+json": {
              "type": "string"
            }
          },
          "metadata": {},
          "execution_count": 47
        }
      ]
    },
    {
      "cell_type": "code",
      "source": [
        "mutilpe_values_in_list[-1][4]"
      ],
      "metadata": {
        "colab": {
          "base_uri": "https://localhost:8080/",
          "height": 35
        },
        "id": "_jjqlqePQ3Gr",
        "outputId": "62078db1-4e66-41eb-ccdd-27ce56debb43"
      },
      "execution_count": 48,
      "outputs": [
        {
          "output_type": "execute_result",
          "data": {
            "text/plain": [
              "'sharpner'"
            ],
            "application/vnd.google.colaboratory.intrinsic+json": {
              "type": "string"
            }
          },
          "metadata": {},
          "execution_count": 48
        }
      ]
    },
    {
      "cell_type": "code",
      "source": [],
      "metadata": {
        "id": "Jgghal8URCtE"
      },
      "execution_count": 48,
      "outputs": []
    }
  ]
}