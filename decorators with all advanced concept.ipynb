{
 "cells": [
  {
   "cell_type": "code",
   "execution_count": 1,
   "id": "5722460a",
   "metadata": {},
   "outputs": [
    {
     "name": "stdout",
     "output_type": "stream",
     "text": [
      "Ayaan is learning maths\n",
      "Ayaan is studying in class 6\n",
      "Ayaan is also learning another subjects\n"
     ]
    }
   ],
   "source": [
    "# Decorator Function\n",
    "def subjects(original_function):\n",
    "    def student():\n",
    "        print(\"Ayaan is learning maths\")\n",
    "        original_function()\n",
    "        print(\"Ayaan is also learning another subjects\")\n",
    "    return student\n",
    "\n",
    "\n",
    "# Decorated Function\n",
    "@subjects\n",
    "\n",
    "def study():\n",
    "    print(\"Ayaan is studying in class 6\")\n",
    "study()"
   ]
  },
  {
   "cell_type": "code",
   "execution_count": 2,
   "id": "dba73110",
   "metadata": {},
   "outputs": [
    {
     "name": "stdout",
     "output_type": "stream",
     "text": [
      "my this class result is 90%\n"
     ]
    }
   ],
   "source": [
    "def study(result):\n",
    "    print(f\"my this class result is {result}%\")\n",
    "study(90)"
   ]
  },
  {
   "cell_type": "code",
   "execution_count": 3,
   "id": "d654aff4",
   "metadata": {},
   "outputs": [
    {
     "ename": "TypeError",
     "evalue": "student() takes 0 positional arguments but 1 was given",
     "output_type": "error",
     "traceback": [
      "\u001b[1;31m---------------------------------------------------------------------------\u001b[0m",
      "\u001b[1;31mTypeError\u001b[0m                                 Traceback (most recent call last)",
      "Input \u001b[1;32mIn [3]\u001b[0m, in \u001b[0;36m<cell line: 15>\u001b[1;34m()\u001b[0m\n\u001b[0;32m     11\u001b[0m \u001b[38;5;129m@subjects\u001b[39m\n\u001b[0;32m     12\u001b[0m \n\u001b[0;32m     13\u001b[0m \u001b[38;5;28;01mdef\u001b[39;00m \u001b[38;5;21mstudy\u001b[39m(result):\n\u001b[0;32m     14\u001b[0m     \u001b[38;5;28mprint\u001b[39m(\u001b[38;5;124mf\u001b[39m\u001b[38;5;124m\"\u001b[39m\u001b[38;5;124mmy this class result is \u001b[39m\u001b[38;5;132;01m{\u001b[39;00mresult\u001b[38;5;132;01m}\u001b[39;00m\u001b[38;5;124m%\u001b[39m\u001b[38;5;124m\"\u001b[39m)\n\u001b[1;32m---> 15\u001b[0m \u001b[43mstudy\u001b[49m\u001b[43m(\u001b[49m\u001b[38;5;241;43m90\u001b[39;49m\u001b[43m)\u001b[49m\n",
      "\u001b[1;31mTypeError\u001b[0m: student() takes 0 positional arguments but 1 was given"
     ]
    }
   ],
   "source": [
    "# Decorator Function\n",
    "def subjects(original_function):\n",
    "    def student():\n",
    "        print(\"Ayaan is learning maths\")\n",
    "        original_function()\n",
    "        print(\"Ayaan is also learning another subjects\")\n",
    "    return student\n",
    "\n",
    "\n",
    "# Decorated Function\n",
    "@subjects\n",
    "\n",
    "def study(result):\n",
    "    print(f\"my this class result is {result}%\")\n",
    "study(90)"
   ]
  },
  {
   "cell_type": "code",
   "execution_count": 4,
   "id": "bab13fb9",
   "metadata": {},
   "outputs": [
    {
     "name": "stdout",
     "output_type": "stream",
     "text": [
      "Ayaan is learning maths\n",
      "my this class result is 90%\n",
      "Ayaan is also learning another subjects\n"
     ]
    }
   ],
   "source": [
    "# Decorator Function\n",
    "def subjects(original_function):\n",
    "    def student(arg):\n",
    "        print(\"Ayaan is learning maths\")\n",
    "        original_function(arg)\n",
    "        print(\"Ayaan is also learning another subjects\")\n",
    "    return student\n",
    "\n",
    "\n",
    "# Decorated Function\n",
    "@subjects\n",
    "\n",
    "def study(result):\n",
    "    print(f\"my this class result is {result}%\")\n",
    "study(90)"
   ]
  },
  {
   "cell_type": "code",
   "execution_count": 5,
   "id": "b6a0c88f",
   "metadata": {},
   "outputs": [
    {
     "ename": "TypeError",
     "evalue": "student() takes 1 positional argument but 2 were given",
     "output_type": "error",
     "traceback": [
      "\u001b[1;31m---------------------------------------------------------------------------\u001b[0m",
      "\u001b[1;31mTypeError\u001b[0m                                 Traceback (most recent call last)",
      "Input \u001b[1;32mIn [5]\u001b[0m, in \u001b[0;36m<cell line: 15>\u001b[1;34m()\u001b[0m\n\u001b[0;32m     11\u001b[0m \u001b[38;5;129m@subjects\u001b[39m\n\u001b[0;32m     12\u001b[0m \n\u001b[0;32m     13\u001b[0m \u001b[38;5;28;01mdef\u001b[39;00m \u001b[38;5;21mstudy\u001b[39m(result, per):\n\u001b[0;32m     14\u001b[0m     \u001b[38;5;28mprint\u001b[39m(\u001b[38;5;124mf\u001b[39m\u001b[38;5;124m\"\u001b[39m\u001b[38;5;124mmy this class result is \u001b[39m\u001b[38;5;132;01m{\u001b[39;00mresult\u001b[38;5;132;01m}\u001b[39;00m\u001b[38;5;124m% and next time InshaAllah will get\u001b[39m\u001b[38;5;132;01m{\u001b[39;00mper\u001b[38;5;132;01m}\u001b[39;00m\u001b[38;5;124m%\u001b[39m\u001b[38;5;124m\"\u001b[39m)\n\u001b[1;32m---> 15\u001b[0m \u001b[43mstudy\u001b[49m\u001b[43m(\u001b[49m\u001b[38;5;241;43m90\u001b[39;49m\u001b[43m,\u001b[49m\u001b[38;5;241;43m99\u001b[39;49m\u001b[43m)\u001b[49m\n",
      "\u001b[1;31mTypeError\u001b[0m: student() takes 1 positional argument but 2 were given"
     ]
    }
   ],
   "source": [
    "# Decorator Function\n",
    "def subjects(original_function):\n",
    "    def student(arg):\n",
    "        print(\"Ayaan is learning maths\")\n",
    "        original_function(arg)\n",
    "        print(\"Ayaan is also learning another subjects\")\n",
    "    return student\n",
    "\n",
    "\n",
    "# Decorated Function\n",
    "@subjects\n",
    "\n",
    "def study(result, per):\n",
    "    print(f\"my this class result is {result}% and next time InshaAllah will get{per}%\")\n",
    "study(90,99)"
   ]
  },
  {
   "cell_type": "code",
   "execution_count": 6,
   "id": "041c523d",
   "metadata": {},
   "outputs": [
    {
     "name": "stdout",
     "output_type": "stream",
     "text": [
      "Ayaan is learning maths\n",
      "my this class result is 90% and next time InshaAllah will get 99%\n",
      "Ayaan is also learning another subjects\n"
     ]
    }
   ],
   "source": [
    "# Decorator Function\n",
    "def subjects(original_function):\n",
    "    def student(*arg):\n",
    "        print(\"Ayaan is learning maths\")\n",
    "        original_function(*arg)\n",
    "        print(\"Ayaan is also learning another subjects\")\n",
    "    return student\n",
    "\n",
    "\n",
    "# Decorated Function\n",
    "@subjects\n",
    "\n",
    "def study(result, per):\n",
    "    print(f\"my this class result is {result}% and next time InshaAllah will get {per}%\")\n",
    "study(90,99)"
   ]
  },
  {
   "cell_type": "code",
   "execution_count": 7,
   "id": "ef46d0b7",
   "metadata": {},
   "outputs": [
    {
     "ename": "TypeError",
     "evalue": "student() got an unexpected keyword argument 'result'",
     "output_type": "error",
     "traceback": [
      "\u001b[1;31m---------------------------------------------------------------------------\u001b[0m",
      "\u001b[1;31mTypeError\u001b[0m                                 Traceback (most recent call last)",
      "Input \u001b[1;32mIn [7]\u001b[0m, in \u001b[0;36m<cell line: 1>\u001b[1;34m()\u001b[0m\n\u001b[1;32m----> 1\u001b[0m \u001b[43mstudy\u001b[49m\u001b[43m(\u001b[49m\u001b[43mresult\u001b[49m\u001b[43m \u001b[49m\u001b[38;5;241;43m=\u001b[39;49m\u001b[43m \u001b[49m\u001b[38;5;241;43m70\u001b[39;49m\u001b[43m,\u001b[49m\u001b[43m \u001b[49m\u001b[43mper\u001b[49m\u001b[43m \u001b[49m\u001b[38;5;241;43m=\u001b[39;49m\u001b[43m \u001b[49m\u001b[38;5;241;43m80\u001b[39;49m\u001b[43m)\u001b[49m\n",
      "\u001b[1;31mTypeError\u001b[0m: student() got an unexpected keyword argument 'result'"
     ]
    }
   ],
   "source": [
    "study(result = 70, per = 80)"
   ]
  },
  {
   "cell_type": "code",
   "execution_count": 8,
   "id": "3034e1c2",
   "metadata": {},
   "outputs": [
    {
     "name": "stdout",
     "output_type": "stream",
     "text": [
      "Ayaan is learning maths\n",
      "my this class result is 90% and next time InshaAllah will get 99%\n",
      "Ayaan is also learning another subjects\n"
     ]
    }
   ],
   "source": [
    "# Decorator Function\n",
    "def subjects(original_function):\n",
    "    def student(*args,**kwargs):\n",
    "        print(\"Ayaan is learning maths\")\n",
    "        original_function(*args,**kwargs)\n",
    "        print(\"Ayaan is also learning another subjects\")\n",
    "    return student\n",
    "\n",
    "\n",
    "# Decorated Function\n",
    "@subjects\n",
    "\n",
    "def study(result, per):\n",
    "    print(f\"my this class result is {result}% and next time InshaAllah will get {per}%\")\n",
    "study(90,99) # Positional argument"
   ]
  },
  {
   "cell_type": "code",
   "execution_count": 9,
   "id": "9ffa8651",
   "metadata": {},
   "outputs": [
    {
     "name": "stdout",
     "output_type": "stream",
     "text": [
      "Ayaan is learning maths\n",
      "my this class result is 70% and next time InshaAllah will get 80%\n",
      "Ayaan is also learning another subjects\n"
     ]
    }
   ],
   "source": [
    "study(result = 70, per = 80) # Keywords argument"
   ]
  },
  {
   "cell_type": "code",
   "execution_count": 14,
   "id": "269e4e20",
   "metadata": {},
   "outputs": [
    {
     "name": "stdout",
     "output_type": "stream",
     "text": [
      "Ayaan is learning maths\n",
      "my this class result is 70% and next time InshaAllah will get 80%\n",
      "Ayaan is also learning another subjects\n"
     ]
    }
   ],
   "source": [
    "# Decorator Function\n",
    "def subjects(original_function):\n",
    "    def student(*args,**kwargs):\n",
    "        print(\"Ayaan is learning maths\")\n",
    "        original_function(*args,**kwargs)\n",
    "        print(\"Ayaan is also learning another subjects\")\n",
    "    return student\n",
    "\n",
    "\n",
    "# Decorated Function\n",
    "@subjects\n",
    "\n",
    "def study(result, per):\n",
    "    print(f\"my this class result is {result}% and next time InshaAllah will get {per}%\")\n",
    "\n",
    "# one keyword and one positional argument\n",
    "study(70, per=80)  \n"
   ]
  },
  {
   "cell_type": "markdown",
   "id": "30f18b57",
   "metadata": {},
   "source": [
    "### ***Decorator Chaining***"
   ]
  },
  {
   "cell_type": "code",
   "execution_count": 25,
   "id": "7a8bc371",
   "metadata": {},
   "outputs": [
    {
     "name": "stdout",
     "output_type": "stream",
     "text": [
      "2024-03-08 13:11:24.396850\n"
     ]
    }
   ],
   "source": [
    "import datetime as dt\n",
    "print(dt.datetime.now())"
   ]
  },
  {
   "cell_type": "code",
   "execution_count": 26,
   "id": "e6d8dcb4",
   "metadata": {},
   "outputs": [
    {
     "name": "stdout",
     "output_type": "stream",
     "text": [
      "2024-03-08 13:18:05.481492\n",
      "Welcome students...\n",
      "my this class result is 80% and next time InshaAllah will get 90%\n",
      "Ayaan is also learning another subjects\n"
     ]
    }
   ],
   "source": [
    "def date_time(original_function):\n",
    "    def wrapper(*args,**kwargs):\n",
    "        print(dt.datetime.now())\n",
    "        original_function(*args, **kwargs)\n",
    "    return wrapper\n",
    "\n",
    "\n",
    "\n",
    "def class_wellcome_message(message):\n",
    "    def subjects(original_function):\n",
    "        def student(*args,**kwargs):\n",
    "            print(message)\n",
    "            original_function(*args,**kwargs)\n",
    "            print(\"Ayaan is also learning another subjects\")\n",
    "        return student\n",
    "    return subjects\n",
    "\n",
    "\n",
    "@date_time\n",
    "@class_wellcome_message(\"Welcome students...\")\n",
    "\n",
    "def study(result, per):\n",
    "    print(f\"my this class result is {result}% and next time InshaAllah will get {per}%\")\n",
    "\n",
    "study(80, per=90)\n",
    "\n"
   ]
  },
  {
   "cell_type": "code",
   "execution_count": 27,
   "id": "565f7890",
   "metadata": {},
   "outputs": [
    {
     "name": "stdout",
     "output_type": "stream",
     "text": [
      "Welcome students...\n",
      "2024-03-08 13:19:12.876412\n",
      "my this class result is 80% and next time InshaAllah will get 90%\n",
      "Ayaan is also learning another subjects\n"
     ]
    }
   ],
   "source": [
    "def date_time(original_function):\n",
    "    def wrapper(*args,**kwargs):\n",
    "        print(dt.datetime.now())\n",
    "        original_function(*args, **kwargs)\n",
    "    return wrapper\n",
    "\n",
    "\n",
    "\n",
    "def class_wellcome_message(message):\n",
    "    def subjects(original_function):\n",
    "        def student(*args,**kwargs):\n",
    "            print(message)\n",
    "            original_function(*args,**kwargs)\n",
    "            print(\"Ayaan is also learning another subjects\")\n",
    "        return student\n",
    "    return subjects\n",
    "\n",
    "\n",
    "\n",
    "@class_wellcome_message(\"Welcome students...\")\n",
    "@date_time\n",
    "def study(result, per):\n",
    "    print(f\"my this class result is {result}% and next time InshaAllah will get {per}%\")\n",
    "\n",
    "study(80, per=90)\n"
   ]
  },
  {
   "cell_type": "code",
   "execution_count": 28,
   "id": "d418d368",
   "metadata": {},
   "outputs": [
    {
     "name": "stdout",
     "output_type": "stream",
     "text": [
      "my this class result is 80% and next time InshaAllah will get 90%\n"
     ]
    }
   ],
   "source": [
    "def study(result, per):\n",
    "    \"\"\"All About Ayaan's Studying\"\"\"\n",
    "    print(f\"my this class result is {result}% and next time InshaAllah will get {per}%\")\n",
    "\n",
    "study(80, per=90)"
   ]
  },
  {
   "cell_type": "code",
   "execution_count": 30,
   "id": "9f0c61a8",
   "metadata": {},
   "outputs": [
    {
     "name": "stdout",
     "output_type": "stream",
     "text": [
      "All About Ayaan's Studying\n",
      "study\n"
     ]
    }
   ],
   "source": [
    "print(study.__doc__) # __init__\n",
    "print(study.__name__)"
   ]
  },
  {
   "cell_type": "code",
   "execution_count": 31,
   "id": "479dfaed",
   "metadata": {},
   "outputs": [
    {
     "name": "stdout",
     "output_type": "stream",
     "text": [
      "Welcome students...\n",
      "2024-03-08 13:24:00.446785\n",
      "my this class result is 80% and next time InshaAllah will get 90%\n",
      "Ayaan is also learning another subjects\n",
      "------------------------------------------------------------------------------------------------------------------------\n",
      "None\n",
      "student\n"
     ]
    }
   ],
   "source": [
    "def date_time(original_function):\n",
    "    def wrapper(*args,**kwargs):\n",
    "        print(dt.datetime.now())\n",
    "        original_function(*args, **kwargs)\n",
    "    return wrapper\n",
    "\n",
    "\n",
    "\n",
    "def class_wellcome_message(message):\n",
    "    def subjects(original_function):\n",
    "        def student(*args,**kwargs):\n",
    "            print(message)\n",
    "            original_function(*args,**kwargs)\n",
    "            print(\"Ayaan is also learning another subjects\")\n",
    "        return student\n",
    "    return subjects\n",
    "\n",
    "\n",
    "\n",
    "@class_wellcome_message(\"Welcome students...\")\n",
    "@date_time\n",
    "def study(result, per):\n",
    "    print(f\"my this class result is {result}% and next time InshaAllah will get {per}%\")\n",
    "\n",
    "study(80, per=90)\n",
    "print('----'*30)\n",
    "print(study.__doc__) # __init__\n",
    "print(study.__name__)\n"
   ]
  },
  {
   "cell_type": "code",
   "execution_count": 32,
   "id": "956172eb",
   "metadata": {},
   "outputs": [],
   "source": [
    "from functools import wraps"
   ]
  },
  {
   "cell_type": "code",
   "execution_count": 36,
   "id": "8981c467",
   "metadata": {},
   "outputs": [
    {
     "name": "stdout",
     "output_type": "stream",
     "text": [
      "2024-03-08 13:29:37.808567\n",
      "Welcome students...\n",
      "my this class result is 80% and next time InshaAllah will get 90%\n",
      "Ayaan is also learning another subjects\n",
      "------------------------------------------------------------------------------------------------------------------------\n",
      "All About Ayaan's Studying\n",
      "study\n"
     ]
    }
   ],
   "source": [
    "def date_time(original_function):\n",
    "    @wraps(original_function)\n",
    "    def wrapper(*args,**kwargs):\n",
    "        print(dt.datetime.now())\n",
    "        original_function(*args, **kwargs)\n",
    "    return wrapper\n",
    "\n",
    "\n",
    "\n",
    "def class_wellcome_message(message):\n",
    "    def subjects(original_function):\n",
    "        @wraps(original_function)\n",
    "        def student(*args,**kwargs):\n",
    "            print(message)\n",
    "            original_function(*args,**kwargs)\n",
    "            print(\"Ayaan is also learning another subjects\")\n",
    "        return student\n",
    "    return subjects\n",
    "\n",
    "\n",
    "@date_time\n",
    "@class_wellcome_message(\"Welcome students...\")\n",
    "\n",
    "def study(result, per):\n",
    "    \"\"\"All About Ayaan's Studying\"\"\"\n",
    "    print(f\"my this class result is {result}% and next time InshaAllah will get {per}%\")\n",
    "\n",
    "\n",
    "study(80, per=90)\n",
    "print('----'*30)\n",
    "print(study.__doc__) # __init__\n",
    "print(study.__name__)"
   ]
  },
  {
   "cell_type": "code",
   "execution_count": null,
   "id": "7cdcde73",
   "metadata": {},
   "outputs": [],
   "source": []
  }
 ],
 "metadata": {
  "kernelspec": {
   "display_name": "Python 3 (ipykernel)",
   "language": "python",
   "name": "python3"
  },
  "language_info": {
   "codemirror_mode": {
    "name": "ipython",
    "version": 3
   },
   "file_extension": ".py",
   "mimetype": "text/x-python",
   "name": "python",
   "nbconvert_exporter": "python",
   "pygments_lexer": "ipython3",
   "version": "3.9.12"
  }
 },
 "nbformat": 4,
 "nbformat_minor": 5
}
