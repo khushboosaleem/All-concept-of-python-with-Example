{
  "nbformat": 4,
  "nbformat_minor": 0,
  "metadata": {
    "colab": {
      "provenance": []
    },
    "kernelspec": {
      "name": "python3",
      "display_name": "Python 3"
    },
    "language_info": {
      "name": "python"
    }
  },
  "cells": [
    {
      "cell_type": "code",
      "execution_count": 1,
      "metadata": {
        "id": "h4_kYPSRsPWt"
      },
      "outputs": [],
      "source": [
        "def my_function():\n",
        "  print(\"Hello from a function\")"
      ]
    },
    {
      "cell_type": "code",
      "source": [
        "def my_function():\n",
        "  print(\"Hello from a function\")\n",
        "\n",
        "\n",
        "my_function()"
      ],
      "metadata": {
        "id": "609XOX1GsY9x",
        "colab": {
          "base_uri": "https://localhost:8080/"
        },
        "outputId": "2a06c96d-0565-4d62-f053-04b2582f0ca9"
      },
      "execution_count": 4,
      "outputs": [
        {
          "output_type": "stream",
          "name": "stdout",
          "text": [
            "Hello from a function\n"
          ]
        }
      ]
    },
    {
      "cell_type": "code",
      "source": [
        "def my_func(fname):\n",
        "  print(fname + \" Refsnes\")\n",
        "\n",
        "my_func(\"Emil\")\n",
        "my_func(\"Tobias\")\n",
        "my_func(\"Linus\")\n",
        "my_func(\"Ayan\")"
      ],
      "metadata": {
        "id": "6rd0XKfxscgG",
        "colab": {
          "base_uri": "https://localhost:8080/"
        },
        "outputId": "e05bd65f-25a3-4638-b3b1-7d52eddf9fb2"
      },
      "execution_count": 6,
      "outputs": [
        {
          "output_type": "stream",
          "name": "stdout",
          "text": [
            "Emil Refsnes\n",
            "Tobias Refsnes\n",
            "Linus Refsnes\n",
            "Ayan Refsnes\n"
          ]
        }
      ]
    },
    {
      "cell_type": "code",
      "source": [
        "def my_function(fname, lname):\n",
        "  print(fname + \" \" + lname)\n",
        "\n",
        "my_function(\"Emil\", \"Refsnes\")\n",
        "my_function(\"khushboo\", \"saleem\")"
      ],
      "metadata": {
        "colab": {
          "base_uri": "https://localhost:8080/"
        },
        "id": "m7RpeaeqsjQh",
        "outputId": "f0ed82af-8deb-4333-ff53-a29f2f564ed9"
      },
      "execution_count": 7,
      "outputs": [
        {
          "output_type": "stream",
          "name": "stdout",
          "text": [
            "Emil Refsnes\n",
            "khushboo saleem\n"
          ]
        }
      ]
    },
    {
      "cell_type": "code",
      "source": [
        "def my_function(child3, child2, child1):\n",
        "  print(\"The youngest teacher is \" + child3)\n",
        "\n",
        "my_function(child1 = \"Huma\", child2 = \"Ayaan\", child3 = \"khushboo\")"
      ],
      "metadata": {
        "id": "vmrIdliqslO0",
        "colab": {
          "base_uri": "https://localhost:8080/"
        },
        "outputId": "dd662102-a2d6-468c-be44-114fa776d1b3"
      },
      "execution_count": 8,
      "outputs": [
        {
          "output_type": "stream",
          "name": "stdout",
          "text": [
            "The youngest child is khushboo\n"
          ]
        }
      ]
    },
    {
      "cell_type": "code",
      "source": [
        "def my_function(child3, child2, child1):\n",
        "  print(\"The youngest teacher is \" + child3)\n",
        "\n",
        "my_function(child1 = \"Huma\", child3 = \"khushboo\")"
      ],
      "metadata": {
        "colab": {
          "base_uri": "https://localhost:8080/",
          "height": 210
        },
        "id": "P6G2qQ7j466-",
        "outputId": "a6f7e667-bf93-4e5c-c6af-d7c25bd00c9e"
      },
      "execution_count": 9,
      "outputs": [
        {
          "output_type": "error",
          "ename": "TypeError",
          "evalue": "ignored",
          "traceback": [
            "\u001b[0;31m---------------------------------------------------------------------------\u001b[0m",
            "\u001b[0;31mTypeError\u001b[0m                                 Traceback (most recent call last)",
            "\u001b[0;32m<ipython-input-9-9535828aaf01>\u001b[0m in \u001b[0;36m<cell line: 4>\u001b[0;34m()\u001b[0m\n\u001b[1;32m      2\u001b[0m   \u001b[0mprint\u001b[0m\u001b[0;34m(\u001b[0m\u001b[0;34m\"The youngest teacher is \"\u001b[0m \u001b[0;34m+\u001b[0m \u001b[0mchild3\u001b[0m\u001b[0;34m)\u001b[0m\u001b[0;34m\u001b[0m\u001b[0;34m\u001b[0m\u001b[0m\n\u001b[1;32m      3\u001b[0m \u001b[0;34m\u001b[0m\u001b[0m\n\u001b[0;32m----> 4\u001b[0;31m \u001b[0mmy_function\u001b[0m\u001b[0;34m(\u001b[0m\u001b[0mchild1\u001b[0m \u001b[0;34m=\u001b[0m \u001b[0;34m\"Huma\"\u001b[0m\u001b[0;34m,\u001b[0m \u001b[0mchild3\u001b[0m \u001b[0;34m=\u001b[0m \u001b[0;34m\"khushboo\"\u001b[0m\u001b[0;34m)\u001b[0m\u001b[0;34m\u001b[0m\u001b[0;34m\u001b[0m\u001b[0m\n\u001b[0m",
            "\u001b[0;31mTypeError\u001b[0m: my_function() missing 1 required positional argument: 'child2'"
          ]
        }
      ]
    },
    {
      "cell_type": "code",
      "source": [
        "def add_func(a,b):\n",
        "  print(a+b)"
      ],
      "metadata": {
        "id": "yhwM2MqG5Q_E"
      },
      "execution_count": 13,
      "outputs": []
    },
    {
      "cell_type": "code",
      "source": [
        "add_func(11,6)"
      ],
      "metadata": {
        "colab": {
          "base_uri": "https://localhost:8080/"
        },
        "id": "eFtZEady5nxy",
        "outputId": "5eb41d0e-562f-4aa5-ed6c-394db0b0c2d0"
      },
      "execution_count": 15,
      "outputs": [
        {
          "output_type": "stream",
          "name": "stdout",
          "text": [
            "17\n"
          ]
        }
      ]
    },
    {
      "cell_type": "code",
      "source": [
        "name = \"Ayaan\"\n",
        "name"
      ],
      "metadata": {
        "colab": {
          "base_uri": "https://localhost:8080/",
          "height": 36
        },
        "id": "_v92sSVy6ES5",
        "outputId": "db3cc181-9709-4fa8-bd7a-28fce87b4c29"
      },
      "execution_count": 17,
      "outputs": [
        {
          "output_type": "execute_result",
          "data": {
            "text/plain": [
              "'Ayaan'"
            ],
            "application/vnd.google.colaboratory.intrinsic+json": {
              "type": "string"
            }
          },
          "metadata": {},
          "execution_count": 17
        }
      ]
    },
    {
      "cell_type": "code",
      "source": [
        "def sub_funct(a,b):\n",
        "  print(a-b)\n",
        "\n",
        "\n",
        "sub_funct(6-5)"
      ],
      "metadata": {
        "colab": {
          "base_uri": "https://localhost:8080/",
          "height": 210
        },
        "id": "C4YGXPCJ6Vzv",
        "outputId": "c7278069-3ca8-40c5-e83b-811ff31b9613"
      },
      "execution_count": 18,
      "outputs": [
        {
          "output_type": "error",
          "ename": "TypeError",
          "evalue": "ignored",
          "traceback": [
            "\u001b[0;31m---------------------------------------------------------------------------\u001b[0m",
            "\u001b[0;31mTypeError\u001b[0m                                 Traceback (most recent call last)",
            "\u001b[0;32m<ipython-input-18-e2b4c121a749>\u001b[0m in \u001b[0;36m<cell line: 3>\u001b[0;34m()\u001b[0m\n\u001b[1;32m      1\u001b[0m \u001b[0;32mdef\u001b[0m \u001b[0msub_funct\u001b[0m\u001b[0;34m(\u001b[0m\u001b[0ma\u001b[0m\u001b[0;34m,\u001b[0m\u001b[0mb\u001b[0m\u001b[0;34m)\u001b[0m\u001b[0;34m:\u001b[0m\u001b[0;34m\u001b[0m\u001b[0;34m\u001b[0m\u001b[0m\n\u001b[1;32m      2\u001b[0m   \u001b[0mprint\u001b[0m\u001b[0;34m(\u001b[0m\u001b[0ma\u001b[0m\u001b[0;34m-\u001b[0m\u001b[0mb\u001b[0m\u001b[0;34m)\u001b[0m\u001b[0;34m\u001b[0m\u001b[0;34m\u001b[0m\u001b[0m\n\u001b[0;32m----> 3\u001b[0;31m \u001b[0msub_funct\u001b[0m\u001b[0;34m(\u001b[0m\u001b[0;36m6\u001b[0m\u001b[0;34m-\u001b[0m\u001b[0;36m5\u001b[0m\u001b[0;34m)\u001b[0m\u001b[0;34m\u001b[0m\u001b[0;34m\u001b[0m\u001b[0m\n\u001b[0m",
            "\u001b[0;31mTypeError\u001b[0m: sub_funct() missing 1 required positional argument: 'b'"
          ]
        }
      ]
    },
    {
      "cell_type": "code",
      "source": [
        "def sub_funct(a,b):\n",
        "  print(a-b)\n",
        "\n",
        "\n",
        "sub_funct(6,5)"
      ],
      "metadata": {
        "colab": {
          "base_uri": "https://localhost:8080/"
        },
        "id": "ojBTBhmj6u9Z",
        "outputId": "090dee49-d3fb-460f-b697-9f9846e811cc"
      },
      "execution_count": 19,
      "outputs": [
        {
          "output_type": "stream",
          "name": "stdout",
          "text": [
            "1\n"
          ]
        }
      ]
    },
    {
      "cell_type": "code",
      "source": [
        "def sub_funct(a,b,c):\n",
        "  print(a-b+c)\n",
        "\n",
        "\n",
        "sub_funct(6,5,5)"
      ],
      "metadata": {
        "colab": {
          "base_uri": "https://localhost:8080/"
        },
        "id": "enLQGA6l633p",
        "outputId": "ea2ce680-57f3-4a94-fe13-a5c1a90ed5ab"
      },
      "execution_count": 20,
      "outputs": [
        {
          "output_type": "stream",
          "name": "stdout",
          "text": [
            "6\n"
          ]
        }
      ]
    },
    {
      "cell_type": "code",
      "source": [
        "def sub_funct(a,b,c):\n",
        "  print(a-b+c)  # 5-6+5\n",
        "\n",
        "\n",
        "sub_funct(a = 5, b= 6, c = 5)"
      ],
      "metadata": {
        "colab": {
          "base_uri": "https://localhost:8080/"
        },
        "id": "3lWcmP2Q7S_O",
        "outputId": "3ec07ec8-f6fb-4861-fed1-38ccf56490ef"
      },
      "execution_count": 22,
      "outputs": [
        {
          "output_type": "stream",
          "name": "stdout",
          "text": [
            "4\n"
          ]
        }
      ]
    },
    {
      "cell_type": "code",
      "source": [
        "def sub_funct(a,b,c):\n",
        "  print(a-b+c)  # 10-6+5      (a+b)/c+d\n",
        "\n",
        "\n",
        "sub_funct(c = 5, b= 6, a = 10)"
      ],
      "metadata": {
        "colab": {
          "base_uri": "https://localhost:8080/"
        },
        "id": "h2SYbULj70lU",
        "outputId": "7b6c4c95-ccd5-4092-cd05-5e2d715254d1"
      },
      "execution_count": 24,
      "outputs": [
        {
          "output_type": "stream",
          "name": "stdout",
          "text": [
            "9\n"
          ]
        }
      ]
    },
    {
      "cell_type": "code",
      "source": [
        "# Mult\n",
        "# divide\n",
        "# ()/* (a+b)/c-d"
      ],
      "metadata": {
        "id": "OIJ4cLu-7Qck"
      },
      "execution_count": null,
      "outputs": []
    },
    {
      "cell_type": "code",
      "source": [
        "def my_function(**kid):\n",
        "  print(\"His last name is \" + kid[\"lname\"] +\" \" +kid[\"fname\"])\n",
        "\n",
        "my_function(fname = \"Tobias\", lname = \"Refsnes\")"
      ],
      "metadata": {
        "id": "pGLG3ieds8p_",
        "colab": {
          "base_uri": "https://localhost:8080/"
        },
        "outputId": "151c6f77-306c-4368-ac9d-7b3ce5a0d366"
      },
      "execution_count": 27,
      "outputs": [
        {
          "output_type": "stream",
          "name": "stdout",
          "text": [
            "His last name is Refsnes Tobias\n"
          ]
        }
      ]
    },
    {
      "cell_type": "code",
      "source": [
        "def my_function(country = \"Norway\"):\n",
        "  print(\"I am from \" + country)\n",
        "\n",
        "my_function(\"Sweden\")\n",
        "my_function(\"India\")\n",
        "my_function()\n",
        "my_function(\"Brazil\")"
      ],
      "metadata": {
        "id": "GMntwfb3tDkk",
        "colab": {
          "base_uri": "https://localhost:8080/"
        },
        "outputId": "50147596-3188-4cf7-8623-3a0c13922a51"
      },
      "execution_count": 30,
      "outputs": [
        {
          "output_type": "stream",
          "name": "stdout",
          "text": [
            "I am from Sweden\n",
            "I am from India\n",
            "I am from Norway\n",
            "I am from Brazil\n"
          ]
        }
      ]
    },
    {
      "cell_type": "code",
      "source": [
        "def my_function(food):\n",
        "  for x in food:\n",
        "    print(x)\n",
        "\n",
        "# fruits = [\"apple\", \"banana\", \"cherry\"]\n",
        "food = [\"biryani\", \"pasta\", \"chicken\"]\n",
        "\n",
        "my_function(food)"
      ],
      "metadata": {
        "id": "TYmYhVh5tJup",
        "colab": {
          "base_uri": "https://localhost:8080/"
        },
        "outputId": "42bd610d-3546-4131-850d-4cd633d9413f"
      },
      "execution_count": 32,
      "outputs": [
        {
          "output_type": "stream",
          "name": "stdout",
          "text": [
            "biryani\n",
            "pasta\n",
            "chicken\n"
          ]
        }
      ]
    },
    {
      "cell_type": "code",
      "source": [
        "def my_function(x):\n",
        "  return 5 * x    # 5*3 = 15, # 5*5 =25, # 5*9 = 45\n",
        "\n",
        "\n",
        "print(my_function(3))\n",
        "print(my_function(5))\n",
        "print(my_function(9))"
      ],
      "metadata": {
        "id": "0zByElLgtOhl",
        "colab": {
          "base_uri": "https://localhost:8080/"
        },
        "outputId": "05fbc120-ab62-4425-db1d-a8bb7637f7f8"
      },
      "execution_count": 39,
      "outputs": [
        {
          "output_type": "stream",
          "name": "stdout",
          "text": [
            "15\n",
            "25\n",
            "45\n"
          ]
        }
      ]
    },
    {
      "cell_type": "code",
      "source": [
        "def my_function(x):\n",
        "  return 10 + x    # 10+3 = 13, # 10+5 =15, # 10+9 = 19\n",
        "\n",
        "\n",
        "print(my_function(3))\n",
        "print(my_function(5))\n",
        "print(my_function(9))"
      ],
      "metadata": {
        "colab": {
          "base_uri": "https://localhost:8080/"
        },
        "id": "Yj5HWCEL_g4N",
        "outputId": "7a990f06-db70-4710-fb2c-24df4275447a"
      },
      "execution_count": 40,
      "outputs": [
        {
          "output_type": "stream",
          "name": "stdout",
          "text": [
            "13\n",
            "15\n",
            "19\n"
          ]
        }
      ]
    },
    {
      "cell_type": "code",
      "source": [
        "def add(a,b):\n",
        "  return a+b"
      ],
      "metadata": {
        "id": "H0jaicAwtTCh"
      },
      "execution_count": 33,
      "outputs": []
    },
    {
      "cell_type": "code",
      "source": [
        "add(5,6)"
      ],
      "metadata": {
        "colab": {
          "base_uri": "https://localhost:8080/"
        },
        "id": "Tdap3tP9-sFC",
        "outputId": "e2ee0100-600a-40f5-d366-7846ca955999"
      },
      "execution_count": 34,
      "outputs": [
        {
          "output_type": "execute_result",
          "data": {
            "text/plain": [
              "11"
            ]
          },
          "metadata": {},
          "execution_count": 34
        }
      ]
    },
    {
      "cell_type": "code",
      "source": [
        "def mult(a,b):\n",
        "  return a*b"
      ],
      "metadata": {
        "id": "8LsD3th--vq_"
      },
      "execution_count": 36,
      "outputs": []
    },
    {
      "cell_type": "code",
      "source": [
        "mult(2,3)"
      ],
      "metadata": {
        "colab": {
          "base_uri": "https://localhost:8080/"
        },
        "id": "rpmIipdj-4A3",
        "outputId": "f5560f3b-d866-42fa-fa0d-40134d7f6057"
      },
      "execution_count": 37,
      "outputs": [
        {
          "output_type": "execute_result",
          "data": {
            "text/plain": [
              "6"
            ]
          },
          "metadata": {},
          "execution_count": 37
        }
      ]
    },
    {
      "cell_type": "code",
      "source": [],
      "metadata": {
        "id": "VY2KSQzE_AGe"
      },
      "execution_count": null,
      "outputs": []
    }
  ]
}