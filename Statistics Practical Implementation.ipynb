{
 "cells": [
  {
   "cell_type": "markdown",
   "id": "135517c8",
   "metadata": {},
   "source": [
    "## ***Measure Of Central Tendency***\n",
    "\n",
    "1. Mean\n",
    "2. Mode \n",
    "3. Mode"
   ]
  },
  {
   "cell_type": "code",
   "execution_count": 1,
   "id": "69b4c52c",
   "metadata": {},
   "outputs": [],
   "source": [
    "import numpy as np\n",
    "import statistics\n",
    "import seaborn as sns\n",
    "import matplotlib.pyplot as plt\n",
    "import warnings\n",
    "warnings.filterwarnings('ignore')"
   ]
  },
  {
   "cell_type": "code",
   "execution_count": 2,
   "id": "7e3ebc34",
   "metadata": {},
   "outputs": [],
   "source": [
    "ages = [23,24,32,45,12,43,67,45,32,56,32,120]"
   ]
  },
  {
   "cell_type": "code",
   "execution_count": 3,
   "id": "99d031ab",
   "metadata": {},
   "outputs": [
    {
     "name": "stdout",
     "output_type": "stream",
     "text": [
      "44.25\n"
     ]
    }
   ],
   "source": [
    "print(np.mean(ages))"
   ]
  },
  {
   "cell_type": "code",
   "execution_count": 4,
   "id": "e0b60792",
   "metadata": {},
   "outputs": [
    {
     "name": "stdout",
     "output_type": "stream",
     "text": [
      "37.5\n"
     ]
    }
   ],
   "source": [
    "print(np.median(ages))"
   ]
  },
  {
   "cell_type": "code",
   "execution_count": 5,
   "id": "7d20f57f",
   "metadata": {},
   "outputs": [
    {
     "name": "stdout",
     "output_type": "stream",
     "text": [
      "44.25\n",
      "37.5\n",
      "32\n"
     ]
    }
   ],
   "source": [
    "print(statistics.mean(ages))\n",
    "print(statistics.median(ages))\n",
    "print(statistics.mode(ages))"
   ]
  },
  {
   "cell_type": "code",
   "execution_count": 6,
   "id": "f1314099",
   "metadata": {},
   "outputs": [
    {
     "data": {
      "image/png": "[encoded data removed]",
      "text/plain": [
       "<Figure size 432x288 with 1 Axes>"
      ]
     },
     "metadata": {
      "needs_background": "light"
     },
     "output_type": "display_data"
    }
   ],
   "source": [
    "sns.boxplot(ages)\n",
    "plt.show()"
   ]
  },
  {
   "cell_type": "markdown",
   "id": "ade59c3d",
   "metadata": {},
   "source": [
    "## ***5 Number Summary***"
   ]
  },
  {
   "cell_type": "code",
   "execution_count": 7,
   "id": "801f3dc0",
   "metadata": {},
   "outputs": [],
   "source": [
    "q1,q3 = np.percentile(ages,[25,75])"
   ]
  },
  {
   "cell_type": "code",
   "execution_count": 8,
   "id": "056360a7",
   "metadata": {},
   "outputs": [
    {
     "data": {
      "text/plain": [
       "30.0"
      ]
     },
     "execution_count": 8,
     "metadata": {},
     "output_type": "execute_result"
    }
   ],
   "source": [
    "q1"
   ]
  },
  {
   "cell_type": "code",
   "execution_count": 9,
   "id": "f94e864f",
   "metadata": {},
   "outputs": [
    {
     "data": {
      "text/plain": [
       "47.75"
      ]
     },
     "execution_count": 9,
     "metadata": {},
     "output_type": "execute_result"
    }
   ],
   "source": [
    "q3"
   ]
  },
  {
   "cell_type": "code",
   "execution_count": 10,
   "id": "e9341699",
   "metadata": {},
   "outputs": [
    {
     "name": "stdout",
     "output_type": "stream",
     "text": [
      "3.375 74.375\n"
     ]
    }
   ],
   "source": [
    "## to take outlier[Lower Fence Higher Fence]\n",
    "IQR = q3 - q1\n",
    "lower_fence = q1 - 1.5*(IQR)\n",
    "Higher_fence = q3 + 1.5*(IQR)\n",
    "print(lower_fence,Higher_fence)"
   ]
  },
  {
   "cell_type": "code",
   "execution_count": null,
   "id": "37049175",
   "metadata": {},
   "outputs": [],
   "source": []
  },
  {
   "cell_type": "code",
   "execution_count": null,
   "id": "1361bd9f",
   "metadata": {},
   "outputs": [],
   "source": []
  },
  {
   "cell_type": "code",
   "execution_count": null,
   "id": "265a6d38",
   "metadata": {},
   "outputs": [],
   "source": []
  },
  {
   "cell_type": "code",
   "execution_count": null,
   "id": "78a14adf",
   "metadata": {},
   "outputs": [],
   "source": []
  },
  {
   "cell_type": "code",
   "execution_count": null,
   "id": "c4402a9f",
   "metadata": {},
   "outputs": [],
   "source": []
  }
 ],
 "metadata": {
  "kernelspec": {
   "display_name": "Python 3 (ipykernel)",
   "language": "python",
   "name": "python3"
  },
  "language_info": {
   "codemirror_mode": {
    "name": "ipython",
    "version": 3
   },
   "file_extension": ".py",
   "mimetype": "text/x-python",
   "name": "python",
   "nbconvert_exporter": "python",
   "pygments_lexer": "ipython3",
   "version": "3.9.12"
  }
 },
 "nbformat": 4,
 "nbformat_minor": 5
}
