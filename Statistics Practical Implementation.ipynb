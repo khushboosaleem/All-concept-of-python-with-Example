{
 "cells": [
  {
   "cell_type": "markdown",
   "id": "135517c8",
   "metadata": {},
   "source": [
    "## ***Measure Of Central Tendency***\n",
    "\n",
    "1. Mean\n",
    "2. Mode \n",
    "3. Mode"
   ]
  },
  {
   "cell_type": "code",
   "execution_count": 89,
   "id": "69b4c52c",
   "metadata": {},
   "outputs": [],
   "source": [
    "import pandas as pd\n",
    "import numpy as np\n",
    "import statistics\n",
    "import seaborn as sns\n",
    "import matplotlib.pyplot as plt\n",
    "import math\n",
    "import scipy.stats as stat\n",
    "import pylab\n",
    "import warnings\n",
    "warnings.filterwarnings('ignore')"
   ]
  },
  {
   "cell_type": "code",
   "execution_count": 2,
   "id": "7e3ebc34",
   "metadata": {},
   "outputs": [],
   "source": [
    "ages = [23,24,32,45,12,43,67,45,32,56,32,120]"
   ]
  },
  {
   "cell_type": "code",
   "execution_count": 3,
   "id": "99d031ab",
   "metadata": {},
   "outputs": [
    {
     "name": "stdout",
     "output_type": "stream",
     "text": [
      "44.25\n"
     ]
    }
   ],
   "source": [
    "print(np.mean(ages))"
   ]
  },
  {
   "cell_type": "code",
   "execution_count": 4,
   "id": "e0b60792",
   "metadata": {},
   "outputs": [
    {
     "name": "stdout",
     "output_type": "stream",
     "text": [
      "37.5\n"
     ]
    }
   ],
   "source": [
    "print(np.median(ages))"
   ]
  },
  {
   "cell_type": "code",
   "execution_count": 5,
   "id": "7d20f57f",
   "metadata": {},
   "outputs": [
    {
     "name": "stdout",
     "output_type": "stream",
     "text": [
      "44.25\n",
      "37.5\n",
      "32\n"
     ]
    }
   ],
   "source": [
    "print(statistics.mean(ages))\n",
    "print(statistics.median(ages))\n",
    "print(statistics.mode(ages))"
   ]
  },
  {
   "cell_type": "code",
   "execution_count": 6,
   "id": "f1314099",
   "metadata": {},
   "outputs": [
    {
     "data": {
      "image/png": "[encoded data removed]",
      "text/plain": [
       "<Figure size 432x288 with 1 Axes>"
      ]
     },
     "metadata": {
      "needs_background": "light"
     },
     "output_type": "display_data"
    }
   ],
   "source": [
    "sns.boxplot(ages)\n",
    "plt.show()"
   ]
  },
  {
   "cell_type": "markdown",
   "id": "ade59c3d",
   "metadata": {},
   "source": [
    "## ***5 Number Summary***"
   ]
  },
  {
   "cell_type": "code",
   "execution_count": 7,
   "id": "801f3dc0",
   "metadata": {},
   "outputs": [],
   "source": [
    "q1,q3 = np.percentile(ages,[25,75])"
   ]
  },
  {
   "cell_type": "code",
   "execution_count": 8,
   "id": "056360a7",
   "metadata": {},
   "outputs": [
    {
     "data": {
      "text/plain": [
       "30.0"
      ]
     },
     "execution_count": 8,
     "metadata": {},
     "output_type": "execute_result"
    }
   ],
   "source": [
    "q1"
   ]
  },
  {
   "cell_type": "code",
   "execution_count": 9,
   "id": "f94e864f",
   "metadata": {},
   "outputs": [
    {
     "data": {
      "text/plain": [
       "47.75"
      ]
     },
     "execution_count": 9,
     "metadata": {},
     "output_type": "execute_result"
    }
   ],
   "source": [
    "q3"
   ]
  },
  {
   "cell_type": "code",
   "execution_count": 10,
   "id": "e9341699",
   "metadata": {},
   "outputs": [
    {
     "name": "stdout",
     "output_type": "stream",
     "text": [
      "3.375 74.375\n"
     ]
    }
   ],
   "source": [
    "## to take outlier[Lower Fence Higher Fence]\n",
    "IQR = q3 - q1\n",
    "lower_fence = q1 - 1.5*(IQR)\n",
    "Higher_fence = q3 + 1.5*(IQR)\n",
    "print(lower_fence,Higher_fence)"
   ]
  },
  {
   "cell_type": "markdown",
   "id": "a07df85a",
   "metadata": {},
   "source": [
    "## ***Measure Of Dispersion***\n",
    "1. Variance\n",
    "2. Standard Deviation"
   ]
  },
  {
   "cell_type": "code",
   "execution_count": 11,
   "id": "1361bd9f",
   "metadata": {},
   "outputs": [
    {
     "data": {
      "text/plain": [
       "795.2954545454545"
      ]
     },
     "execution_count": 11,
     "metadata": {},
     "output_type": "execute_result"
    }
   ],
   "source": [
    "statistics.variance(ages)"
   ]
  },
  {
   "cell_type": "code",
   "execution_count": 12,
   "id": "265a6d38",
   "metadata": {},
   "outputs": [
    {
     "data": {
      "text/plain": [
       "729.0208333333334"
      ]
     },
     "execution_count": 12,
     "metadata": {},
     "output_type": "execute_result"
    }
   ],
   "source": [
    "np.var(ages,axis=0)"
   ]
  },
  {
   "cell_type": "code",
   "execution_count": 13,
   "id": "78a14adf",
   "metadata": {},
   "outputs": [],
   "source": [
    "def variance(data):    # Sample data\n",
    "    n = len(ages)\n",
    "    # mean of the data\n",
    "    mean = sum(data)/n\n",
    "    # variance\n",
    "    deviation = [(x-mean) ** 2 for x in data]\n",
    "    variance = sum(deviation)/(n-1)\n",
    "    return variance"
   ]
  },
  {
   "cell_type": "code",
   "execution_count": 14,
   "id": "79961fcb",
   "metadata": {},
   "outputs": [
    {
     "data": {
      "text/plain": [
       "795.2954545454545"
      ]
     },
     "execution_count": 14,
     "metadata": {},
     "output_type": "execute_result"
    }
   ],
   "source": [
    "# Calculate Sample variance\n",
    "variance(ages)"
   ]
  },
  {
   "cell_type": "code",
   "execution_count": 28,
   "id": "c4402a9f",
   "metadata": {},
   "outputs": [],
   "source": [
    "def variance(data, dof=0):  # dof means degree of freedom # if give dof=0 so calculate population variance\n",
    "    n = len(data)\n",
    "    # mean of the data\n",
    "    mean = sum(data)/n\n",
    "    # variance\n",
    "    deviation = [(x-mean) **2 for x in data]\n",
    "    variance = sum(deviation)/(n-dof)\n",
    "    return variance"
   ]
  },
  {
   "cell_type": "code",
   "execution_count": 29,
   "id": "9a875ab2",
   "metadata": {},
   "outputs": [
    {
     "data": {
      "text/plain": [
       "729.0208333333334"
      ]
     },
     "execution_count": 29,
     "metadata": {},
     "output_type": "execute_result"
    }
   ],
   "source": [
    "# Calculate population variance\n",
    "variance(ages)"
   ]
  },
  {
   "cell_type": "code",
   "execution_count": 30,
   "id": "acca6590",
   "metadata": {},
   "outputs": [
    {
     "data": {
      "text/plain": [
       "795.2954545454545"
      ]
     },
     "execution_count": 30,
     "metadata": {},
     "output_type": "execute_result"
    }
   ],
   "source": [
    "# Calculate Sample variance\n",
    "variance(ages, dof = 1)"
   ]
  },
  {
   "cell_type": "code",
   "execution_count": 32,
   "id": "997b3f0a",
   "metadata": {},
   "outputs": [
    {
     "data": {
      "text/plain": [
       "729.0208333333334"
      ]
     },
     "execution_count": 32,
     "metadata": {},
     "output_type": "execute_result"
    }
   ],
   "source": [
    "# Calculate population variance through statistics library\n",
    "statistics.pvariance(ages)"
   ]
  },
  {
   "cell_type": "code",
   "execution_count": 34,
   "id": "edef0c61",
   "metadata": {},
   "outputs": [
    {
     "data": {
      "text/plain": [
       "['Counter',\n",
       " 'Decimal',\n",
       " 'Fraction',\n",
       " 'NormalDist',\n",
       " 'StatisticsError',\n",
       " '__all__',\n",
       " '__builtins__',\n",
       " '__cached__',\n",
       " '__doc__',\n",
       " '__file__',\n",
       " '__loader__',\n",
       " '__name__',\n",
       " '__package__',\n",
       " '__spec__',\n",
       " '_coerce',\n",
       " '_convert',\n",
       " '_exact_ratio',\n",
       " '_fail_neg',\n",
       " '_find_lteq',\n",
       " '_find_rteq',\n",
       " '_isfinite',\n",
       " '_normal_dist_inv_cdf',\n",
       " '_ss',\n",
       " '_sum',\n",
       " 'bisect_left',\n",
       " 'bisect_right',\n",
       " 'erf',\n",
       " 'exp',\n",
       " 'fabs',\n",
       " 'fmean',\n",
       " 'fsum',\n",
       " 'geometric_mean',\n",
       " 'groupby',\n",
       " 'harmonic_mean',\n",
       " 'hypot',\n",
       " 'itemgetter',\n",
       " 'log',\n",
       " 'math',\n",
       " 'mean',\n",
       " 'median',\n",
       " 'median_grouped',\n",
       " 'median_high',\n",
       " 'median_low',\n",
       " 'mode',\n",
       " 'multimode',\n",
       " 'numbers',\n",
       " 'pstdev',\n",
       " 'pvariance',\n",
       " 'quantiles',\n",
       " 'random',\n",
       " 'sqrt',\n",
       " 'stdev',\n",
       " 'tau',\n",
       " 'variance']"
      ]
     },
     "execution_count": 34,
     "metadata": {},
     "output_type": "execute_result"
    }
   ],
   "source": [
    "dir(statistics)"
   ]
  },
  {
   "cell_type": "code",
   "execution_count": 35,
   "id": "182b8ebf",
   "metadata": {},
   "outputs": [
    {
     "data": {
      "text/plain": [
       "795.2954545454545"
      ]
     },
     "execution_count": 35,
     "metadata": {},
     "output_type": "execute_result"
    }
   ],
   "source": [
    "statistics.variance(ages) # Sample variance  "
   ]
  },
  {
   "cell_type": "code",
   "execution_count": 62,
   "id": "5da95457",
   "metadata": {},
   "outputs": [
    {
     "data": {
      "text/plain": [
       "['__doc__',\n",
       " '__loader__',\n",
       " '__name__',\n",
       " '__package__',\n",
       " '__spec__',\n",
       " 'acos',\n",
       " 'acosh',\n",
       " 'asin',\n",
       " 'asinh',\n",
       " 'atan',\n",
       " 'atan2',\n",
       " 'atanh',\n",
       " 'ceil',\n",
       " 'comb',\n",
       " 'copysign',\n",
       " 'cos',\n",
       " 'cosh',\n",
       " 'degrees',\n",
       " 'dist',\n",
       " 'e',\n",
       " 'erf',\n",
       " 'erfc',\n",
       " 'exp',\n",
       " 'expm1',\n",
       " 'fabs',\n",
       " 'factorial',\n",
       " 'floor',\n",
       " 'fmod',\n",
       " 'frexp',\n",
       " 'fsum',\n",
       " 'gamma',\n",
       " 'gcd',\n",
       " 'hypot',\n",
       " 'inf',\n",
       " 'isclose',\n",
       " 'isfinite',\n",
       " 'isinf',\n",
       " 'isnan',\n",
       " 'isqrt',\n",
       " 'lcm',\n",
       " 'ldexp',\n",
       " 'lgamma',\n",
       " 'log',\n",
       " 'log10',\n",
       " 'log1p',\n",
       " 'log2',\n",
       " 'modf',\n",
       " 'nan',\n",
       " 'nextafter',\n",
       " 'perm',\n",
       " 'pi',\n",
       " 'pow',\n",
       " 'prod',\n",
       " 'radians',\n",
       " 'remainder',\n",
       " 'sin',\n",
       " 'sinh',\n",
       " 'sqrt',\n",
       " 'tan',\n",
       " 'tanh',\n",
       " 'tau',\n",
       " 'trunc',\n",
       " 'ulp']"
      ]
     },
     "execution_count": 62,
     "metadata": {},
     "output_type": "execute_result"
    }
   ],
   "source": [
    "dir(math)"
   ]
  },
  {
   "cell_type": "code",
   "execution_count": 59,
   "id": "36dfa73d",
   "metadata": {},
   "outputs": [
    {
     "data": {
      "text/plain": [
       "27.000385799712813"
      ]
     },
     "execution_count": 59,
     "metadata": {},
     "output_type": "execute_result"
    }
   ],
   "source": [
    "# Calculate Standard Deviation of population data\n",
    "math.sqrt(statistics.pvariance(ages))"
   ]
  },
  {
   "cell_type": "code",
   "execution_count": 61,
   "id": "64c8142a",
   "metadata": {},
   "outputs": [
    {
     "data": {
      "text/plain": [
       "28.2009832194811"
      ]
     },
     "execution_count": 61,
     "metadata": {},
     "output_type": "execute_result"
    }
   ],
   "source": [
    "# Calculate Standard Deviation Of Sample Data\n",
    "math.sqrt(statistics.variance(ages))"
   ]
  },
  {
   "cell_type": "markdown",
   "id": "088eb297",
   "metadata": {},
   "source": [
    "## ***Histograms And Probability Density Function(pdf)***"
   ]
  },
  {
   "cell_type": "code",
   "execution_count": 37,
   "id": "30dfc649",
   "metadata": {},
   "outputs": [
    {
     "data": {
      "image/png": "[encoded data removed]",
      "text/plain": [
       "<Figure size 432x288 with 1 Axes>"
      ]
     },
     "metadata": {
      "needs_background": "light"
     },
     "output_type": "display_data"
    }
   ],
   "source": [
    "sns.histplot(ages, kde=True)\n",
    "plt.show()"
   ]
  },
  {
   "cell_type": "code",
   "execution_count": 39,
   "id": "aae941a1",
   "metadata": {},
   "outputs": [
    {
     "data": {
      "text/html": [
       "<div>\n",
       "<style scoped>\n",
       "    .dataframe tbody tr th:only-of-type {\n",
       "        vertical-align: middle;\n",
       "    }\n",
       "\n",
       "    .dataframe tbody tr th {\n",
       "        vertical-align: top;\n",
       "    }\n",
       "\n",
       "    .dataframe thead th {\n",
       "        text-align: right;\n",
       "    }\n",
       "</style>\n",
       "<table border=\"1\" class=\"dataframe\">\n",
       "  <thead>\n",
       "    <tr style=\"text-align: right;\">\n",
       "      <th></th>\n",
       "      <th>sepal_length</th>\n",
       "      <th>sepal_width</th>\n",
       "      <th>petal_length</th>\n",
       "      <th>petal_width</th>\n",
       "      <th>species</th>\n",
       "    </tr>\n",
       "  </thead>\n",
       "  <tbody>\n",
       "    <tr>\n",
       "      <th>0</th>\n",
       "      <td>5.1</td>\n",
       "      <td>3.5</td>\n",
       "      <td>1.4</td>\n",
       "      <td>0.2</td>\n",
       "      <td>setosa</td>\n",
       "    </tr>\n",
       "    <tr>\n",
       "      <th>1</th>\n",
       "      <td>4.9</td>\n",
       "      <td>3.0</td>\n",
       "      <td>1.4</td>\n",
       "      <td>0.2</td>\n",
       "      <td>setosa</td>\n",
       "    </tr>\n",
       "    <tr>\n",
       "      <th>2</th>\n",
       "      <td>4.7</td>\n",
       "      <td>3.2</td>\n",
       "      <td>1.3</td>\n",
       "      <td>0.2</td>\n",
       "      <td>setosa</td>\n",
       "    </tr>\n",
       "    <tr>\n",
       "      <th>3</th>\n",
       "      <td>4.6</td>\n",
       "      <td>3.1</td>\n",
       "      <td>1.5</td>\n",
       "      <td>0.2</td>\n",
       "      <td>setosa</td>\n",
       "    </tr>\n",
       "    <tr>\n",
       "      <th>4</th>\n",
       "      <td>5.0</td>\n",
       "      <td>3.6</td>\n",
       "      <td>1.4</td>\n",
       "      <td>0.2</td>\n",
       "      <td>setosa</td>\n",
       "    </tr>\n",
       "  </tbody>\n",
       "</table>\n",
       "</div>"
      ],
      "text/plain": [
       "   sepal_length  sepal_width  petal_length  petal_width species\n",
       "0           5.1          3.5           1.4          0.2  setosa\n",
       "1           4.9          3.0           1.4          0.2  setosa\n",
       "2           4.7          3.2           1.3          0.2  setosa\n",
       "3           4.6          3.1           1.5          0.2  setosa\n",
       "4           5.0          3.6           1.4          0.2  setosa"
      ]
     },
     "execution_count": 39,
     "metadata": {},
     "output_type": "execute_result"
    }
   ],
   "source": [
    "df = sns.load_dataset('iris')\n",
    "df.head()"
   ]
  },
  {
   "cell_type": "code",
   "execution_count": 43,
   "id": "4d70fcb2",
   "metadata": {},
   "outputs": [
    {
     "data": {
      "text/plain": [
       "5.0    10\n",
       "5.1     9\n",
       "6.3     9\n",
       "5.7     8\n",
       "6.7     8\n",
       "5.8     7\n",
       "5.5     7\n",
       "6.4     7\n",
       "4.9     6\n",
       "5.4     6\n",
       "6.1     6\n",
       "6.0     6\n",
       "5.6     6\n",
       "4.8     5\n",
       "6.5     5\n",
       "6.2     4\n",
       "7.7     4\n",
       "6.9     4\n",
       "4.6     4\n",
       "5.2     4\n",
       "5.9     3\n",
       "4.4     3\n",
       "7.2     3\n",
       "6.8     3\n",
       "6.6     2\n",
       "4.7     2\n",
       "7.6     1\n",
       "7.4     1\n",
       "7.3     1\n",
       "7.0     1\n",
       "7.1     1\n",
       "5.3     1\n",
       "4.3     1\n",
       "4.5     1\n",
       "7.9     1\n",
       "Name: sepal_length, dtype: int64"
      ]
     },
     "execution_count": 43,
     "metadata": {},
     "output_type": "execute_result"
    }
   ],
   "source": [
    "df.sepal_length.value_counts()"
   ]
  },
  {
   "cell_type": "code",
   "execution_count": 41,
   "id": "dd79aba2",
   "metadata": {},
   "outputs": [
    {
     "data": {
      "image/png": "[encoded data removed]",
      "text/plain": [
       "<Figure size 432x288 with 1 Axes>"
      ]
     },
     "metadata": {
      "needs_background": "light"
     },
     "output_type": "display_data"
    }
   ],
   "source": [
    "sns.histplot(df['sepal_length'], kde=True)\n",
    "plt.show()"
   ]
  },
  {
   "cell_type": "code",
   "execution_count": 50,
   "id": "1a91459c",
   "metadata": {},
   "outputs": [
    {
     "data": {
      "image/png": "[encoded data removed]",
      "text/plain": [
       "<Figure size 432x288 with 1 Axes>"
      ]
     },
     "metadata": {
      "needs_background": "light"
     },
     "output_type": "display_data"
    }
   ],
   "source": [
    "sns.histplot(df['petal_length'],kde=True)\n",
    "plt.show()"
   ]
  },
  {
   "cell_type": "code",
   "execution_count": 52,
   "id": "e9bea560",
   "metadata": {},
   "outputs": [
    {
     "data": {
      "image/png": "[encoded data removed]",
      "text/plain": [
       "<Figure size 432x288 with 1 Axes>"
      ]
     },
     "metadata": {
      "needs_background": "light"
     },
     "output_type": "display_data"
    }
   ],
   "source": [
    "sns.histplot(df['petal_width'], kde = True)\n",
    "plt.show()"
   ]
  },
  {
   "cell_type": "markdown",
   "id": "d3ca08ba",
   "metadata": {},
   "source": [
    "##  ***Normal And Gaussian Distribution***"
   ]
  },
  {
   "cell_type": "code",
   "execution_count": 45,
   "id": "3275657d",
   "metadata": {},
   "outputs": [
    {
     "data": {
      "text/plain": [
       "3.0    26\n",
       "2.8    14\n",
       "3.2    13\n",
       "3.4    12\n",
       "3.1    11\n",
       "2.9    10\n",
       "2.7     9\n",
       "2.5     8\n",
       "3.5     6\n",
       "3.3     6\n",
       "3.8     6\n",
       "2.6     5\n",
       "2.3     4\n",
       "3.6     4\n",
       "3.7     3\n",
       "2.4     3\n",
       "2.2     3\n",
       "3.9     2\n",
       "4.4     1\n",
       "4.0     1\n",
       "4.1     1\n",
       "4.2     1\n",
       "2.0     1\n",
       "Name: sepal_width, dtype: int64"
      ]
     },
     "execution_count": 45,
     "metadata": {},
     "output_type": "execute_result"
    }
   ],
   "source": [
    "df.sepal_width.value_counts()"
   ]
  },
  {
   "cell_type": "code",
   "execution_count": 48,
   "id": "450a5ea3",
   "metadata": {},
   "outputs": [
    {
     "data": {
      "image/png": "[encoded data removed]",
      "text/plain": [
       "<Figure size 432x288 with 1 Axes>"
      ]
     },
     "metadata": {
      "needs_background": "light"
     },
     "output_type": "display_data"
    }
   ],
   "source": [
    "sns.histplot(df['sepal_width'], kde=True)\n",
    "plt.show()"
   ]
  },
  {
   "cell_type": "code",
   "execution_count": 56,
   "id": "51d1e20f",
   "metadata": {},
   "outputs": [
    {
     "data": {
      "text/plain": [
       "array([ 5.56475717e-01,  7.55093719e-01,  5.88781890e-01,  3.61123924e-01,\n",
       "        6.53271581e-01,  2.04361276e-01,  6.68102370e-01,  8.23445579e-01,\n",
       "        5.93510789e-01,  4.90618799e-01,  4.84282937e-01,  1.86670653e-01,\n",
       "        5.46966347e-01,  5.72956760e-01,  2.87366933e-01,  6.53277641e-01,\n",
       "        3.98038284e-01,  4.29243866e-01,  4.41122894e-01,  3.51436202e-01,\n",
       "        2.38804788e-01,  2.48351315e-01,  5.69997156e-01,  8.39241127e-01,\n",
       "        1.38813958e-01,  7.21308178e-01,  7.95758523e-01,  6.72571567e-01,\n",
       "        5.57637349e-01,  3.37680546e-01,  5.34380206e-01,  7.42574761e-01,\n",
       "        5.72087446e-01,  5.05898762e-01,  7.02577625e-01,  5.89170579e-01,\n",
       "        3.79328647e-01,  2.94954635e-01,  4.36519949e-01,  1.00008533e+00,\n",
       "        5.17399408e-02,  3.09122188e-01,  4.43165149e-01,  3.90048783e-01,\n",
       "        6.05532786e-01,  4.55931938e-01,  5.27954373e-01,  5.67956653e-01,\n",
       "        4.77903483e-01,  6.86757704e-01,  1.04969256e-01,  8.27112112e-01,\n",
       "        8.18893776e-01,  5.07921855e-01,  6.27558949e-01,  5.49959405e-01,\n",
       "        3.57430382e-01,  3.40069526e-01,  7.37460693e-01,  3.26670082e-01,\n",
       "        6.09441696e-01,  9.94059892e-02,  2.76316717e-01,  4.52885583e-01,\n",
       "        2.16239625e-01,  9.05889489e-02,  5.58740789e-01,  3.23250461e-01,\n",
       "        6.74034086e-01,  4.19576921e-01,  5.61338196e-01,  6.88403133e-01,\n",
       "        5.94361398e-01,  5.58316859e-01,  6.92643326e-01,  5.50210668e-01,\n",
       "        4.75007186e-01,  5.11081155e-01,  5.48798367e-01,  5.90456573e-01,\n",
       "        4.59760365e-01,  5.51631709e-01,  4.01876375e-01,  4.23157525e-01,\n",
       "        6.31775726e-01,  6.45212294e-01,  1.15123350e-01,  6.34024921e-01,\n",
       "        2.74381800e-01,  5.10850964e-01,  4.98803595e-01,  5.02624832e-01,\n",
       "        2.88504880e-01,  2.62725258e-01,  6.89801711e-01,  6.23531061e-01,\n",
       "        6.48225004e-01,  7.53176567e-01,  7.60070554e-01,  3.53716417e-01,\n",
       "        3.81769054e-01,  4.37567459e-01,  7.21071251e-01,  5.63797227e-01,\n",
       "        4.97751962e-01,  3.88972732e-01,  2.31062140e-01,  4.10125558e-01,\n",
       "        2.84866664e-01,  2.08061837e-01,  5.23459861e-01,  6.15287219e-01,\n",
       "        4.65673675e-01,  1.05521868e+00,  7.71007092e-01,  4.54079618e-01,\n",
       "        1.62700022e-01,  1.74731209e-01,  3.46707913e-01,  5.45079250e-01,\n",
       "        3.64140350e-01,  6.07677919e-01,  5.54987501e-01,  3.86560596e-01,\n",
       "        4.16617353e-01,  3.28457968e-01,  7.11557335e-01,  5.78094263e-01,\n",
       "        3.81767464e-01,  8.38544917e-01,  3.39970920e-01,  2.66446862e-01,\n",
       "        3.97873772e-02,  4.27256139e-01,  6.98948624e-01,  7.18914201e-01,\n",
       "        5.76719516e-01,  4.42134662e-01,  4.82841825e-01,  4.51355847e-01,\n",
       "        2.54113073e-01,  7.89938320e-02,  9.57037700e-01,  5.48749288e-01,\n",
       "        2.65348776e-01,  7.55231440e-01,  4.43549283e-01,  6.20059589e-01,\n",
       "        4.60767492e-01,  4.75770825e-01,  4.97438939e-01,  3.27717861e-01,\n",
       "        7.11932467e-01,  3.84267054e-01,  5.63088758e-01,  7.33683598e-01,\n",
       "        2.13089818e-01,  7.05383645e-01,  4.37248377e-01,  3.43718412e-01,\n",
       "        5.49587280e-01,  5.53839021e-01,  5.44311628e-01,  6.41330012e-01,\n",
       "        7.51300976e-01,  6.31748733e-01,  3.51849075e-01,  4.39268564e-01,\n",
       "        6.62130601e-01,  1.23045570e-01,  5.98389858e-01,  6.40928048e-01,\n",
       "        2.41305591e-01,  4.39528267e-01,  6.95630172e-01,  6.78749959e-01,\n",
       "        6.57853806e-01,  3.02009548e-01,  4.65569371e-01,  1.69399735e-01,\n",
       "        2.35787981e-01,  8.07520199e-01,  2.60436661e-01,  5.31485439e-01,\n",
       "        8.41684703e-01,  5.08580014e-01,  6.62932636e-01,  5.16807907e-01,\n",
       "        4.79286288e-01,  4.82828954e-01,  4.48675945e-01,  5.88851817e-01,\n",
       "        5.46680932e-01,  5.85990958e-01,  1.82225788e-01,  5.18918372e-01,\n",
       "        5.75855922e-01,  4.24456284e-01,  4.86003802e-01,  1.86713805e-01,\n",
       "        6.43041072e-01,  4.19283782e-01,  4.94014505e-01,  3.86830860e-01,\n",
       "        7.87644508e-01,  3.03725647e-01,  2.05530773e-01,  2.30747565e-01,\n",
       "        2.39513112e-01,  2.73770634e-01,  7.54412743e-01,  8.23868038e-01,\n",
       "        9.45031253e-01,  1.99705433e-01,  3.63292340e-01,  6.85071688e-01,\n",
       "        1.82506048e-01,  4.82769262e-02,  7.22220786e-01,  8.05956885e-01,\n",
       "        9.57517759e-01,  2.97226821e-01,  6.55904863e-01,  7.13256045e-01,\n",
       "        5.44954400e-01,  4.75801687e-01,  1.85247630e-01,  5.75121442e-01,\n",
       "        2.43614880e-01,  4.70940048e-01,  3.38507572e-01,  5.21223024e-01,\n",
       "        4.77695144e-01,  4.58931880e-01,  1.15182196e-01,  5.38275935e-01,\n",
       "        4.10140939e-01,  6.10759794e-01,  1.75843433e-01,  6.52963660e-01,\n",
       "        5.50306310e-01,  3.32225549e-01,  5.37063155e-01,  4.62212103e-01,\n",
       "        6.68435288e-01,  4.56380041e-01,  6.24744754e-01,  1.97725014e-01,\n",
       "        4.00169633e-01,  6.93685315e-01,  2.73894229e-01,  7.16652974e-01,\n",
       "        6.61769471e-01,  3.40130343e-01,  7.26330529e-01,  2.40509230e-01,\n",
       "        6.11187223e-01,  1.29776346e-01,  5.79640112e-01,  7.09957253e-01,\n",
       "        3.93307921e-01,  6.59111965e-01,  4.92386165e-01,  3.71515598e-01,\n",
       "        8.09475686e-01,  5.85082963e-01,  4.21484696e-01,  3.06873060e-01,\n",
       "        3.04714117e-01,  5.53065011e-01,  5.06592720e-01,  4.08828893e-01,\n",
       "        5.97304542e-01,  7.17842171e-01,  5.90791392e-01,  2.04863008e-01,\n",
       "        7.46851227e-01,  6.88710954e-01,  2.42462864e-01,  5.11866819e-01,\n",
       "        7.86339462e-02,  7.54176973e-01,  3.31023651e-01,  2.18740620e-01,\n",
       "        7.26885652e-01,  4.49666941e-01,  6.61514569e-01,  5.43465788e-01,\n",
       "        4.12643521e-01,  2.99731462e-01,  2.74460201e-01,  4.02084005e-01,\n",
       "        4.77147279e-01,  6.13353041e-01,  7.24641943e-01,  4.24005349e-01,\n",
       "        6.52750214e-01,  7.76775892e-01,  6.51553958e-01,  4.68262632e-01,\n",
       "        3.20471039e-01,  1.18326938e-01,  6.29580655e-01,  5.33032940e-01,\n",
       "        5.10653021e-01,  6.88675804e-01,  7.77590220e-01,  2.78941166e-01,\n",
       "        6.16206994e-01,  5.31675336e-01,  7.08727425e-01,  7.02721774e-01,\n",
       "        6.90049973e-01,  1.53361927e-01,  5.60702651e-01,  8.17292956e-01,\n",
       "        6.26177375e-01,  5.11631819e-01,  6.98150041e-01,  3.03239210e-01,\n",
       "        2.77154972e-01,  3.37876143e-01,  4.09622132e-01,  6.00254742e-01,\n",
       "        3.38702263e-01,  4.83205718e-01,  4.12872846e-01,  7.64380505e-01,\n",
       "        5.21841256e-01,  3.34247093e-01,  4.90881022e-01,  5.74665991e-01,\n",
       "        6.60942324e-01,  7.24011499e-01,  5.14722546e-01,  6.16006408e-01,\n",
       "        3.51266210e-01,  2.42366522e-01,  5.94572468e-01,  4.19211101e-01,\n",
       "        2.10625250e-01,  6.22056734e-01,  5.72847931e-01,  1.58334850e-01,\n",
       "        7.37491230e-01,  3.56920798e-01,  6.27604469e-01,  1.21200471e-01,\n",
       "        3.81506586e-01,  4.02316857e-01,  7.91034435e-01,  7.31904408e-01,\n",
       "        4.48918033e-01,  5.62205222e-01,  4.40639071e-01,  5.33679946e-01,\n",
       "        4.69239103e-01,  6.70118892e-01,  2.41387448e-01,  5.70501489e-01,\n",
       "        8.24729716e-01,  7.04265504e-01,  4.08197042e-01,  2.40296007e-01,\n",
       "        1.07626211e-02,  6.58538337e-01,  8.47463272e-01,  5.34294271e-01,\n",
       "        5.22975258e-01,  1.02148686e+00,  3.44126022e-01,  3.15586957e-01,\n",
       "        7.47187864e-01,  5.96105211e-01,  2.53331620e-01,  2.40471722e-01,\n",
       "        5.97612648e-01,  4.54782768e-01,  4.27120000e-01,  7.74188023e-01,\n",
       "        2.88709191e-01,  6.84069898e-01,  6.35185916e-01,  3.57127058e-01,\n",
       "        1.16033553e-01,  9.18949321e-01,  3.14166709e-01,  8.45850242e-01,\n",
       "        2.49668116e-01,  6.58920786e-01,  5.94165523e-01,  5.12745523e-01,\n",
       "        9.36137513e-01,  1.10205857e-01,  2.49872870e-01,  5.17791530e-01,\n",
       "        3.52829660e-01,  1.21006306e-01,  4.36383170e-01,  2.56900913e-01,\n",
       "        1.09860509e-01,  1.02039551e-01,  7.61028757e-01,  5.21738971e-01,\n",
       "        6.31279244e-01,  5.25106720e-01,  5.58425736e-02,  7.15405923e-01,\n",
       "        5.63809841e-01,  4.77215451e-01,  6.22967363e-01,  5.04503925e-01,\n",
       "        5.43387578e-01,  1.00336085e-01,  5.95402434e-01,  5.18241544e-01,\n",
       "        7.18166041e-01,  1.86580757e-01,  3.52528425e-01,  4.02147110e-01,\n",
       "        3.48519883e-01, -6.05395988e-02,  6.73203812e-01,  2.91288067e-01,\n",
       "        6.47771720e-01,  3.31271599e-01,  4.95767428e-01,  1.20406696e+00,\n",
       "        5.86632640e-01,  4.87483032e-01,  1.09800076e-01,  3.24944637e-01,\n",
       "        2.91832109e-01,  4.84695137e-01,  8.20001192e-01,  6.32388474e-01,\n",
       "        2.14573278e-01,  2.95053390e-01,  4.61586264e-01,  5.94928501e-01,\n",
       "        1.93011102e-01,  3.93475598e-01,  4.84974170e-01,  5.26531407e-01,\n",
       "        4.48557449e-01,  6.16127504e-01,  8.24538126e-01,  3.56111117e-01,\n",
       "        2.35347484e-01,  7.44578529e-01,  7.05827397e-01,  5.95816184e-01,\n",
       "        2.82625340e-01,  6.28365721e-01,  5.05154999e-01,  4.70886126e-01,\n",
       "        4.75125213e-01,  5.39530816e-01,  6.60457934e-01,  5.64316188e-01,\n",
       "        6.84873840e-01,  1.17014092e-01, -8.39569614e-02,  3.88618453e-01,\n",
       "        2.83656777e-01,  7.00716224e-01,  4.09603006e-01,  4.87426700e-01,\n",
       "        6.46308633e-01,  5.29370490e-01,  6.54438660e-01,  5.30878120e-01,\n",
       "        7.99659651e-01,  3.84534996e-01,  3.67559903e-01,  6.09206520e-02,\n",
       "        4.34609046e-01,  6.48580374e-01,  4.44046522e-01,  5.90775422e-01,\n",
       "        6.21372309e-01,  3.48390510e-01,  4.01899808e-01,  2.58378158e-01,\n",
       "        4.78817826e-01,  3.97137503e-01,  3.52057074e-01,  5.16122699e-01,\n",
       "        2.04260707e-01,  1.64640798e-01,  5.64865428e-01,  5.00882750e-01,\n",
       "        7.23075248e-01,  7.53048359e-01,  6.13437074e-01,  4.63314681e-01,\n",
       "        5.03972764e-01,  6.88693966e-01,  3.48817829e-01,  3.25345694e-01,\n",
       "        5.90429838e-01,  4.59851297e-01,  2.21271030e-01,  4.46169403e-01,\n",
       "        4.72744204e-01,  7.42915280e-01,  3.25437369e-01,  6.75167446e-01,\n",
       "        4.01496117e-01,  4.09621479e-01,  6.88890596e-01,  5.54965511e-01,\n",
       "        4.63055876e-01,  3.75453990e-01,  6.45166419e-01,  8.02314417e-01,\n",
       "        5.13810934e-01,  6.01497248e-01,  3.95487050e-01,  6.24458851e-01,\n",
       "        7.77801757e-01,  8.33045319e-01,  5.38646717e-01,  1.34878557e-01,\n",
       "        6.88843205e-01,  4.15505757e-01,  2.68421661e-01,  6.52466228e-01,\n",
       "        1.50525603e-01,  3.75105932e-01,  6.18897912e-01,  7.93378401e-01,\n",
       "        1.69211200e-01,  6.71623735e-01,  3.73263141e-01,  6.91580181e-01,\n",
       "        8.50736074e-01,  5.99108465e-01,  4.14786396e-01,  4.32663886e-01,\n",
       "        3.45938273e-01,  5.81593666e-01,  5.12843286e-01,  5.21692829e-01,\n",
       "        7.27736535e-01,  7.84582339e-01,  4.65186364e-01,  2.24854039e-01,\n",
       "        5.28646813e-01,  3.95433298e-01, -1.45777209e-02,  3.10771431e-01,\n",
       "        5.32407973e-01,  6.81561397e-01,  2.54148041e-01,  1.02648605e+00,\n",
       "        6.31602846e-01,  3.21299559e-01,  4.66764323e-01,  5.00697890e-01,\n",
       "        4.62661178e-01,  3.94741572e-01,  7.27378919e-01,  5.23310300e-01,\n",
       "        2.25332885e-01,  6.01869455e-01,  5.15035088e-01,  7.36016983e-01,\n",
       "        4.01581029e-01,  4.50892122e-01,  8.25169514e-01,  3.08510219e-01,\n",
       "        2.87472966e-01,  2.15287554e-01,  7.46717153e-01,  2.29559500e-01,\n",
       "        5.23615962e-01, -7.28824970e-02,  5.10977954e-01,  4.51947146e-01,\n",
       "        5.33019529e-01,  8.72676718e-01,  3.25724313e-01,  4.22281117e-01,\n",
       "        5.29815990e-01,  4.94017068e-01,  7.52865092e-01,  5.38780749e-01,\n",
       "        3.43793079e-01,  8.29192542e-01,  4.69178494e-01,  5.49384270e-01,\n",
       "        8.03041173e-01,  7.24248649e-01,  3.41320352e-01,  4.34396139e-01,\n",
       "        6.27194150e-01,  5.80354765e-01,  9.56715230e-02,  5.16123783e-01,\n",
       "        3.95587174e-01,  2.67308281e-01,  2.30524650e-01,  1.14508183e-01,\n",
       "        6.71129727e-02,  3.58928561e-01,  5.32156505e-01,  8.68673214e-01,\n",
       "        7.91267593e-01,  5.99734104e-01,  6.40713960e-01,  3.97790988e-01,\n",
       "        1.09189251e-01,  7.97377458e-01,  5.90340063e-01,  3.52269381e-01,\n",
       "        5.09073855e-01,  1.24769837e-01,  4.93427469e-01,  5.67115004e-01,\n",
       "        4.96622824e-01,  3.35072692e-02,  2.74538115e-01,  5.63927919e-01,\n",
       "        7.63702588e-01,  6.97324728e-01,  6.85924139e-01,  3.57261183e-01,\n",
       "        3.40005221e-01,  2.69056297e-02,  4.72070505e-01,  4.31579313e-01,\n",
       "        4.36349707e-01,  3.32267200e-01,  4.77460351e-01,  4.10047300e-01,\n",
       "        5.23093003e-01,  3.53040293e-01,  3.86847547e-01,  6.39191041e-01,\n",
       "        1.45081339e-01,  3.12675310e-01,  3.76081297e-01,  3.43766183e-01,\n",
       "        4.98440016e-01,  3.10606243e-01,  3.26253768e-01,  5.24159120e-01,\n",
       "        3.76746905e-01,  3.08013559e-01,  5.81237656e-01,  3.16922160e-01,\n",
       "        6.17472888e-01,  9.60581241e-01,  6.07332164e-01,  5.34553085e-01,\n",
       "        4.18470768e-01,  2.12309267e-01,  3.25723569e-01,  2.34616836e-01,\n",
       "        6.53711571e-01,  7.46494124e-01,  7.28216684e-01,  3.47432929e-01,\n",
       "        1.57026839e-01,  8.60212305e-01,  4.28708367e-01,  2.85886231e-01,\n",
       "        2.34106467e-01,  7.39849013e-01,  4.01123461e-01,  5.39749362e-01,\n",
       "        3.99111277e-01,  5.29408812e-01,  8.14375226e-01,  4.07806207e-01,\n",
       "        4.38721931e-01,  4.66924412e-01,  4.77323530e-01,  6.69149935e-01,\n",
       "        8.43113233e-01,  5.72737155e-01,  6.27618257e-01,  5.73338869e-01,\n",
       "        9.42601607e-01,  4.00570428e-01,  3.36492477e-01,  4.42916040e-01,\n",
       "        7.78109214e-01,  4.40070697e-01,  5.03611231e-01,  2.65943458e-01,\n",
       "       -1.57299355e-02,  2.79911941e-01,  5.83614606e-01,  4.66723067e-01,\n",
       "        6.19841961e-01,  4.35878109e-01,  5.47658609e-01,  3.37806036e-01,\n",
       "        5.98003089e-01,  4.70093480e-01,  6.76182258e-01,  6.48050024e-01,\n",
       "        5.68557672e-01,  7.32740615e-01,  5.76442174e-01,  7.34052935e-01,\n",
       "        3.42944290e-01,  2.94783021e-01,  3.50954926e-01,  3.55199269e-01,\n",
       "        5.78695361e-01,  6.90609191e-01,  4.89451772e-01,  4.74570102e-01,\n",
       "        2.41592942e-01,  7.34926510e-01,  6.13853439e-01,  4.67200156e-01,\n",
       "        2.77100834e-01,  3.35456571e-01,  7.95953747e-01,  2.42402669e-01,\n",
       "        6.64839764e-01,  2.89796989e-01,  3.43601906e-02,  4.33579578e-01,\n",
       "        5.12675980e-01,  2.80835715e-01,  4.57346520e-01,  5.01558570e-01,\n",
       "        4.33293142e-01,  5.21339544e-01,  4.21626966e-01,  2.53203370e-01,\n",
       "        4.20599660e-01,  3.26476847e-01,  4.09345886e-01,  2.60541902e-01,\n",
       "        6.27801945e-01,  4.23181758e-01,  3.17756189e-01,  3.73937845e-01,\n",
       "        3.22475590e-01,  5.83212693e-01,  4.90585881e-01,  4.72783733e-01,\n",
       "        1.04263213e+00,  5.83147036e-01,  2.89640998e-01,  8.74826210e-01,\n",
       "        6.21917378e-01,  3.69111861e-01,  3.09686958e-01,  7.16608647e-01,\n",
       "        6.03127334e-01,  5.93328865e-01,  9.53912454e-01,  2.65877718e-02,\n",
       "        4.59645951e-01,  2.05053431e-01,  5.40252309e-01,  5.10488918e-01,\n",
       "        6.66363825e-01,  4.08244203e-01,  6.26951894e-01,  2.28856964e-01,\n",
       "        5.23119891e-01,  4.89569292e-01,  3.57820471e-01,  7.20589502e-01,\n",
       "        7.30990835e-01,  3.48150205e-01,  5.71287278e-01,  3.73771341e-01,\n",
       "        4.30740691e-01,  4.30432384e-01,  6.12655560e-01,  4.92818708e-01,\n",
       "        5.63784182e-01,  5.36845692e-01,  4.79061141e-01,  4.36044485e-01,\n",
       "        2.65848797e-01,  3.72763916e-01,  6.97700997e-01,  6.84888667e-01,\n",
       "        5.32184103e-01,  6.23514095e-01,  6.22837414e-01,  2.99771016e-01,\n",
       "        4.76205427e-01,  4.84798940e-01,  6.42346127e-01,  6.07856718e-01,\n",
       "        3.38580280e-01,  6.35573279e-01,  6.01283824e-01,  5.78350661e-01,\n",
       "        4.20327168e-01,  4.03164067e-01,  6.18178062e-01,  6.14114327e-01,\n",
       "        3.05781717e-01,  6.82436156e-01,  6.36234214e-01,  6.70096896e-01,\n",
       "        5.84139264e-01,  6.99939253e-01,  8.51548303e-01,  4.18141205e-01,\n",
       "        5.74429105e-01,  4.53477520e-01,  5.68990331e-01,  3.13869364e-01,\n",
       "        3.98735828e-01,  7.70785227e-01,  1.99968514e-01,  4.20434816e-01,\n",
       "        6.85798757e-01,  4.72310756e-01,  5.69256483e-01,  5.68680169e-01,\n",
       "        2.96174332e-01,  3.34097419e-01,  5.32788835e-01,  5.00420627e-01,\n",
       "        6.10594907e-01,  2.44248316e-01,  4.59610804e-01,  6.42829800e-01,\n",
       "        5.37746795e-01,  1.03687719e-03,  2.87555566e-01,  5.67839379e-01,\n",
       "        4.82994417e-01,  7.16085932e-01,  3.61948795e-01,  1.73079332e-01,\n",
       "        7.69658633e-01,  6.61516044e-01,  6.37536332e-01,  6.83106503e-01,\n",
       "        4.64829063e-01,  8.10821116e-01,  7.20179941e-01,  1.08040219e-01,\n",
       "        5.10652229e-01,  7.45651554e-01,  4.50680381e-01,  2.85404204e-01,\n",
       "        7.69566923e-01,  7.02146933e-01,  4.86075414e-01,  6.80902541e-01,\n",
       "        5.40235893e-01,  6.30708417e-01,  6.08762903e-01,  2.30929425e-01,\n",
       "        3.47894097e-01,  8.91068055e-01,  6.29126659e-01,  6.86427339e-01,\n",
       "        6.23799160e-01,  3.74987737e-01,  8.89534228e-01,  5.33229891e-01,\n",
       "        2.82969980e-01,  5.38365137e-01,  4.16773687e-01,  8.17799038e-01,\n",
       "        7.48360877e-01,  4.75432702e-01,  6.79618166e-01,  3.05823040e-01,\n",
       "        8.97450970e-01,  4.04142562e-01,  1.01020788e+00,  7.21993043e-01,\n",
       "        3.46870232e-01,  2.47306879e-01,  3.72857342e-01,  7.80048112e-01,\n",
       "        5.23745854e-01,  3.17343027e-01,  3.91621900e-01,  4.92188311e-01,\n",
       "        5.20479417e-01,  1.82198780e-01,  1.12557577e-01,  7.27299466e-01,\n",
       "        6.32483350e-01,  2.19620290e-01,  2.91167349e-01,  7.42068623e-01,\n",
       "        3.66765683e-01,  9.92123154e-02,  6.33100397e-01,  6.07453225e-01,\n",
       "        4.28502993e-01,  8.42896515e-01,  2.48970836e-01,  7.59925156e-01,\n",
       "        6.29106904e-01,  3.41343179e-01,  2.02760879e-01,  7.68021943e-01,\n",
       "        6.35491971e-01,  3.76739035e-01,  3.27839653e-01,  1.13795409e-01,\n",
       "        2.53583483e-01,  8.05494725e-02,  5.84407713e-01,  3.68633813e-01,\n",
       "        6.73943332e-01,  4.24884362e-01,  6.77663721e-01,  3.27368934e-01,\n",
       "        2.38284698e-01,  8.03456654e-01,  8.25933037e-01,  5.04171294e-01,\n",
       "        4.62935704e-01,  3.27206431e-01,  5.09248292e-01,  5.05154273e-01,\n",
       "        3.78320381e-01,  4.02015096e-01,  3.58325090e-01,  5.00301532e-01,\n",
       "        5.28201008e-01,  1.68981954e-01,  4.95858599e-01,  4.78616906e-01,\n",
       "        2.09087887e-01,  4.77163439e-01,  4.50192156e-01,  3.29631970e-01,\n",
       "        3.17188968e-01,  4.90938217e-01,  4.37481703e-01,  5.69217529e-01,\n",
       "        3.97056798e-01,  5.64388784e-01,  4.70574612e-01,  1.62261689e-01,\n",
       "        6.23100671e-01,  5.40109691e-01,  8.08122114e-01,  3.31476178e-01,\n",
       "        3.66951295e-01,  2.59854736e-01,  7.23550309e-01,  4.29113413e-01,\n",
       "        2.88399550e-02,  7.27576451e-01,  6.64018979e-01,  4.76283681e-01,\n",
       "        4.58092798e-01,  5.76968240e-02,  3.36745785e-01,  3.75595210e-01,\n",
       "        5.05440518e-01,  7.23985782e-01,  4.53475104e-01,  6.80265356e-01,\n",
       "        5.34795857e-01,  5.43089876e-01,  3.48006196e-01,  9.63379120e-02,\n",
       "        5.72766246e-01,  4.58680679e-01,  2.70242774e-01,  7.56358832e-01,\n",
       "        8.22263691e-01,  3.81125010e-01,  6.67227971e-01,  6.06722370e-01,\n",
       "        6.93904866e-01,  8.45219913e-01,  4.51866309e-01,  3.40268572e-01,\n",
       "        6.80246255e-01,  5.54234989e-01,  7.71482494e-01,  5.87056521e-01,\n",
       "        6.78812549e-01,  3.94297296e-01,  1.26818877e-01,  3.79016957e-01,\n",
       "        6.09902565e-01,  6.79365479e-01,  3.41307565e-01,  3.79616536e-01,\n",
       "        3.31360615e-01,  4.88356696e-01,  3.73608776e-01,  4.06187962e-01])"
      ]
     },
     "execution_count": 56,
     "metadata": {},
     "output_type": "execute_result"
    }
   ],
   "source": [
    "# Create a Noraml Distribution Data \n",
    "s = np.random.normal(0.5,0.2,1000)\n",
    "s"
   ]
  },
  {
   "cell_type": "code",
   "execution_count": 57,
   "id": "f9ab3b55",
   "metadata": {},
   "outputs": [
    {
     "data": {
      "image/png": "[encoded data removed]",
      "text/plain": [
       "<Figure size 432x288 with 1 Axes>"
      ]
     },
     "metadata": {
      "needs_background": "light"
     },
     "output_type": "display_data"
    }
   ],
   "source": [
    "sns.histplot(s, kde=True)\n",
    "plt.show()"
   ]
  },
  {
   "cell_type": "markdown",
   "id": "523fa156",
   "metadata": {},
   "source": [
    "## ***Log Normal Distribution And Power Low Distribution***"
   ]
  },
  {
   "cell_type": "code",
   "execution_count": 63,
   "id": "587c5d1b",
   "metadata": {},
   "outputs": [
    {
     "data": {
      "text/plain": [
       "array([ 26.75687742,  20.69147186,  93.97190915,  31.27679085,\n",
       "        79.81582675,  61.92678867,   5.10593322,   9.81573829,\n",
       "        22.67594723,   2.47969835,  10.77442025,  26.65208338,\n",
       "        31.03043305,  18.81015079,   7.68527971,  47.74815531,\n",
       "         4.05312542,  16.55327033,  13.08177262,  19.5373996 ,\n",
       "         8.78676911,  41.81498797,  19.35591142,  29.5546741 ,\n",
       "         7.17251969,  18.96611119,   8.72845201,  10.57069631,\n",
       "        16.89816067,   4.82263961,  94.0058668 , 109.73750197,\n",
       "        30.33554383,  48.44913833,   7.72004064,  18.46180282,\n",
       "        29.52594547,  21.27332283,  13.08157759,  91.57470412,\n",
       "        52.89912421,   6.83930567,   5.96921139,   9.34116217,\n",
       "        25.77809209,  27.35232242,  14.90040704,   8.85214981,\n",
       "        45.35327639,  18.33232681,   7.47903169,   4.72842838,\n",
       "         5.03394785,  14.84848978,  18.14027993,  48.49715113,\n",
       "        40.5120416 ,  47.93619682,  43.78371813,  71.84492247,\n",
       "         9.57706048,  17.34725992,   5.75411872,  92.76887093,\n",
       "        25.0721073 ,  31.36205243,  34.40997176,  14.08350492,\n",
       "        17.58359953,  12.25828745,   4.37525957,  69.81111731,\n",
       "        21.28327989,  40.03341622,  61.27650184,  51.93287887,\n",
       "        28.08525355,   1.34263581,  15.75972831,  19.60975897,\n",
       "        20.24935699,  22.83883198,  49.97954523,  65.67924969,\n",
       "        16.36992075,  49.05600651,  15.73913811, 289.04249102,\n",
       "        47.80035875,  86.82254821,  10.31374803, 126.96754922,\n",
       "         4.86128977,   3.08960103,   7.24171261,  16.36749061,\n",
       "        18.53436652,  25.27667876,  17.42242411,  32.19295023,\n",
       "       411.62382772,   6.20859466,  53.83641745,  29.25618559,\n",
       "        22.74096054,  38.54000722,  14.57103739,  21.4653697 ,\n",
       "        31.32522109,  15.39278998,  30.35904816,  30.62351318,\n",
       "        17.10281679,  87.7479368 ,  15.75005523,  13.3106394 ,\n",
       "         6.35726952,  29.81834035,  12.52092451,  30.38753785,\n",
       "        51.57350184,  24.82147083,  40.9315676 ,  39.70155834,\n",
       "        10.85654786, 179.1387776 ,  21.83638809,  67.5104524 ,\n",
       "        15.23570102,  45.84084596,  21.97404331,  59.00836141,\n",
       "         8.33685299,  28.4431198 ,  49.35423543,  27.28065757,\n",
       "         6.42652586,  10.84064326,   5.89444756,  93.4222564 ,\n",
       "        63.08718083,   7.43573654,   6.0301689 ,   9.68176698,\n",
       "         8.54367014,  35.42475416,  14.22617361,  62.57132347,\n",
       "         5.00457984,   6.35989418,  33.70124049,   6.36340066,\n",
       "        55.49967291,   4.19195343,  71.24128641,  10.14438385,\n",
       "        39.55880948,   3.91298723,   6.79166333,  14.29479262,\n",
       "        18.02653049,  51.1680508 ,  33.95556381,  35.4521245 ,\n",
       "        28.06121211,  16.94786802,   4.2163892 ,   3.46528434,\n",
       "        31.69889954,  73.92364252,  49.07607371,  23.57419943,\n",
       "        13.08661306,  10.22946019,  12.4962436 ,  18.87133079,\n",
       "        16.05996961,   9.30095202,  11.80280308,   7.43063869,\n",
       "        91.76669684,  19.27612702, 108.14546207,   2.8896786 ,\n",
       "        60.88920887,  27.8897139 ,  10.66074224,   7.69872487,\n",
       "        47.50122648,   6.02556315,  12.27406424,  25.07980481,\n",
       "       214.66048211,  24.25187601,   6.2920571 ,   7.39067798,\n",
       "        56.86990568,  34.23546685,  16.91248492,   6.04830088,\n",
       "        17.430674  ,  38.10078599,   9.92884382,  65.79809372,\n",
       "       173.7495846 ,   5.14619295,   5.63704676,  16.34901857,\n",
       "        35.4701254 ,  22.50500419,  13.61089961,  20.04447005,\n",
       "        66.99956122,   8.53173376,  12.28129131,  20.71292992,\n",
       "        38.5491409 ,  11.10815266,  40.65960254,   3.16041876,\n",
       "        11.56779466,  13.23741544, 104.17490463,   7.76597684,\n",
       "         9.66965043,  64.48646283,   6.30998712,  12.97914562,\n",
       "        43.49891757,   1.37133363,   3.5018285 ,  66.92744124,\n",
       "        39.52739835,   4.97218254,   3.82987205,  43.50498965,\n",
       "        14.65362602,   3.82843941,   3.87117632,   6.67100562,\n",
       "        31.4240924 ,  14.25917509,  13.54632473,   4.75857059,\n",
       "         7.15098457,  17.62829832,  11.26123189,  17.78818458,\n",
       "         9.29244827,   3.89793946,  15.58965686,  42.85225467,\n",
       "        45.7898802 ,  13.4495281 ,  16.00779399,  23.21430658,\n",
       "        91.0924254 ,  29.29082445,  14.77873351,  46.27170177,\n",
       "        28.68017778, 128.89936364,  23.89392054,   2.64192526,\n",
       "        50.40315401,  57.76917475,  29.44598899,  19.19817771,\n",
       "       105.54135102,  14.98046738,  34.65544641,  20.07988732,\n",
       "         7.96068837,   8.1927461 ,   1.21273089,  16.72922917,\n",
       "        20.03893213,  63.14473849,  43.63405647,  64.34984915,\n",
       "        30.75394637,  28.64947578,   8.02327693,  44.07953091,\n",
       "        58.49236197,   6.74618658,   9.22987327,  19.55182934,\n",
       "        15.65896585,  18.81833552,  21.43075458,  82.01647009,\n",
       "         5.3979254 , 100.02207592,  15.42295767,  25.05238313,\n",
       "        24.58544127,  49.0325212 ,  28.87001568,  90.79868815,\n",
       "        14.17545089,  60.71346544,  12.61619728,  44.08540882,\n",
       "       125.30110342,  32.80628264,  58.11231167,   7.33726771,\n",
       "        15.86206383,  24.27314037,  25.72476158,  28.3427342 ,\n",
       "        30.42868536,   7.74806154,  16.50915085,  61.9523674 ,\n",
       "        23.31312434,   4.79810056,   8.42841381,  19.91597558,\n",
       "        50.48446431, 241.68359373,   7.84946551,  47.52824123,\n",
       "         6.13175509,   4.1784389 ,  21.31724627,  43.46940962,\n",
       "        72.95791963,  14.4335334 ,   6.86774667,   8.39442622,\n",
       "        50.75404332, 108.94762108,  38.69408693, 111.26687683,\n",
       "         2.41450644,  14.19778721,  70.96061877,  11.53626296,\n",
       "         9.01365457,  48.14568334,  19.14063375,  13.98528396,\n",
       "        23.48974127,  27.36966391,  55.01184863,  73.87362265,\n",
       "        11.67477615,  18.81076301,  67.8345819 ,  34.23913019,\n",
       "       104.85523072,   1.69978383,  11.10112063,  59.20048947,\n",
       "        12.58660171,  10.2901983 ,  14.67614993,  27.5925268 ,\n",
       "        87.49808247,  57.67978161,  43.2533909 ,  18.19040953,\n",
       "        21.2199029 ,   4.96052821,   4.31204275,  48.72191823,\n",
       "        58.38138794,   5.71839748,   1.13631301,   8.19173453,\n",
       "        15.40739239,  12.89442619,  23.18481537,   8.45731704,\n",
       "         1.92894892,  37.74072308,  10.56400924,  15.64280457,\n",
       "        21.80841967,   2.00407157,   4.35995729,  85.5841836 ,\n",
       "         4.09240867,  17.83757179,  31.89320798,  25.00903541,\n",
       "        62.21667788,   7.7613828 ,   3.6076264 ,  19.99029495,\n",
       "         5.48893139,  47.55975536,  16.47659156,  22.88141526,\n",
       "         2.15731709,  12.68419903,  15.20696003,  98.04022188,\n",
       "        11.15353839,  58.94409178,   9.64581347,  26.50076199,\n",
       "         4.00929153,  25.17534141,  79.62348168,  43.78275148,\n",
       "        32.77443783,  30.43961796,  51.93004941, 101.87320888,\n",
       "        16.91359568,  59.0469644 ,  35.36957738,  28.81689632,\n",
       "         2.87659423,  40.1407392 ,  15.25749752,  40.65390674,\n",
       "        18.35416324,  12.06396189,  28.87191603,  50.00191361,\n",
       "        13.41849723,   4.18594069,  22.23314277,  35.10231895,\n",
       "        13.73833888,  22.79462031,  49.92903643,  85.03369305,\n",
       "        25.67717031,   4.55829128,  32.58273645,  32.11889099,\n",
       "       171.71326871,  19.05031661,   9.59348708,  33.63076889,\n",
       "        60.09448158,  82.46767404,  86.49064538,  17.28877361,\n",
       "        10.80257481,  17.53916701,  32.62745114,  19.30736568,\n",
       "        35.56295585,  16.6973628 ,  20.28702858,  51.69231623,\n",
       "       102.24189091,   2.31512879,  48.90297215,  27.77986933,\n",
       "        58.63848852,   6.8308149 ,   6.84533744,  33.30128092,\n",
       "        47.5143379 ,  14.87838304,   2.4315543 ,  27.01402814,\n",
       "        17.33731357,  21.00170278,  14.22054414,  19.17385044,\n",
       "        37.3799804 ,  11.40153543,   6.90196372,   6.30217255,\n",
       "       150.70637058,  18.11779072,  19.21412724,  14.93214209,\n",
       "        20.94419258,  14.42842449,  21.30028818,  33.7390845 ,\n",
       "        34.03267928,  31.02165716,   9.41376574,   3.99464387,\n",
       "        18.61680674,  22.10715321,  13.09287478,  16.66349251,\n",
       "         9.8675619 ,  15.85051125,  40.16646488,  32.64799875,\n",
       "        11.64083527,  70.59948675,  57.06974249,  14.59444151,\n",
       "        22.3741499 , 105.92445557,  19.37276725,  51.34745085,\n",
       "        15.80798976,   3.21461839,  92.19303392,  23.95692196,\n",
       "        11.29911202,  55.42945879,  17.97087635,   8.51283971,\n",
       "        41.60206744,  12.68024708,  13.65255652,  15.66944038,\n",
       "       226.06451089,  11.60666802,  44.30818859, 257.31019144,\n",
       "         5.92330939,  67.09794959,  16.8399478 ,   3.0708924 ,\n",
       "        30.26467949,  18.83536491,  11.5278207 ,  15.45519216,\n",
       "        19.92728747,  42.56265497,  54.64570474,  53.70956662,\n",
       "        11.20560951,   4.41183086,  16.97975027,  49.59015588,\n",
       "        26.01948961,  21.90083131,   4.73661998,  20.00455693,\n",
       "       236.9926278 ,  16.19032898,   8.68969441,   9.32578402,\n",
       "        32.01524047,  74.53045637,  46.82559646,  80.16630271,\n",
       "        93.02078777,  14.98955671,  49.05358326,  91.57219528,\n",
       "        21.91913379,   8.58913142,  21.65435976,  23.0459419 ,\n",
       "        22.60491114,   9.46934557,   8.96667955,   3.59547483,\n",
       "        41.9819112 ,  42.56773699,  14.61981264,  15.69445375,\n",
       "        23.414199  ,   8.79514053,  23.49715509,  72.68155849,\n",
       "        28.17463495,   5.3311907 ,  54.50044625,  18.72337979,\n",
       "         7.168518  , 176.02429539,  16.07557721,  59.97012469,\n",
       "        48.91083872,  26.51497942,  31.86364972,  24.52160507,\n",
       "         9.24398193,  73.61971187, 131.33087647,   3.620628  ,\n",
       "        17.60549641,  23.55571242, 115.67935869,   2.66067281,\n",
       "        44.82447903,  31.09420559,  87.12580663,  14.48191505,\n",
       "        12.65214386,   6.30801101,   3.54021309,  10.976505  ,\n",
       "         9.35697969,  16.70820098,  10.50455434,   4.72217804,\n",
       "        30.60483291,   4.08071278,  10.38963029,  25.74645828,\n",
       "         3.55722089,  11.48968616,  27.02634327,   6.85511894,\n",
       "         5.72445934,  47.15390784,  11.77073543, 114.12674011,\n",
       "        21.10972519,  30.39908671, 116.34432187,  22.76326119,\n",
       "        92.24011432,  17.11088101,  20.37762799,  14.76095946,\n",
       "        28.3195308 , 144.76009644,  61.08531345,  72.75274414,\n",
       "         9.83352783,   7.02282579,  10.28168608,  14.96075003,\n",
       "        70.54871665,   5.13454697,  26.26159816,   6.91904107,\n",
       "       102.46142758,  12.39141546,  27.55877451,   8.94805113,\n",
       "         3.92749762,   3.36329569, 165.75606254,  34.79023254,\n",
       "        26.39559104,   7.79279404,  12.65922029,  17.82250098,\n",
       "        16.36089168,  74.29093338,  25.95017674,  39.72167445,\n",
       "       175.10132405,  12.83874666,  13.53593006,  24.48186586,\n",
       "        27.6454501 ,  29.79409598,   6.07128697, 107.18356066,\n",
       "        18.38609928,  32.27478099,  21.36808439,   5.5980024 ,\n",
       "         2.44548281,  21.1202419 ,  45.98597274,  31.15668562,\n",
       "         7.40527675,  16.2878681 ,   7.15602265,  33.3423312 ,\n",
       "        22.63792404,  19.10281101,  22.37781825,  34.70519136,\n",
       "        41.04895079,  18.72995019,  30.06115958,  38.91350232,\n",
       "        35.3566138 ,  88.85424219,  55.15488568,  16.54195951,\n",
       "        14.55437921,  69.95605093,  29.48494922,  16.40911243,\n",
       "        17.78974765,  66.30856468,  19.0511498 ,  16.7602287 ,\n",
       "        73.10523886,   7.62212611,  22.6444882 ,  22.68645221,\n",
       "        32.41118088,  26.97205309,  10.03583382, 100.99567245,\n",
       "        20.56030698,  28.49195751,  31.25673482,   4.88186055,\n",
       "        10.55800128,   7.23375822,   8.70113883,   6.46449504,\n",
       "        18.48022208,  35.02224538,  17.22877579,   6.73188816,\n",
       "        14.0794136 ,  87.43585473,  57.70787683,  42.28456882,\n",
       "        66.92500537, 135.35441626,   2.23652293,  52.21049589,\n",
       "        15.22459399,  13.56669231, 105.97596163, 171.21762708,\n",
       "        62.0223968 ,  16.66168928,  63.59765848,  32.29157716,\n",
       "        18.75095379,  14.31910092,  33.89963628,   6.30848129,\n",
       "        14.25393226,  41.20448379,   9.88702536,  30.68434766,\n",
       "        22.78517946,  78.81852001,  14.31318052,  74.51948704,\n",
       "         3.67665966,  42.544881  ,   9.66338408,   5.28622309,\n",
       "        11.37715295,  60.26804242,  12.79514766,   7.71267749,\n",
       "        58.78045677,  60.23865481,  47.28522796, 118.04730618,\n",
       "        24.75022776,  23.20927309,  28.96232425,  87.41041102,\n",
       "        11.62565377,   2.13599125,   6.99052821,   3.19178208,\n",
       "         3.258237  ,  12.62278349,   4.9599803 ,  18.35474522,\n",
       "       119.04541006,  15.86188119,  18.51167104,   8.41350534,\n",
       "       144.33664326, 100.28275522,  36.40101377,   3.35477454,\n",
       "        31.51473244,  71.42900176,  41.95094211,   7.07083521,\n",
       "        26.58097418,   9.40438794,  17.61464028,  49.51029919,\n",
       "         5.45053825,   3.20157421,  50.86233167,  21.72099277,\n",
       "         4.11087936,  38.45190572,   2.8759712 ,  35.05489537,\n",
       "        12.75683559,  21.34251113,  10.88894853,  31.43730187,\n",
       "        18.40426769,   6.00969647,   6.99659912,   5.63304807,\n",
       "        23.20919066,  16.00774539,   9.89820008,   3.12053363,\n",
       "       120.91792269,  25.28289633,  11.57290202,  31.69870551,\n",
       "        24.73150134,  21.22001215,  12.83326123,  14.94455007,\n",
       "        12.48720817,  69.06269379,  60.95654295,  26.10123192,\n",
       "         5.87336507, 115.8971982 ,  12.83955908,  48.99373546,\n",
       "         1.8424125 ,  46.04992404,  45.6161325 ,  10.978646  ,\n",
       "        31.73911026,   7.91921291,  83.50724654,  29.93939196,\n",
       "        36.4989358 ,  45.77799238,  29.03663792,  86.91538348,\n",
       "         5.08499563,  18.94989045,  84.37031693,  75.33085231,\n",
       "        19.17952629,  46.49087511,  16.81773802,  39.5398412 ,\n",
       "        57.31430807,   4.57138584,  22.09654792,  35.79310622,\n",
       "        70.06946712,  50.56154912,  12.63397137,  50.49944987,\n",
       "        27.59936956,  17.58876019,  17.13653671,  18.79339673,\n",
       "         2.25145588, 156.04572367,  19.07285484,  13.23663802,\n",
       "        41.64065299,  24.80479924,   4.81183041,  92.64195227,\n",
       "         5.71787263,  60.76220399,   4.55433525,  17.69885318,\n",
       "        16.5621489 ,   3.35287078,  18.97669964,  31.2139009 ,\n",
       "        36.14827357,  25.15959214,  14.6134254 ,  15.16511776,\n",
       "        43.18378265,  18.54081525,  13.44953736,  45.62377029,\n",
       "        35.43016411,  57.51586753,  65.91698007,  40.79665475,\n",
       "         4.78245054,  71.87102308,   5.35148234,  11.74806658,\n",
       "        73.0575758 ,  64.5904806 ,   1.83528214,  28.57137288,\n",
       "        82.93414906,   5.12041225,  72.59643119,  18.14233699,\n",
       "        17.33976136,   7.23024178,  23.79865202,   7.09158499,\n",
       "        53.17419188,   3.3509618 ,  12.89845323,  24.36996034,\n",
       "        19.28308829,   8.45620449,  14.75303789,  39.47645074,\n",
       "         5.31279948,   9.83184439,  30.88015816,  13.29167662,\n",
       "         6.63071367,  18.90514063,  12.58406441,  31.88948238,\n",
       "        15.30015291,  35.83562907,  16.92861324,  21.6780772 ,\n",
       "         9.56304669,   6.78702285,  62.40041993,  22.08092226,\n",
       "        27.63186813, 102.88052423,  35.32081184,   5.74846151,\n",
       "        47.23639333,   6.94505097,  15.1786292 ,   5.20234878,\n",
       "        16.04006649,  18.81329248,   3.81778038,  20.96788237,\n",
       "        71.97004281,  19.0379499 ,  46.71710449,  39.5694893 ,\n",
       "        13.09523315, 154.04532983,  53.61156709,   4.81627018,\n",
       "        30.8087089 ,   7.1898785 ,   9.72853794,  30.37328668,\n",
       "        51.12569469,  25.47102097,   3.58564211,  48.00416843,\n",
       "         7.82015668,  39.72507192,   2.85148202,  27.2039406 ,\n",
       "        24.1517716 ,  27.4307402 ,  22.48369401,   6.44106349,\n",
       "        67.5019674 ,  60.45118534,   9.50095966,  55.10188321,\n",
       "         3.72362026,  66.0623182 ,  19.54776238,  12.76256469,\n",
       "        31.01786295,  22.97271553,  42.58631933,  31.04968729,\n",
       "        59.99742252,  10.23441942,  13.78456488,  51.23249459,\n",
       "        31.63012824,  15.83086929,   7.70071537,  32.25369964,\n",
       "        13.19584805,   5.01917279,  46.78432294,   6.91050851,\n",
       "        17.61873632,  12.04959149,  77.5299878 ,   8.92773044,\n",
       "       276.66942648,  13.01688153, 154.64737261,  19.95503374,\n",
       "         7.47895096,   4.1342306 ,  24.34554193,  32.78340191,\n",
       "         3.19650316,  45.16405242,  76.29332954, 104.81355735,\n",
       "        25.68621494,  31.78929443,  25.86550629,  12.06282079,\n",
       "        15.23122714, 119.89513549,  20.06956975, 101.02955592,\n",
       "         7.99027696,  24.88261434,  15.68550238,  21.64973382,\n",
       "         8.59325492,  41.05293524,  17.84478092,   6.36307541])"
      ]
     },
     "execution_count": 63,
     "metadata": {},
     "output_type": "execute_result"
    }
   ],
   "source": [
    "mu, sigma = 3.,1.   # mean and standard deviation\n",
    "s = np.random.lognormal(mu, sigma, 1000)\n",
    "s"
   ]
  },
  {
   "cell_type": "code",
   "execution_count": 64,
   "id": "1c7dce2e",
   "metadata": {},
   "outputs": [
    {
     "data": {
      "image/png": "[encoded data removed]",
      "text/plain": [
       "<Figure size 432x288 with 1 Axes>"
      ]
     },
     "metadata": {
      "needs_background": "light"
     },
     "output_type": "display_data"
    }
   ],
   "source": [
    "sns.histplot(s, kde=True)\n",
    "plt.show()"
   ]
  },
  {
   "cell_type": "code",
   "execution_count": 66,
   "id": "799c5cd0",
   "metadata": {},
   "outputs": [
    {
     "data": {
      "image/png": "[encoded data removed]",
      "text/plain": [
       "<Figure size 432x288 with 1 Axes>"
      ]
     },
     "metadata": {
      "needs_background": "light"
     },
     "output_type": "display_data"
    }
   ],
   "source": [
    "# log distribution convert into normal distribution\n",
    "sns.histplot(np.log(s), kde=True)\n",
    "plt.show()"
   ]
  },
  {
   "cell_type": "markdown",
   "id": "2949f94a",
   "metadata": {},
   "source": [
    "## ***Check whether Distribution is Normal Distribution*** "
   ]
  },
  {
   "cell_type": "code",
   "execution_count": 76,
   "id": "c48f9692",
   "metadata": {},
   "outputs": [],
   "source": [
    "## Q-Q plot\n",
    "\n",
    "def plot_data(sample):\n",
    "    plt.figure(figsize=(10,6))\n",
    "    plt.subplot(1,2,1)\n",
    "    sns.histplot(sample)\n",
    "    plt.show()"
   ]
  },
  {
   "cell_type": "code",
   "execution_count": 77,
   "id": "db9e4070",
   "metadata": {},
   "outputs": [
    {
     "data": {
      "image/png": "[encoded data removed]",
      "text/plain": [
       "<Figure size 720x432 with 1 Axes>"
      ]
     },
     "metadata": {
      "needs_background": "light"
     },
     "output_type": "display_data"
    }
   ],
   "source": [
    "s=np.random.normal(0.5,0.2,1000)\n",
    "plot_data(s)"
   ]
  },
  {
   "cell_type": "code",
   "execution_count": 82,
   "id": "17546ab3",
   "metadata": {},
   "outputs": [],
   "source": [
    "## Q-Q plot\n",
    "\n",
    "def plot_data(sample):\n",
    "    \n",
    "    # Create a figure with two subplots\n",
    "    plt.figure(figsize=(10, 6))\n",
    "    plt.subplot(1, 2, 1)\n",
    "    \n",
    "    # Plot a histogram of the sample data\n",
    "    sns.histplot(sample)\n",
    "    \n",
    "    # Create the second subplot for the probability plot\n",
    "    plt.subplot(1, 2, 2)\n",
    "    \n",
    "    # Generate a probability plot of the sample data against the normal distribution\n",
    "    stat.probplot(sample, dist='norm', plot=pylab)\n",
    "    \n",
    "    # Display the plots\n",
    "    plt.show()"
   ]
  },
  {
   "cell_type": "code",
   "execution_count": 83,
   "id": "801e5de3",
   "metadata": {},
   "outputs": [
    {
     "data": {
      "image/png": "[encoded data removed]",
      "text/plain": [
       "<Figure size 720x432 with 2 Axes>"
      ]
     },
     "metadata": {
      "needs_background": "light"
     },
     "output_type": "display_data"
    }
   ],
   "source": [
    "## Create a normal distributed data\n",
    "s=np.random.normal(0.5,0.2,1000)\n",
    "plot_data(s)"
   ]
  },
  {
   "cell_type": "code",
   "execution_count": 84,
   "id": "476c08f4",
   "metadata": {},
   "outputs": [
    {
     "data": {
      "image/png": "[encoded data removed]",
      "text/plain": [
       "<Figure size 720x432 with 2 Axes>"
      ]
     },
     "metadata": {
      "needs_background": "light"
     },
     "output_type": "display_data"
    }
   ],
   "source": [
    "plot_data(df['sepal_width'])"
   ]
  },
  {
   "cell_type": "code",
   "execution_count": 86,
   "id": "fa49377f",
   "metadata": {},
   "outputs": [
    {
     "data": {
      "text/plain": [
       "array([ 35.95166595,  27.80895583,  34.14560171,   5.86070345,\n",
       "        33.75408135,  20.06702227,  20.28045195,  18.52496647,\n",
       "        15.02717278,  44.92267895,  10.77199692, 108.55393378,\n",
       "        23.60291483,   4.60789791,  89.87890256,  21.00878034,\n",
       "         4.31647284,   5.79848781,  49.3150172 ,   8.65142344,\n",
       "        87.10124613,  31.2867175 ,  48.72736709,  26.401232  ,\n",
       "         2.66697571,  92.00172093,  10.45178302,  42.02725099,\n",
       "        75.46930532,  47.04496319,  22.41056328,  20.25218639,\n",
       "        14.26899068,   6.38522059,  30.0506641 ,  97.06517665,\n",
       "        52.95213477,  71.29835026,  84.28211571,   3.26181616,\n",
       "        88.08869017,  20.37488366, 237.1159939 ,  60.29929638,\n",
       "       310.79223259, 127.55641843,  25.43350649,   1.85919327,\n",
       "        27.02420473,  13.91229092,  72.21879743,  89.47834894,\n",
       "        56.18831673,  22.22337972,  16.47626149,  15.23847523,\n",
       "        15.28496867,   7.72270362,   2.9094212 ,   3.87805903,\n",
       "        25.7841516 ,  72.18460915,  44.43562483,  30.78191633,\n",
       "        27.98017699,   4.26544012,  12.48072643,  22.06408072,\n",
       "        36.13283567,  35.61637342,  18.80616785,  11.05562447,\n",
       "         4.75784877,  24.34584943,   7.75887907,  14.53128502,\n",
       "        29.62053985,  43.35115222,  14.46734091,  42.54197509,\n",
       "        14.46764316,  12.4227693 ,  18.7978968 ,  10.84414875,\n",
       "        31.11324182,  48.23652406,  65.30915691,   3.18583712,\n",
       "        13.02429134,  17.84044869,  98.65934555,  14.85529399,\n",
       "        28.2143342 ,  33.1781294 ,   5.50091552,  25.51065122,\n",
       "        24.91816482,   4.00390008,  77.54588769,   3.40810776])"
      ]
     },
     "execution_count": 86,
     "metadata": {},
     "output_type": "execute_result"
    }
   ],
   "source": [
    "mu, sigma = 3., 1. # mean and standard deviation\n",
    "sample = np.random.lognormal(mu, sigma, 100)\n",
    "sample"
   ]
  },
  {
   "cell_type": "code",
   "execution_count": 87,
   "id": "8ccf2f02",
   "metadata": {},
   "outputs": [],
   "source": [
    "def plot_data_log(sample):\n",
    "    plt.figure(figsize=(10,6))\n",
    "    plt.subplot(1,2,1)\n",
    "    sns.histplot(sample)\n",
    "    plt.subplot(1,2,2)\n",
    "    stat.probplot(np.log(sample),dist='norm',plot=pylab)\n",
    "    plt.show()"
   ]
  },
  {
   "cell_type": "code",
   "execution_count": 88,
   "id": "a21dc7b1",
   "metadata": {},
   "outputs": [
    {
     "data": {
      "image/png": "[encoded data removed]",
      "text/plain": [
       "<Figure size 720x432 with 2 Axes>"
      ]
     },
     "metadata": {
      "needs_background": "light"
     },
     "output_type": "display_data"
    }
   ],
   "source": [
    "plot_data_log(sample)"
   ]
  },
  {
   "cell_type": "markdown",
   "id": "2b462e0e",
   "metadata": {},
   "source": [
    "## ***Pearson and Sperman Rank Correlation***"
   ]
  },
  {
   "cell_type": "code",
   "execution_count": 90,
   "id": "677a5a39",
   "metadata": {},
   "outputs": [],
   "source": [
    "df = sns.load_dataset('tips')"
   ]
  },
  {
   "cell_type": "code",
   "execution_count": 91,
   "id": "deedb47a",
   "metadata": {},
   "outputs": [
    {
     "data": {
      "text/html": [
       "<div>\n",
       "<style scoped>\n",
       "    .dataframe tbody tr th:only-of-type {\n",
       "        vertical-align: middle;\n",
       "    }\n",
       "\n",
       "    .dataframe tbody tr th {\n",
       "        vertical-align: top;\n",
       "    }\n",
       "\n",
       "    .dataframe thead th {\n",
       "        text-align: right;\n",
       "    }\n",
       "</style>\n",
       "<table border=\"1\" class=\"dataframe\">\n",
       "  <thead>\n",
       "    <tr style=\"text-align: right;\">\n",
       "      <th></th>\n",
       "      <th>total_bill</th>\n",
       "      <th>tip</th>\n",
       "      <th>sex</th>\n",
       "      <th>smoker</th>\n",
       "      <th>day</th>\n",
       "      <th>time</th>\n",
       "      <th>size</th>\n",
       "    </tr>\n",
       "  </thead>\n",
       "  <tbody>\n",
       "    <tr>\n",
       "      <th>0</th>\n",
       "      <td>16.99</td>\n",
       "      <td>1.01</td>\n",
       "      <td>Female</td>\n",
       "      <td>No</td>\n",
       "      <td>Sun</td>\n",
       "      <td>Dinner</td>\n",
       "      <td>2</td>\n",
       "    </tr>\n",
       "    <tr>\n",
       "      <th>1</th>\n",
       "      <td>10.34</td>\n",
       "      <td>1.66</td>\n",
       "      <td>Male</td>\n",
       "      <td>No</td>\n",
       "      <td>Sun</td>\n",
       "      <td>Dinner</td>\n",
       "      <td>3</td>\n",
       "    </tr>\n",
       "    <tr>\n",
       "      <th>2</th>\n",
       "      <td>21.01</td>\n",
       "      <td>3.50</td>\n",
       "      <td>Male</td>\n",
       "      <td>No</td>\n",
       "      <td>Sun</td>\n",
       "      <td>Dinner</td>\n",
       "      <td>3</td>\n",
       "    </tr>\n",
       "    <tr>\n",
       "      <th>3</th>\n",
       "      <td>23.68</td>\n",
       "      <td>3.31</td>\n",
       "      <td>Male</td>\n",
       "      <td>No</td>\n",
       "      <td>Sun</td>\n",
       "      <td>Dinner</td>\n",
       "      <td>2</td>\n",
       "    </tr>\n",
       "    <tr>\n",
       "      <th>4</th>\n",
       "      <td>24.59</td>\n",
       "      <td>3.61</td>\n",
       "      <td>Female</td>\n",
       "      <td>No</td>\n",
       "      <td>Sun</td>\n",
       "      <td>Dinner</td>\n",
       "      <td>4</td>\n",
       "    </tr>\n",
       "  </tbody>\n",
       "</table>\n",
       "</div>"
      ],
      "text/plain": [
       "   total_bill   tip     sex smoker  day    time  size\n",
       "0       16.99  1.01  Female     No  Sun  Dinner     2\n",
       "1       10.34  1.66    Male     No  Sun  Dinner     3\n",
       "2       21.01  3.50    Male     No  Sun  Dinner     3\n",
       "3       23.68  3.31    Male     No  Sun  Dinner     2\n",
       "4       24.59  3.61  Female     No  Sun  Dinner     4"
      ]
     },
     "execution_count": 91,
     "metadata": {},
     "output_type": "execute_result"
    }
   ],
   "source": [
    "df.head()"
   ]
  },
  {
   "cell_type": "code",
   "execution_count": 92,
   "id": "8fd629d9",
   "metadata": {},
   "outputs": [
    {
     "data": {
      "text/html": [
       "<div>\n",
       "<style scoped>\n",
       "    .dataframe tbody tr th:only-of-type {\n",
       "        vertical-align: middle;\n",
       "    }\n",
       "\n",
       "    .dataframe tbody tr th {\n",
       "        vertical-align: top;\n",
       "    }\n",
       "\n",
       "    .dataframe thead th {\n",
       "        text-align: right;\n",
       "    }\n",
       "</style>\n",
       "<table border=\"1\" class=\"dataframe\">\n",
       "  <thead>\n",
       "    <tr style=\"text-align: right;\">\n",
       "      <th></th>\n",
       "      <th>total_bill</th>\n",
       "      <th>tip</th>\n",
       "      <th>size</th>\n",
       "    </tr>\n",
       "  </thead>\n",
       "  <tbody>\n",
       "    <tr>\n",
       "      <th>total_bill</th>\n",
       "      <td>1.000000</td>\n",
       "      <td>0.675734</td>\n",
       "      <td>0.598315</td>\n",
       "    </tr>\n",
       "    <tr>\n",
       "      <th>tip</th>\n",
       "      <td>0.675734</td>\n",
       "      <td>1.000000</td>\n",
       "      <td>0.489299</td>\n",
       "    </tr>\n",
       "    <tr>\n",
       "      <th>size</th>\n",
       "      <td>0.598315</td>\n",
       "      <td>0.489299</td>\n",
       "      <td>1.000000</td>\n",
       "    </tr>\n",
       "  </tbody>\n",
       "</table>\n",
       "</div>"
      ],
      "text/plain": [
       "            total_bill       tip      size\n",
       "total_bill    1.000000  0.675734  0.598315\n",
       "tip           0.675734  1.000000  0.489299\n",
       "size          0.598315  0.489299  1.000000"
      ]
     },
     "execution_count": 92,
     "metadata": {},
     "output_type": "execute_result"
    }
   ],
   "source": [
    "df.corr()"
   ]
  },
  {
   "cell_type": "code",
   "execution_count": 94,
   "id": "8474224f",
   "metadata": {},
   "outputs": [
    {
     "data": {
      "image/png": "[encoded data removed]",
      "text/plain": [
       "<Figure size 540x540 with 12 Axes>"
      ]
     },
     "metadata": {
      "needs_background": "light"
     },
     "output_type": "display_data"
    }
   ],
   "source": [
    "sns.pairplot(df)\n",
    "plt.show()"
   ]
  }
 ],
 "metadata": {
  "kernelspec": {
   "display_name": "Python 3 (ipykernel)",
   "language": "python",
   "name": "python3"
  },
  "language_info": {
   "codemirror_mode": {
    "name": "ipython",
    "version": 3
   },
   "file_extension": ".py",
   "mimetype": "text/x-python",
   "name": "python",
   "nbconvert_exporter": "python",
   "pygments_lexer": "ipython3",
   "version": "3.9.12"
  }
 },
 "nbformat": 4,
 "nbformat_minor": 5
}
