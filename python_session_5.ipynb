{
  "nbformat": 4,
  "nbformat_minor": 0,
  "metadata": {
    "colab": {
      "provenance": []
    },
    "kernelspec": {
      "name": "python3",
      "display_name": "Python 3"
    },
    "language_info": {
      "name": "python"
    }
  },
  "cells": [
    {
      "cell_type": "markdown",
      "source": [
        "# **Silicing**\n",
        "# **String, int and boolean data types**\n",
        "# **Using the list() constructor to make a List**\n",
        "# **Change Item Value**\n",
        "# **Change the second value by replacing it with two new values** **bold text**"
      ],
      "metadata": {
        "id": "5yDytR_gOo-V"
      }
    },
    {
      "cell_type": "markdown",
      "source": [
        "### **String, int and boolean data types**\n"
      ],
      "metadata": {
        "id": "70F8PREQUdMx"
      }
    },
    {
      "cell_type": "code",
      "source": [
        "# string\n",
        "list1 = [\"apple\",\"banana\",\"mango\"]\n",
        "# int and float\n",
        "list2 = [12 , 35.000 , 78 , 96 ]\n",
        "# boolean values\n",
        "list3 = [True , False]\n",
        "# multiple values in list\n",
        "list4 = [\"apple\", True, False, 120, 135.000, list1]\n",
        "\n",
        ""
      ],
      "metadata": {
        "id": "WFXFnEvNPQog"
      },
      "execution_count": 9,
      "outputs": []
    },
    {
      "cell_type": "code",
      "source": [
        "print(list1)"
      ],
      "metadata": {
        "colab": {
          "base_uri": "https://localhost:8080/"
        },
        "id": "d9Yau8ijPaF_",
        "outputId": "51075c53-f681-4209-837f-a0a901933ced"
      },
      "execution_count": 10,
      "outputs": [
        {
          "output_type": "stream",
          "name": "stdout",
          "text": [
            "['apple', 'banana', 'mango']\n"
          ]
        }
      ]
    },
    {
      "cell_type": "code",
      "source": [
        "print(list2)"
      ],
      "metadata": {
        "colab": {
          "base_uri": "https://localhost:8080/"
        },
        "id": "u24-MbUTPvAf",
        "outputId": "923f66e8-31fd-44a8-ae03-12f0fcdc8e07"
      },
      "execution_count": 11,
      "outputs": [
        {
          "output_type": "stream",
          "name": "stdout",
          "text": [
            "[12, 35.0, 78, 96]\n"
          ]
        }
      ]
    },
    {
      "cell_type": "code",
      "source": [
        "print(list3)"
      ],
      "metadata": {
        "colab": {
          "base_uri": "https://localhost:8080/"
        },
        "id": "W9tKZONHQMVG",
        "outputId": "de6d08a4-012d-4224-ae87-74276a4b3766"
      },
      "execution_count": 12,
      "outputs": [
        {
          "output_type": "stream",
          "name": "stdout",
          "text": [
            "[True, False]\n"
          ]
        }
      ]
    },
    {
      "cell_type": "code",
      "source": [
        "print(list4)"
      ],
      "metadata": {
        "colab": {
          "base_uri": "https://localhost:8080/"
        },
        "id": "hW3Y5TNAQO-z",
        "outputId": "d92aa3cc-bef8-4b10-b5c3-710549464056"
      },
      "execution_count": 13,
      "outputs": [
        {
          "output_type": "stream",
          "name": "stdout",
          "text": [
            "['apple', True, False, 120, 135.0, ['apple', 'banana', 'mango']]\n"
          ]
        }
      ]
    },
    {
      "cell_type": "markdown",
      "source": [
        "### **Using the list() constructor to make a List**"
      ],
      "metadata": {
        "id": "q71YghJpV6c3"
      }
    },
    {
      "cell_type": "code",
      "source": [
        "lang = (\"python\", \"java\", \"R\" , \"C++\" , \"html\",\"CSS\")"
      ],
      "metadata": {
        "id": "FVaMTY5mQ0_3"
      },
      "execution_count": 16,
      "outputs": []
    },
    {
      "cell_type": "code",
      "source": [
        "type(lang)"
      ],
      "metadata": {
        "colab": {
          "base_uri": "https://localhost:8080/"
        },
        "id": "ESCdUIk2Q2vg",
        "outputId": "fbe86fa5-e54b-47f2-ad88-cd78f65c9fe0"
      },
      "execution_count": 17,
      "outputs": [
        {
          "output_type": "execute_result",
          "data": {
            "text/plain": [
              "tuple"
            ]
          },
          "metadata": {},
          "execution_count": 17
        }
      ]
    },
    {
      "cell_type": "code",
      "source": [
        "list(lang)"
      ],
      "metadata": {
        "colab": {
          "base_uri": "https://localhost:8080/"
        },
        "id": "itHFlpCJXky3",
        "outputId": "d5d883a7-7a72-4082-de30-2747d0507124"
      },
      "execution_count": 24,
      "outputs": [
        {
          "output_type": "execute_result",
          "data": {
            "text/plain": [
              "['python', 'java', 'R', 'C++', 'html', 'CSS']"
            ]
          },
          "metadata": {},
          "execution_count": 24
        }
      ]
    },
    {
      "cell_type": "code",
      "source": [
        "type(lang)"
      ],
      "metadata": {
        "colab": {
          "base_uri": "https://localhost:8080/"
        },
        "id": "I3gIYqIoXogE",
        "outputId": "d2aa385d-a5e3-4c39-ef07-7dae9bc4ac54"
      },
      "execution_count": 25,
      "outputs": [
        {
          "output_type": "execute_result",
          "data": {
            "text/plain": [
              "tuple"
            ]
          },
          "metadata": {},
          "execution_count": 25
        }
      ]
    },
    {
      "cell_type": "code",
      "source": [
        "update_value = list(lang)\n",
        "update_value"
      ],
      "metadata": {
        "colab": {
          "base_uri": "https://localhost:8080/"
        },
        "id": "z_t89JqkWmnt",
        "outputId": "2a0aead2-2f54-4f98-b0ce-6e4a6823cb3c"
      },
      "execution_count": 22,
      "outputs": [
        {
          "output_type": "execute_result",
          "data": {
            "text/plain": [
              "['python', 'java', 'R', 'C++', 'html', 'CSS']"
            ]
          },
          "metadata": {},
          "execution_count": 22
        }
      ]
    },
    {
      "cell_type": "code",
      "source": [
        "type(update_value)"
      ],
      "metadata": {
        "colab": {
          "base_uri": "https://localhost:8080/"
        },
        "id": "YvjZYPKFXKnP",
        "outputId": "fd98bb7e-5470-4bdd-945f-db08988ac6bb"
      },
      "execution_count": 23,
      "outputs": [
        {
          "output_type": "execute_result",
          "data": {
            "text/plain": [
              "list"
            ]
          },
          "metadata": {},
          "execution_count": 23
        }
      ]
    },
    {
      "cell_type": "code",
      "source": [
        "# type()\n",
        "# list()\n",
        "# print()\n",
        "len(lang)"
      ],
      "metadata": {
        "colab": {
          "base_uri": "https://localhost:8080/"
        },
        "id": "NaDqkSB-WzYZ",
        "outputId": "29fb8544-8f98-4173-a2e3-8aa88168b66a"
      },
      "execution_count": 18,
      "outputs": [
        {
          "output_type": "execute_result",
          "data": {
            "text/plain": [
              "6"
            ]
          },
          "metadata": {},
          "execution_count": 18
        }
      ]
    },
    {
      "cell_type": "markdown",
      "source": [
        "### **Silicing**"
      ],
      "metadata": {
        "id": "1NY2HdnsYOPJ"
      }
    },
    {
      "cell_type": "code",
      "source": [
        "update_value"
      ],
      "metadata": {
        "colab": {
          "base_uri": "https://localhost:8080/"
        },
        "id": "e3vxZSWjW_kJ",
        "outputId": "09229233-f559-4b6a-ee22-981cfa5c0035"
      },
      "execution_count": 26,
      "outputs": [
        {
          "output_type": "execute_result",
          "data": {
            "text/plain": [
              "['python', 'java', 'R', 'C++', 'html', 'CSS']"
            ]
          },
          "metadata": {},
          "execution_count": 26
        }
      ]
    },
    {
      "cell_type": "code",
      "source": [
        "update_value[0:6]"
      ],
      "metadata": {
        "colab": {
          "base_uri": "https://localhost:8080/"
        },
        "id": "3-MBBbQzYaJI",
        "outputId": "a848f2d9-7cbf-4b22-f99c-57641f68468a"
      },
      "execution_count": 32,
      "outputs": [
        {
          "output_type": "execute_result",
          "data": {
            "text/plain": [
              "['python', 'java', 'R', 'C++', 'html', 'CSS']"
            ]
          },
          "metadata": {},
          "execution_count": 32
        }
      ]
    },
    {
      "cell_type": "code",
      "source": [
        "update_value[1:4]"
      ],
      "metadata": {
        "colab": {
          "base_uri": "https://localhost:8080/"
        },
        "id": "Iz_Rwm31YqIc",
        "outputId": "6168ce4d-5f3f-49b1-f7f2-e61424dd80aa"
      },
      "execution_count": 33,
      "outputs": [
        {
          "output_type": "execute_result",
          "data": {
            "text/plain": [
              "['java', 'R', 'C++']"
            ]
          },
          "metadata": {},
          "execution_count": 33
        }
      ]
    },
    {
      "cell_type": "code",
      "source": [
        "update_value[:4]"
      ],
      "metadata": {
        "colab": {
          "base_uri": "https://localhost:8080/"
        },
        "id": "ROzXcYEMZKCO",
        "outputId": "0dbb6c76-5ffd-42e8-d3ea-d415dc0b0155"
      },
      "execution_count": 34,
      "outputs": [
        {
          "output_type": "execute_result",
          "data": {
            "text/plain": [
              "['python', 'java', 'R', 'C++']"
            ]
          },
          "metadata": {},
          "execution_count": 34
        }
      ]
    },
    {
      "cell_type": "code",
      "source": [
        "update_value[2:]"
      ],
      "metadata": {
        "colab": {
          "base_uri": "https://localhost:8080/"
        },
        "id": "tNrXH03jZS8B",
        "outputId": "768507bd-d9e6-4eba-8b82-a3fef7c83e5a"
      },
      "execution_count": 35,
      "outputs": [
        {
          "output_type": "execute_result",
          "data": {
            "text/plain": [
              "['R', 'C++', 'html', 'CSS']"
            ]
          },
          "metadata": {},
          "execution_count": 35
        }
      ]
    },
    {
      "cell_type": "code",
      "source": [
        "list4"
      ],
      "metadata": {
        "colab": {
          "base_uri": "https://localhost:8080/"
        },
        "id": "lwtU2H26Zd9H",
        "outputId": "0bdfb739-9d4c-41f2-b48c-ccbcd3ee189d"
      },
      "execution_count": 38,
      "outputs": [
        {
          "output_type": "execute_result",
          "data": {
            "text/plain": [
              "['apple', True, False, 120, 135.0, ['apple', 'banana', 'mango']]"
            ]
          },
          "metadata": {},
          "execution_count": 38
        }
      ]
    },
    {
      "cell_type": "code",
      "source": [
        "list4[-1:]"
      ],
      "metadata": {
        "colab": {
          "base_uri": "https://localhost:8080/"
        },
        "id": "5Tk9QDs_ZpyF",
        "outputId": "5c19fea1-0da9-4acd-dad8-06ea56ea0ad0"
      },
      "execution_count": 43,
      "outputs": [
        {
          "output_type": "execute_result",
          "data": {
            "text/plain": [
              "[['apple', 'banana', 'mango']]"
            ]
          },
          "metadata": {},
          "execution_count": 43
        }
      ]
    },
    {
      "cell_type": "code",
      "source": [
        "list4[-2]"
      ],
      "metadata": {
        "colab": {
          "base_uri": "https://localhost:8080/"
        },
        "id": "mYq7serrZyDK",
        "outputId": "9300530a-0797-4f8e-a1e5-3dbbc46cef6e"
      },
      "execution_count": 45,
      "outputs": [
        {
          "output_type": "execute_result",
          "data": {
            "text/plain": [
              "135.0"
            ]
          },
          "metadata": {},
          "execution_count": 45
        }
      ]
    },
    {
      "cell_type": "code",
      "source": [
        "update_value"
      ],
      "metadata": {
        "colab": {
          "base_uri": "https://localhost:8080/"
        },
        "id": "5ig5YOQSaBcl",
        "outputId": "1f4c1dcb-9f16-4811-a206-de2586f20c25"
      },
      "execution_count": 47,
      "outputs": [
        {
          "output_type": "execute_result",
          "data": {
            "text/plain": [
              "['python', 'java', 'R', 'C++', 'html', 'CSS']"
            ]
          },
          "metadata": {},
          "execution_count": 47
        }
      ]
    },
    {
      "cell_type": "code",
      "source": [
        "update_value[-5]"
      ],
      "metadata": {
        "colab": {
          "base_uri": "https://localhost:8080/",
          "height": 35
        },
        "id": "EAVGQt8raWST",
        "outputId": "f1f9d284-6201-478e-a64a-f2c96cde2625"
      },
      "execution_count": 50,
      "outputs": [
        {
          "output_type": "execute_result",
          "data": {
            "text/plain": [
              "'java'"
            ],
            "application/vnd.google.colaboratory.intrinsic+json": {
              "type": "string"
            }
          },
          "metadata": {},
          "execution_count": 50
        }
      ]
    },
    {
      "cell_type": "code",
      "source": [],
      "metadata": {
        "id": "mqXAx3egad3E"
      },
      "execution_count": null,
      "outputs": []
    }
  ]
}