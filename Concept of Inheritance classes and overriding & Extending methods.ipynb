{
 "cells": [
  {
   "cell_type": "markdown",
   "id": "f52a34d2",
   "metadata": {},
   "source": [
    "## Inheritance\n",
    "* parent class -> base class, superclass\n",
    "* child class-> derived class, subclass"
   ]
  },
  {
   "cell_type": "code",
   "execution_count": 1,
   "id": "7fe0bfb0",
   "metadata": {},
   "outputs": [],
   "source": [
    "class Animal:  \n",
    "    def speak(self):\n",
    "        print(\"Animal Speak\")"
   ]
  },
  {
   "cell_type": "code",
   "execution_count": 2,
   "id": "49f79597",
   "metadata": {},
   "outputs": [],
   "source": [
    "animal = Animal()"
   ]
  },
  {
   "cell_type": "code",
   "execution_count": 3,
   "id": "1fe40861",
   "metadata": {},
   "outputs": [
    {
     "name": "stdout",
     "output_type": "stream",
     "text": [
      "Animal Speak\n"
     ]
    }
   ],
   "source": [
    "animal.speak()"
   ]
  },
  {
   "cell_type": "code",
   "execution_count": 4,
   "id": "672ed7b6",
   "metadata": {},
   "outputs": [],
   "source": [
    "class Dog(Animal):\n",
    "    def bark(self):\n",
    "        print(\"Dog barks\")"
   ]
  },
  {
   "cell_type": "code",
   "execution_count": 5,
   "id": "1b77ebd0",
   "metadata": {},
   "outputs": [],
   "source": [
    "my_dog = Dog()"
   ]
  },
  {
   "cell_type": "code",
   "execution_count": 6,
   "id": "5ffb3ac3",
   "metadata": {},
   "outputs": [
    {
     "name": "stdout",
     "output_type": "stream",
     "text": [
      "Animal Speak\n"
     ]
    }
   ],
   "source": [
    "my_dog.speak()"
   ]
  },
  {
   "cell_type": "code",
   "execution_count": 7,
   "id": "db05640b",
   "metadata": {},
   "outputs": [
    {
     "name": "stdout",
     "output_type": "stream",
     "text": [
      "Dog barks\n"
     ]
    }
   ],
   "source": [
    "my_dog.bark()"
   ]
  },
  {
   "cell_type": "code",
   "execution_count": 8,
   "id": "faf5b556",
   "metadata": {},
   "outputs": [
    {
     "name": "stdout",
     "output_type": "stream",
     "text": [
      "Animal Speak\n",
      "Dog barks\n"
     ]
    }
   ],
   "source": [
    "class Animal:     # Parent \n",
    "    def speak(self):\n",
    "        print(\"Animal Speak\")\n",
    "        \n",
    "        \n",
    "        \n",
    "class Dog(Animal):    # Child\n",
    "    def bark(self):\n",
    "        print(\"Dog barks\")\n",
    "\n",
    "        \n",
    "my_dog = Dog()\n",
    "my_dog.speak()  # Inherited method from Animal\n",
    "my_dog.bark()   # Method specific to Dog"
   ]
  },
  {
   "cell_type": "code",
   "execution_count": 10,
   "id": "6f52bc70",
   "metadata": {},
   "outputs": [],
   "source": [
    "class Animal:     # Parent\n",
    "    def __init__(self, name, age):\n",
    "        self.name = name\n",
    "        self.age = age\n",
    "    \n",
    "    \n",
    "    def speak(self):\n",
    "        print(\"Animal Speak\")\n",
    "        \n",
    "                \n",
    "class Dog(Animal):    # Child\n",
    "    def bark(self):\n",
    "        print(\"Dog barks\")"
   ]
  },
  {
   "cell_type": "code",
   "execution_count": 11,
   "id": "0aaf4289",
   "metadata": {},
   "outputs": [
    {
     "ename": "TypeError",
     "evalue": "__init__() missing 2 required positional arguments: 'name' and 'age'",
     "output_type": "error",
     "traceback": [
      "\u001b[1;31m---------------------------------------------------------------------------\u001b[0m",
      "\u001b[1;31mTypeError\u001b[0m                                 Traceback (most recent call last)",
      "Input \u001b[1;32mIn [11]\u001b[0m, in \u001b[0;36m<cell line: 1>\u001b[1;34m()\u001b[0m\n\u001b[1;32m----> 1\u001b[0m my_dog \u001b[38;5;241m=\u001b[39m \u001b[43mDog\u001b[49m\u001b[43m(\u001b[49m\u001b[43m)\u001b[49m\n",
      "\u001b[1;31mTypeError\u001b[0m: __init__() missing 2 required positional arguments: 'name' and 'age'"
     ]
    }
   ],
   "source": [
    "my_dog = Dog()"
   ]
  },
  {
   "cell_type": "code",
   "execution_count": 12,
   "id": "a9286eee",
   "metadata": {},
   "outputs": [],
   "source": [
    "my_dog = Dog(\"dog\", 5)"
   ]
  },
  {
   "cell_type": "code",
   "execution_count": 13,
   "id": "2542cd53",
   "metadata": {},
   "outputs": [
    {
     "name": "stdout",
     "output_type": "stream",
     "text": [
      "Animal Speak\n"
     ]
    }
   ],
   "source": [
    "my_dog.speak()"
   ]
  },
  {
   "cell_type": "code",
   "execution_count": 14,
   "id": "3388c870",
   "metadata": {},
   "outputs": [
    {
     "name": "stdout",
     "output_type": "stream",
     "text": [
      "Dog barks\n"
     ]
    }
   ],
   "source": [
    "my_dog.bark()"
   ]
  },
  {
   "cell_type": "markdown",
   "id": "7c6c64fe",
   "metadata": {},
   "source": [
    "## Shape Inheritance"
   ]
  },
  {
   "cell_type": "code",
   "execution_count": 15,
   "id": "5abcedb3",
   "metadata": {},
   "outputs": [],
   "source": [
    "class Shape:        # Parent\n",
    "    def area(self):\n",
    "        pass\n",
    "    \n",
    "class Square(Shape):    # Child\n",
    "    def __init__(self, side_lenght):\n",
    "        self.side_lenght = side_lenght\n",
    "        \n",
    "    def area(self):\n",
    "        return self.side_lenght ** 2\n",
    "\n",
    "    "
   ]
  },
  {
   "cell_type": "code",
   "execution_count": 16,
   "id": "12d31a9d",
   "metadata": {},
   "outputs": [],
   "source": [
    "my_square = Square(5)"
   ]
  },
  {
   "cell_type": "code",
   "execution_count": 17,
   "id": "8f6bd381",
   "metadata": {},
   "outputs": [
    {
     "name": "stdout",
     "output_type": "stream",
     "text": [
      "25\n"
     ]
    }
   ],
   "source": [
    "# Calculate area based on inheritance\n",
    "print(my_square.area())"
   ]
  },
  {
   "cell_type": "code",
   "execution_count": 22,
   "id": "ae8d71b5",
   "metadata": {},
   "outputs": [
    {
     "name": "stdout",
     "output_type": "stream",
     "text": [
      "Dog is barking, dog is eating meat\n"
     ]
    }
   ],
   "source": [
    "animal = \"Dog\"\n",
    "beauti = \"meat\"\n",
    "print(f\"{animal} is barking, dog is eating {beauti}\")"
   ]
  },
  {
   "cell_type": "code",
   "execution_count": 23,
   "id": "b627f073",
   "metadata": {},
   "outputs": [],
   "source": [
    "class Animal:\n",
    "    def __init__(self, name, age):\n",
    "        self.name = name\n",
    "        self.age = age\n",
    "    \n",
    "    def speak(self):\n",
    "        print(f\"{self.name} makes a sound\")\n",
    "        "
   ]
  },
  {
   "cell_type": "code",
   "execution_count": 29,
   "id": "26ea3de6",
   "metadata": {},
   "outputs": [],
   "source": [
    "my_animal = Animal(\"Fox\", 5)"
   ]
  },
  {
   "cell_type": "code",
   "execution_count": 30,
   "id": "2ebbf1c9",
   "metadata": {},
   "outputs": [
    {
     "name": "stdout",
     "output_type": "stream",
     "text": [
      "Fox makes a sound\n"
     ]
    }
   ],
   "source": [
    "my_animal.speak()"
   ]
  },
  {
   "cell_type": "code",
   "execution_count": 31,
   "id": "f96102f7",
   "metadata": {},
   "outputs": [],
   "source": [
    "class Animal:    # parent\n",
    "    def __init__(self, name, age):\n",
    "        self.name = name\n",
    "        self.age = age\n",
    "    \n",
    "    def speak(self):\n",
    "        print(f\"{self.name} makes a sound\")\n",
    "        \n",
    "\n",
    "class Dog(Animal):    # Child\n",
    "    def __init__(self,name,age,breed):\n",
    "        self.name = name\n",
    "        self.age = age\n",
    "        self.breed = breed"
   ]
  },
  {
   "cell_type": "code",
   "execution_count": 32,
   "id": "4200339e",
   "metadata": {},
   "outputs": [],
   "source": [
    "my_animal = Dog(\"dog\", 5, \"wild\")"
   ]
  },
  {
   "cell_type": "code",
   "execution_count": 33,
   "id": "e22480e6",
   "metadata": {},
   "outputs": [
    {
     "data": {
      "text/plain": [
       "'wild'"
      ]
     },
     "execution_count": 33,
     "metadata": {},
     "output_type": "execute_result"
    }
   ],
   "source": [
    "my_animal.breed"
   ]
  },
  {
   "cell_type": "code",
   "execution_count": 34,
   "id": "b91f496e",
   "metadata": {},
   "outputs": [],
   "source": [
    "class Animal:   # parent\n",
    "    def __init__(self, name, age):\n",
    "        self.name = name\n",
    "        self.age = age\n",
    "    \n",
    "    def speak(self):\n",
    "        print(f\"{self.name} makes a sound\")\n",
    "        \n",
    "\n",
    "class Dog(Animal):    # Child\n",
    "    def __init__(self,name,breed, age):\n",
    "        super().__init__(name,age)\n",
    "        self.breed = breed\n",
    "        "
   ]
  },
  {
   "cell_type": "code",
   "execution_count": 35,
   "id": "ac267edc",
   "metadata": {},
   "outputs": [],
   "source": [
    "my_dog = Dog(\"dog\", \"bark\", 6)"
   ]
  },
  {
   "cell_type": "code",
   "execution_count": 36,
   "id": "241322c3",
   "metadata": {},
   "outputs": [
    {
     "data": {
      "text/plain": [
       "'bark'"
      ]
     },
     "execution_count": 36,
     "metadata": {},
     "output_type": "execute_result"
    }
   ],
   "source": [
    "my_dog.breed"
   ]
  },
  {
   "cell_type": "code",
   "execution_count": 37,
   "id": "bb12bc52",
   "metadata": {},
   "outputs": [
    {
     "data": {
      "text/plain": [
       "'dog'"
      ]
     },
     "execution_count": 37,
     "metadata": {},
     "output_type": "execute_result"
    }
   ],
   "source": [
    "my_dog.name"
   ]
  },
  {
   "cell_type": "code",
   "execution_count": 38,
   "id": "60aea991",
   "metadata": {},
   "outputs": [
    {
     "data": {
      "text/plain": [
       "6"
      ]
     },
     "execution_count": 38,
     "metadata": {},
     "output_type": "execute_result"
    }
   ],
   "source": [
    "my_dog.age"
   ]
  },
  {
   "cell_type": "code",
   "execution_count": 39,
   "id": "e1685d39",
   "metadata": {},
   "outputs": [
    {
     "name": "stdout",
     "output_type": "stream",
     "text": [
      "dog makes a sound\n"
     ]
    }
   ],
   "source": [
    "my_dog.speak()"
   ]
  },
  {
   "cell_type": "code",
   "execution_count": 40,
   "id": "9ff08870",
   "metadata": {},
   "outputs": [],
   "source": [
    "class Vehicle:\n",
    "    def __init__(self, brand):\n",
    "        self.brand = brand\n",
    "\n",
    "    def start_engine(self):\n",
    "        print(f\"{self.brand}'s engine starts\")\n",
    "\n",
    "    def stop_engine(self):\n",
    "        print(f\"{self.brand}'s engine stops\")\n",
    "\n",
    "        \n",
    "        \n",
    "        \n",
    "class Car(Vehicle):\n",
    "    def __init__(self, brand, model):\n",
    "        super().__init__(brand)\n",
    "        self.model = model        \n",
    "        \n",
    "    # Overriding the start_engine method of the superclass\n",
    "    def start_engine(self):\n",
    "        print(f\"{self.brand} {self.model}'s engine starts with a roar\")\n",
    "\n",
    "    \n",
    "    # Extending the functionality by adding a new method\n",
    "    def drive(self):\n",
    "        print(f\"{self.brand} {self.model} is now on the move\")\n"
   ]
  },
  {
   "cell_type": "code",
   "execution_count": 42,
   "id": "0c2d4a0b",
   "metadata": {},
   "outputs": [],
   "source": [
    "# Creating instances of the subclasses\n",
    "vehicle_instance = Vehicle(\"Generic\")\n",
    "car_instance = Car(\"Toyota\", \"Camry\")"
   ]
  },
  {
   "cell_type": "code",
   "execution_count": 43,
   "id": "67089a80",
   "metadata": {},
   "outputs": [
    {
     "name": "stdout",
     "output_type": "stream",
     "text": [
      "Generic's engine starts\n",
      "Generic's engine stops\n",
      "Toyota Camry's engine starts with a roar\n",
      "Toyota Camry is now on the move\n",
      "Toyota's engine stops\n"
     ]
    }
   ],
   "source": [
    "# Using overridden and extended methods\n",
    "vehicle_instance.start_engine()  \n",
    "vehicle_instance.stop_engine()   \n",
    "\n",
    "car_instance.start_engine()      \n",
    "car_instance.drive()             \n",
    "car_instance.stop_engine()       "
   ]
  },
  {
   "cell_type": "code",
   "execution_count": null,
   "id": "4f463009",
   "metadata": {},
   "outputs": [],
   "source": []
  }
 ],
 "metadata": {
  "kernelspec": {
   "display_name": "Python 3 (ipykernel)",
   "language": "python",
   "name": "python3"
  },
  "language_info": {
   "codemirror_mode": {
    "name": "ipython",
    "version": 3
   },
   "file_extension": ".py",
   "mimetype": "text/x-python",
   "name": "python",
   "nbconvert_exporter": "python",
   "pygments_lexer": "ipython3",
   "version": "3.9.12"
  }
 },
 "nbformat": 4,
 "nbformat_minor": 5
}
