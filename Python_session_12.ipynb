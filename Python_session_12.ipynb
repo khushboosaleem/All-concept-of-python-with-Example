{
  "nbformat": 4,
  "nbformat_minor": 0,
  "metadata": {
    "colab": {
      "provenance": []
    },
    "kernelspec": {
      "name": "python3",
      "display_name": "Python 3"
    },
    "language_info": {
      "name": "python"
    }
  },
  "cells": [
    {
      "cell_type": "markdown",
      "source": [
        "# **Python Sets**\n",
        "# **Access python Sets**\n",
        "# **Add python Sets**\n",
        "# **remove python Sets**\n",
        "# **Access python Sets**\n",
        "# **loop python Sets**\n",
        "# **Method python Sets**"
      ],
      "metadata": {
        "id": "mhrIqxJ8QrWK"
      }
    },
    {
      "cell_type": "code",
      "execution_count": null,
      "metadata": {
        "id": "HlvAQHOVMKXz"
      },
      "outputs": [],
      "source": [
        "# A = {1,2,3,4,5}\n",
        "# B = {2,5,6,7}\n",
        "\n",
        "# AUB = ?   {1,2,3,4,5}U{2,5,6,7} ------->    {1,2,3,4,5,6,7}\n",
        "# A∩B = ?   {1,2,3,4,5}∩{2,5,6,7} ------->    {2,5}\n"
      ]
    },
    {
      "cell_type": "markdown",
      "source": [
        "# **Python Sets**"
      ],
      "metadata": {
        "id": "SGxyr_Zcjf-7"
      }
    },
    {
      "cell_type": "code",
      "source": [
        "fruits = {\"Banana\", \"Apple\", \"Mango\", \"Apricot\", \"Apple\", \"Mango\"}\n",
        "fruits"
      ],
      "metadata": {
        "id": "K1iT5319Rqh9",
        "colab": {
          "base_uri": "https://localhost:8080/"
        },
        "outputId": "706baed7-9c0b-43c1-bd5a-45296d1a0f22"
      },
      "execution_count": 4,
      "outputs": [
        {
          "output_type": "execute_result",
          "data": {
            "text/plain": [
              "{'Apple', 'Apricot', 'Banana', 'Mango'}"
            ]
          },
          "metadata": {},
          "execution_count": 4
        }
      ]
    },
    {
      "cell_type": "code",
      "source": [
        "type(fruits)"
      ],
      "metadata": {
        "colab": {
          "base_uri": "https://localhost:8080/"
        },
        "id": "b0Cz27EekHRZ",
        "outputId": "9dd935c7-d763-4cb3-bab9-0aa03e8aacfc"
      },
      "execution_count": 5,
      "outputs": [
        {
          "output_type": "execute_result",
          "data": {
            "text/plain": [
              "set"
            ]
          },
          "metadata": {},
          "execution_count": 5
        }
      ]
    },
    {
      "cell_type": "code",
      "source": [
        "inte = {1,2,3,3,3,3,4,4,4,5,555}\n",
        "inte"
      ],
      "metadata": {
        "colab": {
          "base_uri": "https://localhost:8080/"
        },
        "id": "vM23WdvMlJV0",
        "outputId": "8c28f4ce-e7ce-4b5d-e93a-ea2c2969217a"
      },
      "execution_count": 6,
      "outputs": [
        {
          "output_type": "execute_result",
          "data": {
            "text/plain": [
              "{1, 2, 3, 4, 5, 555}"
            ]
          },
          "metadata": {},
          "execution_count": 6
        }
      ]
    },
    {
      "cell_type": "code",
      "source": [
        "# float\n",
        "# boolen\n",
        "# multiple data type\n"
      ],
      "metadata": {
        "id": "DT7BDVnNldpb"
      },
      "execution_count": null,
      "outputs": []
    },
    {
      "cell_type": "code",
      "source": [],
      "metadata": {
        "id": "LK2RUa5dmh97"
      },
      "execution_count": null,
      "outputs": []
    }
  ]
}