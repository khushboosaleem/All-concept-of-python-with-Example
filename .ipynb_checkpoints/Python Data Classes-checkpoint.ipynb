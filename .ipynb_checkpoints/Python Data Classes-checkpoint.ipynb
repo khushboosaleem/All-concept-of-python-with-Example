{
 "cells": [
  {
   "cell_type": "markdown",
   "id": "ad961d60",
   "metadata": {},
   "source": [
    "## ***Python Data Classes***"
   ]
  },
  {
   "cell_type": "markdown",
   "id": "03274725",
   "metadata": {},
   "source": [
    "In Python, the dataclass decorator is a feature introduced in Python 3.7 that provides a concise way to define classes primarily intended to store data. It automatically generates several special methods, such as init, repr, and eq, based on the class attributes you define. This simplifies the process of creating and working with data-focused classes."
   ]
  },
  {
   "cell_type": "code",
   "execution_count": 1,
   "id": "5f55ed6c",
   "metadata": {},
   "outputs": [],
   "source": [
    "from dataclasses import dataclass"
   ]
  },
  {
   "cell_type": "code",
   "execution_count": 2,
   "id": "68b16da7",
   "metadata": {},
   "outputs": [],
   "source": [
    "@dataclass\n",
    "class person:\n",
    "    name:str\n",
    "    age:int\n",
    "    profession:str"
   ]
  },
  {
   "cell_type": "markdown",
   "id": "7fe7a988",
   "metadata": {},
   "source": [
    "The @dataclass decorator automatically generates the following methods for you:\n",
    "\n",
    "1.`init()`: Initializes the object and assigns the provided values to the attributes.\n",
    "\n",
    "2.`repr()`: Provides a string representation of the object.\n",
    "\n",
    "3.`eq()`: Implements equality comparison between two objects of the class based on their attributes.\n"
   ]
  },
  {
   "cell_type": "code",
   "execution_count": 5,
   "id": "08c76961",
   "metadata": {},
   "outputs": [],
   "source": [
    "person1 = person('ali', '23','AI developer')"
   ]
  },
  {
   "cell_type": "code",
   "execution_count": 6,
   "id": "722bbeb5",
   "metadata": {},
   "outputs": [
    {
     "data": {
      "text/plain": [
       "person(name='ali', age='23', profession='AI developer')"
      ]
     },
     "execution_count": 6,
     "metadata": {},
     "output_type": "execute_result"
    }
   ],
   "source": [
    "person1"
   ]
  },
  {
   "cell_type": "code",
   "execution_count": 7,
   "id": "fef56f22",
   "metadata": {},
   "outputs": [
    {
     "data": {
      "text/plain": [
       "'ali'"
      ]
     },
     "execution_count": 7,
     "metadata": {},
     "output_type": "execute_result"
    }
   ],
   "source": [
    "person1.name"
   ]
  },
  {
   "cell_type": "code",
   "execution_count": 8,
   "id": "e1dfe099",
   "metadata": {},
   "outputs": [
    {
     "data": {
      "text/plain": [
       "'23'"
      ]
     },
     "execution_count": 8,
     "metadata": {},
     "output_type": "execute_result"
    }
   ],
   "source": [
    "person1.age"
   ]
  },
  {
   "cell_type": "code",
   "execution_count": 9,
   "id": "555b9771",
   "metadata": {},
   "outputs": [
    {
     "data": {
      "text/plain": [
       "'AI developer'"
      ]
     },
     "execution_count": 9,
     "metadata": {},
     "output_type": "execute_result"
    }
   ],
   "source": [
    "person1.profession"
   ]
  },
  {
   "cell_type": "code",
   "execution_count": 16,
   "id": "cc1c55f3",
   "metadata": {},
   "outputs": [],
   "source": [
    "class peron():\n",
    "    def __init__(self,name, age, prof):\n",
    "        self.name = name\n",
    "        self.age = age\n",
    "        self.profession = prof"
   ]
  },
  {
   "cell_type": "code",
   "execution_count": 18,
   "id": "d88b2e1f",
   "metadata": {},
   "outputs": [],
   "source": [
    "per = person(\"ali\",\"23\",\"DS\")"
   ]
  },
  {
   "cell_type": "code",
   "execution_count": 19,
   "id": "01a8643a",
   "metadata": {},
   "outputs": [
    {
     "data": {
      "text/plain": [
       "person(name='ali', age='23', profession='DS')"
      ]
     },
     "execution_count": 19,
     "metadata": {},
     "output_type": "execute_result"
    }
   ],
   "source": [
    "per"
   ]
  },
  {
   "cell_type": "code",
   "execution_count": 20,
   "id": "0c7ddcd2",
   "metadata": {},
   "outputs": [],
   "source": [
    "# Create class wiht data class \n",
    "@dataclass\n",
    "class person:\n",
    "    name:str\n",
    "    age:int\n",
    "    profession:str\n",
    "\n",
    "        \n",
    "# Create class wihtout data class \n",
    "class peron():\n",
    "    def __init__(self,name, age, prof):\n",
    "        self.name = name\n",
    "        self.age = age\n",
    "        self.profession = prof"
   ]
  },
  {
   "cell_type": "code",
   "execution_count": 25,
   "id": "b0bb2418",
   "metadata": {},
   "outputs": [],
   "source": [
    "@dataclass\n",
    "class Rectangle:\n",
    "    width:int\n",
    "    height:int\n",
    "    color:str='white'\n",
    "\n",
    "rectangle1 = Rectangle(12,14)\n",
    "rectangle2 = Rectangle(13,14,'red')"
   ]
  },
  {
   "cell_type": "code",
   "execution_count": 26,
   "id": "d12ef0df",
   "metadata": {},
   "outputs": [
    {
     "data": {
      "text/plain": [
       "'white'"
      ]
     },
     "execution_count": 26,
     "metadata": {},
     "output_type": "execute_result"
    }
   ],
   "source": [
    "rectangle1.color"
   ]
  },
  {
   "cell_type": "code",
   "execution_count": 27,
   "id": "48b94fec",
   "metadata": {},
   "outputs": [
    {
     "data": {
      "text/plain": [
       "'red'"
      ]
     },
     "execution_count": 27,
     "metadata": {},
     "output_type": "execute_result"
    }
   ],
   "source": [
    "rectangle2.color"
   ]
  },
  {
   "cell_type": "code",
   "execution_count": 31,
   "id": "2b196316",
   "metadata": {},
   "outputs": [],
   "source": [
    "rectangle2.color = 'Yellow'"
   ]
  },
  {
   "cell_type": "code",
   "execution_count": 32,
   "id": "9f25abd9",
   "metadata": {},
   "outputs": [
    {
     "data": {
      "text/plain": [
       "'Yellow'"
      ]
     },
     "execution_count": 32,
     "metadata": {},
     "output_type": "execute_result"
    }
   ],
   "source": [
    "rectangle2.color"
   ]
  },
  {
   "cell_type": "code",
   "execution_count": 28,
   "id": "b2a45225",
   "metadata": {},
   "outputs": [],
   "source": [
    "# if you give frozen=True so you cannot change your instances\n",
    "@dataclass(frozen = True)\n",
    "class Point:\n",
    "    x:int\n",
    "    y:int"
   ]
  },
  {
   "cell_type": "code",
   "execution_count": 29,
   "id": "bb8060fd",
   "metadata": {},
   "outputs": [],
   "source": [
    "point = Point(3,4)"
   ]
  },
  {
   "cell_type": "code",
   "execution_count": 35,
   "id": "9de09de0",
   "metadata": {},
   "outputs": [
    {
     "data": {
      "text/plain": [
       "(3, 4)"
      ]
     },
     "execution_count": 35,
     "metadata": {},
     "output_type": "execute_result"
    }
   ],
   "source": [
    "point.x, point.y"
   ]
  },
  {
   "cell_type": "code",
   "execution_count": 36,
   "id": "77625ff8",
   "metadata": {},
   "outputs": [
    {
     "ename": "FrozenInstanceError",
     "evalue": "cannot assign to field 'x'",
     "output_type": "error",
     "traceback": [
      "\u001b[1;31m---------------------------------------------------------------------------\u001b[0m",
      "\u001b[1;31mFrozenInstanceError\u001b[0m                       Traceback (most recent call last)",
      "Input \u001b[1;32mIn [36]\u001b[0m, in \u001b[0;36m<cell line: 1>\u001b[1;34m()\u001b[0m\n\u001b[1;32m----> 1\u001b[0m point\u001b[38;5;241m.\u001b[39mx \u001b[38;5;241m=\u001b[39m \u001b[38;5;241m12\u001b[39m\n",
      "File \u001b[1;32m<string>:4\u001b[0m, in \u001b[0;36m__setattr__\u001b[1;34m(self, name, value)\u001b[0m\n",
      "\u001b[1;31mFrozenInstanceError\u001b[0m: cannot assign to field 'x'"
     ]
    }
   ],
   "source": [
    "# As you see that if i change the value of x error is display becoz of frozen = True\n",
    "point.x = 12"
   ]
  },
  {
   "cell_type": "code",
   "execution_count": 37,
   "id": "b6b364c2",
   "metadata": {},
   "outputs": [],
   "source": [
    "# inheritance\n",
    "\n",
    "@dataclass\n",
    "class Person:\n",
    "    name:str\n",
    "    age:int\n",
    "\n",
    "@dataclass\n",
    "class Employee(Person):\n",
    "    employee_id:str\n",
    "    department:str"
   ]
  },
  {
   "cell_type": "code",
   "execution_count": 38,
   "id": "9986cb60",
   "metadata": {},
   "outputs": [],
   "source": [
    "person = Person('khushboo', '24')\n",
    "employee = Employee('khushboo', '24','7856','DS')"
   ]
  },
  {
   "cell_type": "code",
   "execution_count": 39,
   "id": "8c69503b",
   "metadata": {},
   "outputs": [
    {
     "data": {
      "text/plain": [
       "'DS'"
      ]
     },
     "execution_count": 39,
     "metadata": {},
     "output_type": "execute_result"
    }
   ],
   "source": [
    "employee.department"
   ]
  },
  {
   "cell_type": "code",
   "execution_count": 40,
   "id": "f091668a",
   "metadata": {},
   "outputs": [
    {
     "data": {
      "text/plain": [
       "'khushboo'"
      ]
     },
     "execution_count": 40,
     "metadata": {},
     "output_type": "execute_result"
    }
   ],
   "source": [
    "employee.name"
   ]
  },
  {
   "cell_type": "code",
   "execution_count": 43,
   "id": "ef5b08a0",
   "metadata": {},
   "outputs": [],
   "source": [
    "## Nested Dataclasses\n",
    "\n",
    "@dataclass\n",
    "class Address:\n",
    "    street:int\n",
    "    city:str\n",
    "    zip_code:int\n",
    "        \n",
    "@dataclass\n",
    "class Person:\n",
    "    name:str\n",
    "    age:int\n",
    "    address:Address"
   ]
  },
  {
   "cell_type": "code",
   "execution_count": 44,
   "id": "c2c493ef",
   "metadata": {},
   "outputs": [],
   "source": [
    "address = Address(\"5\",\"karachi\",\"266616\")\n",
    "person = Person(\"khushboo\",\"24\",address)"
   ]
  },
  {
   "cell_type": "code",
   "execution_count": 47,
   "id": "b1648c46",
   "metadata": {},
   "outputs": [
    {
     "data": {
      "text/plain": [
       "Person(name='khushboo', age='24', address=Address(street='5', city='karachi', zip_code='266616'))"
      ]
     },
     "execution_count": 47,
     "metadata": {},
     "output_type": "execute_result"
    }
   ],
   "source": [
    "person"
   ]
  },
  {
   "cell_type": "code",
   "execution_count": 49,
   "id": "fbe2a589",
   "metadata": {},
   "outputs": [
    {
     "data": {
      "text/plain": [
       "'karachi'"
      ]
     },
     "execution_count": 49,
     "metadata": {},
     "output_type": "execute_result"
    }
   ],
   "source": [
    "person.address.city"
   ]
  },
  {
   "cell_type": "code",
   "execution_count": 50,
   "id": "40a25c39",
   "metadata": {},
   "outputs": [
    {
     "data": {
      "text/plain": [
       "'5'"
      ]
     },
     "execution_count": 50,
     "metadata": {},
     "output_type": "execute_result"
    }
   ],
   "source": [
    "person.address.street"
   ]
  },
  {
   "cell_type": "code",
   "execution_count": 52,
   "id": "dd58ccd6",
   "metadata": {},
   "outputs": [
    {
     "data": {
      "text/plain": [
       "'266616'"
      ]
     },
     "execution_count": 52,
     "metadata": {},
     "output_type": "execute_result"
    }
   ],
   "source": [
    "person.address.zip_code"
   ]
  },
  {
   "cell_type": "code",
   "execution_count": 53,
   "id": "fa9349db",
   "metadata": {},
   "outputs": [
    {
     "data": {
      "text/plain": [
       "'khushboo'"
      ]
     },
     "execution_count": 53,
     "metadata": {},
     "output_type": "execute_result"
    }
   ],
   "source": [
    "person.name"
   ]
  },
  {
   "cell_type": "code",
   "execution_count": 54,
   "id": "b9127b33",
   "metadata": {},
   "outputs": [
    {
     "data": {
      "text/plain": [
       "'24'"
      ]
     },
     "execution_count": 54,
     "metadata": {},
     "output_type": "execute_result"
    }
   ],
   "source": [
    "person.age"
   ]
  },
  {
   "cell_type": "code",
   "execution_count": null,
   "id": "9decfa1c",
   "metadata": {},
   "outputs": [],
   "source": []
  }
 ],
 "metadata": {
  "kernelspec": {
   "display_name": "Python 3 (ipykernel)",
   "language": "python",
   "name": "python3"
  },
  "language_info": {
   "codemirror_mode": {
    "name": "ipython",
    "version": 3
   },
   "file_extension": ".py",
   "mimetype": "text/x-python",
   "name": "python",
   "nbconvert_exporter": "python",
   "pygments_lexer": "ipython3",
   "version": "3.9.12"
  }
 },
 "nbformat": 4,
 "nbformat_minor": 5
}
