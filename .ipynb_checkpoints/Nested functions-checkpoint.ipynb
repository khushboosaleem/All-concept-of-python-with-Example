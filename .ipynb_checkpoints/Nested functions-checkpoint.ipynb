{
 "cells": [
  {
   "cell_type": "markdown",
   "id": "decdf22d",
   "metadata": {},
   "source": [
    "# ***Local Scope*** "
   ]
  },
  {
   "cell_type": "code",
   "execution_count": 1,
   "id": "574eb5a4",
   "metadata": {},
   "outputs": [
    {
     "name": "stdout",
     "output_type": "stream",
     "text": [
      "300\n"
     ]
    }
   ],
   "source": [
    "def local_fun():\n",
    "    x = 300\n",
    "    print(x)\n",
    "local_fun()"
   ]
  },
  {
   "cell_type": "code",
   "execution_count": 2,
   "id": "56ad14ae",
   "metadata": {},
   "outputs": [],
   "source": [
    "def function_inside_function():\n",
    "    x = 300\n",
    "    def inner_fun():\n",
    "        print(x)\n",
    "    inner_fun()"
   ]
  },
  {
   "cell_type": "code",
   "execution_count": 3,
   "id": "06760aed",
   "metadata": {},
   "outputs": [
    {
     "name": "stdout",
     "output_type": "stream",
     "text": [
      "10\n"
     ]
    }
   ],
   "source": [
    "def function_inside_function():\n",
    "    x = 10\n",
    "    def inner_fun():\n",
    "        print(x)\n",
    "    inner_fun()\n",
    "function_inside_function()"
   ]
  },
  {
   "cell_type": "markdown",
   "id": "45f9e805",
   "metadata": {},
   "source": [
    "###### ***1: Define a function within a fuction to calculate sales tax based on the local tax rate within a specific city or region***"
   ]
  },
  {
   "cell_type": "code",
   "execution_count": 16,
   "id": "c43d5ffb",
   "metadata": {},
   "outputs": [
    {
     "name": "stdout",
     "output_type": "stream",
     "text": [
      "Final price after tax: 107.0\n"
     ]
    }
   ],
   "source": [
    "def total_cost(price):\n",
    "    local_tax_rate = 0.07 # Local tax rate\n",
    "    \n",
    "    def apply_tax(price):\n",
    "        return price * (1 + local_tax_rate)\n",
    "    \n",
    "    return apply_tax(price)\n",
    "\n",
    "\n",
    "\n",
    "final_price = total_cost(100)\n",
    "print(\"Final price after tax:\", final_price)\n"
   ]
  },
  {
   "cell_type": "code",
   "execution_count": 18,
   "id": "6f076e20",
   "metadata": {},
   "outputs": [
    {
     "data": {
      "text/plain": [
       "321.0"
      ]
     },
     "execution_count": 18,
     "metadata": {},
     "output_type": "execute_result"
    }
   ],
   "source": [
    "total_cost(300)"
   ]
  },
  {
   "cell_type": "code",
   "execution_count": 19,
   "id": "6dff9ee5",
   "metadata": {},
   "outputs": [
    {
     "data": {
      "text/plain": [
       "107.0"
      ]
     },
     "execution_count": 19,
     "metadata": {},
     "output_type": "execute_result"
    }
   ],
   "source": [
    "100 * (1 + 0.07)"
   ]
  },
  {
   "cell_type": "code",
   "execution_count": 20,
   "id": "776bf741",
   "metadata": {},
   "outputs": [
    {
     "data": {
      "text/plain": [
       "535.0"
      ]
     },
     "execution_count": 20,
     "metadata": {},
     "output_type": "execute_result"
    }
   ],
   "source": [
    "total_cost(500)"
   ]
  },
  {
   "cell_type": "code",
   "execution_count": 21,
   "id": "050da0e5",
   "metadata": {},
   "outputs": [
    {
     "data": {
      "text/plain": [
       "535.0"
      ]
     },
     "execution_count": 21,
     "metadata": {},
     "output_type": "execute_result"
    }
   ],
   "source": [
    "500 * (1 + 0.07)"
   ]
  },
  {
   "cell_type": "code",
   "execution_count": 22,
   "id": "387e26ae",
   "metadata": {},
   "outputs": [
    {
     "data": {
      "text/plain": [
       "1.07"
      ]
     },
     "execution_count": 22,
     "metadata": {},
     "output_type": "execute_result"
    }
   ],
   "source": [
    "1+0.07"
   ]
  },
  {
   "cell_type": "code",
   "execution_count": 10,
   "id": "61e3c065",
   "metadata": {},
   "outputs": [
    {
     "data": {
      "text/plain": [
       "107.0"
      ]
     },
     "execution_count": 10,
     "metadata": {},
     "output_type": "execute_result"
    }
   ],
   "source": [
    "100 * 1.07"
   ]
  },
  {
   "cell_type": "code",
   "execution_count": 11,
   "id": "73d43009",
   "metadata": {},
   "outputs": [
    {
     "data": {
      "text/plain": [
       "535.0"
      ]
     },
     "execution_count": 11,
     "metadata": {},
     "output_type": "execute_result"
    }
   ],
   "source": [
    "500 * 1.07"
   ]
  },
  {
   "cell_type": "markdown",
   "id": "39accbc2",
   "metadata": {},
   "source": [
    "###### ***2: Use a local function to validate and process user input***"
   ]
  },
  {
   "cell_type": "code",
   "execution_count": 12,
   "id": "2e2a8520",
   "metadata": {},
   "outputs": [
    {
     "name": "stdout",
     "output_type": "stream",
     "text": [
      "Enter a number: 23\n",
      "Validate input!\n"
     ]
    }
   ],
   "source": [
    "def process_user_input():\n",
    "    def validate_value(input_value):\n",
    "        if input_value.isdigit():\n",
    "            return True\n",
    "        else:\n",
    "            return False\n",
    "        \n",
    "    user_input = input(\"Enter a number: \")\n",
    "        \n",
    "    if validate_value(user_input):\n",
    "        print(\"Validate input!\")\n",
    "    else:\n",
    "        print(\"Invalid input!\")\n",
    "\n",
    "process_user_input()\n",
    "            "
   ]
  },
  {
   "cell_type": "code",
   "execution_count": 13,
   "id": "781a61c2",
   "metadata": {},
   "outputs": [
    {
     "data": {
      "text/plain": [
       "True"
      ]
     },
     "execution_count": 13,
     "metadata": {},
     "output_type": "execute_result"
    }
   ],
   "source": [
    "str.isdigit('23')"
   ]
  },
  {
   "cell_type": "code",
   "execution_count": 14,
   "id": "9b84971b",
   "metadata": {},
   "outputs": [
    {
     "name": "stdout",
     "output_type": "stream",
     "text": [
      "Enter a number: 1vj=\n",
      "Invalid input!\n"
     ]
    }
   ],
   "source": [
    "process_user_input()"
   ]
  },
  {
   "cell_type": "code",
   "execution_count": null,
   "id": "71a71729",
   "metadata": {},
   "outputs": [],
   "source": []
  },
  {
   "cell_type": "code",
   "execution_count": null,
   "id": "4134a4f0",
   "metadata": {},
   "outputs": [],
   "source": []
  },
  {
   "cell_type": "code",
   "execution_count": null,
   "id": "1c599e5c",
   "metadata": {},
   "outputs": [],
   "source": []
  }
 ],
 "metadata": {
  "kernelspec": {
   "display_name": "Python 3 (ipykernel)",
   "language": "python",
   "name": "python3"
  },
  "language_info": {
   "codemirror_mode": {
    "name": "ipython",
    "version": 3
   },
   "file_extension": ".py",
   "mimetype": "text/x-python",
   "name": "python",
   "nbconvert_exporter": "python",
   "pygments_lexer": "ipython3",
   "version": "3.9.12"
  }
 },
 "nbformat": 4,
 "nbformat_minor": 5
}
