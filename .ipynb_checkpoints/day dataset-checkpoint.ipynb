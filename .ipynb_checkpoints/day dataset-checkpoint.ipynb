{
 "cells": [
  {
   "cell_type": "markdown",
   "id": "3e11bfcc",
   "metadata": {},
   "source": [
    "This dataset appears to be related to a bike-sharing system, containing daily records of bike rentals along with various associated weather and calendar information. Here is a complete breakdown of the columns and their meanings based on typical conventions for such datasets:\n",
    "\n",
    "`instant:` An identifier for each record (e.g., 1, 2, 3,...).\n",
    "\n",
    "`dteday:` The date of the observation (e.g., 2011-01-01).\n",
    "`season:` The season of the year (e.g., 1 for winter, 2 for spring, 3 for summer, and 4 for fall).\n",
    "\n",
    "`yr:` The year of the observation (0 for 2011, 1 for 2012).\n",
    "\n",
    "`mnth:` The month of the observation (e.g., 1 for January, 2 for February, etc.).\n",
    "\n",
    "`holiday:` Whether the day is a holiday (1 if it is a holiday, 0 otherwise).\n",
    "\n",
    "`weekday:` The day of the week (0 for Sunday, 1 for Monday, ..., 6 for Saturday).\n",
    "\n",
    "`workingday:` Whether the day is a working day (1 if it is a working day, 0 otherwise). A working day is typically a   weekday that is neither a weekend nor a holiday.\n",
    "\n",
    "`weathersit:` The weather situation:\n",
    "1: Clear, Few clouds, Partly cloudy, Partly cloudy\n",
    "2: Mist + Cloudy, Mist + Broken clouds, Mist + Few clouds, Mist\n",
    "3: Light Snow, Light Rain + Thunderstorm + Scattered clouds, Light Rain + Scattered clouds\n",
    "4: Heavy Rain + Ice Pallets + Thunderstorm + Mist, Snow + Fog\n",
    "\n",
    "`temp:` Normalized temperature in Celsius (ranges from 0 to 1, where 0 is the minimum temperature and 1 is the maximum temperature).\n",
    "\n",
    "`atemp:` Normalized \"feeling\" temperature in Celsius (similar to temp but adjusted to how the temperature feels to humans).\n",
    "\n",
    "`hum:` Normalized humidity (ranges from 0 to 1).\n",
    "\n",
    "`windspeed:` Normalized wind speed (ranges from 0 to 1).\n",
    "\n",
    "`casual:` The count of casual users (non-registered users who rent bikes).\n",
    "\n",
    "`registered:` The count of registered users who rent bikes.\n",
    "\n",
    "`cnt:` The total count of bike rentals, which is the sum of casual and registered users."
   ]
  },
  {
   "cell_type": "code",
   "execution_count": 1,
   "id": "25ffe395",
   "metadata": {},
   "outputs": [],
   "source": [
    "import pandas as pd"
   ]
  },
  {
   "cell_type": "code",
   "execution_count": 2,
   "id": "962c9dd7",
   "metadata": {},
   "outputs": [],
   "source": [
    "day = pd.read_csv(\"day.csv\")"
   ]
  },
  {
   "cell_type": "code",
   "execution_count": 3,
   "id": "a395e6cc",
   "metadata": {},
   "outputs": [
    {
     "data": {
      "text/html": [
       "<div>\n",
       "<style scoped>\n",
       "    .dataframe tbody tr th:only-of-type {\n",
       "        vertical-align: middle;\n",
       "    }\n",
       "\n",
       "    .dataframe tbody tr th {\n",
       "        vertical-align: top;\n",
       "    }\n",
       "\n",
       "    .dataframe thead th {\n",
       "        text-align: right;\n",
       "    }\n",
       "</style>\n",
       "<table border=\"1\" class=\"dataframe\">\n",
       "  <thead>\n",
       "    <tr style=\"text-align: right;\">\n",
       "      <th></th>\n",
       "      <th>instant</th>\n",
       "      <th>dteday</th>\n",
       "      <th>season</th>\n",
       "      <th>yr</th>\n",
       "      <th>mnth</th>\n",
       "      <th>holiday</th>\n",
       "      <th>weekday</th>\n",
       "      <th>workingday</th>\n",
       "      <th>weathersit</th>\n",
       "      <th>temp</th>\n",
       "      <th>atemp</th>\n",
       "      <th>hum</th>\n",
       "      <th>windspeed</th>\n",
       "      <th>casual</th>\n",
       "      <th>registered</th>\n",
       "      <th>cnt</th>\n",
       "    </tr>\n",
       "  </thead>\n",
       "  <tbody>\n",
       "    <tr>\n",
       "      <th>0</th>\n",
       "      <td>1</td>\n",
       "      <td>2011-01-01</td>\n",
       "      <td>1</td>\n",
       "      <td>0</td>\n",
       "      <td>1</td>\n",
       "      <td>0</td>\n",
       "      <td>6</td>\n",
       "      <td>0</td>\n",
       "      <td>2</td>\n",
       "      <td>0.344167</td>\n",
       "      <td>0.363625</td>\n",
       "      <td>0.805833</td>\n",
       "      <td>0.160446</td>\n",
       "      <td>331</td>\n",
       "      <td>654</td>\n",
       "      <td>985</td>\n",
       "    </tr>\n",
       "    <tr>\n",
       "      <th>1</th>\n",
       "      <td>2</td>\n",
       "      <td>2011-01-02</td>\n",
       "      <td>1</td>\n",
       "      <td>0</td>\n",
       "      <td>1</td>\n",
       "      <td>0</td>\n",
       "      <td>0</td>\n",
       "      <td>0</td>\n",
       "      <td>2</td>\n",
       "      <td>0.363478</td>\n",
       "      <td>0.353739</td>\n",
       "      <td>0.696087</td>\n",
       "      <td>0.248539</td>\n",
       "      <td>131</td>\n",
       "      <td>670</td>\n",
       "      <td>801</td>\n",
       "    </tr>\n",
       "    <tr>\n",
       "      <th>2</th>\n",
       "      <td>3</td>\n",
       "      <td>2011-01-03</td>\n",
       "      <td>1</td>\n",
       "      <td>0</td>\n",
       "      <td>1</td>\n",
       "      <td>0</td>\n",
       "      <td>1</td>\n",
       "      <td>1</td>\n",
       "      <td>1</td>\n",
       "      <td>0.196364</td>\n",
       "      <td>0.189405</td>\n",
       "      <td>0.437273</td>\n",
       "      <td>0.248309</td>\n",
       "      <td>120</td>\n",
       "      <td>1229</td>\n",
       "      <td>1349</td>\n",
       "    </tr>\n",
       "    <tr>\n",
       "      <th>3</th>\n",
       "      <td>4</td>\n",
       "      <td>2011-01-04</td>\n",
       "      <td>1</td>\n",
       "      <td>0</td>\n",
       "      <td>1</td>\n",
       "      <td>0</td>\n",
       "      <td>2</td>\n",
       "      <td>1</td>\n",
       "      <td>1</td>\n",
       "      <td>0.200000</td>\n",
       "      <td>0.212122</td>\n",
       "      <td>0.590435</td>\n",
       "      <td>0.160296</td>\n",
       "      <td>108</td>\n",
       "      <td>1454</td>\n",
       "      <td>1562</td>\n",
       "    </tr>\n",
       "    <tr>\n",
       "      <th>4</th>\n",
       "      <td>5</td>\n",
       "      <td>2011-01-05</td>\n",
       "      <td>1</td>\n",
       "      <td>0</td>\n",
       "      <td>1</td>\n",
       "      <td>0</td>\n",
       "      <td>3</td>\n",
       "      <td>1</td>\n",
       "      <td>1</td>\n",
       "      <td>0.226957</td>\n",
       "      <td>0.229270</td>\n",
       "      <td>0.436957</td>\n",
       "      <td>0.186900</td>\n",
       "      <td>82</td>\n",
       "      <td>1518</td>\n",
       "      <td>1600</td>\n",
       "    </tr>\n",
       "  </tbody>\n",
       "</table>\n",
       "</div>"
      ],
      "text/plain": [
       "   instant      dteday  season  yr  mnth  holiday  weekday  workingday  \\\n",
       "0        1  2011-01-01       1   0     1        0        6           0   \n",
       "1        2  2011-01-02       1   0     1        0        0           0   \n",
       "2        3  2011-01-03       1   0     1        0        1           1   \n",
       "3        4  2011-01-04       1   0     1        0        2           1   \n",
       "4        5  2011-01-05       1   0     1        0        3           1   \n",
       "\n",
       "   weathersit      temp     atemp       hum  windspeed  casual  registered  \\\n",
       "0           2  0.344167  0.363625  0.805833   0.160446     331         654   \n",
       "1           2  0.363478  0.353739  0.696087   0.248539     131         670   \n",
       "2           1  0.196364  0.189405  0.437273   0.248309     120        1229   \n",
       "3           1  0.200000  0.212122  0.590435   0.160296     108        1454   \n",
       "4           1  0.226957  0.229270  0.436957   0.186900      82        1518   \n",
       "\n",
       "    cnt  \n",
       "0   985  \n",
       "1   801  \n",
       "2  1349  \n",
       "3  1562  \n",
       "4  1600  "
      ]
     },
     "execution_count": 3,
     "metadata": {},
     "output_type": "execute_result"
    }
   ],
   "source": [
    "day.head()"
   ]
  },
  {
   "cell_type": "code",
   "execution_count": 4,
   "id": "80418230",
   "metadata": {},
   "outputs": [
    {
     "name": "stdout",
     "output_type": "stream",
     "text": [
      "<class 'pandas.core.frame.DataFrame'>\n",
      "RangeIndex: 731 entries, 0 to 730\n",
      "Data columns (total 16 columns):\n",
      " #   Column      Non-Null Count  Dtype  \n",
      "---  ------      --------------  -----  \n",
      " 0   instant     731 non-null    int64  \n",
      " 1   dteday      731 non-null    object \n",
      " 2   season      731 non-null    int64  \n",
      " 3   yr          731 non-null    int64  \n",
      " 4   mnth        731 non-null    int64  \n",
      " 5   holiday     731 non-null    int64  \n",
      " 6   weekday     731 non-null    int64  \n",
      " 7   workingday  731 non-null    int64  \n",
      " 8   weathersit  731 non-null    int64  \n",
      " 9   temp        731 non-null    float64\n",
      " 10  atemp       731 non-null    float64\n",
      " 11  hum         731 non-null    float64\n",
      " 12  windspeed   731 non-null    float64\n",
      " 13  casual      731 non-null    int64  \n",
      " 14  registered  731 non-null    int64  \n",
      " 15  cnt         731 non-null    int64  \n",
      "dtypes: float64(4), int64(11), object(1)\n",
      "memory usage: 91.5+ KB\n"
     ]
    }
   ],
   "source": [
    "day.info()"
   ]
  },
  {
   "cell_type": "code",
   "execution_count": 5,
   "id": "3a1d71cc",
   "metadata": {},
   "outputs": [
    {
     "data": {
      "text/plain": [
       "0      2011-01-01\n",
       "1      2011-01-02\n",
       "2      2011-01-03\n",
       "3      2011-01-04\n",
       "4      2011-01-05\n",
       "          ...    \n",
       "726    2012-12-27\n",
       "727    2012-12-28\n",
       "728    2012-12-29\n",
       "729    2012-12-30\n",
       "730    2012-12-31\n",
       "Name: dteday, Length: 731, dtype: object"
      ]
     },
     "execution_count": 5,
     "metadata": {},
     "output_type": "execute_result"
    }
   ],
   "source": [
    "day.dteday"
   ]
  },
  {
   "cell_type": "code",
   "execution_count": 6,
   "id": "b693c9ab",
   "metadata": {},
   "outputs": [
    {
     "data": {
      "text/plain": [
       "0     2011-01-01\n",
       "1     2011-01-02\n",
       "2     2011-01-03\n",
       "3     2011-01-04\n",
       "4     2011-01-05\n",
       "         ...    \n",
       "726   2012-12-27\n",
       "727   2012-12-28\n",
       "728   2012-12-29\n",
       "729   2012-12-30\n",
       "730   2012-12-31\n",
       "Name: dteday, Length: 731, dtype: datetime64[ns]"
      ]
     },
     "execution_count": 6,
     "metadata": {},
     "output_type": "execute_result"
    }
   ],
   "source": [
    "pd.to_datetime(day.dteday)"
   ]
  },
  {
   "cell_type": "code",
   "execution_count": 7,
   "id": "2da71b14",
   "metadata": {},
   "outputs": [],
   "source": [
    "day[\"dteday\"]  = pd.to_datetime(day.dteday)"
   ]
  },
  {
   "cell_type": "code",
   "execution_count": 8,
   "id": "d7975f3a",
   "metadata": {},
   "outputs": [
    {
     "data": {
      "text/html": [
       "<div>\n",
       "<style scoped>\n",
       "    .dataframe tbody tr th:only-of-type {\n",
       "        vertical-align: middle;\n",
       "    }\n",
       "\n",
       "    .dataframe tbody tr th {\n",
       "        vertical-align: top;\n",
       "    }\n",
       "\n",
       "    .dataframe thead th {\n",
       "        text-align: right;\n",
       "    }\n",
       "</style>\n",
       "<table border=\"1\" class=\"dataframe\">\n",
       "  <thead>\n",
       "    <tr style=\"text-align: right;\">\n",
       "      <th></th>\n",
       "      <th>instant</th>\n",
       "      <th>dteday</th>\n",
       "      <th>season</th>\n",
       "      <th>yr</th>\n",
       "      <th>mnth</th>\n",
       "      <th>holiday</th>\n",
       "      <th>weekday</th>\n",
       "      <th>workingday</th>\n",
       "      <th>weathersit</th>\n",
       "      <th>temp</th>\n",
       "      <th>atemp</th>\n",
       "      <th>hum</th>\n",
       "      <th>windspeed</th>\n",
       "      <th>casual</th>\n",
       "      <th>registered</th>\n",
       "      <th>cnt</th>\n",
       "    </tr>\n",
       "  </thead>\n",
       "  <tbody>\n",
       "    <tr>\n",
       "      <th>0</th>\n",
       "      <td>1</td>\n",
       "      <td>2011-01-01</td>\n",
       "      <td>1</td>\n",
       "      <td>0</td>\n",
       "      <td>1</td>\n",
       "      <td>0</td>\n",
       "      <td>6</td>\n",
       "      <td>0</td>\n",
       "      <td>2</td>\n",
       "      <td>0.344167</td>\n",
       "      <td>0.363625</td>\n",
       "      <td>0.805833</td>\n",
       "      <td>0.160446</td>\n",
       "      <td>331</td>\n",
       "      <td>654</td>\n",
       "      <td>985</td>\n",
       "    </tr>\n",
       "    <tr>\n",
       "      <th>1</th>\n",
       "      <td>2</td>\n",
       "      <td>2011-01-02</td>\n",
       "      <td>1</td>\n",
       "      <td>0</td>\n",
       "      <td>1</td>\n",
       "      <td>0</td>\n",
       "      <td>0</td>\n",
       "      <td>0</td>\n",
       "      <td>2</td>\n",
       "      <td>0.363478</td>\n",
       "      <td>0.353739</td>\n",
       "      <td>0.696087</td>\n",
       "      <td>0.248539</td>\n",
       "      <td>131</td>\n",
       "      <td>670</td>\n",
       "      <td>801</td>\n",
       "    </tr>\n",
       "    <tr>\n",
       "      <th>2</th>\n",
       "      <td>3</td>\n",
       "      <td>2011-01-03</td>\n",
       "      <td>1</td>\n",
       "      <td>0</td>\n",
       "      <td>1</td>\n",
       "      <td>0</td>\n",
       "      <td>1</td>\n",
       "      <td>1</td>\n",
       "      <td>1</td>\n",
       "      <td>0.196364</td>\n",
       "      <td>0.189405</td>\n",
       "      <td>0.437273</td>\n",
       "      <td>0.248309</td>\n",
       "      <td>120</td>\n",
       "      <td>1229</td>\n",
       "      <td>1349</td>\n",
       "    </tr>\n",
       "    <tr>\n",
       "      <th>3</th>\n",
       "      <td>4</td>\n",
       "      <td>2011-01-04</td>\n",
       "      <td>1</td>\n",
       "      <td>0</td>\n",
       "      <td>1</td>\n",
       "      <td>0</td>\n",
       "      <td>2</td>\n",
       "      <td>1</td>\n",
       "      <td>1</td>\n",
       "      <td>0.200000</td>\n",
       "      <td>0.212122</td>\n",
       "      <td>0.590435</td>\n",
       "      <td>0.160296</td>\n",
       "      <td>108</td>\n",
       "      <td>1454</td>\n",
       "      <td>1562</td>\n",
       "    </tr>\n",
       "    <tr>\n",
       "      <th>4</th>\n",
       "      <td>5</td>\n",
       "      <td>2011-01-05</td>\n",
       "      <td>1</td>\n",
       "      <td>0</td>\n",
       "      <td>1</td>\n",
       "      <td>0</td>\n",
       "      <td>3</td>\n",
       "      <td>1</td>\n",
       "      <td>1</td>\n",
       "      <td>0.226957</td>\n",
       "      <td>0.229270</td>\n",
       "      <td>0.436957</td>\n",
       "      <td>0.186900</td>\n",
       "      <td>82</td>\n",
       "      <td>1518</td>\n",
       "      <td>1600</td>\n",
       "    </tr>\n",
       "  </tbody>\n",
       "</table>\n",
       "</div>"
      ],
      "text/plain": [
       "   instant     dteday  season  yr  mnth  holiday  weekday  workingday  \\\n",
       "0        1 2011-01-01       1   0     1        0        6           0   \n",
       "1        2 2011-01-02       1   0     1        0        0           0   \n",
       "2        3 2011-01-03       1   0     1        0        1           1   \n",
       "3        4 2011-01-04       1   0     1        0        2           1   \n",
       "4        5 2011-01-05       1   0     1        0        3           1   \n",
       "\n",
       "   weathersit      temp     atemp       hum  windspeed  casual  registered  \\\n",
       "0           2  0.344167  0.363625  0.805833   0.160446     331         654   \n",
       "1           2  0.363478  0.353739  0.696087   0.248539     131         670   \n",
       "2           1  0.196364  0.189405  0.437273   0.248309     120        1229   \n",
       "3           1  0.200000  0.212122  0.590435   0.160296     108        1454   \n",
       "4           1  0.226957  0.229270  0.436957   0.186900      82        1518   \n",
       "\n",
       "    cnt  \n",
       "0   985  \n",
       "1   801  \n",
       "2  1349  \n",
       "3  1562  \n",
       "4  1600  "
      ]
     },
     "execution_count": 8,
     "metadata": {},
     "output_type": "execute_result"
    }
   ],
   "source": [
    "day.head()"
   ]
  },
  {
   "cell_type": "code",
   "execution_count": 9,
   "id": "a4dc6d5b",
   "metadata": {},
   "outputs": [],
   "source": [
    "import matplotlib.pyplot as plt"
   ]
  },
  {
   "cell_type": "code",
   "execution_count": 14,
   "id": "ac66782f",
   "metadata": {},
   "outputs": [
    {
     "data": {
      "text/plain": [
       "[<matplotlib.lines.Line2D at 0x17f1f2a2f40>]"
      ]
     },
     "execution_count": 14,
     "metadata": {},
     "output_type": "execute_result"
    },
    {
     "data": {
      "image/png": "[encoded data removed]",
      "text/plain": [
       "<Figure size 432x288 with 1 Axes>"
      ]
     },
     "metadata": {
      "needs_background": "light"
     },
     "output_type": "display_data"
    }
   ],
   "source": [
    "plt.plot(day.dteday,day.temp)"
   ]
  },
  {
   "cell_type": "code",
   "execution_count": 17,
   "id": "a8fc313b",
   "metadata": {},
   "outputs": [
    {
     "data": {
      "image/png": "[encoded data removed]",
      "text/plain": [
       "<Figure size 432x288 with 1 Axes>"
      ]
     },
     "metadata": {
      "needs_background": "light"
     },
     "output_type": "display_data"
    }
   ],
   "source": [
    "plt.plot(day.dteday,day.windspeed)\n",
    "plt.xticks(rotation = 90)\n",
    "plt.show()"
   ]
  },
  {
   "cell_type": "code",
   "execution_count": 12,
   "id": "17b5eba0",
   "metadata": {},
   "outputs": [
    {
     "data": {
      "image/png": "[encoded data removed]",
      "text/plain": [
       "<Figure size 432x288 with 1 Axes>"
      ]
     },
     "metadata": {
      "needs_background": "light"
     },
     "output_type": "display_data"
    }
   ],
   "source": [
    "plt.plot(day.dteday,day.temp)\n",
    "plt.xticks(rotation = 90)\n",
    "plt.show()"
   ]
  },
  {
   "cell_type": "code",
   "execution_count": 13,
   "id": "8eea4780",
   "metadata": {},
   "outputs": [
    {
     "data": {
      "text/plain": [
       "<function matplotlib.pyplot.show(close=None, block=None)>"
      ]
     },
     "execution_count": 13,
     "metadata": {},
     "output_type": "execute_result"
    },
    {
     "data": {
      "image/png": "[encoded data removed]",
      "text/plain": [
       "<Figure size 432x288 with 1 Axes>"
      ]
     },
     "metadata": {
      "needs_background": "light"
     },
     "output_type": "display_data"
    }
   ],
   "source": [
    "plt.scatter(day.temp,day.cnt)  ### jab two varible ka relation dekhna ho to scatter plt bntay h \n",
    "plt.show"
   ]
  },
  {
   "cell_type": "code",
   "execution_count": null,
   "id": "31f9f41c",
   "metadata": {},
   "outputs": [],
   "source": [
    "day.temp.corr(day.cnt)"
   ]
  },
  {
   "cell_type": "code",
   "execution_count": null,
   "id": "6903efaf",
   "metadata": {},
   "outputs": [],
   "source": [
    "day[\"weathersit\"].value_counts()"
   ]
  },
  {
   "cell_type": "code",
   "execution_count": null,
   "id": "b88123bc",
   "metadata": {},
   "outputs": [],
   "source": [
    "# 1 means weather sahe h \n",
    "# 2 means cloudy weather\n",
    "# 3 means light rain "
   ]
  },
  {
   "cell_type": "code",
   "execution_count": null,
   "id": "8d5280db",
   "metadata": {},
   "outputs": [],
   "source": [
    "#  jab hamry pas data catagorical ho to ham to two type ky graphs bnty hain\n",
    "# 1) eculed ya % value hoto bar chart or\n",
    "# 2) fraction value ho to pychart e.g 2/3"
   ]
  },
  {
   "cell_type": "code",
   "execution_count": null,
   "id": "89496fe2",
   "metadata": {},
   "outputs": [],
   "source": [
    "wfreq = day[\"weathersit\"].value_counts()"
   ]
  },
  {
   "cell_type": "code",
   "execution_count": null,
   "id": "13191179",
   "metadata": {},
   "outputs": [],
   "source": [
    "wfreq"
   ]
  },
  {
   "cell_type": "code",
   "execution_count": null,
   "id": "9ea09725",
   "metadata": {},
   "outputs": [],
   "source": [
    "wfreq.index"
   ]
  },
  {
   "cell_type": "code",
   "execution_count": null,
   "id": "a179ea6e",
   "metadata": {},
   "outputs": [],
   "source": [
    "wfreq.values"
   ]
  },
  {
   "cell_type": "code",
   "execution_count": null,
   "id": "b8bb695e",
   "metadata": {},
   "outputs": [],
   "source": [
    "plt.bar(wfreq.index,wfreq.values)\n",
    "plt.show()"
   ]
  },
  {
   "cell_type": "code",
   "execution_count": null,
   "id": "3c0737d6",
   "metadata": {},
   "outputs": [],
   "source": [
    "plt.bar(wfreq.index,wfreq.values)\n",
    "plt.xticks([1,2,3])\n",
    "plt.xlabel(\"weather\")\n",
    "plt.ylabel(\"frequency\")\n",
    "plt.show()"
   ]
  },
  {
   "cell_type": "code",
   "execution_count": null,
   "id": "c6fc75eb",
   "metadata": {},
   "outputs": [],
   "source": [
    "plt.bar(wfreq.index,wfreq.values)\n",
    "plt.xticks([1,2,3],[\"clear\",\"Mist\",\"light rain\"])\n",
    "plt.xlabel(\"weather\")\n",
    "plt.ylabel(\"frequency\")\n",
    "plt.show()"
   ]
  },
  {
   "cell_type": "code",
   "execution_count": null,
   "id": "58092286",
   "metadata": {},
   "outputs": [],
   "source": [
    "plt.barh(wfreq.index,wfreq.values)\n",
    "plt.yticks([1,2,3],[\"clear\",\"Mist\",\"light rain\"])\n",
    "plt.xlabel(\"weather\")\n",
    "plt.ylabel(\"frequency\")\n",
    "plt.show()"
   ]
  },
  {
   "cell_type": "code",
   "execution_count": null,
   "id": "ab3f9739",
   "metadata": {},
   "outputs": [],
   "source": [
    "day.cnt.value_counts()"
   ]
  },
  {
   "cell_type": "code",
   "execution_count": null,
   "id": "11de7e6a",
   "metadata": {},
   "outputs": [],
   "source": [
    "# pd.options.display.max_rows = None"
   ]
  },
  {
   "cell_type": "code",
   "execution_count": null,
   "id": "62c3ae78",
   "metadata": {},
   "outputs": [],
   "source": [
    "day.cnt.value_counts(bins = 10)"
   ]
  },
  {
   "cell_type": "code",
   "execution_count": null,
   "id": "9936737b",
   "metadata": {},
   "outputs": [],
   "source": [
    "day.cnt.value_counts(bins = 10).sort_index()  ### this table is called cummulative frequency table"
   ]
  },
  {
   "cell_type": "code",
   "execution_count": null,
   "id": "fe7a0fb7",
   "metadata": {},
   "outputs": [],
   "source": [
    "### distributive numeric value ho to histogram bnta h "
   ]
  },
  {
   "cell_type": "code",
   "execution_count": null,
   "id": "89e77296",
   "metadata": {},
   "outputs": [],
   "source": [
    "plt.hist(day.cnt)\n",
    "plt.show()"
   ]
  },
  {
   "cell_type": "code",
   "execution_count": null,
   "id": "cb449539",
   "metadata": {},
   "outputs": [],
   "source": [
    "traffic = pd.read_csv(\"traffic.csv\")"
   ]
  },
  {
   "cell_type": "code",
   "execution_count": null,
   "id": "5c1821de",
   "metadata": {},
   "outputs": [],
   "source": [
    "traffic.head()"
   ]
  },
  {
   "cell_type": "code",
   "execution_count": null,
   "id": "089bf44b",
   "metadata": {},
   "outputs": [],
   "source": [
    "traffic = pd.read_csv(\"traffic.csv\", sep = \";\")"
   ]
  },
  {
   "cell_type": "code",
   "execution_count": null,
   "id": "af698f9a",
   "metadata": {
    "scrolled": true
   },
   "outputs": [],
   "source": [
    "traffic.head()"
   ]
  },
  {
   "cell_type": "markdown",
   "id": "80ac1403",
   "metadata": {},
   "source": [
    "7 20 ## subha 7 sy rat 8bjy tak ka data h"
   ]
  },
  {
   "cell_type": "code",
   "execution_count": null,
   "id": "eb214bf1",
   "metadata": {},
   "outputs": [],
   "source": [
    "## mon to friday ka data h"
   ]
  },
  {
   "cell_type": "markdown",
   "id": "2bc18a0a",
   "metadata": {},
   "source": [
    "7am\n",
    "7.30am\n",
    "8\n",
    "8.30\n",
    "9\n",
    "9.30\n",
    "10\n",
    "10.30\n",
    "11\n",
    "11.30\n",
    "12\n",
    "12.30\n",
    "13  ## 1\n",
    "13.30 ## 1.30\n",
    "14 ## 2\n",
    "14.30 ## 2.30\n",
    "15  ##3\n",
    "15.20 #3.30\n",
    "16 ##4\n",
    "16.30 ##4.30\n",
    "17 ## 5 \n",
    "17.30 ## 5.30\n",
    "18 ## 6\n",
    "18.30 ## 6.30\n",
    "19 ## 7\n",
    "19.30 ## 7.30\n",
    "20 ## 8pm\n"
   ]
  },
  {
   "cell_type": "code",
   "execution_count": null,
   "id": "30230846",
   "metadata": {},
   "outputs": [],
   "source": [
    "## everyday  27 code bnain gain"
   ]
  },
  {
   "cell_type": "code",
   "execution_count": null,
   "id": "13aa417b",
   "metadata": {},
   "outputs": [],
   "source": [
    "traffic[\"Slowness in traffic (%)\"] = traffic[\"Slowness in traffic (%)\"].str.replace(\",\",\".\").astype(float)"
   ]
  },
  {
   "cell_type": "code",
   "execution_count": null,
   "id": "399ec689",
   "metadata": {},
   "outputs": [],
   "source": [
    "traffic.head(2)"
   ]
  },
  {
   "cell_type": "code",
   "execution_count": null,
   "id": "677ac96d",
   "metadata": {},
   "outputs": [],
   "source": [
    "traffic[\"Hour (Coded)\"].value_counts()"
   ]
  },
  {
   "cell_type": "code",
   "execution_count": null,
   "id": "585d8007",
   "metadata": {},
   "outputs": [],
   "source": [
    "traffic[\"Hour (Coded)\"].value_counts().sort_index()"
   ]
  },
  {
   "cell_type": "code",
   "execution_count": null,
   "id": "cea7b2df",
   "metadata": {},
   "outputs": [],
   "source": [
    "traffic.shape"
   ]
  },
  {
   "cell_type": "code",
   "execution_count": null,
   "id": "3520791a",
   "metadata": {},
   "outputs": [],
   "source": [
    "traffic[:27]"
   ]
  },
  {
   "cell_type": "code",
   "execution_count": null,
   "id": "9e449107",
   "metadata": {},
   "outputs": [],
   "source": [
    "d = [\"Monday\", \"Tuesday\", \"Wednesday\", \"Thursday\", \"Friday\"]"
   ]
  },
  {
   "cell_type": "code",
   "execution_count": null,
   "id": "9501352c",
   "metadata": {},
   "outputs": [],
   "source": [
    "for i in range(0,135,27):\n",
    "    print(i)"
   ]
  },
  {
   "cell_type": "code",
   "execution_count": null,
   "id": "50bb7124",
   "metadata": {},
   "outputs": [],
   "source": [
    "for i in range(0,135,27):\n",
    "    print(traffic[i:i+27])\n",
    "    print(\"----------------------------------\")"
   ]
  },
  {
   "cell_type": "code",
   "execution_count": null,
   "id": "ed3e2e80",
   "metadata": {},
   "outputs": [],
   "source": [
    "for dy, i in zip(d, range(0,135,27)):\n",
    "    print(dy, i,i+26)"
   ]
  },
  {
   "cell_type": "code",
   "execution_count": null,
   "id": "73e68a15",
   "metadata": {},
   "outputs": [],
   "source": [
    "date_day = {}\n",
    "\n",
    "for dy, i in zip(d, range(0,135,27)):\n",
    "    df = traffic[i:i+27]\n",
    "    date_day[dy] = df\n",
    "    "
   ]
  },
  {
   "cell_type": "code",
   "execution_count": null,
   "id": "6d760ff6",
   "metadata": {},
   "outputs": [],
   "source": [
    "date_day[\"Monday\"]"
   ]
  },
  {
   "cell_type": "code",
   "execution_count": null,
   "id": "7ea599b7",
   "metadata": {},
   "outputs": [],
   "source": [
    "date_day[\"Tuesday\"]"
   ]
  },
  {
   "cell_type": "code",
   "execution_count": null,
   "id": "2b97779a",
   "metadata": {},
   "outputs": [],
   "source": [
    "date_day[\"Friday\"]"
   ]
  },
  {
   "cell_type": "code",
   "execution_count": null,
   "id": "f23fe1bc",
   "metadata": {},
   "outputs": [],
   "source": [
    "date_day[\"Friday\"][\"Slowness in traffic (%)\"]"
   ]
  },
  {
   "cell_type": "code",
   "execution_count": null,
   "id": "7b87cea8",
   "metadata": {},
   "outputs": [],
   "source": [
    "import matplotlib.pyplot as plt"
   ]
  },
  {
   "cell_type": "code",
   "execution_count": null,
   "id": "920d0ca4",
   "metadata": {},
   "outputs": [],
   "source": [
    "plt.plot(date_day[\"Monday\"][\"Hour (Coded)\"],date_day[\"Monday\"][\"Slowness in traffic (%)\"], label = \"Monday\")\n",
    "plt.plot(date_day[\"Tuesday\"][\"Hour (Coded)\"],date_day[\"Tuesday\"][\"Slowness in traffic (%)\"], label = \"Tuesday\")\n",
    "plt.plot(date_day[\"Wednesday\"][\"Hour (Coded)\"],date_day[\"Wednesday\"][\"Slowness in traffic (%)\"],label = \"Wednesday\")\n",
    "plt.plot(date_day[\"Thursday\"][\"Hour (Coded)\"],date_day[\"Thursday\"][\"Slowness in traffic (%)\"], label = \"Thursday\")\n",
    "plt.plot(date_day[\"Friday\"][\"Hour (Coded)\"],date_day[\"Friday\"][\"Slowness in traffic (%)\"], label = \"Friday\")\n",
    "plt.xticks([1,2,3,4,5,6,7,8,9,10,11,12,13,14,15,16,17,18,19,20,21,22,23,24,25,26,27],[7,7.30,8,8.30,9,9.30,10,10.30,11,11.30,12,12.30,13,13.30,14,14.30,15,15.30,16,16.30,17,17.30,18,18.30,19,19.30,20])\n",
    "plt.xlabel(\"Time Hours\")\n",
    "plt.ylabel(\"slowness in traffic\")\n",
    "plt.legend()\n",
    "plt.show()"
   ]
  },
  {
   "cell_type": "code",
   "execution_count": null,
   "id": "27e9b2cf",
   "metadata": {},
   "outputs": [],
   "source": [
    "import seaborn as sns"
   ]
  },
  {
   "cell_type": "code",
   "execution_count": null,
   "id": "d232b6df",
   "metadata": {},
   "outputs": [],
   "source": [
    "sns.set_theme()\n",
    "sns.set(rc ={'figure.figsize':(12.27,5.27)})\n",
    "plt.plot(date_day[\"Monday\"][\"Hour (Coded)\"],date_day[\"Monday\"][\"Slowness in traffic (%)\"], label = \"Monday\")\n",
    "plt.plot(date_day[\"Tuesday\"][\"Hour (Coded)\"],date_day[\"Tuesday\"][\"Slowness in traffic (%)\"], label = \"Tuesday\")\n",
    "plt.plot(date_day[\"Wednesday\"][\"Hour (Coded)\"],date_day[\"Wednesday\"][\"Slowness in traffic (%)\"],label = \"Wednesday\")\n",
    "plt.plot(date_day[\"Thursday\"][\"Hour (Coded)\"],date_day[\"Thursday\"][\"Slowness in traffic (%)\"], label = \"Thursday\")\n",
    "plt.plot(date_day[\"Friday\"][\"Hour (Coded)\"],date_day[\"Friday\"][\"Slowness in traffic (%)\"], label = \"Friday\")\n",
    "plt.xticks([1,2,3,4,5,6,7,8,9,10,11,12,13,14,15,16,17,18,19,20,21,22,23,24,25,26,27],[\"7.00\",\"7.30\",\"8.00\",\"8.30\",\"9.00\",\"9.30\",\"10.00\",\"10.30\",\"11.00\",\"11.30\",\"12.00\",\"12.30\",\"13.00\",\"13.30\",\"14.00\",\"14.30\",\"15.00\",\"15.30\",\"16.00\",\"16.30\",\"17.00\",\"17.30\",\"18.00\",\"18.30\",\"19.00\",\"19.30\",\"20.00\"],rotation=90)\n",
    "plt.xlabel(\"Time Hours\",fontsize = 30)\n",
    "plt.ylabel(\"slowness in traffic (%)\",fontsize = 25)\n",
    "plt.title(\"Mon to Fri slowness in traffic\",fontsize = 25)\n",
    "plt.legend()\n",
    "plt.show()\n",
    "\n"
   ]
  },
  {
   "cell_type": "code",
   "execution_count": null,
   "id": "7c2601c6",
   "metadata": {},
   "outputs": [],
   "source": [
    "housing = pd.read_csv(\"housing.csv\")"
   ]
  },
  {
   "cell_type": "code",
   "execution_count": null,
   "id": "2318890b",
   "metadata": {},
   "outputs": [],
   "source": [
    "housing.head(2)"
   ]
  },
  {
   "cell_type": "code",
   "execution_count": null,
   "id": "5fae0367",
   "metadata": {},
   "outputs": [],
   "source": [
    "housing.columns"
   ]
  },
  {
   "cell_type": "code",
   "execution_count": null,
   "id": "2dde4bf9",
   "metadata": {},
   "outputs": [],
   "source": [
    "housing.info()"
   ]
  },
  {
   "cell_type": "code",
   "execution_count": null,
   "id": "d5ab9905",
   "metadata": {},
   "outputs": [],
   "source": []
  },
  {
   "cell_type": "code",
   "execution_count": null,
   "id": "a7f1f3d5",
   "metadata": {},
   "outputs": [],
   "source": []
  },
  {
   "cell_type": "code",
   "execution_count": null,
   "id": "2885c6f1",
   "metadata": {},
   "outputs": [],
   "source": []
  },
  {
   "cell_type": "code",
   "execution_count": null,
   "id": "84fe48c8",
   "metadata": {},
   "outputs": [],
   "source": []
  },
  {
   "cell_type": "code",
   "execution_count": null,
   "id": "efbf391c",
   "metadata": {},
   "outputs": [],
   "source": []
  },
  {
   "cell_type": "code",
   "execution_count": null,
   "id": "91cfba0a",
   "metadata": {},
   "outputs": [],
   "source": []
  },
  {
   "cell_type": "code",
   "execution_count": null,
   "id": "cbaa2340",
   "metadata": {},
   "outputs": [],
   "source": []
  },
  {
   "cell_type": "code",
   "execution_count": null,
   "id": "eea0d805",
   "metadata": {},
   "outputs": [],
   "source": []
  }
 ],
 "metadata": {
  "kernelspec": {
   "display_name": "Python 3 (ipykernel)",
   "language": "python",
   "name": "python3"
  },
  "language_info": {
   "codemirror_mode": {
    "name": "ipython",
    "version": 3
   },
   "file_extension": ".py",
   "mimetype": "text/x-python",
   "name": "python",
   "nbconvert_exporter": "python",
   "pygments_lexer": "ipython3",
   "version": "3.9.12"
  }
 },
 "nbformat": 4,
 "nbformat_minor": 5
}
