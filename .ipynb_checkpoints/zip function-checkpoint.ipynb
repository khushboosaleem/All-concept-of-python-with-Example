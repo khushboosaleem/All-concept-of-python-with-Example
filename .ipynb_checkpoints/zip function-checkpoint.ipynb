{
 "cells": [
  {
   "cell_type": "code",
   "execution_count": 6,
   "id": "2a67e4a8",
   "metadata": {},
   "outputs": [
    {
     "name": "stdout",
     "output_type": "stream",
     "text": [
      "[(1, 'a'), (2, 'b'), (3, 'c')]\n"
     ]
    }
   ],
   "source": [
    "list1 = [1, 2, 3]\n",
    "list2 = ['a', 'b', 'c']\n",
    "\n",
    "zipped = zip(list1, list2)\n",
    "# zipped\n",
    "print(list(zipped))\n"
   ]
  },
  {
   "cell_type": "code",
   "execution_count": 7,
   "id": "48b5fe21",
   "metadata": {},
   "outputs": [
    {
     "name": "stdout",
     "output_type": "stream",
     "text": [
      "[(1, 'a', '@'), (2, 'b', '#'), (3, 'c', '$'), (4, 'd', '%')]\n"
     ]
    }
   ],
   "source": [
    "numbers = [1, 2, 3, 4]\n",
    "letters = ['a', 'b', 'c', 'd']\n",
    "symbols = ['@', '#', '$', '%']\n",
    "\n",
    "zipped = zip(numbers, letters, symbols)\n",
    "print(list(zipped))\n"
   ]
  },
  {
   "cell_type": "code",
   "execution_count": 8,
   "id": "327ae732",
   "metadata": {},
   "outputs": [
    {
     "name": "stdout",
     "output_type": "stream",
     "text": [
      "[(1, 'a', '@'), (2, 'b', '#'), (3, 'c', '$')]\n"
     ]
    }
   ],
   "source": [
    "numbers = [1, 2, 3, 4]\n",
    "letters = ['a', 'b', 'c']\n",
    "symbols = ['@', '#', '$', '%']\n",
    "\n",
    "zipped = zip(numbers, letters, symbols)\n",
    "print(list(zipped))"
   ]
  },
  {
   "cell_type": "code",
   "execution_count": 12,
   "id": "ba90a580",
   "metadata": {},
   "outputs": [
    {
     "name": "stdout",
     "output_type": "stream",
     "text": [
      "(1, 2, 3)\n",
      "('a', 'b', 'c')\n",
      "('@', '#', '$')\n"
     ]
    }
   ],
   "source": [
    "zipped = [(1, 'a', '@'), (2, 'b', '#'), (3, 'c', '$')]\n",
    "numbers, letters, symbols = zip(*zipped)\n",
    "print(numbers)\n",
    "print(letters)\n",
    "print(symbols)\n"
   ]
  },
  {
   "cell_type": "code",
   "execution_count": 4,
   "id": "0fb05875",
   "metadata": {},
   "outputs": [
    {
     "name": "stdout",
     "output_type": "stream",
     "text": [
      "Number: 1, Letter: a\n",
      "Number: 2, Letter: b\n",
      "Number: 3, Letter: c\n"
     ]
    }
   ],
   "source": [
    "list1 = [1, 2, 3]\n",
    "list2 = ['a', 'b', 'c']\n",
    "\n",
    "for num, letter in zip(list1, list2):\n",
    "    print(f'Number: {num}, Letter: {letter}')\n"
   ]
  }
 ],
 "metadata": {
  "kernelspec": {
   "display_name": "Python 3 (ipykernel)",
   "language": "python",
   "name": "python3"
  },
  "language_info": {
   "codemirror_mode": {
    "name": "ipython",
    "version": 3
   },
   "file_extension": ".py",
   "mimetype": "text/x-python",
   "name": "python",
   "nbconvert_exporter": "python",
   "pygments_lexer": "ipython3",
   "version": "3.9.12"
  }
 },
 "nbformat": 4,
 "nbformat_minor": 5
}
