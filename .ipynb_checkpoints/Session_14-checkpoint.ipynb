{
 "cells": [
  {
   "cell_type": "code",
   "execution_count": 24,
   "metadata": {
    "colab": {
     "base_uri": "https://localhost:8080/"
    },
    "id": "l_dep29q0TqF",
    "outputId": "6e8956a8-99ce-48c0-dbaf-3773c110d4fb"
   },
   "outputs": [
    {
     "data": {
      "text/plain": [
       "{'name': 'khushboo', 'age': 23, 'porf': 'Teacher'}"
      ]
     },
     "execution_count": 24,
     "metadata": {},
     "output_type": "execute_result"
    }
   ],
   "source": [
    "# {   }     key : value\n",
    "my_dict = {\n",
    "    \"name\": \"khushboo\",\n",
    "    \"age\": 23,\n",
    "    \"porf\": \"Teacher\"\n",
    "}\n",
    "my_dict"
   ]
  },
  {
   "cell_type": "code",
   "execution_count": 13,
   "metadata": {
    "id": "AvufbazG3LLN"
   },
   "outputs": [],
   "source": [
    "thisdict = {\n",
    "  \"brand\": \"Ford\",\n",
    "  \"model\": \"Mustang\",\n",
    "  \"year\": 1964\n",
    "}"
   ]
  },
  {
   "cell_type": "code",
   "execution_count": 14,
   "metadata": {
    "colab": {
     "base_uri": "https://localhost:8080/"
    },
    "id": "sKo-luQe3olV",
    "outputId": "7099cd25-9cbd-4d41-9f89-30abed57d189"
   },
   "outputs": [
    {
     "data": {
      "text/plain": [
       "{'brand': 'Ford', 'model': 'Mustang', 'year': 1964}"
      ]
     },
     "execution_count": 14,
     "metadata": {},
     "output_type": "execute_result"
    }
   ],
   "source": [
    "thisdict"
   ]
  },
  {
   "cell_type": "code",
   "execution_count": 15,
   "metadata": {
    "colab": {
     "base_uri": "https://localhost:8080/"
    },
    "id": "B2qheEsU3sJd",
    "outputId": "a869e158-3d03-4f0d-b013-cbb7407d289e"
   },
   "outputs": [
    {
     "name": "stdout",
     "output_type": "stream",
     "text": [
      "Length of Keys =  5\n",
      "Length of Values =  5\n",
      "options = 12112,12312,1234,6487,1135\n",
      "('raza', 'china', '19', 'C', 'kungfu master')\n"
     ]
    }
   ],
   "source": [
    "#  Dictionaries in Python\n",
    "\n",
    "D = {'12112': (\"Ayaan\",'OMAN',10,'A','Python Student'),'12312': (\"Osama\",'Pakistani',24,'B','Live Trainer'),'1234': (\"zain\",'pakistani','32','A','doctor'),'6487':('raza','china','19','C','kungfu master'),'1135': ('omer','omani','30','D','gold smith')}\n",
    "\n",
    "print('Length of Keys = ',len(D.keys()))\n",
    "print('Length of Values = ',len(D.values()))\n",
    "\n",
    "# Searching Techniques\n",
    "print('options = 12112,12312,1234,6487,1135')\n",
    "print(D['6487'])"
   ]
  },
  {
   "cell_type": "code",
   "execution_count": 16,
   "metadata": {
    "colab": {
     "base_uri": "https://localhost:8080/"
    },
    "id": "DebGanky5Mmk",
    "outputId": "8cf38f34-fbe6-4a12-d77a-b442bee01b6c"
   },
   "outputs": [
    {
     "data": {
      "text/plain": [
       "dict_keys(['12112', '12312', '1234', '6487', '1135'])"
      ]
     },
     "execution_count": 16,
     "metadata": {},
     "output_type": "execute_result"
    }
   ],
   "source": [
    "D.keys()"
   ]
  },
  {
   "cell_type": "code",
   "execution_count": 17,
   "metadata": {
    "colab": {
     "base_uri": "https://localhost:8080/"
    },
    "id": "q1e_NSIw5VAj",
    "outputId": "f64b0dc9-c4f9-43c0-bc6d-29084c69bd32"
   },
   "outputs": [
    {
     "data": {
      "text/plain": [
       "dict_values([('Ayaan', 'OMAN', 10, 'A', 'Python Student'), ('Osama', 'Pakistani', 24, 'B', 'Live Trainer'), ('zain', 'pakistani', '32', 'A', 'doctor'), ('raza', 'china', '19', 'C', 'kungfu master'), ('omer', 'omani', '30', 'D', 'gold smith')])"
      ]
     },
     "execution_count": 17,
     "metadata": {},
     "output_type": "execute_result"
    }
   ],
   "source": [
    "D.values()"
   ]
  },
  {
   "cell_type": "code",
   "execution_count": 19,
   "metadata": {
    "colab": {
     "base_uri": "https://localhost:8080/"
    },
    "id": "WFP0jnry5b1k",
    "outputId": "72b58f99-d6db-4e18-ebfe-fb3874fc4c6d"
   },
   "outputs": [
    {
     "data": {
      "text/plain": [
       "['__class__',\n",
       " '__class_getitem__',\n",
       " '__contains__',\n",
       " '__delattr__',\n",
       " '__delitem__',\n",
       " '__dir__',\n",
       " '__doc__',\n",
       " '__eq__',\n",
       " '__format__',\n",
       " '__ge__',\n",
       " '__getattribute__',\n",
       " '__getitem__',\n",
       " '__gt__',\n",
       " '__hash__',\n",
       " '__init__',\n",
       " '__init_subclass__',\n",
       " '__ior__',\n",
       " '__iter__',\n",
       " '__le__',\n",
       " '__len__',\n",
       " '__lt__',\n",
       " '__ne__',\n",
       " '__new__',\n",
       " '__or__',\n",
       " '__reduce__',\n",
       " '__reduce_ex__',\n",
       " '__repr__',\n",
       " '__reversed__',\n",
       " '__ror__',\n",
       " '__setattr__',\n",
       " '__setitem__',\n",
       " '__sizeof__',\n",
       " '__str__',\n",
       " '__subclasshook__',\n",
       " 'clear',\n",
       " 'copy',\n",
       " 'fromkeys',\n",
       " 'get',\n",
       " 'items',\n",
       " 'keys',\n",
       " 'pop',\n",
       " 'popitem',\n",
       " 'setdefault',\n",
       " 'update',\n",
       " 'values']"
      ]
     },
     "execution_count": 19,
     "metadata": {},
     "output_type": "execute_result"
    }
   ],
   "source": [
    "dir(dict)"
   ]
  },
  {
   "cell_type": "code",
   "execution_count": null,
   "metadata": {
    "id": "h5JkSEVD5fkB"
   },
   "outputs": [],
   "source": []
  }
 ],
 "metadata": {
  "colab": {
   "provenance": []
  },
  "kernelspec": {
   "display_name": "Python 3 (ipykernel)",
   "language": "python",
   "name": "python3"
  },
  "language_info": {
   "codemirror_mode": {
    "name": "ipython",
    "version": 3
   },
   "file_extension": ".py",
   "mimetype": "text/x-python",
   "name": "python",
   "nbconvert_exporter": "python",
   "pygments_lexer": "ipython3",
   "version": "3.9.12"
  }
 },
 "nbformat": 4,
 "nbformat_minor": 1
}
