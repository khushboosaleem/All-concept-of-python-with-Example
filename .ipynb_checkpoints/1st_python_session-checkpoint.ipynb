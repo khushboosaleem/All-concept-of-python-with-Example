{
 "cells": [
  {
   "cell_type": "code",
   "execution_count": 4,
   "metadata": {
    "colab": {
     "base_uri": "https://localhost:8080/"
    },
    "executionInfo": {
     "elapsed": 367,
     "status": "ok",
     "timestamp": 1694417624403,
     "user": {
      "displayName": "Khushboo saleem",
      "userId": "02793055846110653398"
     },
     "user_tz": -300
    },
    "id": "eT_sDDiEI5MN",
    "outputId": "68ca2a68-8150-451a-9680-3f312a50d2fc"
   },
   "outputs": [
    {
     "name": "stdout",
     "output_type": "stream",
     "text": [
      "hello world\n"
     ]
    }
   ],
   "source": [
    "print(\"hello world\")   # abc@gmai.com"
   ]
  },
  {
   "cell_type": "code",
   "execution_count": 5,
   "metadata": {
    "colab": {
     "base_uri": "https://localhost:8080/",
     "height": 141
    },
    "executionInfo": {
     "elapsed": 7,
     "status": "error",
     "timestamp": 1694417637908,
     "user": {
      "displayName": "Khushboo saleem",
      "userId": "02793055846110653398"
     },
     "user_tz": -300
    },
    "id": "g2mnNV5dJA68",
    "outputId": "5dc92222-194c-4744-f0d3-65280fc9d0e5"
   },
   "outputs": [
    {
     "ename": "SyntaxError",
     "evalue": "ignored",
     "output_type": "error",
     "traceback": [
      "\u001b[0;36m  File \u001b[0;32m\"<ipython-input-5-6135c6da936c>\"\u001b[0;36m, line \u001b[0;32m1\u001b[0m\n\u001b[0;31m    print(hello world)\u001b[0m\n\u001b[0m          ^\u001b[0m\n\u001b[0;31mSyntaxError\u001b[0m\u001b[0;31m:\u001b[0m invalid syntax. Perhaps you forgot a comma?\n"
     ]
    }
   ],
   "source": [
    "print(hello world)"
   ]
  },
  {
   "cell_type": "code",
   "execution_count": 6,
   "metadata": {
    "executionInfo": {
     "elapsed": 486,
     "status": "ok",
     "timestamp": 1694417812096,
     "user": {
      "displayName": "Khushboo saleem",
      "userId": "02793055846110653398"
     },
     "user_tz": -300
    },
    "id": "gWH-KP92I_xr"
   },
   "outputs": [],
   "source": [
    "# \" \" srting \"Ayaan\"\n",
    "# int 23\n",
    "# float  2.0\n",
    "# complex 2+j, 2j"
   ]
  },
  {
   "cell_type": "code",
   "execution_count": 7,
   "metadata": {
    "colab": {
     "base_uri": "https://localhost:8080/",
     "height": 141
    },
    "executionInfo": {
     "elapsed": 395,
     "status": "error",
     "timestamp": 1694417885621,
     "user": {
      "displayName": "Khushboo saleem",
      "userId": "02793055846110653398"
     },
     "user_tz": -300
    },
    "id": "ugQqtRK-K_Xz",
    "outputId": "d32c6555-d4c2-4cf9-b61e-25384e1e7a23"
   },
   "outputs": [
    {
     "ename": "SyntaxError",
     "evalue": "ignored",
     "output_type": "error",
     "traceback": [
      "\u001b[0;36m  File \u001b[0;32m\"<ipython-input-7-70edbca7a2a6>\"\u001b[0;36m, line \u001b[0;32m1\u001b[0m\n\u001b[0;31m    print('ali's house')\u001b[0m\n\u001b[0m                      ^\u001b[0m\n\u001b[0;31mSyntaxError\u001b[0m\u001b[0;31m:\u001b[0m unterminated string literal (detected at line 1)\n"
     ]
    }
   ],
   "source": [
    "print('ali's house')"
   ]
  },
  {
   "cell_type": "code",
   "execution_count": 8,
   "metadata": {
    "colab": {
     "base_uri": "https://localhost:8080/"
    },
    "executionInfo": {
     "elapsed": 4,
     "status": "ok",
     "timestamp": 1694417943638,
     "user": {
      "displayName": "Khushboo saleem",
      "userId": "02793055846110653398"
     },
     "user_tz": -300
    },
    "id": "dQpGjmV7LYR4",
    "outputId": "24eaaca8-dfe6-4c96-c0fc-f4aab12385ec"
   },
   "outputs": [
    {
     "name": "stdout",
     "output_type": "stream",
     "text": [
      "Ali's house\n"
     ]
    }
   ],
   "source": [
    "print(\"Ali's house\")"
   ]
  },
  {
   "cell_type": "code",
   "execution_count": 9,
   "metadata": {
    "colab": {
     "base_uri": "https://localhost:8080/"
    },
    "executionInfo": {
     "elapsed": 2,
     "status": "ok",
     "timestamp": 1694418042344,
     "user": {
      "displayName": "Khushboo saleem",
      "userId": "02793055846110653398"
     },
     "user_tz": -300
    },
    "id": "Gg52QqtwLfgb",
    "outputId": "4bea0005-66d7-4054-9c14-f9f824b1afa9"
   },
   "outputs": [
    {
     "name": "stdout",
     "output_type": "stream",
     "text": [
      "hello world\n"
     ]
    }
   ],
   "source": [
    "print('hello world')"
   ]
  },
  {
   "cell_type": "code",
   "execution_count": 17,
   "metadata": {
    "colab": {
     "base_uri": "https://localhost:8080/"
    },
    "executionInfo": {
     "elapsed": 588,
     "status": "ok",
     "timestamp": 1694418225735,
     "user": {
      "displayName": "Khushboo saleem",
      "userId": "02793055846110653398"
     },
     "user_tz": -300
    },
    "id": "V0Xv9tH5MZns",
    "outputId": "dc9cf336-67e5-456c-f1ca-738355980b6d"
   },
   "outputs": [
    {
     "data": {
      "text/plain": [
       "str"
      ]
     },
     "execution_count": 17,
     "metadata": {},
     "output_type": "execute_result"
    }
   ],
   "source": [
    "a = \"khushboo saleem\"\n",
    "type(a)"
   ]
  },
  {
   "cell_type": "code",
   "execution_count": 15,
   "metadata": {
    "colab": {
     "base_uri": "https://localhost:8080/"
    },
    "executionInfo": {
     "elapsed": 10,
     "status": "ok",
     "timestamp": 1694418156193,
     "user": {
      "displayName": "Khushboo saleem",
      "userId": "02793055846110653398"
     },
     "user_tz": -300
    },
    "id": "G4iwgqtUL3kk",
    "outputId": "778f5cc9-85c2-4310-d8e9-9f0de9f14db7"
   },
   "outputs": [
    {
     "name": "stdout",
     "output_type": "stream",
     "text": [
      "23\n"
     ]
    },
    {
     "data": {
      "text/plain": [
       "int"
      ]
     },
     "execution_count": 15,
     "metadata": {},
     "output_type": "execute_result"
    }
   ],
   "source": [
    "a = 23\n",
    "print(a)\n",
    "type(a)"
   ]
  },
  {
   "cell_type": "code",
   "execution_count": 11,
   "metadata": {
    "colab": {
     "base_uri": "https://localhost:8080/"
    },
    "executionInfo": {
     "elapsed": 4,
     "status": "ok",
     "timestamp": 1694418086846,
     "user": {
      "displayName": "Khushboo saleem",
      "userId": "02793055846110653398"
     },
     "user_tz": -300
    },
    "id": "R6Ltw_VvL-77",
    "outputId": "1385382d-2eb1-497d-b669-e721e74efae1"
   },
   "outputs": [
    {
     "name": "stdout",
     "output_type": "stream",
     "text": [
      "23.56\n"
     ]
    }
   ],
   "source": [
    "print(23.56)"
   ]
  },
  {
   "cell_type": "code",
   "execution_count": 18,
   "metadata": {
    "colab": {
     "base_uri": "https://localhost:8080/"
    },
    "executionInfo": {
     "elapsed": 7,
     "status": "ok",
     "timestamp": 1694418251928,
     "user": {
      "displayName": "Khushboo saleem",
      "userId": "02793055846110653398"
     },
     "user_tz": -300
    },
    "id": "saEFwERuMCXl",
    "outputId": "f85e233d-73fe-4470-b807-96dcb8fe898c"
   },
   "outputs": [
    {
     "data": {
      "text/plain": [
       "float"
      ]
     },
     "execution_count": 18,
     "metadata": {},
     "output_type": "execute_result"
    }
   ],
   "source": [
    "a = 23.56\n",
    "type(a)"
   ]
  },
  {
   "cell_type": "code",
   "execution_count": 19,
   "metadata": {
    "colab": {
     "base_uri": "https://localhost:8080/",
     "height": 35
    },
    "executionInfo": {
     "elapsed": 5,
     "status": "ok",
     "timestamp": 1694418335365,
     "user": {
      "displayName": "Khushboo saleem",
      "userId": "02793055846110653398"
     },
     "user_tz": -300
    },
    "id": "iCoCh7y2Mqor",
    "outputId": "1cea8f0f-79cd-489d-ee72-451446488fac"
   },
   "outputs": [
    {
     "data": {
      "application/vnd.google.colaboratory.intrinsic+json": {
       "type": "string"
      },
      "text/plain": [
       "'Ayaan'"
      ]
     },
     "execution_count": 19,
     "metadata": {},
     "output_type": "execute_result"
    }
   ],
   "source": [
    "name = \"Ayaan\"\n",
    "name"
   ]
  },
  {
   "cell_type": "code",
   "execution_count": 20,
   "metadata": {
    "colab": {
     "base_uri": "https://localhost:8080/"
    },
    "executionInfo": {
     "elapsed": 8,
     "status": "ok",
     "timestamp": 1694418465736,
     "user": {
      "displayName": "Khushboo saleem",
      "userId": "02793055846110653398"
     },
     "user_tz": -300
    },
    "id": "h9mc-EpXM_G6",
    "outputId": "711e47db-ce63-4a3b-decc-5a966bf576e2"
   },
   "outputs": [
    {
     "name": "stdout",
     "output_type": "stream",
     "text": [
      "Ayaan\n"
     ]
    }
   ],
   "source": [
    "print(name)"
   ]
  },
  {
   "cell_type": "code",
   "execution_count": 21,
   "metadata": {
    "colab": {
     "base_uri": "https://localhost:8080/",
     "height": 141
    },
    "executionInfo": {
     "elapsed": 12,
     "status": "error",
     "timestamp": 1694418544479,
     "user": {
      "displayName": "Khushboo saleem",
      "userId": "02793055846110653398"
     },
     "user_tz": -300
    },
    "id": "9g4gEp0lNe77",
    "outputId": "b8cbb439-0b3a-475c-8f06-4c5726cce9ae"
   },
   "outputs": [
    {
     "ename": "SyntaxError",
     "evalue": "ignored",
     "output_type": "error",
     "traceback": [
      "\u001b[0;36m  File \u001b[0;32m\"<ipython-input-21-53d9be063492>\"\u001b[0;36m, line \u001b[0;32m1\u001b[0m\n\u001b[0;31m    print(\"today is our 1st session\u001b[0m\n\u001b[0m          ^\u001b[0m\n\u001b[0;31mSyntaxError\u001b[0m\u001b[0;31m:\u001b[0m unterminated string literal (detected at line 1)\n"
     ]
    }
   ],
   "source": [
    "print(\"today is our 1st session\n",
    "  and we are learning python\")"
   ]
  },
  {
   "cell_type": "code",
   "execution_count": 22,
   "metadata": {
    "colab": {
     "base_uri": "https://localhost:8080/",
     "height": 141
    },
    "executionInfo": {
     "elapsed": 13,
     "status": "error",
     "timestamp": 1694418618478,
     "user": {
      "displayName": "Khushboo saleem",
      "userId": "02793055846110653398"
     },
     "user_tz": -300
    },
    "id": "_xovOfnmNyKH",
    "outputId": "8d1620b6-a0d5-4080-f34f-9af38969eb5c"
   },
   "outputs": [
    {
     "ename": "SyntaxError",
     "evalue": "ignored",
     "output_type": "error",
     "traceback": [
      "\u001b[0;36m  File \u001b[0;32m\"<ipython-input-22-460c15f51cfb>\"\u001b[0;36m, line \u001b[0;32m3\u001b[0m\n\u001b[0;31m    \"\"\"\"\u001b[0m\n\u001b[0m       ^\u001b[0m\n\u001b[0;31mSyntaxError\u001b[0m\u001b[0;31m:\u001b[0m unterminated string literal (detected at line 3)\n"
     ]
    }
   ],
   "source": [
    "\"\"\" today is our 1st session\n",
    "  and we are learning python\n",
    "\"\"\"\""
   ]
  },
  {
   "cell_type": "code",
   "execution_count": 23,
   "metadata": {
    "colab": {
     "base_uri": "https://localhost:8080/",
     "height": 35
    },
    "executionInfo": {
     "elapsed": 6,
     "status": "ok",
     "timestamp": 1694418639441,
     "user": {
      "displayName": "Khushboo saleem",
      "userId": "02793055846110653398"
     },
     "user_tz": -300
    },
    "id": "68ir7__-OEOb",
    "outputId": "462f93fd-7ab6-48b3-9e1b-3ea95e36d6ac"
   },
   "outputs": [
    {
     "data": {
      "application/vnd.google.colaboratory.intrinsic+json": {
       "type": "string"
      },
      "text/plain": [
       "' today is our 1st session\\n  and we are learning python\\n'"
      ]
     },
     "execution_count": 23,
     "metadata": {},
     "output_type": "execute_result"
    }
   ],
   "source": [
    "\"\"\" today is our 1st session\n",
    "  and we are learning python\n",
    "\"\"\""
   ]
  },
  {
   "cell_type": "code",
   "execution_count": 24,
   "metadata": {
    "colab": {
     "base_uri": "https://localhost:8080/"
    },
    "executionInfo": {
     "elapsed": 3,
     "status": "ok",
     "timestamp": 1694418818434,
     "user": {
      "displayName": "Khushboo saleem",
      "userId": "02793055846110653398"
     },
     "user_tz": -300
    },
    "id": "HqrhNWh9OJV6",
    "outputId": "17689128-a992-4ae2-e21b-253b06a72be9"
   },
   "outputs": [
    {
     "name": "stdout",
     "output_type": "stream",
     "text": [
      " today is our 1st session\n",
      "  and we are learning python\n"
     ]
    }
   ],
   "source": [
    "print(\"\"\" today is our 1st session\n",
    "  and we are learning python\"\"\")"
   ]
  },
  {
   "cell_type": "code",
   "execution_count": 25,
   "metadata": {
    "colab": {
     "base_uri": "https://localhost:8080/"
    },
    "executionInfo": {
     "elapsed": 3,
     "status": "ok",
     "timestamp": 1694418875706,
     "user": {
      "displayName": "Khushboo saleem",
      "userId": "02793055846110653398"
     },
     "user_tz": -300
    },
    "id": "JlsjJscRO1DV",
    "outputId": "0488fd58-453a-4931-d44c-5694d12539c1"
   },
   "outputs": [
    {
     "data": {
      "text/plain": [
       "5"
      ]
     },
     "execution_count": 25,
     "metadata": {},
     "output_type": "execute_result"
    }
   ],
   "source": [
    "2+3"
   ]
  },
  {
   "cell_type": "code",
   "execution_count": 26,
   "metadata": {
    "colab": {
     "base_uri": "https://localhost:8080/"
    },
    "executionInfo": {
     "elapsed": 7,
     "status": "ok",
     "timestamp": 1694418885095,
     "user": {
      "displayName": "Khushboo saleem",
      "userId": "02793055846110653398"
     },
     "user_tz": -300
    },
    "id": "OIgAJMEUPDF6",
    "outputId": "e3503f41-7a79-4a38-e488-a6f59d116195"
   },
   "outputs": [
    {
     "name": "stdout",
     "output_type": "stream",
     "text": [
      "5\n"
     ]
    }
   ],
   "source": [
    "print(2+3)"
   ]
  },
  {
   "cell_type": "code",
   "execution_count": 28,
   "metadata": {
    "colab": {
     "base_uri": "https://localhost:8080/"
    },
    "executionInfo": {
     "elapsed": 355,
     "status": "ok",
     "timestamp": 1694419408559,
     "user": {
      "displayName": "Khushboo saleem",
      "userId": "02793055846110653398"
     },
     "user_tz": -300
    },
    "id": "wZdWLqGCQ_dS",
    "outputId": "65e849d5-c35c-4528-a728-9b150e196662"
   },
   "outputs": [
    {
     "name": "stdout",
     "output_type": "stream",
     "text": [
      "6\n"
     ]
    }
   ],
   "source": [
    "print(2*3)"
   ]
  },
  {
   "cell_type": "code",
   "execution_count": 27,
   "metadata": {
    "colab": {
     "base_uri": "https://localhost:8080/",
     "height": 141
    },
    "executionInfo": {
     "elapsed": 7,
     "status": "error",
     "timestamp": 1694419104537,
     "user": {
      "displayName": "Khushboo saleem",
      "userId": "02793055846110653398"
     },
     "user_tz": -300
    },
    "id": "vUgNlpRDPFVB",
    "outputId": "846de182-8b92-4f37-a6eb-c891d3a51c0e"
   },
   "outputs": [
    {
     "ename": "SyntaxError",
     "evalue": "ignored",
     "output_type": "error",
     "traceback": [
      "\u001b[0;36m  File \u001b[0;32m\"<ipython-input-27-27821ad7a57d>\"\u001b[0;36m, line \u001b[0;32m1\u001b[0m\n\u001b[0;31m    print(2.3.00)\u001b[0m\n\u001b[0m          ^\u001b[0m\n\u001b[0;31mSyntaxError\u001b[0m\u001b[0;31m:\u001b[0m invalid syntax. Perhaps you forgot a comma?\n"
     ]
    }
   ],
   "source": [
    "print(2.3.00)"
   ]
  },
  {
   "cell_type": "code",
   "execution_count": 30,
   "metadata": {
    "colab": {
     "base_uri": "https://localhost:8080/"
    },
    "executionInfo": {
     "elapsed": 425,
     "status": "ok",
     "timestamp": 1694419468243,
     "user": {
      "displayName": "Khushboo saleem",
      "userId": "02793055846110653398"
     },
     "user_tz": -300
    },
    "id": "LPWwLD22RMk3",
    "outputId": "d49ac939-dd81-4d19-c71e-50c14cde4ac9"
   },
   "outputs": [
    {
     "name": "stdout",
     "output_type": "stream",
     "text": [
      "2j\n"
     ]
    }
   ],
   "source": [
    "print(2j)"
   ]
  },
  {
   "cell_type": "code",
   "execution_count": 31,
   "metadata": {
    "colab": {
     "base_uri": "https://localhost:8080/"
    },
    "executionInfo": {
     "elapsed": 365,
     "status": "ok",
     "timestamp": 1694419511146,
     "user": {
      "displayName": "Khushboo saleem",
      "userId": "02793055846110653398"
     },
     "user_tz": -300
    },
    "id": "duj3Lci3Rapt",
    "outputId": "b0ef32fe-0e51-4f51-a67b-c4c96f0991bb"
   },
   "outputs": [
    {
     "data": {
      "text/plain": [
       "complex"
      ]
     },
     "execution_count": 31,
     "metadata": {},
     "output_type": "execute_result"
    }
   ],
   "source": [
    "a = 2j\n",
    "type(a)"
   ]
  },
  {
   "cell_type": "code",
   "execution_count": null,
   "metadata": {
    "id": "tuM8AxjgP658"
   },
   "outputs": [],
   "source": [
    "43.000000.000000"
   ]
  },
  {
   "cell_type": "code",
   "execution_count": null,
   "metadata": {
    "id": "CXaxyT2gQcFY"
   },
   "outputs": [],
   "source": [
    "# print and without print\n",
    "# check data type\n",
    "# print int, float, complex"
   ]
  }
 ],
 "metadata": {
  "colab": {
   "authorship_tag": "ABX9TyMz5U+ZekugIVmvEg8lPETd",
   "provenance": []
  },
  "kernelspec": {
   "display_name": "Python 3 (ipykernel)",
   "language": "python",
   "name": "python3"
  },
  "language_info": {
   "codemirror_mode": {
    "name": "ipython",
    "version": 3
   },
   "file_extension": ".py",
   "mimetype": "text/x-python",
   "name": "python",
   "nbconvert_exporter": "python",
   "pygments_lexer": "ipython3",
   "version": "3.9.12"
  }
 },
 "nbformat": 4,
 "nbformat_minor": 1
}
