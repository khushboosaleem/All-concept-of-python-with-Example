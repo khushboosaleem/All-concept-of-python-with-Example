{
 "cells": [
  {
   "cell_type": "markdown",
   "metadata": {
    "id": "-OuLbJwcJFNQ"
   },
   "source": [
    "## **Python divides the operators in the following groups**\n",
    "\n",
    "Arithmetic operators\n",
    "\n",
    "Assignment operators\n",
    "\n",
    "Comparison operators\n",
    "\n",
    "Logical operators\n",
    "\n",
    "Identity operators\n",
    "\n",
    "Membership operators\n",
    "\n",
    "Bitwise operators"
   ]
  },
  {
   "cell_type": "markdown",
   "metadata": {
    "id": "A1lRc9TeCp_T"
   },
   "source": [
    "# **Python Comparison Operators**\n",
    "\n",
    "Comparison operators are used to compare two values"
   ]
  },
  {
   "cell_type": "code",
   "execution_count": null,
   "metadata": {
    "id": "981ioPnLCFuD"
   },
   "outputs": [],
   "source": [
    "\n",
    "# Operator\t    Name\t                        Example\n",
    "# ==\t          Equal\t                        x == y\n",
    "# !=\t          Not equal\t                    x != y\n",
    "# >\t            Greater than\t                x > y\n",
    "# <\t            Less than\t                    x < y\n",
    "# >=\t          Greater than or equal to\t    x >= y\n",
    "# <=\t          Less than or equal to\t        x <= y"
   ]
  },
  {
   "cell_type": "code",
   "execution_count": 3,
   "metadata": {
    "colab": {
     "base_uri": "https://localhost:8080/"
    },
    "id": "maTfgnhFYbKC",
    "outputId": "c78a3cdc-e9bc-4ea0-fda8-71b01a0a236b"
   },
   "outputs": [
    {
     "name": "stdout",
     "output_type": "stream",
     "text": [
      "True\n"
     ]
    }
   ],
   "source": [
    "x = 5\n",
    "y = 5\n",
    "print(x == y)"
   ]
  },
  {
   "cell_type": "code",
   "execution_count": 4,
   "metadata": {
    "colab": {
     "base_uri": "https://localhost:8080/"
    },
    "id": "GVZQ7dS0Yp3n",
    "outputId": "a6659463-5c00-437c-b189-92e3d038e525"
   },
   "outputs": [
    {
     "name": "stdout",
     "output_type": "stream",
     "text": [
      "True\n"
     ]
    }
   ],
   "source": [
    "x = 5\n",
    "y = 10\n",
    "print(x != y)"
   ]
  },
  {
   "cell_type": "code",
   "execution_count": 22,
   "metadata": {
    "colab": {
     "base_uri": "https://localhost:8080/"
    },
    "id": "9XPw-KHFYw20",
    "outputId": "0df29e1f-6181-41c3-b89e-7300e6178597"
   },
   "outputs": [
    {
     "name": "stdout",
     "output_type": "stream",
     "text": [
      "True\n"
     ]
    }
   ],
   "source": [
    "x = 40\n",
    "y = 20\n",
    "print(x > y)"
   ]
  },
  {
   "cell_type": "code",
   "execution_count": 10,
   "metadata": {
    "colab": {
     "base_uri": "https://localhost:8080/"
    },
    "id": "uLEmLZv6Y8dG",
    "outputId": "ace62cef-6d75-42e3-bc5d-2cb227a9b949"
   },
   "outputs": [
    {
     "name": "stdout",
     "output_type": "stream",
     "text": [
      "True\n"
     ]
    }
   ],
   "source": [
    "x = 10\n",
    "y = 20\n",
    "print(x < y)"
   ]
  },
  {
   "cell_type": "code",
   "execution_count": 15,
   "metadata": {
    "colab": {
     "base_uri": "https://localhost:8080/"
    },
    "id": "3wNoyTStZExO",
    "outputId": "0a3d7852-39ba-4aff-917e-9fa1b1690d76"
   },
   "outputs": [
    {
     "name": "stdout",
     "output_type": "stream",
     "text": [
      "True\n"
     ]
    }
   ],
   "source": [
    "x = 20\n",
    "y = 10\n",
    "print(x >= y)"
   ]
  },
  {
   "cell_type": "code",
   "execution_count": 16,
   "metadata": {
    "colab": {
     "base_uri": "https://localhost:8080/"
    },
    "id": "6A_MG_1BZYMz",
    "outputId": "31865952-5b9a-438e-98fd-43ca6fc828cf"
   },
   "outputs": [
    {
     "name": "stdout",
     "output_type": "stream",
     "text": [
      "True\n"
     ]
    }
   ],
   "source": [
    "x = 20\n",
    "y = 20\n",
    "print(x >= y)"
   ]
  },
  {
   "cell_type": "code",
   "execution_count": 18,
   "metadata": {
    "colab": {
     "base_uri": "https://localhost:8080/"
    },
    "id": "7TkeOMUtZdgt",
    "outputId": "712b660c-ea7a-4f49-91fe-ea6b1a6199c3"
   },
   "outputs": [
    {
     "name": "stdout",
     "output_type": "stream",
     "text": [
      "True\n"
     ]
    }
   ],
   "source": [
    "x = 10\n",
    "y = 10\n",
    "print(x <= y)"
   ]
  },
  {
   "cell_type": "code",
   "execution_count": 20,
   "metadata": {
    "colab": {
     "base_uri": "https://localhost:8080/"
    },
    "id": "4pszl-QiZjz6",
    "outputId": "9b1f78a5-0170-40f5-eb1d-624a567e389c"
   },
   "outputs": [
    {
     "name": "stdout",
     "output_type": "stream",
     "text": [
      "True\n"
     ]
    }
   ],
   "source": [
    "x = 5\n",
    "y = 10\n",
    "print(x <= y)"
   ]
  },
  {
   "cell_type": "markdown",
   "metadata": {
    "id": "_34rWaapC3P9"
   },
   "source": [
    "# **Python Logical Operators**\n",
    "\n",
    "Logical operators are used to combine conditional statements:\n"
   ]
  },
  {
   "cell_type": "code",
   "execution_count": null,
   "metadata": {
    "id": "bC57SGBnC4yI"
   },
   "outputs": [],
   "source": [
    "\n",
    "# Operator\tDescription\t                                                Example\n",
    "# and     \tReturns True if both statements are true\t                  x < 5 and  x < 10\n",
    "# or\t      Returns True if one of the statements is true\t              x < 5 or x < 4\n",
    "# not\t      Reverse the result, returns False if the result is true\t    not(x < 5 and x < 10)"
   ]
  },
  {
   "cell_type": "code",
   "execution_count": 24,
   "metadata": {
    "colab": {
     "base_uri": "https://localhost:8080/"
    },
    "id": "U57F_I0GabSC",
    "outputId": "d45676db-cbf2-48ff-b71a-2e654dae3f41"
   },
   "outputs": [
    {
     "name": "stdout",
     "output_type": "stream",
     "text": [
      "True\n"
     ]
    }
   ],
   "source": [
    "x = 5\n",
    "y = 7\n",
    "\n",
    "print(x<y and y>x)"
   ]
  },
  {
   "cell_type": "code",
   "execution_count": 25,
   "metadata": {
    "colab": {
     "base_uri": "https://localhost:8080/"
    },
    "id": "rTf1H-7VakJ2",
    "outputId": "bbd1fbee-e9eb-4e59-c995-011bd5c68ec3"
   },
   "outputs": [
    {
     "name": "stdout",
     "output_type": "stream",
     "text": [
      "False\n"
     ]
    }
   ],
   "source": [
    "x = 5\n",
    "y = 7\n",
    "\n",
    "print(x<y and x>y)"
   ]
  },
  {
   "cell_type": "code",
   "execution_count": 26,
   "metadata": {
    "colab": {
     "base_uri": "https://localhost:8080/"
    },
    "id": "PBDKFpMyaxxV",
    "outputId": "19ae21ec-ff93-43fc-d6e2-25d95684f508"
   },
   "outputs": [
    {
     "name": "stdout",
     "output_type": "stream",
     "text": [
      "True\n"
     ]
    }
   ],
   "source": [
    "x = 5\n",
    "y = 5\n",
    "\n",
    "print(x==y and y==x)"
   ]
  },
  {
   "cell_type": "code",
   "execution_count": 27,
   "metadata": {
    "colab": {
     "base_uri": "https://localhost:8080/"
    },
    "id": "77gJeFMdbMQm",
    "outputId": "39093e66-9b7a-49dc-8924-e6e1f11b815a"
   },
   "outputs": [
    {
     "name": "stdout",
     "output_type": "stream",
     "text": [
      "False\n"
     ]
    }
   ],
   "source": [
    "x = 5\n",
    "y = 6\n",
    "\n",
    "print(x==y and y==x)"
   ]
  },
  {
   "cell_type": "code",
   "execution_count": 28,
   "metadata": {
    "colab": {
     "base_uri": "https://localhost:8080/"
    },
    "id": "yHoflIvYbQfB",
    "outputId": "6f53fce6-c998-4842-d8fb-2c8abeb57708"
   },
   "outputs": [
    {
     "data": {
      "text/plain": [
       "True"
      ]
     },
     "execution_count": 28,
     "metadata": {},
     "output_type": "execute_result"
    }
   ],
   "source": [
    "x = \"ayaan\"\n",
    "y = \"ayaan\"\n",
    "\n",
    "x==y and y==x"
   ]
  },
  {
   "cell_type": "code",
   "execution_count": 29,
   "metadata": {
    "colab": {
     "base_uri": "https://localhost:8080/"
    },
    "id": "cf6PRxB1bgb2",
    "outputId": "591a7746-9a2d-4fce-cc54-2b0a02dfe38b"
   },
   "outputs": [
    {
     "data": {
      "text/plain": [
       "False"
      ]
     },
     "execution_count": 29,
     "metadata": {},
     "output_type": "execute_result"
    }
   ],
   "source": [
    "x = \"ayaan\"\n",
    "y = \"ayaan\"\n",
    "\n",
    "x==y and y!=x"
   ]
  },
  {
   "cell_type": "code",
   "execution_count": 30,
   "metadata": {
    "colab": {
     "base_uri": "https://localhost:8080/"
    },
    "id": "PgdZVyo3bmFW",
    "outputId": "845551bc-6163-410d-96ca-a540cf0803b6"
   },
   "outputs": [
    {
     "data": {
      "text/plain": [
       "True"
      ]
     },
     "execution_count": 30,
     "metadata": {},
     "output_type": "execute_result"
    }
   ],
   "source": [
    "x = \"ayaan\"\n",
    "y = \"ayaan\"\n",
    "\n",
    "x==y or y!=x"
   ]
  },
  {
   "cell_type": "code",
   "execution_count": null,
   "metadata": {
    "id": "ATliuCObbtPP"
   },
   "outputs": [],
   "source": []
  }
 ],
 "metadata": {
  "colab": {
   "provenance": []
  },
  "kernelspec": {
   "display_name": "Python 3 (ipykernel)",
   "language": "python",
   "name": "python3"
  },
  "language_info": {
   "codemirror_mode": {
    "name": "ipython",
    "version": 3
   },
   "file_extension": ".py",
   "mimetype": "text/x-python",
   "name": "python",
   "nbconvert_exporter": "python",
   "pygments_lexer": "ipython3",
   "version": "3.9.12"
  }
 },
 "nbformat": 4,
 "nbformat_minor": 1
}
