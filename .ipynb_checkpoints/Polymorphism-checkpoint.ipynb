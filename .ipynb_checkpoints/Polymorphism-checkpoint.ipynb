{
 "cells": [
  {
   "cell_type": "markdown",
   "id": "cbd382a8",
   "metadata": {},
   "source": [
    "## Polymorphism"
   ]
  },
  {
   "cell_type": "code",
   "execution_count": 1,
   "id": "49fcc1b3",
   "metadata": {},
   "outputs": [],
   "source": [
    "sample_list = [1,2,3,4]\n",
    "name = \"Shawais Ali\"\n",
    "my_dict = {\n",
    "    \"name\": \"Ali\",\n",
    "    \"age\": 35\n",
    "}"
   ]
  },
  {
   "cell_type": "code",
   "execution_count": 3,
   "id": "0a4c799a",
   "metadata": {},
   "outputs": [
    {
     "data": {
      "text/plain": [
       "4"
      ]
     },
     "execution_count": 3,
     "metadata": {},
     "output_type": "execute_result"
    }
   ],
   "source": [
    "len(sample_list)"
   ]
  },
  {
   "cell_type": "code",
   "execution_count": 4,
   "id": "c1ea5b16",
   "metadata": {},
   "outputs": [
    {
     "data": {
      "text/plain": [
       "11"
      ]
     },
     "execution_count": 4,
     "metadata": {},
     "output_type": "execute_result"
    }
   ],
   "source": [
    "len(name)"
   ]
  },
  {
   "cell_type": "code",
   "execution_count": 5,
   "id": "8980eb36",
   "metadata": {},
   "outputs": [
    {
     "data": {
      "text/plain": [
       "2"
      ]
     },
     "execution_count": 5,
     "metadata": {},
     "output_type": "execute_result"
    }
   ],
   "source": [
    "len(my_dict)"
   ]
  },
  {
   "cell_type": "markdown",
   "id": "0bce21aa",
   "metadata": {},
   "source": [
    "## Function Polymorphism"
   ]
  },
  {
   "cell_type": "code",
   "execution_count": 12,
   "id": "bf69c894",
   "metadata": {},
   "outputs": [],
   "source": [
    "def add(x,y):\n",
    "    return x+y\n",
    "\n",
    "def concatenate(a,b):\n",
    "    return str(a) + \" \" + str(b)"
   ]
  },
  {
   "cell_type": "code",
   "execution_count": 13,
   "id": "57248588",
   "metadata": {},
   "outputs": [
    {
     "data": {
      "text/plain": [
       "8"
      ]
     },
     "execution_count": 13,
     "metadata": {},
     "output_type": "execute_result"
    }
   ],
   "source": [
    "add(3,5)"
   ]
  },
  {
   "cell_type": "code",
   "execution_count": 14,
   "id": "09be54b3",
   "metadata": {},
   "outputs": [
    {
     "data": {
      "text/plain": [
       "'Shameer Ali'"
      ]
     },
     "execution_count": 14,
     "metadata": {},
     "output_type": "execute_result"
    }
   ],
   "source": [
    "concatenate(\"Shameer\", \"Ali\")"
   ]
  },
  {
   "cell_type": "markdown",
   "id": "a339b58e",
   "metadata": {},
   "source": [
    "## Classes Polymorphism"
   ]
  },
  {
   "cell_type": "code",
   "execution_count": 17,
   "id": "161d5528",
   "metadata": {},
   "outputs": [],
   "source": [
    "class Car:\n",
    "    def start_engine(self):\n",
    "        pass\n",
    "    \n",
    "class ElectricCar(Car):\n",
    "    def start_engine(self):\n",
    "        print(\"Press the power button to start the electric engine\")"
   ]
  },
  {
   "cell_type": "code",
   "execution_count": 18,
   "id": "14c03f35",
   "metadata": {},
   "outputs": [],
   "source": [
    "my_car = Car()\n",
    "my_car.start_engine()"
   ]
  },
  {
   "cell_type": "code",
   "execution_count": 19,
   "id": "0a02e611",
   "metadata": {},
   "outputs": [
    {
     "name": "stdout",
     "output_type": "stream",
     "text": [
      "Press the power button to start the electric engine\n"
     ]
    }
   ],
   "source": [
    "my_electric_car = ElectricCar()\n",
    "\n",
    "# Polymorphic behavior based on object type\n",
    "my_electric_car.start_engine()\n"
   ]
  },
  {
   "cell_type": "markdown",
   "id": "61510b29",
   "metadata": {},
   "source": [
    "## Shape Polymorphism"
   ]
  },
  {
   "cell_type": "code",
   "execution_count": 20,
   "id": "d974a814",
   "metadata": {},
   "outputs": [],
   "source": [
    "class Shape:\n",
    "    def draw(self):\n",
    "        pass\n",
    "    \n",
    "class Circle(Shape):\n",
    "    def draw(self):\n",
    "        print(\"Draw a circle\")\n",
    "        \n",
    "class Square(Shape):\n",
    "    def draw(self):\n",
    "        print(\"Draw a square\")"
   ]
  },
  {
   "cell_type": "code",
   "execution_count": 21,
   "id": "bb35d319",
   "metadata": {},
   "outputs": [
    {
     "name": "stdout",
     "output_type": "stream",
     "text": [
      "Draw a circle\n"
     ]
    }
   ],
   "source": [
    "circle = Circle() \n",
    "circle.draw()"
   ]
  },
  {
   "cell_type": "code",
   "execution_count": 22,
   "id": "7a0a0b24",
   "metadata": {},
   "outputs": [
    {
     "name": "stdout",
     "output_type": "stream",
     "text": [
      "Draw a square\n"
     ]
    }
   ],
   "source": [
    "square = Square() \n",
    "square.draw()"
   ]
  },
  {
   "cell_type": "code",
   "execution_count": 23,
   "id": "eaca2492",
   "metadata": {},
   "outputs": [],
   "source": [
    "shapes = [Circle(), Square()]"
   ]
  },
  {
   "cell_type": "code",
   "execution_count": 24,
   "id": "9d9db133",
   "metadata": {},
   "outputs": [
    {
     "name": "stdout",
     "output_type": "stream",
     "text": [
      "Draw a circle\n",
      "Draw a square\n"
     ]
    }
   ],
   "source": [
    "for shape in shapes:\n",
    "    shape.draw()"
   ]
  },
  {
   "cell_type": "markdown",
   "id": "b24fcc3c",
   "metadata": {},
   "source": [
    "## Document Processing Polymorphism "
   ]
  },
  {
   "cell_type": "code",
   "execution_count": 25,
   "id": "a599eac3",
   "metadata": {},
   "outputs": [],
   "source": [
    "class Document:\n",
    "    def formate(self):\n",
    "        pass\n",
    "    \n",
    "class TextDocument(Document):\n",
    "    def formate(self):\n",
    "        print(\"Formatting text document\")\n",
    "        \n",
    "class PDFDocument(Document):\n",
    "    def formate(self):\n",
    "        print(\"Formatting PDF document\")"
   ]
  },
  {
   "cell_type": "code",
   "execution_count": 26,
   "id": "696383d6",
   "metadata": {},
   "outputs": [
    {
     "name": "stdout",
     "output_type": "stream",
     "text": [
      "Formatting text document\n",
      "Formatting PDF document\n"
     ]
    }
   ],
   "source": [
    "documents = [TextDocument(), PDFDocument()]\n",
    "\n",
    "# Polymorphism behave based on object type\n",
    "for docx in documents:\n",
    "    docx.formate()"
   ]
  },
  {
   "cell_type": "code",
   "execution_count": null,
   "id": "796b2cab",
   "metadata": {},
   "outputs": [],
   "source": []
  }
 ],
 "metadata": {
  "kernelspec": {
   "display_name": "Python 3 (ipykernel)",
   "language": "python",
   "name": "python3"
  },
  "language_info": {
   "codemirror_mode": {
    "name": "ipython",
    "version": 3
   },
   "file_extension": ".py",
   "mimetype": "text/x-python",
   "name": "python",
   "nbconvert_exporter": "python",
   "pygments_lexer": "ipython3",
   "version": "3.9.12"
  }
 },
 "nbformat": 4,
 "nbformat_minor": 5
}
