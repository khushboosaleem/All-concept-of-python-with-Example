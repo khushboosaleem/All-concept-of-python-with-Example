{
 "cells": [
  {
   "cell_type": "markdown",
   "id": "83211e0f",
   "metadata": {},
   "source": [
    "## ***Decorators***\n"
   ]
  },
  {
   "cell_type": "markdown",
   "id": "b11191d3",
   "metadata": {},
   "source": [
    "1. Functions as an objects\n",
    "2. Function as an arguments\n",
    "3. Functions as an inner or nested Functions"
   ]
  },
  {
   "cell_type": "code",
   "execution_count": 1,
   "id": "45a4220b",
   "metadata": {},
   "outputs": [],
   "source": [
    "def study():\n",
    "    print(\"Ayaan is studying in class 6\")"
   ]
  },
  {
   "cell_type": "code",
   "execution_count": 2,
   "id": "218e3eac",
   "metadata": {},
   "outputs": [
    {
     "name": "stdout",
     "output_type": "stream",
     "text": [
      "Ayaan is studying in class 6\n"
     ]
    }
   ],
   "source": [
    "study() "
   ]
  },
  {
   "cell_type": "code",
   "execution_count": 4,
   "id": "c006a78c",
   "metadata": {},
   "outputs": [
    {
     "name": "stdout",
     "output_type": "stream",
     "text": [
      "Ayaan is studying in class 6\n"
     ]
    }
   ],
   "source": [
    "# function as an object\n",
    "name = study  \n",
    "name()"
   ]
  },
  {
   "cell_type": "code",
   "execution_count": 3,
   "id": "419cbe17",
   "metadata": {},
   "outputs": [
    {
     "data": {
      "text/plain": [
       "<function __main__.study()>"
      ]
     },
     "execution_count": 3,
     "metadata": {},
     "output_type": "execute_result"
    }
   ],
   "source": [
    "name = study \n",
    "name"
   ]
  },
  {
   "cell_type": "code",
   "execution_count": 7,
   "id": "77e434cc",
   "metadata": {},
   "outputs": [
    {
     "name": "stdout",
     "output_type": "stream",
     "text": [
      "<class 'list'>\n",
      "<class 'str'>\n"
     ]
    }
   ],
   "source": [
    "l = [1,2,3,4]\n",
    "name = \"Ayaan\"\n",
    "print(type(l))\n",
    "print(type(name))"
   ]
  },
  {
   "cell_type": "code",
   "execution_count": 8,
   "id": "a9ed5228",
   "metadata": {},
   "outputs": [],
   "source": [
    "# function as an arguments\n",
    "def subjects(original_function):\n",
    "    print(\"Ayaan is learning maths\")\n",
    "    original_function()\n",
    "    print(\"Ayaan is also learning another subjects\")\n",
    "    "
   ]
  },
  {
   "cell_type": "code",
   "execution_count": 9,
   "id": "f58142f0",
   "metadata": {},
   "outputs": [
    {
     "name": "stdout",
     "output_type": "stream",
     "text": [
      "Ayaan is learning maths\n",
      "Ayaan is studying in class 6\n",
      "Ayaan is also learning another subjects\n"
     ]
    }
   ],
   "source": [
    "subjects(study)"
   ]
  },
  {
   "cell_type": "code",
   "execution_count": null,
   "id": "61032987",
   "metadata": {},
   "outputs": [],
   "source": [
    "# function as an inner or nested functions"
   ]
  },
  {
   "cell_type": "code",
   "execution_count": 11,
   "id": "cdedd578",
   "metadata": {},
   "outputs": [],
   "source": [
    "def nested_fun():\n",
    "    def inner_func():\n",
    "        return \"inner function\"\n",
    "    return inner_func # as an argument"
   ]
  },
  {
   "cell_type": "code",
   "execution_count": 12,
   "id": "3d23eb93",
   "metadata": {},
   "outputs": [
    {
     "data": {
      "text/plain": [
       "<function __main__.nested_fun.<locals>.inner_func()>"
      ]
     },
     "execution_count": 12,
     "metadata": {},
     "output_type": "execute_result"
    }
   ],
   "source": [
    "function_call = nested_fun()\n",
    "function_call"
   ]
  },
  {
   "cell_type": "code",
   "execution_count": 13,
   "id": "e8a9a5ff",
   "metadata": {},
   "outputs": [
    {
     "data": {
      "text/plain": [
       "'inner function'"
      ]
     },
     "execution_count": 13,
     "metadata": {},
     "output_type": "execute_result"
    }
   ],
   "source": [
    "function_call()"
   ]
  },
  {
   "cell_type": "code",
   "execution_count": 14,
   "id": "370d40e5",
   "metadata": {},
   "outputs": [],
   "source": [
    "def nested_fun():\n",
    "    def inner_func():\n",
    "        return \"inner function\"\n",
    "    return inner_func()"
   ]
  },
  {
   "cell_type": "code",
   "execution_count": 15,
   "id": "cce3d5a5",
   "metadata": {},
   "outputs": [
    {
     "data": {
      "text/plain": [
       "'inner function'"
      ]
     },
     "execution_count": 15,
     "metadata": {},
     "output_type": "execute_result"
    }
   ],
   "source": [
    "call_func = nested_fun()\n",
    "call_func"
   ]
  },
  {
   "cell_type": "code",
   "execution_count": 16,
   "id": "d1862996",
   "metadata": {},
   "outputs": [],
   "source": [
    "def study():\n",
    "    print(\"Ayaan is studying in class 6\")\n",
    "    \n",
    "def subjects(original_function):\n",
    "    def student():\n",
    "        print(\"Ayaan is learning maths\")\n",
    "        original_function()\n",
    "        print(\"Ayaan is also learning another subjects\")\n",
    "    return student"
   ]
  },
  {
   "cell_type": "code",
   "execution_count": 17,
   "id": "e7314ec7",
   "metadata": {},
   "outputs": [],
   "source": [
    "decorated_fun = subjects(study)"
   ]
  },
  {
   "cell_type": "code",
   "execution_count": 19,
   "id": "6f6cb426",
   "metadata": {},
   "outputs": [
    {
     "data": {
      "text/plain": [
       "<function __main__.subjects.<locals>.student()>"
      ]
     },
     "execution_count": 19,
     "metadata": {},
     "output_type": "execute_result"
    }
   ],
   "source": [
    "decorated_fun"
   ]
  },
  {
   "cell_type": "code",
   "execution_count": 20,
   "id": "adfad6e1",
   "metadata": {},
   "outputs": [
    {
     "name": "stdout",
     "output_type": "stream",
     "text": [
      "Ayaan is learning maths\n",
      "Ayaan is studying in class 6\n",
      "Ayaan is also learning another subjects\n"
     ]
    }
   ],
   "source": [
    "decorated_fun()"
   ]
  },
  {
   "cell_type": "markdown",
   "id": "3d9525d6",
   "metadata": {},
   "source": [
    "### ***Syntatic Sugar concept in decorator***\n",
    "@\n"
   ]
  },
  {
   "cell_type": "code",
   "execution_count": 22,
   "id": "c9ced960",
   "metadata": {},
   "outputs": [],
   "source": [
    "def study():\n",
    "    print(\"Ayaan is studying in class 6\")\n",
    "    \n",
    "def subjects(original_function):\n",
    "    def student():\n",
    "        print(\"Ayaan is learning maths\")\n",
    "        original_function()\n",
    "        print(\"Ayaan is also learning another subjects\")\n",
    "    return student"
   ]
  },
  {
   "cell_type": "code",
   "execution_count": 23,
   "id": "8f648474",
   "metadata": {},
   "outputs": [],
   "source": [
    "@subjects    #subjects(study)\n",
    "\n",
    "def study():\n",
    "    print(\"Ayaan is studying in class 6\")"
   ]
  },
  {
   "cell_type": "code",
   "execution_count": 24,
   "id": "adc75e19",
   "metadata": {},
   "outputs": [
    {
     "name": "stdout",
     "output_type": "stream",
     "text": [
      "Ayaan is learning maths\n",
      "Ayaan is studying in class 6\n",
      "Ayaan is also learning another subjects\n"
     ]
    }
   ],
   "source": [
    "study()"
   ]
  },
  {
   "cell_type": "code",
   "execution_count": 26,
   "id": "a626a68d",
   "metadata": {},
   "outputs": [],
   "source": [
    "def add():\n",
    "    print(\"Add both values:\", 5+6)\n",
    "    \n",
    "def PEMDAS(value):\n",
    "    def sub():\n",
    "        print(\"sub the value: \", 10-4)\n",
    "        value()\n",
    "        print(\"I doing all exercise by using pemdas rule\")\n",
    "    return sub\n",
    "        "
   ]
  },
  {
   "cell_type": "code",
   "execution_count": 27,
   "id": "83ad5c0f",
   "metadata": {},
   "outputs": [
    {
     "name": "stdout",
     "output_type": "stream",
     "text": [
      "sub the value:  6\n",
      "Add both values: 11\n",
      "I doing all exercise by using pemdas rule\n"
     ]
    }
   ],
   "source": [
    "func_call = PEMDAS(add)\n",
    "func_call()"
   ]
  },
  {
   "cell_type": "code",
   "execution_count": 28,
   "id": "bd8fec52",
   "metadata": {},
   "outputs": [],
   "source": [
    "@PEMDAS   # PEMDAS(add)\n",
    "\n",
    "def add():\n",
    "    print(\"Add both values:\", 5+6)"
   ]
  },
  {
   "cell_type": "code",
   "execution_count": 29,
   "id": "4900e930",
   "metadata": {},
   "outputs": [
    {
     "name": "stdout",
     "output_type": "stream",
     "text": [
      "sub the value:  6\n",
      "Add both values: 11\n",
      "I doing all exercise by using pemdas rule\n"
     ]
    }
   ],
   "source": [
    "add()"
   ]
  },
  {
   "cell_type": "code",
   "execution_count": 30,
   "id": "a48da812",
   "metadata": {},
   "outputs": [],
   "source": [
    "def add():\n",
    "    print(\"Add both values:\", 5+6)\n",
    "    \n",
    "def PEMDAS(value):\n",
    "    def sub():\n",
    "        print(\"sub the value: \", 10-4)\n",
    "        value()\n",
    "        print(\"I doing all exercise by using pemdas rule\")\n",
    "        \n",
    "    def division():\n",
    "        print(\"division\" , 10/2)\n",
    "        value()\n",
    "        print(\"I doing all exercise by using pemdas rule\")\n",
    "        \n",
    "        \n",
    "#     return sub\n",
    "    return division"
   ]
  },
  {
   "cell_type": "code",
   "execution_count": 31,
   "id": "4ec8d040",
   "metadata": {},
   "outputs": [
    {
     "name": "stdout",
     "output_type": "stream",
     "text": [
      "division 5.0\n",
      "Add both values: 11\n",
      "I doing all exercise by using pemdas rule\n"
     ]
    }
   ],
   "source": [
    "func_call = PEMDAS(add)\n",
    "func_call()"
   ]
  },
  {
   "cell_type": "code",
   "execution_count": 32,
   "id": "6fb92401",
   "metadata": {},
   "outputs": [
    {
     "name": "stdout",
     "output_type": "stream",
     "text": [
      "division 5.0\n",
      "Add both values: 11\n",
      "I doing all exercise by using pemdas rule\n"
     ]
    }
   ],
   "source": [
    "@PEMDAS\n",
    "def add():\n",
    "    print(\"Add both values:\", 5+6)\n",
    "add()"
   ]
  },
  {
   "cell_type": "code",
   "execution_count": null,
   "id": "73df3f2b",
   "metadata": {},
   "outputs": [],
   "source": []
  }
 ],
 "metadata": {
  "kernelspec": {
   "display_name": "Python 3 (ipykernel)",
   "language": "python",
   "name": "python3"
  },
  "language_info": {
   "codemirror_mode": {
    "name": "ipython",
    "version": 3
   },
   "file_extension": ".py",
   "mimetype": "text/x-python",
   "name": "python",
   "nbconvert_exporter": "python",
   "pygments_lexer": "ipython3",
   "version": "3.9.12"
  }
 },
 "nbformat": 4,
 "nbformat_minor": 5
}
