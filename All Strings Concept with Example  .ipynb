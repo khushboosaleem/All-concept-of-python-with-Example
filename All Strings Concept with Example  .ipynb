{
 "cells": [
  {
   "cell_type": "markdown",
   "id": "791d5242",
   "metadata": {},
   "source": [
    "## Using .format() "
   ]
  },
  {
   "cell_type": "code",
   "execution_count": 2,
   "id": "d53302b9",
   "metadata": {},
   "outputs": [
    {
     "name": "stdout",
     "output_type": "stream",
     "text": [
      "The price rate is {} rupees\n"
     ]
    }
   ],
   "source": [
    "price = 49\n",
    "txt = \"The price rate is {} rupees\"\n",
    "print(txt)"
   ]
  },
  {
   "cell_type": "code",
   "execution_count": 3,
   "id": "47b0ba91",
   "metadata": {},
   "outputs": [
    {
     "name": "stdout",
     "output_type": "stream",
     "text": [
      "The price rate is 49 rupees\n"
     ]
    }
   ],
   "source": [
    "print(txt.format(price))"
   ]
  },
  {
   "cell_type": "code",
   "execution_count": 4,
   "id": "f0a39d41",
   "metadata": {},
   "outputs": [
    {
     "name": "stdout",
     "output_type": "stream",
     "text": [
      "The price is 49.24 dollars\n"
     ]
    }
   ],
   "source": [
    "price = 49.23546\n",
    "txt = \"The price is {:.2f} dollars\"\n",
    "print(txt.format(price))"
   ]
  },
  {
   "cell_type": "code",
   "execution_count": 5,
   "id": "6a40e735",
   "metadata": {},
   "outputs": [
    {
     "name": "stdout",
     "output_type": "stream",
     "text": [
      "Ayaan is a good boy\n"
     ]
    }
   ],
   "source": [
    "quality = \"good\"\n",
    "txt = \"Ayaan is a {} boy\"\n",
    "print(txt.format(quality))"
   ]
  },
  {
   "cell_type": "code",
   "execution_count": 6,
   "id": "501b7b25",
   "metadata": {},
   "outputs": [
    {
     "name": "stdout",
     "output_type": "stream",
     "text": [
      "His name is Zafar.\n",
      " Zafar is 36 years old.\n"
     ]
    }
   ],
   "source": [
    "age = 36\n",
    "name = \"Zafar\"\n",
    "txt = \"His name is {1}.\\n {1} is {0} years old.\"\n",
    "print(txt.format(age, name))"
   ]
  },
  {
   "cell_type": "code",
   "execution_count": 7,
   "id": "64b0531d",
   "metadata": {},
   "outputs": [
    {
     "name": "stdout",
     "output_type": "stream",
     "text": [
      "His name is Zafar.\n",
      " Zafar is 36 years old.\n"
     ]
    }
   ],
   "source": [
    "age = 36\n",
    "name = \"Zafar\"\n",
    "txt = \"His name is {1}.\\n {1} is {0} years old.\".format(age, name)\n",
    "print(txt)"
   ]
  },
  {
   "cell_type": "code",
   "execution_count": 8,
   "id": "af94e4ea",
   "metadata": {},
   "outputs": [
    {
     "name": "stdout",
     "output_type": "stream",
     "text": [
      "My name is ali, I am 25 years old, and I live in karachi.\n"
     ]
    }
   ],
   "source": [
    "name = \"ali\"\n",
    "age = 25\n",
    "city = \"karachi\"\n",
    "\n",
    "formate_string = \"My name is {}, I am {} years old, and I live in {}.\".format(name, age, city)\n",
    "print(formate_string)\n"
   ]
  },
  {
   "cell_type": "code",
   "execution_count": 24,
   "id": "c4b31bc9",
   "metadata": {},
   "outputs": [
    {
     "name": "stdout",
     "output_type": "stream",
     "text": [
      "I want 3 pieces of item number 567.567 for 493.1 dollars.\n"
     ]
    }
   ],
   "source": [
    "quantity = 3\n",
    "itemno = 567\n",
    "price = 493.12145\n",
    "myorder = \"I want {0} pieces of item number {1}.{1} for {2:.1f} dollars.\"\n",
    "print(myorder.format(quantity, itemno, price))"
   ]
  },
  {
   "cell_type": "code",
   "execution_count": 31,
   "id": "e344e418",
   "metadata": {},
   "outputs": [
    {
     "ename": "IndexError",
     "evalue": "Replacement index 4 out of range for positional args tuple",
     "output_type": "error",
     "traceback": [
      "\u001b[1;31m---------------------------------------------------------------------------\u001b[0m",
      "\u001b[1;31mIndexError\u001b[0m                                Traceback (most recent call last)",
      "Input \u001b[1;32mIn [31]\u001b[0m, in \u001b[0;36m<cell line: 6>\u001b[1;34m()\u001b[0m\n\u001b[0;32m      4\u001b[0m price1 \u001b[38;5;241m=\u001b[39m \u001b[38;5;241m35.12545\u001b[39m\n\u001b[0;32m      5\u001b[0m myorder \u001b[38;5;241m=\u001b[39m \u001b[38;5;124m\"\u001b[39m\u001b[38;5;124mI want \u001b[39m\u001b[38;5;132;01m{0}\u001b[39;00m\u001b[38;5;124m pieces of item number \u001b[39m\u001b[38;5;132;01m{1}\u001b[39;00m\u001b[38;5;124m.\u001b[39m\u001b[38;5;132;01m{1}\u001b[39;00m\u001b[38;5;124m for \u001b[39m\u001b[38;5;132;01m{2:.2f}\u001b[39;00m\u001b[38;5;124m dollars \u001b[39m\u001b[38;5;132;01m{3}\u001b[39;00m\u001b[38;5;124m \u001b[39m\u001b[38;5;132;01m{4}\u001b[39;00m\u001b[38;5;124m.\u001b[39m\u001b[38;5;124m\"\u001b[39m\n\u001b[1;32m----> 6\u001b[0m \u001b[38;5;28mprint\u001b[39m(\u001b[43mmyorder\u001b[49m\u001b[38;5;241;43m.\u001b[39;49m\u001b[43mformat\u001b[49m\u001b[43m(\u001b[49m\u001b[43mquantity\u001b[49m\u001b[43m,\u001b[49m\u001b[43m \u001b[49m\u001b[43mitemno\u001b[49m\u001b[43m,\u001b[49m\u001b[43m \u001b[49m\u001b[43mprice\u001b[49m\u001b[43m,\u001b[49m\u001b[43m \u001b[49m\u001b[43mprice1\u001b[49m\u001b[43m)\u001b[49m)\n",
      "\u001b[1;31mIndexError\u001b[0m: Replacement index 4 out of range for positional args tuple"
     ]
    }
   ],
   "source": [
    "quantity = 3\n",
    "itemno = 567\n",
    "price = 493.12145\n",
    "price1 = 35.12545\n",
    "myorder = \"I want {0} pieces of item number {1}.{1} for {2:.2f} dollars {3} {4}.\"\n",
    "print(myorder.format(quantity, itemno, price, price1))"
   ]
  },
  {
   "cell_type": "code",
   "execution_count": 35,
   "id": "082d2f70",
   "metadata": {},
   "outputs": [
    {
     "name": "stdout",
     "output_type": "stream",
     "text": [
      "I want 3.23 pieces of item number 567.567 for 493.12 dollars 35.12545 12.15.\n"
     ]
    }
   ],
   "source": [
    "quantity = 3.234\n",
    "itemno = 567\n",
    "price = 493.12145\n",
    "price1 = 35.12545\n",
    "price3 = 12.154\n",
    "myorder = \"I want {0:.2f} pieces of item number {1}.{1} for {2:.2f} dollars {3} {4:.2f}.\"\n",
    "print(myorder.format(quantity, itemno, price, price1, price3))"
   ]
  },
  {
   "cell_type": "markdown",
   "id": "4f827d69",
   "metadata": {},
   "source": [
    "## Using % formatting"
   ]
  },
  {
   "cell_type": "code",
   "execution_count": 36,
   "id": "a0cd8253",
   "metadata": {},
   "outputs": [
    {
     "name": "stdout",
     "output_type": "stream",
     "text": [
      "My name is Ayaan, I am 12 years old, and I live in None.\n"
     ]
    }
   ],
   "source": [
    "name = \"Ayaan\"\n",
    "age = 12\n",
    "city = \"None\"\n",
    "\n",
    "f_s = \"My name is %s, I am %d years old, and I live in %s.\" %(name, age, city)\n",
    "print(f_s)"
   ]
  },
  {
   "cell_type": "markdown",
   "id": "13012411",
   "metadata": {},
   "source": [
    "## Using f-strings"
   ]
  },
  {
   "cell_type": "code",
   "execution_count": 37,
   "id": "4c887f01",
   "metadata": {},
   "outputs": [
    {
     "name": "stdout",
     "output_type": "stream",
     "text": [
      "My name is Ayaan, I am 12 years old, and I live in None.\n"
     ]
    }
   ],
   "source": [
    "name = \"Ayaan\"\n",
    "age = 12\n",
    "city = \"None\"\n",
    "\n",
    "f_s = f\"My name is {name}, I am {age} years old, and I live in {city}.\"\n",
    "print(f_s)"
   ]
  },
  {
   "cell_type": "markdown",
   "id": "be2aab05",
   "metadata": {},
   "source": [
    "## Using concatenation"
   ]
  },
  {
   "cell_type": "code",
   "execution_count": 38,
   "id": "bbf6aa25",
   "metadata": {},
   "outputs": [
    {
     "name": "stdout",
     "output_type": "stream",
     "text": [
      "My name is David, I am 28 years old, and I live in San Francisco.\n"
     ]
    }
   ],
   "source": [
    "name = \"David\"\n",
    "age = 28\n",
    "city = \"San Francisco\"\n",
    "\n",
    "formatted_string = \"My name is \" + name + \", I am \" + str(age) + \" years old, and I live in \" + city + \".\"\n",
    "print(formatted_string)\n"
   ]
  },
  {
   "cell_type": "code",
   "execution_count": 39,
   "id": "0ebc7f6c",
   "metadata": {},
   "outputs": [
    {
     "data": {
      "text/plain": [
       "str"
      ]
     },
     "execution_count": 39,
     "metadata": {},
     "output_type": "execute_result"
    }
   ],
   "source": [
    "type(formate_string)"
   ]
  },
  {
   "cell_type": "code",
   "execution_count": null,
   "id": "f388ae36",
   "metadata": {},
   "outputs": [],
   "source": []
  }
 ],
 "metadata": {
  "kernelspec": {
   "display_name": "Python 3 (ipykernel)",
   "language": "python",
   "name": "python3"
  },
  "language_info": {
   "codemirror_mode": {
    "name": "ipython",
    "version": 3
   },
   "file_extension": ".py",
   "mimetype": "text/x-python",
   "name": "python",
   "nbconvert_exporter": "python",
   "pygments_lexer": "ipython3",
   "version": "3.9.12"
  }
 },
 "nbformat": 4,
 "nbformat_minor": 5
}
