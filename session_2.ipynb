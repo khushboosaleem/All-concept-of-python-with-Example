{
  "nbformat": 4,
  "nbformat_minor": 0,
  "metadata": {
    "colab": {
      "provenance": []
    },
    "kernelspec": {
      "name": "python3",
      "display_name": "Python 3"
    },
    "language_info": {
      "name": "python"
    }
  },
  "cells": [
    {
      "cell_type": "markdown",
      "source": [
        "# **Today's Topic**\n",
        "# **Type Casting**\n",
        "# **Variables**"
      ],
      "metadata": {
        "id": "M23DVKJ2JtIM"
      }
    },
    {
      "cell_type": "markdown",
      "source": [
        "# **Ayaan**\n",
        "## **Ayaan**\n",
        "### **Ayaan**\n",
        "#### **Ayaan**\n",
        "##### **Ayaan**\n",
        "###### **Ayaan**"
      ],
      "metadata": {
        "id": "bcWAZq45Qejb"
      }
    },
    {
      "cell_type": "code",
      "source": [
        "a = 3\n",
        "# b = str(3)\n",
        "b = str(a)\n",
        "print(type(a))\n",
        "print(type(b))\n",
        "# print(a)\n",
        "# print(b)\n",
        "b"
      ],
      "metadata": {
        "colab": {
          "base_uri": "https://localhost:8080/",
          "height": 70
        },
        "id": "bUnLaeNzRJkJ",
        "outputId": "5352982e-2be1-48d8-e227-60e230a74729"
      },
      "execution_count": 20,
      "outputs": [
        {
          "output_type": "stream",
          "name": "stdout",
          "text": [
            "<class 'int'>\n",
            "<class 'str'>\n"
          ]
        },
        {
          "output_type": "execute_result",
          "data": {
            "text/plain": [
              "'3'"
            ],
            "application/vnd.google.colaboratory.intrinsic+json": {
              "type": "string"
            }
          },
          "metadata": {},
          "execution_count": 20
        }
      ]
    },
    {
      "cell_type": "code",
      "source": [
        "a = 3.5\n",
        "b = int(a)\n",
        "print(type(a))\n",
        "print(type(b))\n",
        "print(a)\n",
        "print(b)"
      ],
      "metadata": {
        "colab": {
          "base_uri": "https://localhost:8080/"
        },
        "id": "l0DT5q-GR6uE",
        "outputId": "1ab48d0d-dc61-4652-edc1-248aa0a7a5f7"
      },
      "execution_count": 7,
      "outputs": [
        {
          "output_type": "stream",
          "name": "stdout",
          "text": [
            "<class 'float'>\n",
            "<class 'int'>\n",
            "3.5\n",
            "3\n"
          ]
        }
      ]
    },
    {
      "cell_type": "code",
      "source": [
        "a = 3\n",
        "b = float(a)\n",
        "print(type(a))\n",
        "print(type(b))\n",
        "print(a,b)\n"
      ],
      "metadata": {
        "colab": {
          "base_uri": "https://localhost:8080/"
        },
        "id": "_wlQdxp-SW82",
        "outputId": "d3613464-4b54-4bfc-c6b9-f15e5593f90a"
      },
      "execution_count": 8,
      "outputs": [
        {
          "output_type": "stream",
          "name": "stdout",
          "text": [
            "<class 'int'>\n",
            "<class 'float'>\n",
            "3 3.0\n"
          ]
        }
      ]
    },
    {
      "cell_type": "code",
      "source": [
        "name = \"Ayaan\"\n",
        "name1 = int(name)\n",
        "print(name)\n",
        "print(name1)\n"
      ],
      "metadata": {
        "colab": {
          "base_uri": "https://localhost:8080/",
          "height": 228
        },
        "id": "4yv7qVnaS7HE",
        "outputId": "fa252b1b-6ff7-4198-e5d9-d68ca7b53d08"
      },
      "execution_count": 10,
      "outputs": [
        {
          "output_type": "error",
          "ename": "ValueError",
          "evalue": "ignored",
          "traceback": [
            "\u001b[0;31m---------------------------------------------------------------------------\u001b[0m",
            "\u001b[0;31mValueError\u001b[0m                                Traceback (most recent call last)",
            "\u001b[0;32m<ipython-input-10-516cfb69675e>\u001b[0m in \u001b[0;36m<cell line: 2>\u001b[0;34m()\u001b[0m\n\u001b[1;32m      1\u001b[0m \u001b[0mname\u001b[0m \u001b[0;34m=\u001b[0m \u001b[0;34m\"Ayaan\"\u001b[0m\u001b[0;34m\u001b[0m\u001b[0;34m\u001b[0m\u001b[0m\n\u001b[0;32m----> 2\u001b[0;31m \u001b[0mname1\u001b[0m \u001b[0;34m=\u001b[0m \u001b[0mint\u001b[0m\u001b[0;34m(\u001b[0m\u001b[0mname\u001b[0m\u001b[0;34m)\u001b[0m\u001b[0;34m\u001b[0m\u001b[0;34m\u001b[0m\u001b[0m\n\u001b[0m\u001b[1;32m      3\u001b[0m \u001b[0mprint\u001b[0m\u001b[0;34m(\u001b[0m\u001b[0mname\u001b[0m\u001b[0;34m)\u001b[0m\u001b[0;34m\u001b[0m\u001b[0;34m\u001b[0m\u001b[0m\n\u001b[1;32m      4\u001b[0m \u001b[0mprint\u001b[0m\u001b[0;34m(\u001b[0m\u001b[0mname1\u001b[0m\u001b[0;34m)\u001b[0m\u001b[0;34m\u001b[0m\u001b[0;34m\u001b[0m\u001b[0m\n",
            "\u001b[0;31mValueError\u001b[0m: invalid literal for int() with base 10: 'Ayaan'"
          ]
        }
      ]
    },
    {
      "cell_type": "code",
      "source": [
        "name = \"Ayaan\"\n",
        "name1 = str(name)\n",
        "print(name)\n",
        "print(name1)\n",
        "print(type(name1, name))"
      ],
      "metadata": {
        "colab": {
          "base_uri": "https://localhost:8080/",
          "height": 245
        },
        "id": "gBIfnZh1TZim",
        "outputId": "8c427238-b880-40e5-c9ba-52acd027befc"
      },
      "execution_count": 14,
      "outputs": [
        {
          "output_type": "stream",
          "name": "stdout",
          "text": [
            "Ayaan\n",
            "Ayaan\n"
          ]
        },
        {
          "output_type": "error",
          "ename": "TypeError",
          "evalue": "ignored",
          "traceback": [
            "\u001b[0;31m---------------------------------------------------------------------------\u001b[0m",
            "\u001b[0;31mTypeError\u001b[0m                                 Traceback (most recent call last)",
            "\u001b[0;32m<ipython-input-14-006f62549cd0>\u001b[0m in \u001b[0;36m<cell line: 5>\u001b[0;34m()\u001b[0m\n\u001b[1;32m      3\u001b[0m \u001b[0mprint\u001b[0m\u001b[0;34m(\u001b[0m\u001b[0mname\u001b[0m\u001b[0;34m)\u001b[0m\u001b[0;34m\u001b[0m\u001b[0;34m\u001b[0m\u001b[0m\n\u001b[1;32m      4\u001b[0m \u001b[0mprint\u001b[0m\u001b[0;34m(\u001b[0m\u001b[0mname1\u001b[0m\u001b[0;34m)\u001b[0m\u001b[0;34m\u001b[0m\u001b[0;34m\u001b[0m\u001b[0m\n\u001b[0;32m----> 5\u001b[0;31m \u001b[0mprint\u001b[0m\u001b[0;34m(\u001b[0m\u001b[0mtype\u001b[0m\u001b[0;34m(\u001b[0m\u001b[0mname1\u001b[0m\u001b[0;34m,\u001b[0m \u001b[0mname\u001b[0m\u001b[0;34m)\u001b[0m\u001b[0;34m)\u001b[0m\u001b[0;34m\u001b[0m\u001b[0;34m\u001b[0m\u001b[0m\n\u001b[0m",
            "\u001b[0;31mTypeError\u001b[0m: type() takes 1 or 3 arguments"
          ]
        }
      ]
    },
    {
      "cell_type": "code",
      "source": [
        "name = \"Ayaan\"\n",
        "name1 = str(name)\n",
        "print(name)\n",
        "print(name1)\n",
        "print(type(name))\n",
        "print(type(name1))"
      ],
      "metadata": {
        "colab": {
          "base_uri": "https://localhost:8080/"
        },
        "id": "pRtmFnu_Tz0u",
        "outputId": "4d8746ed-ffe1-4ea0-e7a9-94ea77f2e6d8"
      },
      "execution_count": 16,
      "outputs": [
        {
          "output_type": "stream",
          "name": "stdout",
          "text": [
            "Ayaan\n",
            "Ayaan\n",
            "<class 'str'>\n",
            "<class 'str'>\n"
          ]
        }
      ]
    },
    {
      "cell_type": "markdown",
      "source": [
        "## Legal variable names\n",
        "## Examples\n",
        "[myvar,\n",
        "my_var ,\n",
        "_my_var ,\n",
        "myVar,\n",
        "MYVAR,\n",
        "myvar2]"
      ],
      "metadata": {
        "id": "kFJf2hoIJ_Vk"
      }
    },
    {
      "cell_type": "code",
      "source": [
        "myvar = \"Ayaan\"\n",
        "myvar\n",
        "print(myvar)"
      ],
      "metadata": {
        "colab": {
          "base_uri": "https://localhost:8080/"
        },
        "id": "VT1saIOoVPJS",
        "outputId": "be7f3c08-8149-4ac1-f8ab-f5b5a96bfa28"
      },
      "execution_count": 19,
      "outputs": [
        {
          "output_type": "stream",
          "name": "stdout",
          "text": [
            "Ayaan\n"
          ]
        }
      ]
    },
    {
      "cell_type": "markdown",
      "source": [
        "## Illegal variable names:\n",
        "## Examples\n",
        "[2myvar ,\n",
        "my-var ,\n",
        "my var ]"
      ],
      "metadata": {
        "id": "WK3VdZPtKdjv"
      }
    },
    {
      "cell_type": "code",
      "source": [
        "2myvar = \"Ayaan\"\n",
        "print(2myvar)"
      ],
      "metadata": {
        "colab": {
          "base_uri": "https://localhost:8080/",
          "height": 141
        },
        "id": "EFKxaTHbWWag",
        "outputId": "ddf18692-7e7a-4a01-dde6-f66c5e32e189"
      },
      "execution_count": 22,
      "outputs": [
        {
          "output_type": "error",
          "ename": "SyntaxError",
          "evalue": "ignored",
          "traceback": [
            "\u001b[0;36m  File \u001b[0;32m\"<ipython-input-22-aae945f9f58e>\"\u001b[0;36m, line \u001b[0;32m1\u001b[0m\n\u001b[0;31m    2myvar = \"Ayaan\"\u001b[0m\n\u001b[0m    ^\u001b[0m\n\u001b[0;31mSyntaxError\u001b[0m\u001b[0;31m:\u001b[0m invalid decimal literal\n"
          ]
        }
      ]
    },
    {
      "cell_type": "markdown",
      "source": [
        "# **Camel Case**\n",
        "Each word, except the first, starts with a capital letter:\n",
        "\n",
        "myVariableName = \"Ayaan\"\n",
        "\n",
        "# **Pascal Case**\n",
        "Each word starts with a capital letter:\n",
        "\n",
        "MyVariableName = \"Ayaan\"\n",
        "\n",
        "# **Snake Case**\n",
        "Each word is separated by an underscore character:\n",
        "\n",
        "my_variable_name = \"John\""
      ],
      "metadata": {
        "id": "Tkf_3ceNLJEy"
      }
    },
    {
      "cell_type": "code",
      "source": [],
      "metadata": {
        "id": "8Nz-0EQhLbwx"
      },
      "execution_count": null,
      "outputs": []
    }
  ]
}