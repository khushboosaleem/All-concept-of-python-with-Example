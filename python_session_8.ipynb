{
 "cells": [
  {
   "cell_type": "markdown",
   "metadata": {
    "id": "mWI-V2CrUOtC"
   },
   "source": [
    "# **Python Identity Operators**\n",
    "\n",
    "Identity operators are used to compare the objects, not if they are equal, but if they are actually the same object, with the same memory location.\n",
    "\n"
   ]
  },
  {
   "cell_type": "code",
   "execution_count": 2,
   "metadata": {
    "id": "IohZBQ4GTrgI"
   },
   "outputs": [],
   "source": [
    "# Operator\t          Description\n",
    "# is \t                Returns True if both variables are the same object\n",
    "# is not\t            Returns True if both variables are not the same object"
   ]
  },
  {
   "cell_type": "code",
   "execution_count": 10,
   "metadata": {
    "colab": {
     "base_uri": "https://localhost:8080/"
    },
    "id": "AjRVM_JiVHEA",
    "outputId": "2f0f74a1-1223-41dc-bac1-53bde15e8ad3"
   },
   "outputs": [
    {
     "name": "stdout",
     "output_type": "stream",
     "text": [
      "True\n",
      "False\n",
      "True\n"
     ]
    }
   ],
   "source": [
    "x = [\"apple\", \"banana\"]\n",
    "y = [\"apple\", \"banana\"]\n",
    "z = x\n",
    "\n",
    "print(x is z)\n",
    "\n",
    "# returns True because z is the same object as x\n",
    "\n",
    "print(x is y)\n",
    "\n",
    "# # returns False because x is not the same object as y, even if they have the same content\n",
    "\n",
    "print(x == y)\n",
    "\n",
    "# to demonstrate the difference betweeen \"is\" and \"==\": this comparison returns True because x is equal to y"
   ]
  },
  {
   "cell_type": "code",
   "execution_count": 5,
   "metadata": {
    "colab": {
     "base_uri": "https://localhost:8080/"
    },
    "id": "NYU7ZzleVegc",
    "outputId": "b1ba05c8-f99c-406a-c25e-9523111824ff"
   },
   "outputs": [
    {
     "name": "stdout",
     "output_type": "stream",
     "text": [
      "False\n",
      "True\n",
      "False\n"
     ]
    }
   ],
   "source": [
    "x = [\"apple\", \"banana\"]\n",
    "y = [\"apple\", \"banana\"]\n",
    "z = x\n",
    "\n",
    "print(x is not z)\n",
    "\n",
    "# returns False because z is the same object as x\n",
    "\n",
    "print(x is not y)\n",
    "\n",
    "# returns True because x is not the same object as y, even if they have the same content\n",
    "\n",
    "print(x != y)\n",
    "\n",
    "# to demonstrate the difference betweeen \"is not\" and \"!=\": this comparison returns False because x is equal to y\n"
   ]
  },
  {
   "cell_type": "markdown",
   "metadata": {
    "id": "eAx8vYPMVh1C"
   },
   "source": [
    "# **Python Membership Operators**"
   ]
  },
  {
   "cell_type": "code",
   "execution_count": 6,
   "metadata": {
    "id": "wLUQDDR3UWsy"
   },
   "outputs": [],
   "source": [
    "# Operator\t            Description\t                                                                        Example\n",
    "# in \t                  Returns True if a sequence with the specified value is present in the object\t      x in y\n",
    "# not in\t              Returns True if a sequence with the specified value is not present in the object\t  x not in y"
   ]
  },
  {
   "cell_type": "code",
   "execution_count": 11,
   "metadata": {
    "colab": {
     "base_uri": "https://localhost:8080/"
    },
    "id": "FVgIVppEUqbv",
    "outputId": "8758559e-0c5b-47e4-e8d7-a255c64bcb41"
   },
   "outputs": [
    {
     "name": "stdout",
     "output_type": "stream",
     "text": [
      "True\n"
     ]
    }
   ],
   "source": [
    "x = [\"apple\", \"banana\"]\n",
    "\n",
    "print(\"banana\" in x)"
   ]
  },
  {
   "cell_type": "code",
   "execution_count": 12,
   "metadata": {
    "colab": {
     "base_uri": "https://localhost:8080/"
    },
    "id": "MnS0Xu8JWHoT",
    "outputId": "f6386476-5dd4-40b9-c366-7aa08dfebb2d"
   },
   "outputs": [
    {
     "name": "stdout",
     "output_type": "stream",
     "text": [
      "True\n"
     ]
    }
   ],
   "source": [
    "x = [\"apple\", \"banana\"]\n",
    "\n",
    "print(\"pineapple\" not in x)"
   ]
  },
  {
   "cell_type": "code",
   "execution_count": 13,
   "metadata": {
    "colab": {
     "base_uri": "https://localhost:8080/"
    },
    "id": "nqB0wyPOWnai",
    "outputId": "efeffd8b-5043-4ea5-81eb-24e0e6bf2bfd"
   },
   "outputs": [
    {
     "data": {
      "text/plain": [
       "True"
      ]
     },
     "execution_count": 13,
     "metadata": {},
     "output_type": "execute_result"
    }
   ],
   "source": [
    "'a' in \"apple\""
   ]
  },
  {
   "cell_type": "code",
   "execution_count": 14,
   "metadata": {
    "colab": {
     "base_uri": "https://localhost:8080/"
    },
    "id": "H_KYvqGaa3bh",
    "outputId": "0278a127-0590-4e1b-b60f-75bd101e793e"
   },
   "outputs": [
    {
     "data": {
      "text/plain": [
       "False"
      ]
     },
     "execution_count": 14,
     "metadata": {},
     "output_type": "execute_result"
    }
   ],
   "source": [
    "'b' in \"apple\""
   ]
  },
  {
   "cell_type": "code",
   "execution_count": 15,
   "metadata": {
    "colab": {
     "base_uri": "https://localhost:8080/"
    },
    "id": "3pKv5U0Aa7uk",
    "outputId": "21352e33-7f3b-499f-a659-6a496bd27648"
   },
   "outputs": [
    {
     "data": {
      "text/plain": [
       "True"
      ]
     },
     "execution_count": 15,
     "metadata": {},
     "output_type": "execute_result"
    }
   ],
   "source": [
    "'b' not in \"apple\""
   ]
  },
  {
   "cell_type": "code",
   "execution_count": 16,
   "metadata": {
    "colab": {
     "base_uri": "https://localhost:8080/"
    },
    "id": "PoWO6QlUbGAY",
    "outputId": "14e722ca-6a93-40b6-eebe-9754c1ded866"
   },
   "outputs": [
    {
     "data": {
      "text/plain": [
       "False"
      ]
     },
     "execution_count": 16,
     "metadata": {},
     "output_type": "execute_result"
    }
   ],
   "source": [
    "'a' not in 'apple'"
   ]
  },
  {
   "cell_type": "code",
   "execution_count": 17,
   "metadata": {
    "colab": {
     "base_uri": "https://localhost:8080/"
    },
    "id": "PdNJAV39bMhD",
    "outputId": "2cb8efca-706d-43e9-b0fb-5d53f2b897fa"
   },
   "outputs": [
    {
     "name": "stdout",
     "output_type": "stream",
     "text": [
      "True\n"
     ]
    }
   ],
   "source": [
    "prog = ['java', 'python']\n",
    "print('java' in prog)"
   ]
  },
  {
   "cell_type": "code",
   "execution_count": 18,
   "metadata": {
    "colab": {
     "base_uri": "https://localhost:8080/"
    },
    "id": "fG3Uc_X1bcyo",
    "outputId": "f566ad1c-5a41-42a8-d311-7223a62f9559"
   },
   "outputs": [
    {
     "name": "stdout",
     "output_type": "stream",
     "text": [
      "False\n"
     ]
    }
   ],
   "source": [
    "prog = ['java', 'python']\n",
    "print('C++' in prog)"
   ]
  },
  {
   "cell_type": "code",
   "execution_count": 19,
   "metadata": {
    "colab": {
     "base_uri": "https://localhost:8080/"
    },
    "id": "_sfbjWffbf5r",
    "outputId": "ef31ab43-fdcf-4398-bae3-c1b3929e6242"
   },
   "outputs": [
    {
     "data": {
      "text/plain": [
       "['__add__',\n",
       " '__class__',\n",
       " '__class_getitem__',\n",
       " '__contains__',\n",
       " '__delattr__',\n",
       " '__delitem__',\n",
       " '__dir__',\n",
       " '__doc__',\n",
       " '__eq__',\n",
       " '__format__',\n",
       " '__ge__',\n",
       " '__getattribute__',\n",
       " '__getitem__',\n",
       " '__gt__',\n",
       " '__hash__',\n",
       " '__iadd__',\n",
       " '__imul__',\n",
       " '__init__',\n",
       " '__init_subclass__',\n",
       " '__iter__',\n",
       " '__le__',\n",
       " '__len__',\n",
       " '__lt__',\n",
       " '__mul__',\n",
       " '__ne__',\n",
       " '__new__',\n",
       " '__reduce__',\n",
       " '__reduce_ex__',\n",
       " '__repr__',\n",
       " '__reversed__',\n",
       " '__rmul__',\n",
       " '__setattr__',\n",
       " '__setitem__',\n",
       " '__sizeof__',\n",
       " '__str__',\n",
       " '__subclasshook__',\n",
       " 'append',\n",
       " 'clear',\n",
       " 'copy',\n",
       " 'count',\n",
       " 'extend',\n",
       " 'index',\n",
       " 'insert',\n",
       " 'pop',\n",
       " 'remove',\n",
       " 'reverse',\n",
       " 'sort']"
      ]
     },
     "execution_count": 19,
     "metadata": {},
     "output_type": "execute_result"
    }
   ],
   "source": [
    "dir(list)"
   ]
  },
  {
   "cell_type": "code",
   "execution_count": null,
   "metadata": {
    "id": "oooBEXr4cOj8"
   },
   "outputs": [],
   "source": []
  }
 ],
 "metadata": {
  "colab": {
   "provenance": []
  },
  "kernelspec": {
   "display_name": "Python 3 (ipykernel)",
   "language": "python",
   "name": "python3"
  },
  "language_info": {
   "codemirror_mode": {
    "name": "ipython",
    "version": 3
   },
   "file_extension": ".py",
   "mimetype": "text/x-python",
   "name": "python",
   "nbconvert_exporter": "python",
   "pygments_lexer": "ipython3",
   "version": "3.9.12"
  }
 },
 "nbformat": 4,
 "nbformat_minor": 1
}
