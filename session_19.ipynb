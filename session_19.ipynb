{
  "nbformat": 4,
  "nbformat_minor": 0,
  "metadata": {
    "colab": {
      "provenance": []
    },
    "kernelspec": {
      "name": "python3",
      "display_name": "Python 3"
    },
    "language_info": {
      "name": "python"
    }
  },
  "cells": [
    {
      "cell_type": "markdown",
      "source": [
        "## **Python Lambda Functions**\n",
        "## Arrays (Python does not have built-in support for Arrays, but Python Lists can be used instead.)"
      ],
      "metadata": {
        "id": "ZyIyW3jEhYB_"
      }
    },
    {
      "cell_type": "code",
      "execution_count": 8,
      "metadata": {
        "id": "T5vVPArlhM8j",
        "colab": {
          "base_uri": "https://localhost:8080/"
        },
        "outputId": "c7b6b5c8-1569-4f31-f59a-4f9eff86f88a"
      },
      "outputs": [
        {
          "output_type": "stream",
          "name": "stdout",
          "text": [
            "25\n"
          ]
        }
      ],
      "source": [
        "x = lambda a : a + 10\n",
        "print(x(15))"
      ]
    },
    {
      "cell_type": "code",
      "source": [
        "def my_fun(a):\n",
        "  return a+10"
      ],
      "metadata": {
        "id": "6OWaVDcGFXQJ"
      },
      "execution_count": 9,
      "outputs": []
    },
    {
      "cell_type": "code",
      "source": [
        "my_fun(15)"
      ],
      "metadata": {
        "colab": {
          "base_uri": "https://localhost:8080/"
        },
        "id": "zZG41dY8Fsmq",
        "outputId": "3187dec8-4266-428e-a423-21690a79f1fd"
      },
      "execution_count": 11,
      "outputs": [
        {
          "output_type": "execute_result",
          "data": {
            "text/plain": [
              "25"
            ]
          },
          "metadata": {},
          "execution_count": 11
        }
      ]
    },
    {
      "cell_type": "code",
      "source": [
        "x = lambda a, b : a * b\n",
        "print(x(5, 6))"
      ],
      "metadata": {
        "id": "6ZxQ19FEhmo6",
        "colab": {
          "base_uri": "https://localhost:8080/"
        },
        "outputId": "b46b891b-3177-415d-e6a9-6ee95f533eb4"
      },
      "execution_count": 26,
      "outputs": [
        {
          "output_type": "stream",
          "name": "stdout",
          "text": [
            "30\n"
          ]
        }
      ]
    },
    {
      "cell_type": "code",
      "source": [
        "def my_func(a,b):\n",
        "  print(a*b)\n",
        "my_func(5,6)"
      ],
      "metadata": {
        "colab": {
          "base_uri": "https://localhost:8080/"
        },
        "id": "iSinC1xvHeRJ",
        "outputId": "0883e065-7419-49e7-902e-22bbab7cfeaa"
      },
      "execution_count": 13,
      "outputs": [
        {
          "output_type": "stream",
          "name": "stdout",
          "text": [
            "30\n"
          ]
        }
      ]
    },
    {
      "cell_type": "code",
      "source": [
        "x = lambda a, b, c : a + b + c\n",
        "print(x(5, 6, 2))"
      ],
      "metadata": {
        "id": "YWR6pGpkhtgP",
        "colab": {
          "base_uri": "https://localhost:8080/"
        },
        "outputId": "7bcd5b4c-ab0f-426b-b95c-8701b9e53946"
      },
      "execution_count": 14,
      "outputs": [
        {
          "output_type": "stream",
          "name": "stdout",
          "text": [
            "13\n"
          ]
        }
      ]
    },
    {
      "cell_type": "code",
      "source": [
        "def myfunc(n):\n",
        "  return lambda a : a * n"
      ],
      "metadata": {
        "id": "CxzqKt7yhuY3"
      },
      "execution_count": 19,
      "outputs": []
    },
    {
      "cell_type": "code",
      "source": [
        "myfunc(3)"
      ],
      "metadata": {
        "colab": {
          "base_uri": "https://localhost:8080/"
        },
        "id": "3bOnlL-5ILVX",
        "outputId": "d6cc11c4-dfeb-4721-bb05-0fa82c334741"
      },
      "execution_count": 18,
      "outputs": [
        {
          "output_type": "execute_result",
          "data": {
            "text/plain": [
              "<function __main__.myfunc.<locals>.<lambda>(a)>"
            ]
          },
          "metadata": {},
          "execution_count": 18
        }
      ]
    },
    {
      "cell_type": "code",
      "source": [
        "def myfunc(n):\n",
        "  return lambda a : a * n\n",
        "\n",
        "mydoubler = myfunc(2)\n",
        "\n",
        "print(mydoubler(11))"
      ],
      "metadata": {
        "id": "h2qtUiQYhztu",
        "colab": {
          "base_uri": "https://localhost:8080/"
        },
        "outputId": "9c02f5a3-061b-44bb-d219-367b2f8e2de6"
      },
      "execution_count": 22,
      "outputs": [
        {
          "output_type": "stream",
          "name": "stdout",
          "text": [
            "22\n"
          ]
        }
      ]
    },
    {
      "cell_type": "code",
      "source": [
        "def myfunc(n):\n",
        "  return lambda a : a * n\n",
        "\n",
        "mytripler = myfunc(3)\n",
        "\n",
        "print(mytripler(11))"
      ],
      "metadata": {
        "id": "E9-w_WxHh2e-",
        "colab": {
          "base_uri": "https://localhost:8080/"
        },
        "outputId": "3efa062b-9214-4b92-c07b-e6e121563f80"
      },
      "execution_count": 23,
      "outputs": [
        {
          "output_type": "stream",
          "name": "stdout",
          "text": [
            "33\n"
          ]
        }
      ]
    },
    {
      "cell_type": "code",
      "source": [
        "def myfunc(n):\n",
        "  return lambda a : a * n\n",
        "\n",
        "mydoubler = myfunc(2)\n",
        "mytripler = myfunc(3)\n",
        "\n",
        "print(mydoubler(11))\n",
        "print(mytripler(11))"
      ],
      "metadata": {
        "id": "S739GUU6h4E4",
        "colab": {
          "base_uri": "https://localhost:8080/"
        },
        "outputId": "0a91b4da-eaf9-46ae-9370-54a41db778f0"
      },
      "execution_count": 24,
      "outputs": [
        {
          "output_type": "stream",
          "name": "stdout",
          "text": [
            "22\n",
            "33\n"
          ]
        }
      ]
    },
    {
      "cell_type": "code",
      "source": [],
      "metadata": {
        "id": "0Pkgj-eah7Ex"
      },
      "execution_count": null,
      "outputs": []
    }
  ]
}